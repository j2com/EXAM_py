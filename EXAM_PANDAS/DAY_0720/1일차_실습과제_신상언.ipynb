{
 "cells": [
  {
   "cell_type": "markdown",
   "id": "9c169994",
   "metadata": {},
   "source": [
    "# 파이썬 디버깅 키 : F7, F8\n",
    "\n",
    "- F7 : 함수 내부로 이동(step info)\n",
    "- F8 : 한 라인의 실행(step over)"
   ]
  },
  {
   "cell_type": "markdown",
   "id": "8a73c2bd",
   "metadata": {},
   "source": [
    "# def scraping_use_select(html)\n",
    "– select(), select_one() 함수를 이용하여 스크레이핑"
   ]
  },
  {
   "cell_type": "code",
   "execution_count": 5,
   "id": "7ebfa557",
   "metadata": {},
   "outputs": [],
   "source": [
    "from urllib.request import urlopen\n",
    "from bs4 import BeautifulSoup"
   ]
  },
  {
   "cell_type": "code",
   "execution_count": 6,
   "id": "4b6d9a17",
   "metadata": {
    "scrolled": false
   },
   "outputs": [],
   "source": [
    "def scarping_use_select(html):\n",
    "    bs = BeautifulSoup(html.read(), 'html.parser')\n",
    "    contents = bs.select('div.tombstone-container')\n",
    "    for info in contents:\n",
    "        print(f\"[Period]: {info.select_one('p.period-name').text}\")\n",
    "        print(f\"[Short desc]: {info.select_one('p.short-desc').text}\")\n",
    "        print(f\"[Temperature]: {info.select_one('p.temp').text}\")\n",
    "        print(f\"[Image desc]: {info.select_one('p > img')['title']}\")\n",
    "        print('-'*70)"
   ]
  },
  {
   "cell_type": "markdown",
   "id": "21a14fb6",
   "metadata": {},
   "source": [
    "# def scraping_use_find(html)\n",
    "– find(), find_all() 함수를 이용하여 스크레이핑"
   ]
  },
  {
   "cell_type": "code",
   "execution_count": 7,
   "id": "c5efa88f",
   "metadata": {
    "scrolled": true
   },
   "outputs": [],
   "source": [
    "def scraping_use_find(html):\n",
    "    bs2 = BeautifulSoup(html.read(), 'html.parser')\n",
    "    contents2 = bs2.find_all('div', {'class':'tombstone-container'})\n",
    "    for info2 in contents2:\n",
    "        print(f\"[Period]: {info2.find('p', {'class':'period-name'}).text}\")\n",
    "        print(f\"[Short desc]: {info2.find('p', {'class':'short-desc'}).text}\")\n",
    "        print(f\"[Temperature]: {info2.find('p', {'class':'period-name'}).text}\")\n",
    "        print(f\"[Image desc]: {info2.find('img')['title']}\")\n",
    "        print('-'*70)"
   ]
  },
  {
   "cell_type": "code",
   "execution_count": 8,
   "id": "adbcfd17",
   "metadata": {},
   "outputs": [],
   "source": [
    "html = urlopen('https://forecast.weather.gov/MapClick.php?lat=37.7772&lon=-122.4168#.Ytjs6rbP1PY')"
   ]
  },
  {
   "cell_type": "code",
   "execution_count": 9,
   "id": "5cbd158b",
   "metadata": {
    "scrolled": false
   },
   "outputs": [
    {
     "name": "stdout",
     "output_type": "stream",
     "text": [
      "[Period]: Tonight\n",
      "[Short desc]: Slight ChanceDrizzle andPatchy Fog\n",
      "[Temperature]: Low: 56 °F\n",
      "[Image desc]: Tonight: A slight chance of drizzle after 9pm.  Patchy fog after 9pm.  Otherwise, increasing clouds, with a low around 56. Breezy, with a west wind 23 to 28 mph decreasing to 16 to 21 mph in the evening. Winds could gust as high as 36 mph. \n",
      "----------------------------------------------------------------------\n",
      "[Period]: Friday\n",
      "[Short desc]: Slight ChanceDrizzle andPatchy Fogthen Sunnyand Breezy\n",
      "[Temperature]: High: 67 °F\n",
      "[Image desc]: Friday: A slight chance of drizzle before 9am.  Patchy fog before 11am.  Otherwise, sunny, with a high near 67. Breezy, with a west wind 20 to 26 mph, with gusts as high as 34 mph. \n",
      "----------------------------------------------------------------------\n",
      "[Period]: FridayNight\n",
      "[Short desc]: Partly Cloudyand Breezy\n",
      "[Temperature]: Low: 54 °F\n",
      "[Image desc]: Friday Night: Partly cloudy, with a low around 54. Breezy, with a west wind 20 to 26 mph, with gusts as high as 34 mph. \n",
      "----------------------------------------------------------------------\n",
      "[Period]: Saturday\n",
      "[Short desc]: DecreasingClouds\n",
      "[Temperature]: High: 67 °F\n",
      "[Image desc]: Saturday: Mostly cloudy, then gradually becoming sunny, with a high near 67. West southwest wind 10 to 20 mph, with gusts as high as 26 mph. \n",
      "----------------------------------------------------------------------\n",
      "[Period]: SaturdayNight\n",
      "[Short desc]: Partly Cloudy\n",
      "[Temperature]: Low: 54 °F\n",
      "[Image desc]: Saturday Night: Partly cloudy, with a low around 54. West southwest wind 14 to 21 mph, with gusts as high as 26 mph. \n",
      "----------------------------------------------------------------------\n",
      "[Period]: Sunday\n",
      "[Short desc]: Mostly Sunny\n",
      "[Temperature]: High: 68 °F\n",
      "[Image desc]: Sunday: Mostly sunny, with a high near 68.\n",
      "----------------------------------------------------------------------\n",
      "[Period]: SundayNight\n",
      "[Short desc]: Partly Cloudyand Breezythen MostlyCloudy\n",
      "[Temperature]: Low: 54 °F\n",
      "[Image desc]: Sunday Night: Mostly cloudy, with a low around 54. Breezy. \n",
      "----------------------------------------------------------------------\n",
      "[Period]: Monday\n",
      "[Short desc]: Mostly Sunny\n",
      "[Temperature]: High: 67 °F\n",
      "[Image desc]: Monday: Mostly sunny, with a high near 67.\n",
      "----------------------------------------------------------------------\n",
      "[Period]: MondayNight\n",
      "[Short desc]: Mostly Cloudy\n",
      "[Temperature]: Low: 55 °F\n",
      "[Image desc]: Monday Night: Mostly cloudy, with a low around 55.\n",
      "----------------------------------------------------------------------\n"
     ]
    }
   ],
   "source": [
    "scarping_use_select(html)"
   ]
  },
  {
   "cell_type": "code",
   "execution_count": 11,
   "id": "25c96252",
   "metadata": {},
   "outputs": [],
   "source": [
    "html = urlopen('https://forecast.weather.gov/MapClick.php?lat=37.7772&lon=-122.4168#.Ytjs6rbP1PY')"
   ]
  },
  {
   "cell_type": "code",
   "execution_count": 12,
   "id": "4b1bc23c",
   "metadata": {},
   "outputs": [
    {
     "name": "stdout",
     "output_type": "stream",
     "text": [
      "[Period]: Tonight\n",
      "[Short desc]: Slight ChanceDrizzle andPatchy Fog\n",
      "[Temperature]: Tonight\n",
      "[Image desc]: Tonight: A slight chance of drizzle after 9pm.  Patchy fog after 9pm.  Otherwise, increasing clouds, with a low around 56. Breezy, with a west wind 23 to 28 mph decreasing to 16 to 21 mph in the evening. Winds could gust as high as 36 mph. \n",
      "----------------------------------------------------------------------\n",
      "[Period]: Friday\n",
      "[Short desc]: Slight ChanceDrizzle andPatchy Fogthen Sunnyand Breezy\n",
      "[Temperature]: Friday\n",
      "[Image desc]: Friday: A slight chance of drizzle before 9am.  Patchy fog before 11am.  Otherwise, sunny, with a high near 67. Breezy, with a west wind 20 to 26 mph, with gusts as high as 34 mph. \n",
      "----------------------------------------------------------------------\n",
      "[Period]: FridayNight\n",
      "[Short desc]: Partly Cloudyand Breezy\n",
      "[Temperature]: FridayNight\n",
      "[Image desc]: Friday Night: Partly cloudy, with a low around 54. Breezy, with a west wind 20 to 26 mph, with gusts as high as 34 mph. \n",
      "----------------------------------------------------------------------\n",
      "[Period]: Saturday\n",
      "[Short desc]: DecreasingClouds\n",
      "[Temperature]: Saturday\n",
      "[Image desc]: Saturday: Mostly cloudy, then gradually becoming sunny, with a high near 67. West southwest wind 10 to 20 mph, with gusts as high as 26 mph. \n",
      "----------------------------------------------------------------------\n",
      "[Period]: SaturdayNight\n",
      "[Short desc]: Partly Cloudy\n",
      "[Temperature]: SaturdayNight\n",
      "[Image desc]: Saturday Night: Partly cloudy, with a low around 54. West southwest wind 14 to 21 mph, with gusts as high as 26 mph. \n",
      "----------------------------------------------------------------------\n",
      "[Period]: Sunday\n",
      "[Short desc]: Mostly Sunny\n",
      "[Temperature]: Sunday\n",
      "[Image desc]: Sunday: Mostly sunny, with a high near 68.\n",
      "----------------------------------------------------------------------\n",
      "[Period]: SundayNight\n",
      "[Short desc]: Partly Cloudyand Breezythen MostlyCloudy\n",
      "[Temperature]: SundayNight\n",
      "[Image desc]: Sunday Night: Mostly cloudy, with a low around 54. Breezy. \n",
      "----------------------------------------------------------------------\n",
      "[Period]: Monday\n",
      "[Short desc]: Mostly Sunny\n",
      "[Temperature]: Monday\n",
      "[Image desc]: Monday: Mostly sunny, with a high near 67.\n",
      "----------------------------------------------------------------------\n",
      "[Period]: MondayNight\n",
      "[Short desc]: Mostly Cloudy\n",
      "[Temperature]: MondayNight\n",
      "[Image desc]: Monday Night: Mostly cloudy, with a low around 55.\n",
      "----------------------------------------------------------------------\n"
     ]
    }
   ],
   "source": [
    "scraping_use_find(html)"
   ]
  },
  {
   "cell_type": "code",
   "execution_count": null,
   "id": "45d5fc91",
   "metadata": {},
   "outputs": [],
   "source": []
  },
  {
   "cell_type": "code",
   "execution_count": null,
   "id": "6a1484bc",
   "metadata": {},
   "outputs": [],
   "source": []
  }
 ],
 "metadata": {
  "kernelspec": {
   "display_name": "Python 3 (ipykernel)",
   "language": "python",
   "name": "python3"
  },
  "language_info": {
   "codemirror_mode": {
    "name": "ipython",
    "version": 3
   },
   "file_extension": ".py",
   "mimetype": "text/x-python",
   "name": "python",
   "nbconvert_exporter": "python",
   "pygments_lexer": "ipython3",
   "version": "3.9.12"
  }
 },
 "nbformat": 4,
 "nbformat_minor": 5
}
