{
 "cells": [
  {
   "cell_type": "markdown",
   "id": "86b837b6",
   "metadata": {},
   "source": [
    "# DF 객체 연결하기 ----------------\n",
    "\n",
    "- 여러개의 File에서 읽은 DF객체\n",
    "\n",
    "- 메서드 실행 결과 DF객체\n",
    "\n",
    "- 여러개의 DF객체를 연결 시켜서 (join outer () > 디폴트 값\n",
    "                                      inner (교집합)\n",
    "                                      ignore index=true 인덱스 새                                       로 지정"
   ]
  },
  {
   "cell_type": "code",
   "execution_count": 20,
   "id": "df22ac2e",
   "metadata": {},
   "outputs": [],
   "source": [
    "import pandas as pd\n",
    "\n",
    "DIR_PATH = '../../Data/'\n",
    "FILE_NAME1 = DIR_PATH+'concat_1.csv'\n",
    "FILE_NAME2 = DIR_PATH+'concat_2.csv'\n",
    "FILE_NAME3 = DIR_PATH+'concat_3.csv'"
   ]
  },
  {
   "cell_type": "code",
   "execution_count": 21,
   "id": "a2d9d10e",
   "metadata": {},
   "outputs": [],
   "source": [
    "csvDF1 = pd.read_csv(FILE_NAME1)\n",
    "csvDF2 = pd.read_csv(FILE_NAME2)\n",
    "csvDF3 = pd.read_csv(FILE_NAME3)"
   ]
  },
  {
   "cell_type": "code",
   "execution_count": 22,
   "id": "1fa28abe",
   "metadata": {},
   "outputs": [
    {
     "name": "stdout",
     "output_type": "stream",
     "text": [
      "<class 'pandas.core.frame.DataFrame'>\n",
      "Int64Index: 12 entries, 0 to 3\n",
      "Data columns (total 5 columns):\n",
      " #   Column  Non-Null Count  Dtype \n",
      "---  ------  --------------  ----- \n",
      " 0   A       12 non-null     object\n",
      " 1   B       12 non-null     object\n",
      " 2   C       12 non-null     object\n",
      " 3   D       12 non-null     object\n",
      " 4   E       4 non-null      object\n",
      "dtypes: object(5)\n",
      "memory usage: 576.0+ bytes\n"
     ]
    }
   ],
   "source": [
    "# DF 객체들 연결하기 => pandas.concat([df1, df2...])\n",
    "# 행방향 연결, 기본 인덱스 유지, 컬럼 합집합 => join ='outer'\n",
    "df=pd.concat([csvDF1,csvDF2,csvDF3])\n",
    "df.info()"
   ]
  },
  {
   "cell_type": "code",
   "execution_count": 23,
   "id": "87de3a25",
   "metadata": {},
   "outputs": [
    {
     "data": {
      "text/html": [
       "<div>\n",
       "<style scoped>\n",
       "    .dataframe tbody tr th:only-of-type {\n",
       "        vertical-align: middle;\n",
       "    }\n",
       "\n",
       "    .dataframe tbody tr th {\n",
       "        vertical-align: top;\n",
       "    }\n",
       "\n",
       "    .dataframe thead th {\n",
       "        text-align: right;\n",
       "    }\n",
       "</style>\n",
       "<table border=\"1\" class=\"dataframe\">\n",
       "  <thead>\n",
       "    <tr style=\"text-align: right;\">\n",
       "      <th></th>\n",
       "      <th>A</th>\n",
       "      <th>B</th>\n",
       "      <th>C</th>\n",
       "      <th>D</th>\n",
       "      <th>E</th>\n",
       "    </tr>\n",
       "  </thead>\n",
       "  <tbody>\n",
       "    <tr>\n",
       "      <th>0</th>\n",
       "      <td>a0</td>\n",
       "      <td>b0</td>\n",
       "      <td>c0</td>\n",
       "      <td>d0</td>\n",
       "      <td>NaN</td>\n",
       "    </tr>\n",
       "    <tr>\n",
       "      <th>1</th>\n",
       "      <td>a1</td>\n",
       "      <td>b1</td>\n",
       "      <td>c1</td>\n",
       "      <td>d1</td>\n",
       "      <td>NaN</td>\n",
       "    </tr>\n",
       "    <tr>\n",
       "      <th>2</th>\n",
       "      <td>a2</td>\n",
       "      <td>b2</td>\n",
       "      <td>c2</td>\n",
       "      <td>d2</td>\n",
       "      <td>NaN</td>\n",
       "    </tr>\n",
       "    <tr>\n",
       "      <th>3</th>\n",
       "      <td>a3</td>\n",
       "      <td>b3</td>\n",
       "      <td>c3</td>\n",
       "      <td>d3</td>\n",
       "      <td>NaN</td>\n",
       "    </tr>\n",
       "    <tr>\n",
       "      <th>0</th>\n",
       "      <td>a4</td>\n",
       "      <td>b4</td>\n",
       "      <td>c4</td>\n",
       "      <td>d4</td>\n",
       "      <td>NaN</td>\n",
       "    </tr>\n",
       "  </tbody>\n",
       "</table>\n",
       "</div>"
      ],
      "text/plain": [
       "    A   B   C   D    E\n",
       "0  a0  b0  c0  d0  NaN\n",
       "1  a1  b1  c1  d1  NaN\n",
       "2  a2  b2  c2  d2  NaN\n",
       "3  a3  b3  c3  d3  NaN\n",
       "0  a4  b4  c4  d4  NaN"
      ]
     },
     "execution_count": 23,
     "metadata": {},
     "output_type": "execute_result"
    }
   ],
   "source": [
    "df.head()"
   ]
  },
  {
   "cell_type": "code",
   "execution_count": 24,
   "id": "ef721f36",
   "metadata": {
    "scrolled": true
   },
   "outputs": [
    {
     "name": "stdout",
     "output_type": "stream",
     "text": [
      "<class 'pandas.core.frame.DataFrame'>\n",
      "Int64Index: 12 entries, 0 to 3\n",
      "Data columns (total 4 columns):\n",
      " #   Column  Non-Null Count  Dtype \n",
      "---  ------  --------------  ----- \n",
      " 0   A       12 non-null     object\n",
      " 1   B       12 non-null     object\n",
      " 2   C       12 non-null     object\n",
      " 3   D       12 non-null     object\n",
      "dtypes: object(4)\n",
      "memory usage: 480.0+ bytes\n"
     ]
    }
   ],
   "source": [
    "# DF 객체들 연결하기 => pandas.concat([df1, df2...])\n",
    "# 행방향 연결, 기본 인덱스 유지, 컬럼 합집합 => join ='outer'\n",
    "df2=pd.concat([csvDF1,csvDF2,csvDF3], join='inner')\n",
    "df2.info()"
   ]
  },
  {
   "cell_type": "markdown",
   "id": "8b61210b",
   "metadata": {},
   "source": [
    "# df2.head()"
   ]
  },
  {
   "cell_type": "code",
   "execution_count": 26,
   "id": "ddb11d71",
   "metadata": {},
   "outputs": [
    {
     "data": {
      "text/plain": [
       "(Int64Index([0, 1, 2, 3, 0, 1, 2, 3, 0, 1, 2, 3], dtype='int64'),\n",
       " Index(['A', 'B', 'C', 'D'], dtype='object'))"
      ]
     },
     "execution_count": 26,
     "metadata": {},
     "output_type": "execute_result"
    }
   ],
   "source": [
    "df.index, df2.columns"
   ]
  },
  {
   "cell_type": "code",
   "execution_count": 27,
   "id": "38de782f",
   "metadata": {},
   "outputs": [
    {
     "name": "stdout",
     "output_type": "stream",
     "text": [
      "<class 'pandas.core.frame.DataFrame'>\n",
      "RangeIndex: 12 entries, 0 to 11\n",
      "Data columns (total 4 columns):\n",
      " #   Column  Non-Null Count  Dtype \n",
      "---  ------  --------------  ----- \n",
      " 0   A       12 non-null     object\n",
      " 1   B       12 non-null     object\n",
      " 2   C       12 non-null     object\n",
      " 3   D       12 non-null     object\n",
      "dtypes: object(4)\n",
      "memory usage: 512.0+ bytes\n"
     ]
    }
   ],
   "source": [
    "# DF 객체들 연결하기 => pandas.concat([df1, df2...])\n",
    "# 행방향 연결, 기본 인덱스 유지, 컬럼 합집합 => join ='outer'\n",
    "df3=pd.concat([csvDF1,csvDF2,csvDF3], join='inner', ignore_index=True)\n",
    "df3.info()"
   ]
  },
  {
   "cell_type": "code",
   "execution_count": 32,
   "id": "dd995f87",
   "metadata": {},
   "outputs": [
    {
     "data": {
      "text/html": [
       "<div>\n",
       "<style scoped>\n",
       "    .dataframe tbody tr th:only-of-type {\n",
       "        vertical-align: middle;\n",
       "    }\n",
       "\n",
       "    .dataframe tbody tr th {\n",
       "        vertical-align: top;\n",
       "    }\n",
       "\n",
       "    .dataframe thead th {\n",
       "        text-align: right;\n",
       "    }\n",
       "</style>\n",
       "<table border=\"1\" class=\"dataframe\">\n",
       "  <thead>\n",
       "    <tr style=\"text-align: right;\">\n",
       "      <th></th>\n",
       "      <th>0</th>\n",
       "      <th>1</th>\n",
       "      <th>2</th>\n",
       "      <th>3</th>\n",
       "      <th>4</th>\n",
       "      <th>5</th>\n",
       "      <th>6</th>\n",
       "      <th>7</th>\n",
       "      <th>8</th>\n",
       "      <th>9</th>\n",
       "      <th>10</th>\n",
       "      <th>11</th>\n",
       "      <th>12</th>\n",
       "    </tr>\n",
       "  </thead>\n",
       "  <tbody>\n",
       "    <tr>\n",
       "      <th>0</th>\n",
       "      <td>a0</td>\n",
       "      <td>b0</td>\n",
       "      <td>c0</td>\n",
       "      <td>d0</td>\n",
       "      <td>a4</td>\n",
       "      <td>b4</td>\n",
       "      <td>c4</td>\n",
       "      <td>d4</td>\n",
       "      <td>a8</td>\n",
       "      <td>b8</td>\n",
       "      <td>c8</td>\n",
       "      <td>d8</td>\n",
       "      <td>e8</td>\n",
       "    </tr>\n",
       "    <tr>\n",
       "      <th>1</th>\n",
       "      <td>a1</td>\n",
       "      <td>b1</td>\n",
       "      <td>c1</td>\n",
       "      <td>d1</td>\n",
       "      <td>a5</td>\n",
       "      <td>b5</td>\n",
       "      <td>c5</td>\n",
       "      <td>d5</td>\n",
       "      <td>a9</td>\n",
       "      <td>b9</td>\n",
       "      <td>c9</td>\n",
       "      <td>d9</td>\n",
       "      <td>e9</td>\n",
       "    </tr>\n",
       "    <tr>\n",
       "      <th>2</th>\n",
       "      <td>a2</td>\n",
       "      <td>b2</td>\n",
       "      <td>c2</td>\n",
       "      <td>d2</td>\n",
       "      <td>a6</td>\n",
       "      <td>b6</td>\n",
       "      <td>c6</td>\n",
       "      <td>d6</td>\n",
       "      <td>a10</td>\n",
       "      <td>b10</td>\n",
       "      <td>c10</td>\n",
       "      <td>d10</td>\n",
       "      <td>e10</td>\n",
       "    </tr>\n",
       "    <tr>\n",
       "      <th>3</th>\n",
       "      <td>a3</td>\n",
       "      <td>b3</td>\n",
       "      <td>c3</td>\n",
       "      <td>d3</td>\n",
       "      <td>a7</td>\n",
       "      <td>b7</td>\n",
       "      <td>c7</td>\n",
       "      <td>d7</td>\n",
       "      <td>a11</td>\n",
       "      <td>b11</td>\n",
       "      <td>c11</td>\n",
       "      <td>d11</td>\n",
       "      <td>e11</td>\n",
       "    </tr>\n",
       "  </tbody>\n",
       "</table>\n",
       "</div>"
      ],
      "text/plain": [
       "   0   1   2   3   4   5   6   7    8    9    10   11   12\n",
       "0  a0  b0  c0  d0  a4  b4  c4  d4   a8   b8   c8   d8   e8\n",
       "1  a1  b1  c1  d1  a5  b5  c5  d5   a9   b9   c9   d9   e9\n",
       "2  a2  b2  c2  d2  a6  b6  c6  d6  a10  b10  c10  d10  e10\n",
       "3  a3  b3  c3  d3  a7  b7  c7  d7  a11  b11  c11  d11  e11"
      ]
     },
     "execution_count": 32,
     "metadata": {},
     "output_type": "execute_result"
    }
   ],
   "source": [
    "# DF 객체를 열방향으로 연결 => concat()\n",
    "\n",
    "pd.concat([csvDF1,csvDF2,csvDF3], axis=1, ignore_index=True)"
   ]
  },
  {
   "cell_type": "code",
   "execution_count": null,
   "id": "2536c8eb",
   "metadata": {},
   "outputs": [],
   "source": []
  }
 ],
 "metadata": {
  "kernelspec": {
   "display_name": "Python 3 (ipykernel)",
   "language": "python",
   "name": "python3"
  },
  "language_info": {
   "codemirror_mode": {
    "name": "ipython",
    "version": 3
   },
   "file_extension": ".py",
   "mimetype": "text/x-python",
   "name": "python",
   "nbconvert_exporter": "python",
   "pygments_lexer": "ipython3",
   "version": "3.9.12"
  }
 },
 "nbformat": 4,
 "nbformat_minor": 5
}
