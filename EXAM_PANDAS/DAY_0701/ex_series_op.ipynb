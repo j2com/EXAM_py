{
 "cells": [
  {
   "cell_type": "markdown",
   "id": "bd4a1f19",
   "metadata": {},
   "source": [
    "# Series 객체와 숫자 연산 수행 ------------------\n",
    "\n",
    "- Series 객체의 모든 원소에 숫자 연산 적용 => 브로드캐스팅"
   ]
  },
  {
   "cell_type": "code",
   "execution_count": 1,
   "id": "38596892",
   "metadata": {},
   "outputs": [
    {
     "data": {
      "text/plain": [
       "0    10\n",
       "1    20\n",
       "2    30\n",
       "3    40\n",
       "dtype: int64"
      ]
     },
     "execution_count": 1,
     "metadata": {},
     "output_type": "execute_result"
    }
   ],
   "source": [
    "import pandas as pd\n",
    "\n",
    "# Series 객체 생성\n",
    "sr = pd.Series([10, 20, 30, 40])\n",
    "\n",
    "# Series 객체 데이터 확인\n",
    "sr"
   ]
  },
  {
   "cell_type": "code",
   "execution_count": 3,
   "id": "d01f582d",
   "metadata": {},
   "outputs": [
    {
     "name": "stdout",
     "output_type": "stream",
     "text": [
      "result=>\n",
      "0    15\n",
      "1    25\n",
      "2    35\n",
      "3    45\n",
      "dtype: int64\n",
      "result type => <class 'pandas.core.series.Series'>\n"
     ]
    }
   ],
   "source": [
    "# 숫자 데이터와 연산 수행 -----------------------------\n",
    "result = sr + 5\n",
    "\n",
    "print(f'result=>\\n{result}', f'result type => {type(result)}', sep = '\\n')"
   ]
  },
  {
   "cell_type": "code",
   "execution_count": 18,
   "id": "34866b86",
   "metadata": {},
   "outputs": [],
   "source": [
    "# Series 객체 + Series 객체 연산 수행 --------------------------------------\n",
    "sr1 = pd.Series({'국어':90, '영어':100, '수학':88})\n",
    "sr2 = pd.Series({'수학':70, '국어':90, '영어':50})\n",
    "sr3 = pd.Series({'국어':90, '영어':100})"
   ]
  },
  {
   "cell_type": "code",
   "execution_count": 19,
   "id": "d622d2d0",
   "metadata": {},
   "outputs": [
    {
     "data": {
      "text/plain": [
       "국어    180\n",
       "수학    158\n",
       "영어    150\n",
       "dtype: int64"
      ]
     },
     "execution_count": 19,
     "metadata": {},
     "output_type": "execute_result"
    }
   ],
   "source": [
    "# 인덱스 정렬 후 동일 인덱스끼리 연산 수행\n",
    "result = sr1+sr2\n",
    "result"
   ]
  },
  {
   "cell_type": "code",
   "execution_count": 20,
   "id": "4ee5e5a3",
   "metadata": {},
   "outputs": [
    {
     "data": {
      "text/plain": [
       "국어    180.0\n",
       "수학      NaN\n",
       "영어    200.0\n",
       "dtype: float64"
      ]
     },
     "execution_count": 20,
     "metadata": {},
     "output_type": "execute_result"
    }
   ],
   "source": [
    "# 동일 인덱스가 없는 경우 연산 수행 안함 => NaN 빈칸의미\n",
    "result2 = sr1 + sr3\n",
    "result2"
   ]
  },
  {
   "cell_type": "code",
   "execution_count": null,
   "id": "6fd75caa",
   "metadata": {},
   "outputs": [],
   "source": []
  }
 ],
 "metadata": {
  "kernelspec": {
   "display_name": "Python 3 (ipykernel)",
   "language": "python",
   "name": "python3"
  },
  "language_info": {
   "codemirror_mode": {
    "name": "ipython",
    "version": 3
   },
   "file_extension": ".py",
   "mimetype": "text/x-python",
   "name": "python",
   "nbconvert_exporter": "python",
   "pygments_lexer": "ipython3",
   "version": "3.9.12"
  }
 },
 "nbformat": 4,
 "nbformat_minor": 5
}
