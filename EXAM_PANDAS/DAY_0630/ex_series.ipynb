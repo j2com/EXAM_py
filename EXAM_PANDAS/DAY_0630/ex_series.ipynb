{
 "cells": [
  {
   "cell_type": "markdown",
   "id": "dcc17388",
   "metadata": {},
   "source": [
    "# 시리즈(Series) 타임 실습 -----------------------------------------\n",
    "\n",
    "- Pandas의 1종류(1차원 배열 / 세로 벡터) 데이터를 저장하는 데이터 타입 (Type)  \n",
    "- 생성 : Series 객체 생성"
   ]
  },
  {
   "cell_type": "code",
   "execution_count": 3,
   "id": "7b7cf85f",
   "metadata": {},
   "outputs": [],
   "source": [
    "# 모듈 로딩 -----------------------------------------------------------\n",
    "import pandas as pd\n",
    "\n",
    "# Series 객체 생성\n",
    "sr = pd.Series([1,2,3,4])"
   ]
  },
  {
   "cell_type": "code",
   "execution_count": 4,
   "id": "1e4bfb1c",
   "metadata": {},
   "outputs": [
    {
     "data": {
      "text/plain": [
       "RangeIndex(start=0, stop=4, step=1)"
      ]
     },
     "execution_count": 4,
     "metadata": {},
     "output_type": "execute_result"
    }
   ],
   "source": [
    "# 생성된 Series 객체 데이터 확인하기\n",
    "sr.index"
   ]
  },
  {
   "cell_type": "code",
   "execution_count": 6,
   "id": "bb91a30a",
   "metadata": {},
   "outputs": [
    {
     "data": {
      "text/plain": [
       "RangeIndex(start=0, stop=4, step=1)"
      ]
     },
     "execution_count": 6,
     "metadata": {},
     "output_type": "execute_result"
    }
   ],
   "source": [
    "# Series 객체의 속성 Attribute 확인 => 객체 변수명, 속성명\n",
    "sr.index"
   ]
  },
  {
   "cell_type": "code",
   "execution_count": 7,
   "id": "d0f9a046",
   "metadata": {},
   "outputs": [
    {
     "data": {
      "text/plain": [
       "array([1, 2, 3, 4], dtype=int64)"
      ]
     },
     "execution_count": 7,
     "metadata": {},
     "output_type": "execute_result"
    }
   ],
   "source": [
    "sr.values"
   ]
  },
  {
   "cell_type": "code",
   "execution_count": 8,
   "id": "c0ef7ee6",
   "metadata": {},
   "outputs": [
    {
     "data": {
      "text/plain": [
       "1"
      ]
     },
     "execution_count": 8,
     "metadata": {},
     "output_type": "execute_result"
    }
   ],
   "source": [
    "# 차원(dimension) 속성\n",
    "sr.ndim"
   ]
  },
  {
   "cell_type": "code",
   "execution_count": 9,
   "id": "42296b1a",
   "metadata": {},
   "outputs": [
    {
     "data": {
      "text/plain": [
       "(4,)"
      ]
     },
     "execution_count": 9,
     "metadata": {},
     "output_type": "execute_result"
    }
   ],
   "source": [
    "# 형(shape) 속성\n",
    "sr.shape"
   ]
  },
  {
   "cell_type": "code",
   "execution_count": 10,
   "id": "ea1d159d",
   "metadata": {},
   "outputs": [
    {
     "data": {
      "text/plain": [
       "(32, 4)"
      ]
     },
     "execution_count": 10,
     "metadata": {},
     "output_type": "execute_result"
    }
   ],
   "source": [
    "# 실제 사용 메모리 바이트 , 데이터 개수\n",
    "sr.nbytes, sr.size"
   ]
  },
  {
   "cell_type": "code",
   "execution_count": 12,
   "id": "d0b401a8",
   "metadata": {},
   "outputs": [
    {
     "data": {
      "text/plain": [
       "0      1\n",
       "1      4\n",
       "2      A\n",
       "3    4.5\n",
       "dtype: object"
      ]
     },
     "execution_count": 12,
     "metadata": {},
     "output_type": "execute_result"
    }
   ],
   "source": [
    "# 여러 타입의 데이터로 Series 객체 형성\n",
    "sr2 = pd.Series([1, 4, 'A', 4.5])\n",
    "sr2"
   ]
  },
  {
   "cell_type": "code",
   "execution_count": 16,
   "id": "56ef378a",
   "metadata": {},
   "outputs": [
    {
     "name": "stdout",
     "output_type": "stream",
     "text": [
      "RangeIndex(start=0, stop=4, step=1), [1 4 'A' 4.5], <PandasArray>\n",
      "[1, 4, 'A', 4.5]\n",
      "Length: 4, dtype: object\n",
      "<class 'numpy.ndarray'>\n"
     ]
    }
   ],
   "source": [
    "# Series 객체 속성 읽기\n",
    "print(f'{sr2.index}, {sr2.values}, {sr2.array}')\n",
    "print(type(sr2.values))"
   ]
  },
  {
   "cell_type": "code",
   "execution_count": 17,
   "id": "1111641b",
   "metadata": {},
   "outputs": [
    {
     "data": {
      "text/plain": [
       "0      1\n",
       "1      4\n",
       "2      A\n",
       "3    4.5\n",
       "dtype: object"
      ]
     },
     "execution_count": 17,
     "metadata": {},
     "output_type": "execute_result"
    }
   ],
   "source": [
    "sr2"
   ]
  },
  {
   "cell_type": "code",
   "execution_count": 18,
   "id": "1d60001b",
   "metadata": {},
   "outputs": [
    {
     "data": {
      "text/plain": [
       "name     HONG\n",
       "age        12\n",
       "loc     Daegu\n",
       "dtype: object"
      ]
     },
     "execution_count": 18,
     "metadata": {},
     "output_type": "execute_result"
    }
   ],
   "source": [
    "# Dict 데이터를 Series 객체 생성\n",
    "sr3 = pd.Series({'name':'HONG', 'age':12, 'loc':'Daegu'})\n",
    "sr3"
   ]
  },
  {
   "cell_type": "code",
   "execution_count": 19,
   "id": "4340b7e1",
   "metadata": {},
   "outputs": [
    {
     "data": {
      "text/plain": [
       "하나    a\n",
       "둘     b\n",
       "셋     c\n",
       "dtype: object"
      ]
     },
     "execution_count": 19,
     "metadata": {},
     "output_type": "execute_result"
    }
   ],
   "source": [
    "# Series 객체 생성\n",
    "sr=pd.Series(['a', 'b', 'c'], index=['하나', '둘', '셋'])\n",
    "sr"
   ]
  },
  {
   "cell_type": "code",
   "execution_count": 22,
   "id": "eaeda922",
   "metadata": {},
   "outputs": [
    {
     "data": {
      "text/plain": [
       "0    a\n",
       "1    b\n",
       "2    c\n",
       "dtype: object"
      ]
     },
     "execution_count": 22,
     "metadata": {},
     "output_type": "execute_result"
    }
   ],
   "source": [
    "sr2=pd.Series(['a','b','c'])\n",
    "sr2"
   ]
  },
  {
   "cell_type": "code",
   "execution_count": 23,
   "id": "a28b4a5b",
   "metadata": {},
   "outputs": [
    {
     "data": {
      "text/plain": [
       "11    a\n",
       "22    b\n",
       "33    c\n",
       "dtype: object"
      ]
     },
     "execution_count": 23,
     "metadata": {},
     "output_type": "execute_result"
    }
   ],
   "source": [
    "# 인덱스 새로운 값으로 설정 => 객체변수명, 속성명 = 새로운 값\n",
    "sr2.index=[11,22,33]\n",
    "sr2"
   ]
  },
  {
   "cell_type": "markdown",
   "id": "e14f736c",
   "metadata": {},
   "source": [
    "# 시리즈(Series) 객체의 원소/요소 다루기\n",
    "\n",
    "- 방법 \n",
    "    - 시리즈 객체.[인덱스 번호]\n",
    "    - 시리즈 객체.[인덱스 라벨]"
   ]
  },
  {
   "cell_type": "code",
   "execution_count": 25,
   "id": "e2d6030b",
   "metadata": {},
   "outputs": [
    {
     "data": {
      "text/plain": [
       "'b'"
      ]
     },
     "execution_count": 25,
     "metadata": {},
     "output_type": "execute_result"
    }
   ],
   "source": [
    "# 1번 원소 읽기\n",
    "sr2[22]"
   ]
  },
  {
   "cell_type": "code",
   "execution_count": 26,
   "id": "50251f31",
   "metadata": {},
   "outputs": [
    {
     "data": {
      "text/plain": [
       "Int64Index([11, 22, 33], dtype='int64')"
      ]
     },
     "execution_count": 26,
     "metadata": {},
     "output_type": "execute_result"
    }
   ],
   "source": [
    "sr2.index"
   ]
  },
  {
   "cell_type": "code",
   "execution_count": 27,
   "id": "ed272145",
   "metadata": {},
   "outputs": [
    {
     "data": {
      "text/plain": [
       "Index(['one', 'two', 'three'], dtype='object')"
      ]
     },
     "execution_count": 27,
     "metadata": {},
     "output_type": "execute_result"
    }
   ],
   "source": [
    "# 문자형 인덱스로 새롭게 설정\n",
    "sr2.index=['one','two','three']\n",
    "sr2.index"
   ]
  },
  {
   "cell_type": "code",
   "execution_count": 29,
   "id": "c3780446",
   "metadata": {},
   "outputs": [
    {
     "data": {
      "text/plain": [
       "('b', 'b', 'c', 'c')"
      ]
     },
     "execution_count": 29,
     "metadata": {},
     "output_type": "execute_result"
    }
   ],
   "source": [
    "sr2['two'], sr2[1], sr2['three'], sr2[2]"
   ]
  },
  {
   "cell_type": "code",
   "execution_count": 31,
   "id": "e7146310",
   "metadata": {},
   "outputs": [
    {
     "data": {
      "text/plain": [
       "name    HONG\n",
       "age       12\n",
       "dtype: object"
      ]
     },
     "execution_count": 31,
     "metadata": {},
     "output_type": "execute_result"
    }
   ],
   "source": [
    "sr3=pd.Series({'name':'HONG','age':12})\n",
    "sr3"
   ]
  },
  {
   "cell_type": "code",
   "execution_count": 32,
   "id": "968497bd",
   "metadata": {},
   "outputs": [
    {
     "data": {
      "text/plain": [
       "(12, 'HONG')"
      ]
     },
     "execution_count": 32,
     "metadata": {},
     "output_type": "execute_result"
    }
   ],
   "source": [
    "sr3['age'],sr3['name']"
   ]
  },
  {
   "cell_type": "code",
   "execution_count": 33,
   "id": "09935be3",
   "metadata": {},
   "outputs": [
    {
     "data": {
      "text/plain": [
       "('HONG', 12)"
      ]
     },
     "execution_count": 33,
     "metadata": {},
     "output_type": "execute_result"
    }
   ],
   "source": [
    "sr3[0],sr3[1] #문자로 저장 돼 있기 때문에 기본 설정되어 있는 0 1 2 인덱스로 찾았을떄 나옴(정수로 바꿨을 때 인덱스 0 1 2로 검색 불가능)"
   ]
  },
  {
   "cell_type": "code",
   "execution_count": 34,
   "id": "5d9f40b1",
   "metadata": {},
   "outputs": [],
   "source": [
    "sr4 = pd.Series(('2022-06-30', 'Pandas', True, 4.55, 'No Work'))"
   ]
  },
  {
   "cell_type": "code",
   "execution_count": 35,
   "id": "4ccbeb2c",
   "metadata": {},
   "outputs": [],
   "source": [
    "sr4.index=['날짜', '과목', '불린', '실수', '희망사항']"
   ]
  },
  {
   "cell_type": "code",
   "execution_count": 36,
   "id": "5cc64f27",
   "metadata": {},
   "outputs": [
    {
     "data": {
      "text/plain": [
       "날짜      2022-06-30\n",
       "과목          Pandas\n",
       "불린            True\n",
       "실수            4.55\n",
       "희망사항       No Work\n",
       "dtype: object"
      ]
     },
     "execution_count": 36,
     "metadata": {},
     "output_type": "execute_result"
    }
   ],
   "source": [
    "sr4"
   ]
  },
  {
   "cell_type": "code",
   "execution_count": 39,
   "id": "5de272cc",
   "metadata": {},
   "outputs": [
    {
     "data": {
      "text/plain": [
       "과목       Pandas\n",
       "불린         True\n",
       "실수         4.55\n",
       "희망사항    No Work\n",
       "dtype: object"
      ]
     },
     "execution_count": 39,
     "metadata": {},
     "output_type": "execute_result"
    }
   ],
   "source": [
    "sr4[1:]"
   ]
  },
  {
   "cell_type": "code",
   "execution_count": 49,
   "id": "8f5106d6",
   "metadata": {},
   "outputs": [
    {
     "data": {
      "text/plain": [
       "날짜      2022-06-30\n",
       "실수            4.55\n",
       "희망사항       No Work\n",
       "dtype: object"
      ]
     },
     "execution_count": 49,
     "metadata": {},
     "output_type": "execute_result"
    }
   ],
   "source": [
    "sr4[[0,3,4]]"
   ]
  },
  {
   "cell_type": "code",
   "execution_count": 50,
   "id": "65234043",
   "metadata": {},
   "outputs": [
    {
     "data": {
      "text/plain": [
       "과목       Pandas\n",
       "불린         True\n",
       "실수         4.55\n",
       "희망사항    No Work\n",
       "dtype: object"
      ]
     },
     "execution_count": 50,
     "metadata": {},
     "output_type": "execute_result"
    }
   ],
   "source": [
    "# (3) 1번요소부터 3번요소까지 요소값 출력\n",
    "sr4[1:4]\n",
    "sr4['과목':'희망사항'] # 인덱스 라벨은 끝 원소로 포함된다"
   ]
  },
  {
   "cell_type": "code",
   "execution_count": null,
   "id": "0abf6932",
   "metadata": {},
   "outputs": [],
   "source": []
  }
 ],
 "metadata": {
  "kernelspec": {
   "display_name": "Python 3 (ipykernel)",
   "language": "python",
   "name": "python3"
  },
  "language_info": {
   "codemirror_mode": {
    "name": "ipython",
    "version": 3
   },
   "file_extension": ".py",
   "mimetype": "text/x-python",
   "name": "python",
   "nbconvert_exporter": "python",
   "pygments_lexer": "ipython3",
   "version": "3.9.12"
  }
 },
 "nbformat": 4,
 "nbformat_minor": 5
}
