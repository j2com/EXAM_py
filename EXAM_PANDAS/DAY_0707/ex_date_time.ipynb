{
 "cells": [
  {
   "cell_type": "markdown",
   "id": "4f227a11",
   "metadata": {},
   "source": [
    "# 날짜시간관련 패키지 다루기 ---------------------\n",
    "\n",
    "- 파이썬 => date, time, datetime 관련 클래쓰"
   ]
  },
  {
   "cell_type": "code",
   "execution_count": 2,
   "id": "ee8dc9fc",
   "metadata": {},
   "outputs": [],
   "source": [
    "# 모듈 로딩 ------------------------\n",
    "import time as tm\n",
    "import matplotlib as mp\n",
    "\n",
    "# tm.__version__ << 버전확인"
   ]
  },
  {
   "cell_type": "markdown",
   "id": "f2472219",
   "metadata": {},
   "source": [
    "# 시간 관련 클래스---------------->time"
   ]
  },
  {
   "cell_type": "code",
   "execution_count": 6,
   "id": "52e85c58",
   "metadata": {},
   "outputs": [
    {
     "name": "stdout",
     "output_type": "stream",
     "text": [
      "현재시간 : Thu Jul  7 09:38:53 2022\n"
     ]
    }
   ],
   "source": [
    "# 현재 시간 출력 메서드 ------------------------------------\n",
    "#(1) 보기 쉽게 변환되어서 가져오기\n",
    "currentTm = tm.ctime(tm.time())\n",
    "\n",
    "print(f'현재시간 : {currentTm}')"
   ]
  },
  {
   "cell_type": "code",
   "execution_count": 4,
   "id": "3346ca9f",
   "metadata": {},
   "outputs": [
    {
     "data": {
      "text/plain": [
       "1657237159.7190392"
      ]
     },
     "execution_count": 4,
     "metadata": {},
     "output_type": "execute_result"
    }
   ],
   "source": [
    "tm.time()"
   ]
  },
  {
   "cell_type": "code",
   "execution_count": 8,
   "id": "e31fdcae",
   "metadata": {
    "scrolled": true
   },
   "outputs": [
    {
     "name": "stdout",
     "output_type": "stream",
     "text": [
      "현재시간구조체클래스 : time.struct_time(tm_year=2022, tm_mon=7, tm_mday=7, tm_hour=9, tm_min=40, tm_sec=45, tm_wday=3, tm_yday=188, tm_isdst=0)\n"
     ]
    }
   ],
   "source": [
    "# (2) 원하는 대로 변환할 수 있도록 구조체 객체\n",
    "localStrct = tm.localtime(tm.time())\n",
    "\n",
    "print(f'현재시간구조체클래스 : {localStrct}')"
   ]
  },
  {
   "cell_type": "markdown",
   "id": "33aad924",
   "metadata": {},
   "source": [
    "# 날짜 관련 클래스 -----> datetime.date 클래스"
   ]
  },
  {
   "cell_type": "code",
   "execution_count": 17,
   "id": "4c9cefc5",
   "metadata": {},
   "outputs": [
    {
     "data": {
      "text/plain": [
       "datetime.date(2022, 7, 7)"
      ]
     },
     "execution_count": 17,
     "metadata": {},
     "output_type": "execute_result"
    }
   ],
   "source": [
    "from datetime import date\n",
    "\n",
    "currentDT = date.today()\n",
    "currentDT\n"
   ]
  },
  {
   "cell_type": "code",
   "execution_count": 13,
   "id": "1bab1cee",
   "metadata": {},
   "outputs": [
    {
     "name": "stdout",
     "output_type": "stream",
     "text": [
      "<class 'datetime.date'> 2022-12-24\n"
     ]
    }
   ],
   "source": [
    "d_day = date(2022, 12, 24)\n",
    "\n",
    "print(type(d_day),d_day)"
   ]
  },
  {
   "cell_type": "code",
   "execution_count": 14,
   "id": "e4f9f983",
   "metadata": {},
   "outputs": [
    {
     "data": {
      "text/plain": [
       "(24, 12, 2022)"
      ]
     },
     "execution_count": 14,
     "metadata": {},
     "output_type": "execute_result"
    }
   ],
   "source": [
    "d_day.day, d_day.month, d_day.year # class method 들은 객체 생성없이 바로 사용 가능"
   ]
  },
  {
   "cell_type": "markdown",
   "id": "032853f4",
   "metadata": {},
   "source": [
    "# 날짜시간 관련 클래스 ==> datetime.datetime"
   ]
  },
  {
   "cell_type": "code",
   "execution_count": 5,
   "id": "c4291ae3",
   "metadata": {},
   "outputs": [
    {
     "data": {
      "text/plain": [
       "datetime.datetime(2022, 7, 8, 8, 41, 51, 371211)"
      ]
     },
     "execution_count": 5,
     "metadata": {},
     "output_type": "execute_result"
    }
   ],
   "source": [
    "from datetime import datetime as dt\n",
    "\n",
    "dt.today()"
   ]
  },
  {
   "cell_type": "code",
   "execution_count": 10,
   "id": "a499ccb8",
   "metadata": {},
   "outputs": [
    {
     "ename": "AttributeError",
     "evalue": "type object 'datetime.datetime' has no attribute 'Timestamp'",
     "output_type": "error",
     "traceback": [
      "\u001b[1;31m---------------------------------------------------------------------------\u001b[0m",
      "\u001b[1;31mAttributeError\u001b[0m                            Traceback (most recent call last)",
      "Input \u001b[1;32mIn [10]\u001b[0m, in \u001b[0;36m<cell line: 1>\u001b[1;34m()\u001b[0m\n\u001b[1;32m----> 1\u001b[0m \u001b[43mdt\u001b[49m\u001b[38;5;241;43m.\u001b[39;49m\u001b[43mTimestamp\u001b[49m\u001b[38;5;241m.\u001b[39mnow()\n",
      "\u001b[1;31mAttributeError\u001b[0m: type object 'datetime.datetime' has no attribute 'Timestamp'"
     ]
    }
   ],
   "source": []
  },
  {
   "cell_type": "code",
   "execution_count": 18,
   "id": "8f2aa65a",
   "metadata": {},
   "outputs": [
    {
     "data": {
      "text/plain": [
       "datetime.datetime(2022, 7, 7, 10, 5, 25, 497801)"
      ]
     },
     "execution_count": 18,
     "metadata": {},
     "output_type": "execute_result"
    }
   ],
   "source": [
    "dt.now()"
   ]
  },
  {
   "cell_type": "code",
   "execution_count": 19,
   "id": "edf757d5",
   "metadata": {},
   "outputs": [],
   "source": [
    "# 원하는 날짜시간 생성\n",
    "d_daytime = dt(2022, 12, 24)"
   ]
  },
  {
   "cell_type": "code",
   "execution_count": 20,
   "id": "38215a74",
   "metadata": {},
   "outputs": [
    {
     "data": {
      "text/plain": [
       "datetime.datetime(2022, 12, 24, 0, 0)"
      ]
     },
     "execution_count": 20,
     "metadata": {},
     "output_type": "execute_result"
    }
   ],
   "source": [
    "d_daytime"
   ]
  },
  {
   "cell_type": "markdown",
   "id": "c5cd9bb0",
   "metadata": {},
   "source": [
    "d_daytime.day"
   ]
  },
  {
   "cell_type": "markdown",
   "id": "d17737c6",
   "metadata": {},
   "source": [
    "## 날짜시간 관련 PANDAS ----------------------------\n",
    "\n",
    "- 관련 자료형 : timestamp, datetime64, period\n",
    "\n",
    "- 관련 메서드 : to_datetime(), date_range(), to_period(), period_range()"
   ]
  }
 ],
 "metadata": {
  "kernelspec": {
   "display_name": "Python 3 (ipykernel)",
   "language": "python",
   "name": "python3"
  },
  "language_info": {
   "codemirror_mode": {
    "name": "ipython",
    "version": 3
   },
   "file_extension": ".py",
   "mimetype": "text/x-python",
   "name": "python",
   "nbconvert_exporter": "python",
   "pygments_lexer": "ipython3",
   "version": "3.9.12"
  }
 },
 "nbformat": 4,
 "nbformat_minor": 5
}
