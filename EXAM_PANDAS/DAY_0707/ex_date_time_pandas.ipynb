{
 "cells": [
  {
   "cell_type": "markdown",
   "id": "9ed79c4c",
   "metadata": {},
   "source": [
    "# PANDAS DATE-TIME 다루기 ----------------"
   ]
  },
  {
   "cell_type": "code",
   "execution_count": 77,
   "id": "aefc822f",
   "metadata": {},
   "outputs": [
    {
     "name": "stdout",
     "output_type": "stream",
     "text": [
      "<class 'pandas.core.frame.DataFrame'>\n",
      "RangeIndex: 2 entries, 0 to 1\n",
      "Data columns (total 3 columns):\n",
      " #   Column  Non-Null Count  Dtype\n",
      "---  ------  --------------  -----\n",
      " 0   year    2 non-null      int64\n",
      " 1   month   2 non-null      int64\n",
      " 2   day     2 non-null      int64\n",
      "dtypes: int64(3)\n",
      "memory usage: 176.0 bytes\n"
     ]
    }
   ],
   "source": [
    "# 모듈 로딩 --------------------------------------------------------\n",
    "import pandas as pd\n",
    "from datetime import datetime \n",
    "\n",
    "# DF 객체 생성\n",
    "df = pd.DataFrame({'year':[2021,2022],\n",
    "                   'month':[11,12],\n",
    "                   'day':[1,24]})\n",
    "df.info()"
   ]
  },
  {
   "cell_type": "code",
   "execution_count": 55,
   "id": "a49856f7",
   "metadata": {},
   "outputs": [
    {
     "data": {
      "text/plain": [
       "year     int64\n",
       "month    int64\n",
       "day      int64\n",
       "dtype: object"
      ]
     },
     "execution_count": 55,
     "metadata": {},
     "output_type": "execute_result"
    }
   ],
   "source": [
    "df.dtypes"
   ]
  },
  {
   "cell_type": "code",
   "execution_count": 56,
   "id": "fab6fb0d",
   "metadata": {},
   "outputs": [
    {
     "name": "stdout",
     "output_type": "stream",
     "text": [
      "<class 'pandas.core.series.Series'>\n",
      "0   2021-11-01\n",
      "1   2022-12-24\n",
      "dtype: datetime64[ns]\n"
     ]
    }
   ],
   "source": [
    "# DateTime으로 변환 => pandas.to_datetime() # datetime64 타입\n",
    "result = pd.to_datetime(df)\n",
    "\n",
    "print(type(result), result, sep='\\n')"
   ]
  },
  {
   "cell_type": "code",
   "execution_count": 57,
   "id": "6cc38f03",
   "metadata": {},
   "outputs": [
    {
     "data": {
      "text/plain": [
       "pandas._libs.tslibs.timestamps.Timestamp"
      ]
     },
     "execution_count": 57,
     "metadata": {},
     "output_type": "execute_result"
    }
   ],
   "source": [
    "one = result[0]\n",
    "type(one) # 시리즈 하나만 뺴와서 timestamp 타입"
   ]
  },
  {
   "cell_type": "code",
   "execution_count": 58,
   "id": "e897f361",
   "metadata": {},
   "outputs": [
    {
     "data": {
      "text/plain": [
       "(1, 11, 2021)"
      ]
     },
     "execution_count": 58,
     "metadata": {},
     "output_type": "execute_result"
    }
   ],
   "source": [
    "one.day, one.month, one.year"
   ]
  },
  {
   "cell_type": "markdown",
   "id": "9215c6b5",
   "metadata": {},
   "source": [
    "# 타입 및 다른 포맷 변환 메서드들. to_변환타입()"
   ]
  },
  {
   "cell_type": "code",
   "execution_count": 59,
   "id": "ee8437b3",
   "metadata": {
    "scrolled": true
   },
   "outputs": [
    {
     "data": {
      "text/html": [
       "<div>\n",
       "<style scoped>\n",
       "    .dataframe tbody tr th:only-of-type {\n",
       "        vertical-align: middle;\n",
       "    }\n",
       "\n",
       "    .dataframe tbody tr th {\n",
       "        vertical-align: top;\n",
       "    }\n",
       "\n",
       "    .dataframe thead th {\n",
       "        text-align: right;\n",
       "    }\n",
       "</style>\n",
       "<table border=\"1\" class=\"dataframe\">\n",
       "  <thead>\n",
       "    <tr style=\"text-align: right;\">\n",
       "      <th></th>\n",
       "      <th>0</th>\n",
       "    </tr>\n",
       "  </thead>\n",
       "  <tbody>\n",
       "    <tr>\n",
       "      <th>0</th>\n",
       "      <td>2021-11-01</td>\n",
       "    </tr>\n",
       "    <tr>\n",
       "      <th>1</th>\n",
       "      <td>2022-12-24</td>\n",
       "    </tr>\n",
       "  </tbody>\n",
       "</table>\n",
       "</div>"
      ],
      "text/plain": [
       "           0\n",
       "0 2021-11-01\n",
       "1 2022-12-24"
      ]
     },
     "execution_count": 59,
     "metadata": {},
     "output_type": "execute_result"
    }
   ],
   "source": [
    "# 데이터프레임으로 변환\n",
    "result.to_frame()"
   ]
  },
  {
   "cell_type": "code",
   "execution_count": 60,
   "id": "1d8c48a8",
   "metadata": {},
   "outputs": [
    {
     "data": {
      "text/plain": [
       "[Timestamp('2021-11-01 00:00:00'), Timestamp('2022-12-24 00:00:00')]"
      ]
     },
     "execution_count": 60,
     "metadata": {},
     "output_type": "execute_result"
    }
   ],
   "source": [
    "result.to_list()"
   ]
  },
  {
   "cell_type": "code",
   "execution_count": 61,
   "id": "e148ea23",
   "metadata": {},
   "outputs": [
    {
     "data": {
      "text/plain": [
       "'0   2021-11-01\\n1   2022-12-24'"
      ]
     },
     "execution_count": 61,
     "metadata": {},
     "output_type": "execute_result"
    }
   ],
   "source": [
    "result.to_string()"
   ]
  },
  {
   "cell_type": "code",
   "execution_count": 62,
   "id": "cc99271e",
   "metadata": {},
   "outputs": [],
   "source": [
    "result.to_csv('result.csv')"
   ]
  },
  {
   "cell_type": "code",
   "execution_count": 63,
   "id": "a451d8dd",
   "metadata": {},
   "outputs": [],
   "source": [
    "result.to_json('result.jsson')"
   ]
  },
  {
   "cell_type": "markdown",
   "id": "a2f2fc74",
   "metadata": {},
   "source": [
    "## CSV 파일 활용 실습---------------------------------\n",
    "\n",
    "- 날짜 데이터가 있는 CSV 파일 처리하기"
   ]
  },
  {
   "cell_type": "code",
   "execution_count": 70,
   "id": "d73dda15",
   "metadata": {},
   "outputs": [],
   "source": [
    "DIR_PATH = '../../Data/'\n",
    "FILE_NAME = DIR_PATH+'survey_visited.csv'"
   ]
  },
  {
   "cell_type": "code",
   "execution_count": 71,
   "id": "7d891eb1",
   "metadata": {},
   "outputs": [
    {
     "data": {
      "text/html": [
       "<div>\n",
       "<style scoped>\n",
       "    .dataframe tbody tr th:only-of-type {\n",
       "        vertical-align: middle;\n",
       "    }\n",
       "\n",
       "    .dataframe tbody tr th {\n",
       "        vertical-align: top;\n",
       "    }\n",
       "\n",
       "    .dataframe thead th {\n",
       "        text-align: right;\n",
       "    }\n",
       "</style>\n",
       "<table border=\"1\" class=\"dataframe\">\n",
       "  <thead>\n",
       "    <tr style=\"text-align: right;\">\n",
       "      <th></th>\n",
       "      <th>ident</th>\n",
       "      <th>site</th>\n",
       "      <th>dated</th>\n",
       "    </tr>\n",
       "  </thead>\n",
       "  <tbody>\n",
       "    <tr>\n",
       "      <th>0</th>\n",
       "      <td>619</td>\n",
       "      <td>DR-1</td>\n",
       "      <td>1927-02-08</td>\n",
       "    </tr>\n",
       "    <tr>\n",
       "      <th>1</th>\n",
       "      <td>622</td>\n",
       "      <td>DR-1</td>\n",
       "      <td>1927-02-10</td>\n",
       "    </tr>\n",
       "    <tr>\n",
       "      <th>2</th>\n",
       "      <td>734</td>\n",
       "      <td>DR-3</td>\n",
       "      <td>1939-01-07</td>\n",
       "    </tr>\n",
       "    <tr>\n",
       "      <th>3</th>\n",
       "      <td>735</td>\n",
       "      <td>DR-3</td>\n",
       "      <td>1930-01-12</td>\n",
       "    </tr>\n",
       "    <tr>\n",
       "      <th>4</th>\n",
       "      <td>751</td>\n",
       "      <td>DR-3</td>\n",
       "      <td>1930-02-26</td>\n",
       "    </tr>\n",
       "    <tr>\n",
       "      <th>5</th>\n",
       "      <td>752</td>\n",
       "      <td>DR-3</td>\n",
       "      <td>1930-02-26</td>\n",
       "    </tr>\n",
       "    <tr>\n",
       "      <th>6</th>\n",
       "      <td>837</td>\n",
       "      <td>MSK-4</td>\n",
       "      <td>1932-01-14</td>\n",
       "    </tr>\n",
       "    <tr>\n",
       "      <th>7</th>\n",
       "      <td>844</td>\n",
       "      <td>DR-1</td>\n",
       "      <td>1932-03-22</td>\n",
       "    </tr>\n",
       "  </tbody>\n",
       "</table>\n",
       "</div>"
      ],
      "text/plain": [
       "   ident   site       dated\n",
       "0    619   DR-1  1927-02-08\n",
       "1    622   DR-1  1927-02-10\n",
       "2    734   DR-3  1939-01-07\n",
       "3    735   DR-3  1930-01-12\n",
       "4    751   DR-3  1930-02-26\n",
       "5    752   DR-3  1930-02-26\n",
       "6    837  MSK-4  1932-01-14\n",
       "7    844   DR-1  1932-03-22"
      ]
     },
     "execution_count": 71,
     "metadata": {},
     "output_type": "execute_result"
    }
   ],
   "source": [
    "svDF = pd.read_csv(FILE_NAME)\n",
    "svDF.fillna(method='ffill', inplace=True)\n",
    "svDF"
   ]
  },
  {
   "cell_type": "code",
   "execution_count": 72,
   "id": "1fc4a50e",
   "metadata": {
    "scrolled": false
   },
   "outputs": [
    {
     "name": "stdout",
     "output_type": "stream",
     "text": [
      "<class 'pandas.core.frame.DataFrame'>\n",
      "RangeIndex: 8 entries, 0 to 7\n",
      "Data columns (total 3 columns):\n",
      " #   Column  Non-Null Count  Dtype \n",
      "---  ------  --------------  ----- \n",
      " 0   ident   8 non-null      int64 \n",
      " 1   site    8 non-null      object\n",
      " 2   dated   8 non-null      object\n",
      "dtypes: int64(1), object(2)\n",
      "memory usage: 320.0+ bytes\n"
     ]
    }
   ],
   "source": [
    "svDF.info()"
   ]
  },
  {
   "cell_type": "code",
   "execution_count": 84,
   "id": "9b3efbe9",
   "metadata": {},
   "outputs": [
    {
     "data": {
      "text/plain": [
       "0   1927-02-08\n",
       "1   1927-02-10\n",
       "2   1939-01-07\n",
       "3   1930-01-12\n",
       "4   1930-02-26\n",
       "5   1930-02-26\n",
       "6   1932-01-14\n",
       "7   1932-03-22\n",
       "Name: dated, dtype: datetime64[ns]"
      ]
     },
     "execution_count": 84,
     "metadata": {},
     "output_type": "execute_result"
    }
   ],
   "source": [
    "pd.to_datetime(svDF['dated'])"
   ]
  },
  {
   "cell_type": "code",
   "execution_count": 86,
   "id": "95327d9c",
   "metadata": {},
   "outputs": [],
   "source": [
    "svDF['dated']=pd.to_datetime(svDF['dated'])"
   ]
  },
  {
   "cell_type": "code",
   "execution_count": 90,
   "id": "87094c0f",
   "metadata": {},
   "outputs": [
    {
     "data": {
      "text/plain": [
       "(0    1927\n",
       " 1    1927\n",
       " 2    1939\n",
       " 3    1930\n",
       " 4    1930\n",
       " 5    1930\n",
       " 6    1932\n",
       " 7    1932\n",
       " Name: dated, dtype: int64,\n",
       " 0    2\n",
       " 1    2\n",
       " 2    1\n",
       " 3    1\n",
       " 4    2\n",
       " 5    2\n",
       " 6    1\n",
       " 7    3\n",
       " Name: dated, dtype: int64)"
      ]
     },
     "execution_count": 90,
     "metadata": {},
     "output_type": "execute_result"
    }
   ],
   "source": [
    "svDF['dated'].dt.year, svDF['dated'].dt.month"
   ]
  },
  {
   "cell_type": "code",
   "execution_count": 92,
   "id": "f3b0b97d",
   "metadata": {},
   "outputs": [
    {
     "data": {
      "text/plain": [
       "0   1927-02-08\n",
       "1   1927-02-10\n",
       "2   1939-01-07\n",
       "3   1930-01-12\n",
       "4   1930-02-26\n",
       "5   1930-02-26\n",
       "6   1932-01-14\n",
       "7   1932-03-22\n",
       "Name: dated, dtype: datetime64[ns]"
      ]
     },
     "execution_count": 92,
     "metadata": {},
     "output_type": "execute_result"
    }
   ],
   "source": [
    "dateSR = svDF['dated']\n",
    "dateSR"
   ]
  },
  {
   "cell_type": "code",
   "execution_count": 94,
   "id": "829ffaf6",
   "metadata": {},
   "outputs": [
    {
     "data": {
      "text/plain": [
       "0   1927-02-08\n",
       "1   1927-02-10\n",
       "2   1939-01-07\n",
       "3   1930-01-12\n",
       "4   1930-02-26\n",
       "5   1930-02-26\n",
       "6   1932-01-14\n",
       "7   1932-03-22\n",
       "Name: dated, dtype: datetime64[ns]"
      ]
     },
     "execution_count": 94,
     "metadata": {},
     "output_type": "execute_result"
    }
   ],
   "source": [
    "dateSR[dateSR.dt.year>=1903]"
   ]
  },
  {
   "cell_type": "code",
   "execution_count": null,
   "id": "de39f25f",
   "metadata": {},
   "outputs": [],
   "source": []
  }
 ],
 "metadata": {
  "kernelspec": {
   "display_name": "Python 3 (ipykernel)",
   "language": "python",
   "name": "python3"
  },
  "language_info": {
   "codemirror_mode": {
    "name": "ipython",
    "version": 3
   },
   "file_extension": ".py",
   "mimetype": "text/x-python",
   "name": "python",
   "nbconvert_exporter": "python",
   "pygments_lexer": "ipython3",
   "version": "3.9.12"
  }
 },
 "nbformat": 4,
 "nbformat_minor": 5
}
