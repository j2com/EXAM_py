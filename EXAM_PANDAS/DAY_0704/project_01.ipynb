{
 "cells": [
  {
   "cell_type": "code",
   "execution_count": 387,
   "id": "0b72b290",
   "metadata": {},
   "outputs": [],
   "source": [
    "DIR_PATH = '../../Data/'\n",
    "FILE_NAME = DIR_PATH +'fire_allyear.csv'\n"
   ]
  },
  {
   "cell_type": "code",
   "execution_count": 388,
   "id": "261e9f90",
   "metadata": {
    "scrolled": false
   },
   "outputs": [],
   "source": [
    "import pandas as pd\n",
    "import numpy as np\n",
    "import matplotlib.pyplot as plt\n",
    "import matplotlib.ticker as ticker\n",
    "from matplotlib import font_manager as fm, rc\n",
    "\n",
    "font_path='../../Font/malgun.ttf'\n",
    "font_name=fm.FontProperties(fname=font_path).get_name()\n",
    "rc('font', family=font_name)\n",
    "\n",
    "projectDF = pd.read_csv(FILE_NAME, encoding='CP949')"
   ]
  },
  {
   "cell_type": "code",
   "execution_count": 389,
   "id": "45e08926",
   "metadata": {
    "scrolled": true
   },
   "outputs": [
    {
     "data": {
      "text/html": [
       "<div>\n",
       "<style scoped>\n",
       "    .dataframe tbody tr th:only-of-type {\n",
       "        vertical-align: middle;\n",
       "    }\n",
       "\n",
       "    .dataframe tbody tr th {\n",
       "        vertical-align: top;\n",
       "    }\n",
       "\n",
       "    .dataframe thead th {\n",
       "        text-align: right;\n",
       "    }\n",
       "</style>\n",
       "<table border=\"1\" class=\"dataframe\">\n",
       "  <thead>\n",
       "    <tr style=\"text-align: right;\">\n",
       "      <th></th>\n",
       "      <th>년</th>\n",
       "      <th>월</th>\n",
       "      <th>시간대</th>\n",
       "      <th>시도</th>\n",
       "      <th>화재유형</th>\n",
       "      <th>발화열원대분류</th>\n",
       "      <th>발화요인대분류</th>\n",
       "      <th>최초착화물대분류</th>\n",
       "      <th>장소대분류</th>\n",
       "      <th>사망</th>\n",
       "      <th>부상</th>\n",
       "      <th>인명피해(명)소계</th>\n",
       "      <th>재산피해소계</th>\n",
       "    </tr>\n",
       "  </thead>\n",
       "  <tbody>\n",
       "    <tr>\n",
       "      <th>0</th>\n",
       "      <td>2015</td>\n",
       "      <td>1</td>\n",
       "      <td>심야</td>\n",
       "      <td>경상남도</td>\n",
       "      <td>건축,구조물</td>\n",
       "      <td>작동기기</td>\n",
       "      <td>전기적 요인</td>\n",
       "      <td>전기,전자</td>\n",
       "      <td>주거</td>\n",
       "      <td>0</td>\n",
       "      <td>0</td>\n",
       "      <td>0</td>\n",
       "      <td>2920</td>\n",
       "    </tr>\n",
       "    <tr>\n",
       "      <th>1</th>\n",
       "      <td>2015</td>\n",
       "      <td>1</td>\n",
       "      <td>심야</td>\n",
       "      <td>서울특별시</td>\n",
       "      <td>임야</td>\n",
       "      <td>담뱃불, 라이터불</td>\n",
       "      <td>부주의</td>\n",
       "      <td>기타</td>\n",
       "      <td>임야</td>\n",
       "      <td>0</td>\n",
       "      <td>0</td>\n",
       "      <td>0</td>\n",
       "      <td>0</td>\n",
       "    </tr>\n",
       "    <tr>\n",
       "      <th>2</th>\n",
       "      <td>2015</td>\n",
       "      <td>1</td>\n",
       "      <td>심야</td>\n",
       "      <td>서울특별시</td>\n",
       "      <td>자동차,철도차량</td>\n",
       "      <td>담뱃불, 라이터불</td>\n",
       "      <td>부주의</td>\n",
       "      <td>침구,직물류</td>\n",
       "      <td>자동차,철도차량</td>\n",
       "      <td>0</td>\n",
       "      <td>0</td>\n",
       "      <td>0</td>\n",
       "      <td>137</td>\n",
       "    </tr>\n",
       "    <tr>\n",
       "      <th>3</th>\n",
       "      <td>2015</td>\n",
       "      <td>1</td>\n",
       "      <td>심야</td>\n",
       "      <td>서울특별시</td>\n",
       "      <td>건축,구조물</td>\n",
       "      <td>담뱃불, 라이터불</td>\n",
       "      <td>부주의</td>\n",
       "      <td>종이,목재,건초등</td>\n",
       "      <td>판매,업무시설</td>\n",
       "      <td>0</td>\n",
       "      <td>0</td>\n",
       "      <td>0</td>\n",
       "      <td>326</td>\n",
       "    </tr>\n",
       "    <tr>\n",
       "      <th>4</th>\n",
       "      <td>2015</td>\n",
       "      <td>1</td>\n",
       "      <td>심야</td>\n",
       "      <td>부산광역시</td>\n",
       "      <td>건축,구조물</td>\n",
       "      <td>작동기기</td>\n",
       "      <td>부주의</td>\n",
       "      <td>식품</td>\n",
       "      <td>주거</td>\n",
       "      <td>0</td>\n",
       "      <td>0</td>\n",
       "      <td>0</td>\n",
       "      <td>0</td>\n",
       "    </tr>\n",
       "    <tr>\n",
       "      <th>...</th>\n",
       "      <td>...</td>\n",
       "      <td>...</td>\n",
       "      <td>...</td>\n",
       "      <td>...</td>\n",
       "      <td>...</td>\n",
       "      <td>...</td>\n",
       "      <td>...</td>\n",
       "      <td>...</td>\n",
       "      <td>...</td>\n",
       "      <td>...</td>\n",
       "      <td>...</td>\n",
       "      <td>...</td>\n",
       "      <td>...</td>\n",
       "    </tr>\n",
       "    <tr>\n",
       "      <th>214462</th>\n",
       "      <td>2019</td>\n",
       "      <td>12</td>\n",
       "      <td>저녁</td>\n",
       "      <td>경기도</td>\n",
       "      <td>건축,구조물</td>\n",
       "      <td>작동기기</td>\n",
       "      <td>전기적 요인</td>\n",
       "      <td>전기,전자</td>\n",
       "      <td>산업시설</td>\n",
       "      <td>0</td>\n",
       "      <td>0</td>\n",
       "      <td>0</td>\n",
       "      <td>23707</td>\n",
       "    </tr>\n",
       "    <tr>\n",
       "      <th>214463</th>\n",
       "      <td>2019</td>\n",
       "      <td>12</td>\n",
       "      <td>저녁</td>\n",
       "      <td>경상북도</td>\n",
       "      <td>건축,구조물</td>\n",
       "      <td>미상</td>\n",
       "      <td>미상</td>\n",
       "      <td>종이,목재,건초등</td>\n",
       "      <td>산업시설</td>\n",
       "      <td>0</td>\n",
       "      <td>0</td>\n",
       "      <td>0</td>\n",
       "      <td>3542</td>\n",
       "    </tr>\n",
       "    <tr>\n",
       "      <th>214464</th>\n",
       "      <td>2019</td>\n",
       "      <td>12</td>\n",
       "      <td>저녁</td>\n",
       "      <td>부산광역시</td>\n",
       "      <td>건축,구조물</td>\n",
       "      <td>작동기기</td>\n",
       "      <td>부주의</td>\n",
       "      <td>식품</td>\n",
       "      <td>판매,업무시설</td>\n",
       "      <td>0</td>\n",
       "      <td>0</td>\n",
       "      <td>0</td>\n",
       "      <td>0</td>\n",
       "    </tr>\n",
       "    <tr>\n",
       "      <th>214465</th>\n",
       "      <td>2019</td>\n",
       "      <td>12</td>\n",
       "      <td>저녁</td>\n",
       "      <td>제주특별자치도</td>\n",
       "      <td>건축,구조물</td>\n",
       "      <td>작동기기</td>\n",
       "      <td>부주의</td>\n",
       "      <td>합성수지</td>\n",
       "      <td>판매,업무시설</td>\n",
       "      <td>0</td>\n",
       "      <td>0</td>\n",
       "      <td>0</td>\n",
       "      <td>105</td>\n",
       "    </tr>\n",
       "    <tr>\n",
       "      <th>214466</th>\n",
       "      <td>2019</td>\n",
       "      <td>12</td>\n",
       "      <td>저녁</td>\n",
       "      <td>인천광역시</td>\n",
       "      <td>건축,구조물</td>\n",
       "      <td>작동기기</td>\n",
       "      <td>전기적 요인</td>\n",
       "      <td>전기,전자</td>\n",
       "      <td>산업시설</td>\n",
       "      <td>0</td>\n",
       "      <td>0</td>\n",
       "      <td>0</td>\n",
       "      <td>3879</td>\n",
       "    </tr>\n",
       "  </tbody>\n",
       "</table>\n",
       "<p>214467 rows × 13 columns</p>\n",
       "</div>"
      ],
      "text/plain": [
       "           년   월 시간대       시도      화재유형    발화열원대분류 발화요인대분류   최초착화물대분류  \\\n",
       "0       2015   1  심야     경상남도    건축,구조물       작동기기  전기적 요인      전기,전자   \n",
       "1       2015   1  심야    서울특별시        임야  담뱃불, 라이터불     부주의         기타   \n",
       "2       2015   1  심야    서울특별시  자동차,철도차량  담뱃불, 라이터불     부주의     침구,직물류   \n",
       "3       2015   1  심야    서울특별시    건축,구조물  담뱃불, 라이터불     부주의  종이,목재,건초등   \n",
       "4       2015   1  심야    부산광역시    건축,구조물       작동기기     부주의         식품   \n",
       "...      ...  ..  ..      ...       ...        ...     ...        ...   \n",
       "214462  2019  12  저녁      경기도    건축,구조물       작동기기  전기적 요인      전기,전자   \n",
       "214463  2019  12  저녁     경상북도    건축,구조물         미상      미상  종이,목재,건초등   \n",
       "214464  2019  12  저녁    부산광역시    건축,구조물       작동기기     부주의         식품   \n",
       "214465  2019  12  저녁  제주특별자치도    건축,구조물       작동기기     부주의       합성수지   \n",
       "214466  2019  12  저녁    인천광역시    건축,구조물       작동기기  전기적 요인      전기,전자   \n",
       "\n",
       "           장소대분류  사망  부상  인명피해(명)소계  재산피해소계  \n",
       "0             주거   0   0          0    2920  \n",
       "1             임야   0   0          0       0  \n",
       "2       자동차,철도차량   0   0          0     137  \n",
       "3        판매,업무시설   0   0          0     326  \n",
       "4             주거   0   0          0       0  \n",
       "...          ...  ..  ..        ...     ...  \n",
       "214462      산업시설   0   0          0   23707  \n",
       "214463      산업시설   0   0          0    3542  \n",
       "214464   판매,업무시설   0   0          0       0  \n",
       "214465   판매,업무시설   0   0          0     105  \n",
       "214466      산업시설   0   0          0    3879  \n",
       "\n",
       "[214467 rows x 13 columns]"
      ]
     },
     "execution_count": 389,
     "metadata": {},
     "output_type": "execute_result"
    }
   ],
   "source": [
    "projectDF = projectDF.iloc[:,1:]\n",
    "projectDF"
   ]
  },
  {
   "cell_type": "code",
   "execution_count": 390,
   "id": "b1615127",
   "metadata": {},
   "outputs": [],
   "source": [
    "project15DF=projectDF[projectDF['년']==2015]"
   ]
  },
  {
   "cell_type": "code",
   "execution_count": 391,
   "id": "ec9d588a",
   "metadata": {},
   "outputs": [
    {
     "name": "stdout",
     "output_type": "stream",
     "text": [
      "<class 'pandas.core.frame.DataFrame'>\n",
      "Int64Index: 44435 entries, 0 to 44434\n",
      "Data columns (total 13 columns):\n",
      " #   Column     Non-Null Count  Dtype \n",
      "---  ------     --------------  ----- \n",
      " 0   년          44435 non-null  int64 \n",
      " 1   월          44435 non-null  int64 \n",
      " 2   시간대        44435 non-null  object\n",
      " 3   시도         44435 non-null  object\n",
      " 4   화재유형       44435 non-null  object\n",
      " 5   발화열원대분류    44435 non-null  object\n",
      " 6   발화요인대분류    44435 non-null  object\n",
      " 7   최초착화물대분류   44435 non-null  object\n",
      " 8   장소대분류      44435 non-null  object\n",
      " 9   사망         44435 non-null  int64 \n",
      " 10  부상         44435 non-null  int64 \n",
      " 11  인명피해(명)소계  44435 non-null  int64 \n",
      " 12  재산피해소계     44435 non-null  int64 \n",
      "dtypes: int64(6), object(7)\n",
      "memory usage: 4.7+ MB\n"
     ]
    }
   ],
   "source": [
    "project15DF.info()"
   ]
  },
  {
   "cell_type": "code",
   "execution_count": 392,
   "id": "05b6ae98",
   "metadata": {},
   "outputs": [],
   "source": [
    "graph_1= project15DF.groupby('시도').count()['년'] # 각 지역별 화재 발생건수"
   ]
  },
  {
   "cell_type": "code",
   "execution_count": 393,
   "id": "15cafa94",
   "metadata": {
    "scrolled": true
   },
   "outputs": [
    {
     "data": {
      "text/plain": [
       "Text(0.5, 1.0, '2015년 지역별 화재건수')"
      ]
     },
     "execution_count": 393,
     "metadata": {},
     "output_type": "execute_result"
    },
    {
     "data": {
      "image/png": "[encoded data removed]",
      "text/plain": [
       "<Figure size 720x576 with 1 Axes>"
      ]
     },
     "metadata": {
      "needs_background": "light"
     },
     "output_type": "display_data"
    }
   ],
   "source": [
    "plt.figure(figsize=(10,8))\n",
    "graph_1.plot(kind='bar', color='Red')\n",
    "plt.rc('xtick', labelsize=20)\n",
    "plt.rc('ytick', labelsize=20)               \n",
    "plt.title('2015년 지역별 화재건수')"
   ]
  },
  {
   "cell_type": "code",
   "execution_count": 394,
   "id": "0965fa17",
   "metadata": {},
   "outputs": [
    {
     "data": {
      "text/plain": [
       "화재유형\n",
       "건축,구조물         5677\n",
       "기타(쓰레기 화재등)    2552\n",
       "선박,항공기            3\n",
       "위험물,가스제조소등        4\n",
       "임야              843\n",
       "자동차,철도차량       1254\n",
       "Name: 년, dtype: int64"
      ]
     },
     "execution_count": 394,
     "metadata": {},
     "output_type": "execute_result"
    }
   ],
   "source": [
    "gg15DF.groupby('화재유형').count()['년'] # 화재유형 1위 건축, 구조물 5677건"
   ]
  },
  {
   "cell_type": "code",
   "execution_count": 395,
   "id": "5cb8edf3",
   "metadata": {},
   "outputs": [
    {
     "data": {
      "text/plain": [
       "발화열원대분류\n",
       "기타(발화원인)       429\n",
       "담뱃불, 라이터불     2305\n",
       "마찰, 전도, 복사     809\n",
       "미상(발화원인)      1000\n",
       "불꽃, 불티        1880\n",
       "자연적 발화열         92\n",
       "작동기기          3707\n",
       "폭발물, 폭죽          4\n",
       "화학적 발화열        107\n",
       "Name: 년, dtype: int64"
      ]
     },
     "execution_count": 395,
     "metadata": {},
     "output_type": "execute_result"
    }
   ],
   "source": [
    "gg15DF.groupby('발화열원대분류').count()['년'] # 발화열원 1위 작동기기 3707건"
   ]
  },
  {
   "cell_type": "code",
   "execution_count": 396,
   "id": "6d55eb7b",
   "metadata": {},
   "outputs": [],
   "source": [
    "gg15DF = project15DF[project15DF['시도']=='경기도']"
   ]
  },
  {
   "cell_type": "code",
   "execution_count": 397,
   "id": "47b6edea",
   "metadata": {
    "scrolled": true
   },
   "outputs": [
    {
     "data": {
      "text/plain": [
       "월\n",
       "1      823\n",
       "2      861\n",
       "3     1659\n",
       "4      895\n",
       "5      978\n",
       "6      847\n",
       "7      637\n",
       "8      674\n",
       "9      810\n",
       "10     721\n",
       "11     628\n",
       "12     800\n",
       "Name: 년, dtype: int64"
      ]
     },
     "execution_count": 397,
     "metadata": {},
     "output_type": "execute_result"
    }
   ],
   "source": [
    "gg15DF.groupby('월').count()['년'] # 월별 화재건수 3~5월 가장 많이 발생"
   ]
  },
  {
   "cell_type": "code",
   "execution_count": 398,
   "id": "579a3f7c",
   "metadata": {},
   "outputs": [
    {
     "data": {
      "image/png": "[encoded data removed]",
      "text/plain": [
       "<Figure size 432x432 with 1 Axes>"
      ]
     },
     "metadata": {
      "needs_background": "light"
     },
     "output_type": "display_data"
    }
   ],
   "source": [
    "graph_2 = gg15DF.groupby('월').count()['년']\n",
    "plt.figure(figsize=(6,6))\n",
    "plt.xticks(np.arange(1,13))\n",
    "plt.plot(graph_2.index,graph_2.values, 'r--')\n",
    "plt.ylabel('화재건수')\n",
    "plt.xlabel('월')\n",
    "plt.legend(['화재건수'])\n",
    "plt.show()"
   ]
  },
  {
   "cell_type": "code",
   "execution_count": 399,
   "id": "c0dd57be",
   "metadata": {},
   "outputs": [
    {
     "data": {
      "text/plain": [
       "Text(0.5, 1.0, '2015 월별 화재건수')"
      ]
     },
     "execution_count": 399,
     "metadata": {},
     "output_type": "execute_result"
    },
    {
     "data": {
      "image/png": "[encoded data removed]",
      "text/plain": [
       "<Figure size 432x288 with 1 Axes>"
      ]
     },
     "metadata": {
      "needs_background": "light"
     },
     "output_type": "display_data"
    }
   ],
   "source": [
    "graph_2.plot(kind='bar', color='skyblue')\n",
    "plt.ylabel('화재건수')                  \n",
    "plt.title('2015 월별 화재건수')\n"
   ]
  },
  {
   "cell_type": "code",
   "execution_count": 400,
   "id": "7e98ce28",
   "metadata": {},
   "outputs": [
    {
     "data": {
      "text/plain": [
       "861.0833333333334"
      ]
     },
     "execution_count": 400,
     "metadata": {},
     "output_type": "execute_result"
    }
   ],
   "source": [
    "gg15DF.groupby('월').count()['년'].mean() #월별 평균 화재건수 연중 가장 건조한 3~5월 평균 이상 발생 3월 최고"
   ]
  },
  {
   "cell_type": "code",
   "execution_count": 401,
   "id": "205508a1",
   "metadata": {},
   "outputs": [
    {
     "data": {
      "text/plain": [
       "시간대\n",
       "낮     3999\n",
       "심야    1446\n",
       "아침    2329\n",
       "저녁    2559\n",
       "Name: 년, dtype: int64"
      ]
     },
     "execution_count": 401,
     "metadata": {},
     "output_type": "execute_result"
    }
   ],
   "source": [
    "gg15DF.groupby('시간대').count()['년'] # 시간대별 화재 발생 건수 1위 낮 : 3999건수"
   ]
  },
  {
   "cell_type": "code",
   "execution_count": 402,
   "id": "b1c1d022",
   "metadata": {},
   "outputs": [
    {
     "data": {
      "image/png": "[encoded data removed]",
      "text/plain": [
       "<Figure size 720x720 with 1 Axes>"
      ]
     },
     "metadata": {},
     "output_type": "display_data"
    }
   ],
   "source": [
    "graph_5 = gg15DF.groupby('시간대').count()['년']\n",
    "\n",
    "plt.figure(figsize=(10,10))\n",
    "plt.rc('font', size=50)\n",
    "plt.pie(graph_5, labels=graph_5.index, autopct='%.1f%%')\n",
    "plt.show()"
   ]
  },
  {
   "cell_type": "code",
   "execution_count": 403,
   "id": "50d6bf3f",
   "metadata": {},
   "outputs": [
    {
     "ename": "NameError",
     "evalue": "name 'h' is not defined",
     "output_type": "error",
     "traceback": [
      "\u001b[1;31m---------------------------------------------------------------------------\u001b[0m",
      "\u001b[1;31mNameError\u001b[0m                                 Traceback (most recent call last)",
      "Input \u001b[1;32mIn [403]\u001b[0m, in \u001b[0;36m<cell line: 2>\u001b[1;34m()\u001b[0m\n\u001b[0;32m      1\u001b[0m placeCause15 \u001b[38;5;241m=\u001b[39m gg15DF\u001b[38;5;241m.\u001b[39mgroupby([\u001b[38;5;124m'\u001b[39m\u001b[38;5;124m장소대분류\u001b[39m\u001b[38;5;124m'\u001b[39m,\u001b[38;5;124m'\u001b[39m\u001b[38;5;124m발화요인대분류\u001b[39m\u001b[38;5;124m'\u001b[39m])\u001b[38;5;241m.\u001b[39mcount()[\u001b[38;5;124m'\u001b[39m\u001b[38;5;124m년\u001b[39m\u001b[38;5;124m'\u001b[39m]\n\u001b[1;32m----> 2\u001b[0m \u001b[43mh\u001b[49m\n\u001b[0;32m      3\u001b[0m placeCause15\u001b[38;5;241m.\u001b[39mplot(kind\u001b[38;5;241m=\u001b[39m\u001b[38;5;124m'\u001b[39m\u001b[38;5;124mbar\u001b[39m\u001b[38;5;124m'\u001b[39m, color\u001b[38;5;241m=\u001b[39m\u001b[38;5;124m'\u001b[39m\u001b[38;5;124mskyblue\u001b[39m\u001b[38;5;124m'\u001b[39m)\n\u001b[0;32m      4\u001b[0m plt\u001b[38;5;241m.\u001b[39mylabel(\u001b[38;5;124m'\u001b[39m\u001b[38;5;124m화재건수\u001b[39m\u001b[38;5;124m'\u001b[39m)                  \n",
      "\u001b[1;31mNameError\u001b[0m: name 'h' is not defined"
     ]
    }
   ],
   "source": [
    "placeCause15 = gg15DF.groupby(['장소대분류','발화요인대분류']).count()['년']\n",
    "h\n",
    "placeCause15.plot(kind='bar', color='skyblue')\n",
    "plt.ylabel('화재건수')                  \n",
    "plt.title('2015 월별 화재건수')"
   ]
  },
  {
   "cell_type": "code",
   "execution_count": null,
   "id": "0ee9d5f3",
   "metadata": {},
   "outputs": [],
   "source": []
  },
  {
   "cell_type": "code",
   "execution_count": null,
   "id": "19e590ce",
   "metadata": {},
   "outputs": [],
   "source": [
    "gg15DF.groupby('발화요인대분류').count()['년'] # 발화요인 1위 부주의 4957건"
   ]
  },
  {
   "cell_type": "code",
   "execution_count": null,
   "id": "28596901",
   "metadata": {},
   "outputs": [],
   "source": [
    "gg15DF.groupby('장소대분류').count()['년'] # 기타 제외 산업시설에서 가장 많은 화재 발생"
   ]
  },
  {
   "cell_type": "code",
   "execution_count": null,
   "id": "18dca7f2",
   "metadata": {},
   "outputs": [],
   "source": [
    "gg15DF['재산피해소계'].max()  # 재산피해소계 1위 인덱스"
   ]
  },
  {
   "cell_type": "code",
   "execution_count": null,
   "id": "57bad2db",
   "metadata": {},
   "outputs": [],
   "source": [
    "gg15DF.groupby('재산피해소계').count()['년']"
   ]
  },
  {
   "cell_type": "code",
   "execution_count": null,
   "id": "c68068ab",
   "metadata": {},
   "outputs": [],
   "source": [
    "gg15DF[gg15DF['재산피해소계']==32627210] # 인덱스 값 검색결과"
   ]
  },
  {
   "cell_type": "code",
   "execution_count": null,
   "id": "b9d4259b",
   "metadata": {},
   "outputs": [],
   "source": [
    "gg15DF['인명피해(명)소계'].max() # 인명피해소계 1위"
   ]
  },
  {
   "cell_type": "code",
   "execution_count": null,
   "id": "fd9a62ba",
   "metadata": {
    "scrolled": true
   },
   "outputs": [],
   "source": [
    "gg15DF[gg15DF['인명피해(명)소계']==130]"
   ]
  },
  {
   "cell_type": "code",
   "execution_count": null,
   "id": "8bcf01e1",
   "metadata": {},
   "outputs": [],
   "source": [
    "gg15DF[gg15DF['인명피해(명)소계']==18"
   ]
  },
  {
   "cell_type": "code",
   "execution_count": null,
   "id": "d17de30b",
   "metadata": {},
   "outputs": [],
   "source": [
    "monthPart = projectDF.groupby(['월']).count()['년'] # 월별 전국 화재건수\n",
    "monthPart"
   ]
  },
  {
   "cell_type": "code",
   "execution_count": null,
   "id": "fbc60028",
   "metadata": {},
   "outputs": [],
   "source": [
    "projectDF.groupby('월').count()['년'].mean() # 전국 월별 화재건수 평균"
   ]
  },
  {
   "cell_type": "code",
   "execution_count": null,
   "id": "acfee9ef",
   "metadata": {},
   "outputs": [],
   "source": [
    "monthPart.plot(kind='bar', color='Red')  \n",
    "plt.xlabel('월')\n",
    "plt.ylabel('화재건수')                  \n",
    "plt.title('2015년 월별 화재건수')"
   ]
  },
  {
   "cell_type": "code",
   "execution_count": null,
   "id": "1dbd3e3e",
   "metadata": {},
   "outputs": [],
   "source": [
    "groupsDF = gg15DF.groupby(['장소대분류','인명피해(명)소계'])\n",
    "\n",
    "#for group in groupsDF.groups:  print(group)"
   ]
  },
  {
   "cell_type": "code",
   "execution_count": null,
   "id": "be77d096",
   "metadata": {},
   "outputs": [],
   "source": [
    "groupCNDT=groupsDF.count()                                 # 장소별,인명피해별 그룹화 후 멀티인덱스 => 컬럼으로\n",
    "#type(groupCNDT), groupCNDT.index, groupCNDT.columns\n",
    "groupCNDT.reset_index(inplace=True)\n",
    "groupCNDT"
   ]
  },
  {
   "cell_type": "code",
   "execution_count": null,
   "id": "69890e80",
   "metadata": {
    "scrolled": true
   },
   "outputs": [],
   "source": [
    "groupCNDT['장소별 인명피해'] = groupCNDT['인명피해(명)소계']*groupCNDT['년']\n",
    "groupCNDT"
   ]
  },
  {
   "cell_type": "code",
   "execution_count": null,
   "id": "38dfeb1c",
   "metadata": {},
   "outputs": [],
   "source": [
    "groupCNDT.groupby('장소대분류')['장소별 인명피해'].sum() # 시리즈 파이 그래프에 적용\n"
   ]
  },
  {
   "cell_type": "code",
   "execution_count": null,
   "id": "c27b0888",
   "metadata": {},
   "outputs": [],
   "source": [
    "graph_3 = groupCNDT.groupby('장소대분류')['장소별 인명피해'].sum()\n",
    "graph_3.plot(kind='bar', color='Red')\n",
    "plt.xlabel('장소대분류')\n",
    "plt.ylabel('화재건수')                  \n",
    "plt.title('2015년 지역별 화재건수')"
   ]
  },
  {
   "cell_type": "code",
   "execution_count": null,
   "id": "d1cd96cb",
   "metadata": {},
   "outputs": [],
   "source": [
    "#시간대별 화재유형 // 확인 결과 낮 심야 아침 저녁 시간대 모두 건축, 구조물 화재가 가장 많이 발생 () \n",
    "gg15DF.groupby(['시간대', '화재유형']).count()['년']"
   ]
  },
  {
   "cell_type": "code",
   "execution_count": null,
   "id": "44bd572c",
   "metadata": {},
   "outputs": [],
   "source": [
    "groupsCNDT2 = gg15DF.groupby(['장소대분류','재산피해소계']).count()\n",
    "groupsCNDT2.reset_index(inplace=True)\n",
    "groupsCNDT2"
   ]
  },
  {
   "cell_type": "code",
   "execution_count": null,
   "id": "1b3032a0",
   "metadata": {},
   "outputs": [],
   "source": [
    "groupsCNDT2['장소별 재산피해'] = groupsCNDT2['재산피해소계']*groupsCNDT2['년']\n",
    "groupsCNDT2"
   ]
  },
  {
   "cell_type": "code",
   "execution_count": null,
   "id": "1c03ab2a",
   "metadata": {},
   "outputs": [],
   "source": [
    "graph_4 = groupsCNDT2.groupby('장소대분류')['장소별 재산피해'].sum()\n",
    "graph_4.plot(kind='bar', color='Red')\n",
    "plt.xlabel('장소대분류')\n",
    "plt.ylabel('재산피해소계')                  \n",
    "plt.title('2015년 지역별 화재건수')"
   ]
  },
  {
   "cell_type": "code",
   "execution_count": null,
   "id": "a5a6958b",
   "metadata": {},
   "outputs": [],
   "source": [
    "timePart=projectDF.groupby(['시간대']).count()['년'] # 전국 시간대별 화재건수\n",
    "timePart"
   ]
  },
  {
   "cell_type": "code",
   "execution_count": null,
   "id": "21fac3c4",
   "metadata": {},
   "outputs": [],
   "source": [
    "plt.figure(figsize=(10,10))\n",
    "plt.rc('font', size=30)\n",
    "plt.pie(timePart, labels=timePart.index, autopct='%.1f%%')\n",
    "plt.show()"
   ]
  },
  {
   "cell_type": "code",
   "execution_count": null,
   "id": "8e00b5f0",
   "metadata": {},
   "outputs": [],
   "source": [
    "timePlace=projectDF.groupby(['시간대','장소대분류']).count()['년']\n",
    "timePlace"
   ]
  },
  {
   "cell_type": "code",
   "execution_count": null,
   "id": "f9f14156",
   "metadata": {},
   "outputs": [],
   "source": [
    "groupsDF_1 = projectDF.groupby(['장소대분류','인명피해(명)소계'])"
   ]
  },
  {
   "cell_type": "code",
   "execution_count": null,
   "id": "e2d24537",
   "metadata": {},
   "outputs": [],
   "source": [
    "groupCNDT_1=groupsDF_1.count()                                 # 장소별,인명피해별 그룹화 후 멀티인덱스 => 컬럼으로\n",
    "#type(groupCNDT), groupCNDT.index, groupCNDT.columns\n",
    "groupCNDT_1.reset_index(inplace=True)\n",
    "groupCNDT_1"
   ]
  },
  {
   "cell_type": "code",
   "execution_count": null,
   "id": "c06acc4a",
   "metadata": {},
   "outputs": [],
   "source": [
    "groupCNDT_1['장소별 인명피해'] = groupCNDT_1['인명피해(명)소계']*groupCNDT_1['년']\n",
    "groupCNDT_1"
   ]
  },
  {
   "cell_type": "code",
   "execution_count": null,
   "id": "620ad07b",
   "metadata": {},
   "outputs": [],
   "source": [
    "placePer = groupCNDT_1.groupby('장소대분류')['장소별 인명피해'].sum() # 장소별 인명피해(시리즈 파이 그래프에 적용)\n",
    "placePer.plot(kind='bar', color='Red')\n",
    "plt.xlabel('장소대분류')\n",
    "plt.ylabel('장소별 인명피해')                  \n",
    "plt.title('2015년 지역별 인명피해')"
   ]
  },
  {
   "cell_type": "code",
   "execution_count": null,
   "id": "d3914026",
   "metadata": {},
   "outputs": [],
   "source": [
    "projectDF.groupby(['화재유형','발화열원대분류']).count()['년']"
   ]
  },
  {
   "cell_type": "code",
   "execution_count": null,
   "id": "e49a7c23",
   "metadata": {},
   "outputs": [],
   "source": [
    "projectDF.groupby(['시도','시간대','화재유형']).count()['년']"
   ]
  },
  {
   "cell_type": "code",
   "execution_count": null,
   "id": "ebb7e9e4",
   "metadata": {},
   "outputs": [],
   "source": [
    "monthtimePart = projectDF.groupby(['월','시간대']).count()['년']\n",
    "monthtimePart"
   ]
  },
  {
   "cell_type": "code",
   "execution_count": null,
   "id": "78f9c2b6",
   "metadata": {},
   "outputs": [],
   "source": [
    "plt.figure(figsize=(20,10))\n",
    "monthtimePart.plot(kind='bar', color='Red')\n",
    "plt.rc('xtick', labelsize=20)\n",
    "plt.rc('ytick', labelsize=20)               \n",
    "plt.title('2015년 지역별 화재건수')"
   ]
  },
  {
   "cell_type": "code",
   "execution_count": null,
   "id": "b6b3eaca",
   "metadata": {},
   "outputs": [],
   "source": []
  }
 ],
 "metadata": {
  "kernelspec": {
   "display_name": "Python 3 (ipykernel)",
   "language": "python",
   "name": "python3"
  },
  "language_info": {
   "codemirror_mode": {
    "name": "ipython",
    "version": 3
   },
   "file_extension": ".py",
   "mimetype": "text/x-python",
   "name": "python",
   "nbconvert_exporter": "python",
   "pygments_lexer": "ipython3",
   "version": "3.9.12"
  }
 },
 "nbformat": 4,
 "nbformat_minor": 5
}
