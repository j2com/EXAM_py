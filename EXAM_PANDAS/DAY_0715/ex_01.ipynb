{
 "cells": [
  {
   "cell_type": "code",
   "execution_count": 47,
   "id": "625c9790",
   "metadata": {},
   "outputs": [
    {
     "name": "stdout",
     "output_type": "stream",
     "text": [
      "['사용월', '호선명', '역ID', '지하철역', '유임승차', '유임하차', '무임승차', '무임하차']\n",
      "['Jun-22', '1호선', '150', '서울역', '1150754', '1123193', '194717', '187155']\n",
      "['Jun-22', '1호선', '151', '시청', '537067', '543569', '80671', '78279']\n",
      "['Jun-22', '1호선', '152', '종각', '834173', '815704', '131987', '121717']\n",
      "['Jun-22', '1호선', '153', '종로3가', '450317', '404106', '299617', '278151']\n",
      "['Jun-22', '1호선', '154', '종로5가', '394420', '404105', '254236', '244555']\n",
      "['Jun-22', '1호선', '155', '동대문', '212719', '198987', '117499', '118515']\n",
      "['Jun-22', '1호선', '156', '신설동', '264825', '252339', '112362', '106855']\n"
     ]
    }
   ],
   "source": [
    "import csv\n",
    "\n",
    "DIR = '../../Data/'\n",
    "f = open(DIR+'subwayfee.csv', encoding='utf-8-sig')\n",
    "data = csv.reader(f)\n",
    "header = next(data)\n",
    "print(header)\n",
    "i = 0\n",
    "for row in data: \n",
    "    print(row)\n",
    "    if i >5:\n",
    "        break\n",
    "    i += 1\n",
    "f.close()"
   ]
  },
  {
   "cell_type": "code",
   "execution_count": 48,
   "id": "a05145f9",
   "metadata": {},
   "outputs": [
    {
     "name": "stdout",
     "output_type": "stream",
     "text": [
      "['Jun-22', '1호선', '150', '서울역', 1150754, 1123193, 194717, 187155] 14.47 %\n",
      "['Jun-22', '1호선', '153', '종로3가', 450317, 404106, 299617, 278151] 39.95 %\n",
      "['Jun-22', '1호선', '157', '제기동', 218782, 209109, 263173, 281985] 54.61 %\n",
      "['Jun-22', '경원선', '1916', '소요산', 32659, 25998, 62990, 56806] 65.86 %\n",
      "['Jun-22', '7호선', '2756', '신중동', 0, 0, 1, 0] 100.0 %\n"
     ]
    }
   ],
   "source": [
    "f = open(DIR+'subwayfee.csv', encoding='utf-8-sig')\n",
    "data = csv.reader(f)\n",
    "next(data)\n",
    "max_rate = 0\n",
    "rate = 0\n",
    "for row in data:\n",
    "    for i in range(4, 8):\n",
    "        row[i] = int(row[i]) # 4, 5, 6, 7 컬럼값을 정수로 변환\n",
    "    if row[6] != 0:\n",
    "        rate = (row[6]*100) / (row[4]+row[6]) # 무임승차수 /(유임승차수+무임승차수)\n",
    "        if rate > max_rate:\n",
    "            max_rate = rate\n",
    "            print(row, round(rate, 2), '%')"
   ]
  },
  {
   "cell_type": "code",
   "execution_count": 49,
   "id": "ef230266",
   "metadata": {},
   "outputs": [
    {
     "name": "stdout",
     "output_type": "stream",
     "text": [
      "['Jun-22', '1호선', '150', '서울역', 1150754, 1123193, 194717, 187155] 14.47 %\n",
      "['Jun-22', '1호선', '153', '종로3가', 450317, 404106, 299617, 278151] 39.95 %\n",
      "['Jun-22', '1호선', '157', '제기동', 218782, 209109, 263173, 281985] 54.61 %\n",
      "['Jun-22', '경원선', '1916', '소요산', 32659, 25998, 62990, 56806] 65.86 %\n",
      "['Jun-22', '7호선', '2756', '신중동', 0, 0, 1, 0] 100.0 %\n"
     ]
    }
   ],
   "source": [
    "f = open(DIR+'subwayfee.csv', encoding='utf-8-sig')\n",
    "data = csv.reader(f)\n",
    "next(data)\n",
    "max_rate = 0\n",
    "rate = 0\n",
    "\n",
    "for row in data:\n",
    "    for i in range(4,8):\n",
    "        row[i] = int(row[i])\n",
    "    if row[6] != 0:\n",
    "        rate = (row[6]*100)/(row[4]+row[6])\n",
    "        if rate > max_rate:\n",
    "            max_rate = rate\n",
    "            print(row, round(rate, 2), '%')"
   ]
  },
  {
   "cell_type": "code",
   "execution_count": 50,
   "id": "e09ba9b9",
   "metadata": {},
   "outputs": [
    {
     "name": "stdout",
     "output_type": "stream",
     "text": [
      "['Jun-22', '2호선', '209', '한양대', 269240, 295829, 12481, 13227]\n",
      "역이름: 한양대, 전체 인원: 281,721, 유임승차인원: 269,240, 유임승차 비율: 0.96\n"
     ]
    }
   ],
   "source": [
    "f = open(DIR+'subwayfee.csv', encoding='utf-8-sig')\n",
    "data = csv.reader(f)\n",
    "next(data)\n",
    "max_rate = 0\n",
    "rate = 0\n",
    "max_row = []\n",
    "total_count = 0\n",
    "max_total_num = 0\n",
    "# [4] / [4] + [6]\n",
    "\n",
    "for row in data:\n",
    "    for i in range(4,8):\n",
    "        row[i] = int(row[i])\n",
    "    total_count = row[4] + row[6]\n",
    "    if row[6] != 0 and total_count > 100000:\n",
    "        rate = row[4] / total_count\n",
    "        if rate > max_rate:\n",
    "            max_rate = rate\n",
    "            max_row = row\n",
    "            max_total_num = total_count\n",
    "print(max_row)\n",
    "print(\"역이름: {0}, 전체 인원: {1:,}, 유임승차인원: {2:,}, 유임승차 비율: {3:,}\".\n",
    "format(max_row[3], max_total_num, max_row[4], round(max_rate, 2)))\n",
    "f.close()    "
   ]
  },
  {
   "cell_type": "code",
   "execution_count": 51,
   "id": "0f6f439f",
   "metadata": {},
   "outputs": [
    {
     "name": "stdout",
     "output_type": "stream",
     "text": [
      "['Jun-22', '1호선', '157', '제기동', 218782, 209109, 263173, 281985] 0.45\n",
      "['Jun-22', '1호선', '159', '동묘앞', 122460, 131299, 146455, 147539] 0.46\n",
      "['Jun-22', '경원선', '1916', '소요산', 32659, 25998, 62990, 56806] 0.34\n",
      "['Jun-22', '중앙선', '1218', '원덕', 5854, 5749, 6959, 6739] 0.46\n",
      "['Jun-22', '중앙선', '1219', '용문', 34168, 34477, 38467, 38202] 0.47\n",
      "유임 승차 비율이 가장 낮은 역: 소요산, 전체 인원:95,649, 유임승차인원:32,659, 유임승차비율:0.34\n"
     ]
    }
   ],
   "source": [
    "f = open(DIR+'subwayfee.csv', encoding='utf-8-sig')\n",
    "data = csv.reader(f)\n",
    "next(data)\n",
    "total_count = 0\n",
    "min_rate = 100\n",
    "min_row = []\n",
    "min_total_count = 0\n",
    "for row in data:\n",
    "    for i in range(4,8):\n",
    "        row[i] = int(row[i])\n",
    "    total_count = row[4]+row[6]\n",
    "    if (row[4]!=0) and (total_count >= 10000):\n",
    "        if row[4] / total_count <= 0.5:\n",
    "            print(row, round(row[4]/total_count,2))\n",
    "            if row[4]/total_count < min_rate:\n",
    "                min_rate = row[4]/total_count\n",
    "                min_row = row\n",
    "                min_total_count = total_count\n",
    "print('유임 승차 비율이 가장 낮은 역: {0}, 전체 인원:{1:,}, 유임승차인원:{2:,}, 유임승차비율:{3:,}'.\n",
    "format(min_row[3], min_total_count, min_row[4], round(min_rate, 2)))\n",
    "f.close()"
   ]
  },
  {
   "cell_type": "code",
   "execution_count": 52,
   "id": "eaf8c566",
   "metadata": {},
   "outputs": [
    {
     "data": {
      "image/png": "[encoded data removed]",
      "text/plain": [
       "<Figure size 432x288 with 1 Axes>"
      ]
     },
     "metadata": {},
     "output_type": "display_data"
    }
   ],
   "source": [
    "import platform\n",
    "import matplotlib.pyplot as plt\n",
    "import matplotlib.font_manager as fm\n",
    "\n",
    "if(platform.system() == 'Windows'):\n",
    "    plt.rc('font', family='Malgun Gothic')\n",
    "else:\n",
    "    plt.rc('font', family='AppleGothic')\n",
    "\n",
    "plt.title(min_row[3] + \" 유,무임 승차 비율\")\n",
    "label = ['유임승차', '무임승차']\n",
    "values = [min_row[4], min_row[6]]\n",
    "plt.pie(values, labels=label, autopct='%.1f%%')\n",
    "plt.show()"
   ]
  },
  {
   "cell_type": "code",
   "execution_count": 57,
   "id": "d2fc7c85",
   "metadata": {
    "scrolled": true
   },
   "outputs": [
    {
     "name": "stdout",
     "output_type": "stream",
     "text": [
      "유임승차: 강남 2호선 2,055,521\n",
      "유임하차: 강남 2호선 2,039,847\n",
      "무임승차: 종로3가 1호선 299,617\n",
      "무임하차: 제기동 1호선 281,985\n"
     ]
    }
   ],
   "source": [
    "max = [0] * 4 # [0]: 최대 유임승차,[1]: 최대 유임하차, [2]: 최대 무임승차, [3]: 최대 무임하차\n",
    "max_station = [''] * 4\n",
    "label = ['유임승차', '유임하차', '무임승차', '무임하차']\n",
    "# with 구문: 자동으로 파일을 close()시킴\n",
    "with open(DIR+'subwayfee.csv', encoding='utf-8-sig') as f:\n",
    "    data = csv.reader(f)\n",
    "    next(data)\n",
    "    for row in data:\n",
    "        for i in range(4, 8):\n",
    "            row[i] = int(row[i])\n",
    "            if row[i] > max[i-4]: # 원본데이터의 컬럼 (인덱스 -4) -> max리스트의 인덱스\n",
    "                max[i-4] = row[i]\n",
    "                max_station[i-4] = row[3] + ' ' + row[1] # '역이름 지하철노선' 추가\n",
    "\n",
    "for i in range(4):\n",
    "    print('{0}: {1} {2:,}'.format(label[i], max_station[i], max[i]))\n",
    "\n",
    "label = ['유임승차', '유임하차', '무임승차', '무임하차']\n",
    "c = ['#14CCC0', '#389993', '#FF1C6A', '#CC14AF'] # 파이차트 컬러 값\n",
    "pic_count = 0\n",
    "with open(DIR+'subwayfee.csv', encoding='utf-8-sig') as f:\n",
    "    data = csv.reader(f)\n",
    "    next(data)\n",
    "    if(platform.system() == 'Windows'):\n",
    "        plt.rc('font', family='Malgun Gothic')\n",
    "    else:\n",
    "        plt.rc('font', family='AppleGothic')\n",
    "    for row in data:\n",
    "        for i in range(4, 8):\n",
    "            row[i] = int(row[i])\n",
    "        \n",
    "        plt.figure(dpi=200) # 저장할 그림파일의 dpi 설정\n",
    "        plt.title(row[3] + ' ' + row[1])\n",
    "        plt.pie(row[4:8], labels=label, colors=c, autopct = '%.1f%%')\n",
    "        plt.savefig(row[3] + ' ' + row[1] + '.png')\n",
    "        plt.close() # 파일 닫기\n",
    "        \n",
    "        pic_count += 1\n",
    "        if pic_count >= 10:\n",
    "            break\n"
   ]
  },
  {
   "cell_type": "code",
   "execution_count": null,
   "id": "3ead223b",
   "metadata": {},
   "outputs": [],
   "source": []
  }
 ],
 "metadata": {
  "kernelspec": {
   "display_name": "Python 3 (ipykernel)",
   "language": "python",
   "name": "python3"
  },
  "language_info": {
   "codemirror_mode": {
    "name": "ipython",
    "version": 3
   },
   "file_extension": ".py",
   "mimetype": "text/x-python",
   "name": "python",
   "nbconvert_exporter": "python",
   "pygments_lexer": "ipython3",
   "version": "3.9.12"
  }
 },
 "nbformat": 4,
 "nbformat_minor": 5
}
