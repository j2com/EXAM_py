{
 "cells": [
  {
   "cell_type": "code",
   "execution_count": 1,
   "id": "ea6b0693",
   "metadata": {},
   "outputs": [],
   "source": [
    "import requests\n",
    "from bs4 import BeautifulSoup"
   ]
  },
  {
   "cell_type": "code",
   "execution_count": 2,
   "id": "846df96e",
   "metadata": {},
   "outputs": [],
   "source": [
    "class Content:\n",
    "    def __init__(self, topic, url, title, body):\n",
    "        self.topic = topic\n",
    "        self.url = url\n",
    "        self.title = title\n",
    "        self.body = body\n",
    "\n",
    "    def print(self):\n",
    "        print('New article found for topic: {}'.format(self.topic))\n",
    "        print('URL: {}'.format(self.url))\n",
    "        print('TITLE: {}'.format(self.title))\n",
    "        print('BODY:\\n {}'.format(self.body))\n",
    "\n",
    "class Website:\n",
    "\n",
    "    def __init__(self, name, url, searchUrl, resultListing, resultUrl,\n",
    "                 absoluteUrl, titleTag, bodyTag):\n",
    "\n",
    "        self.name = name\n",
    "        self.url = url\n",
    "        self.searchUrl = searchUrl # URL에 검색어 추가\n",
    "        self.resultListing = resultListing # 각 결과에 대한 정보 저장\n",
    "        self.resultUrl = resultUrl # 결과에서 정확한 URL을 추출할 때 사용\n",
    "        self.absoluteUrl = absoluteUrl # 절대 경로인지, 상대 경로인지 구분\n",
    "        self.titleTag = titleTag\n",
    "        self.bodyTag = bodyTag"
   ]
  },
  {
   "cell_type": "code",
   "execution_count": 3,
   "id": "22ff1503",
   "metadata": {},
   "outputs": [],
   "source": [
    "class Crawler:\n",
    "    def getPage(self, url):\n",
    "        try:\n",
    "            req = requests.get(url)\n",
    "        except requests.exceptions.RequestException:\n",
    "            return None\n",
    "        return BeautifulSoup(req.text, 'html.parser')\n",
    "\n",
    "    def safeGet(self, pageObj, selector):\n",
    "        childObj = pageObj.select(selector)\n",
    "        if childObj is not None and len(childObj) > 0:\n",
    "            return childObj[0].get_text()\n",
    "        else:\n",
    "            return ''\n",
    "\n",
    "    def getAllBody(self, pageObj, selector):\n",
    "        # 해당 tag를 가지는 모든 내용을 출력함\n",
    "        childObj = pageObj.select(selector)\n",
    "        bodyText = \"\"\n",
    "        if childObj is not None:\n",
    "            for i in range (len(childObj)):\n",
    "                bodyText = bodyText + childObj[i].get_text() + '\\n'\n",
    "            return bodyText\n",
    "        else:\n",
    "            return ''\n",
    "    def search(self, topic, site):\n",
    "        # site: Website 객체\n",
    "        print('searchUrl+topic:', site.searchUrl + topic)\n",
    "\n",
    "        bs = self.getpage(site.searchUrl + topic)\n",
    "        searchResults = bs.select(site.resultListing)\n",
    "\n",
    "        for result in searchResults:\n",
    "            url = result.select(site.resultUrl)[0].attrs['href']\n",
    "            if(site.absoluteUrl):\n",
    "                bs = self.getPage(url)\n",
    "            else:\n",
    "                bs = self.getPage(self.url + url)\n",
    "            if bs is None:\n",
    "                print('Something was wrong with that page or URL. Skipping')\n",
    "                return\n",
    "            title = self.safeGet(bs, site.titleTag)\n",
    "            #body = self.safeGet(bs, site.bodyTag) # 첫 번째 paragraph만 출력\n",
    "            body = self.getAllBody(bs, site.bodyTag) # 전체 기사 출력\n",
    "\n",
    "            if title != '' and body != '':\n",
    "                content = Content(topic, url, title, body)\n",
    "                content.print()"
   ]
  },
  {
   "cell_type": "code",
   "execution_count": 4,
   "id": "9d3313ef",
   "metadata": {},
   "outputs": [
    {
     "name": "stdout",
     "output_type": "stream",
     "text": [
      "GETTING INFO ABOUT: python\n",
      "searchUrl+topic: http://www.reuters.com/search/news?blob=python\n"
     ]
    },
    {
     "ename": "AttributeError",
     "evalue": "'Crawler' object has no attribute 'getpage'",
     "output_type": "error",
     "traceback": [
      "\u001b[1;31m---------------------------------------------------------------------------\u001b[0m",
      "\u001b[1;31mAttributeError\u001b[0m                            Traceback (most recent call last)",
      "Input \u001b[1;32mIn [4]\u001b[0m, in \u001b[0;36m<cell line: 19>\u001b[1;34m()\u001b[0m\n\u001b[0;32m     20\u001b[0m \u001b[38;5;28mprint\u001b[39m(\u001b[38;5;124m'\u001b[39m\u001b[38;5;124mGETTING INFO ABOUT: \u001b[39m\u001b[38;5;124m'\u001b[39m \u001b[38;5;241m+\u001b[39m topic)\n\u001b[0;32m     21\u001b[0m \u001b[38;5;28;01mfor\u001b[39;00m targetSite \u001b[38;5;129;01min\u001b[39;00m sites:\n\u001b[1;32m---> 22\u001b[0m     \u001b[43mcrawler\u001b[49m\u001b[38;5;241;43m.\u001b[39;49m\u001b[43msearch\u001b[49m\u001b[43m(\u001b[49m\u001b[43mtopic\u001b[49m\u001b[43m,\u001b[49m\u001b[43m \u001b[49m\u001b[43mtargetSite\u001b[49m\u001b[43m)\u001b[49m\n",
      "Input \u001b[1;32mIn [3]\u001b[0m, in \u001b[0;36mCrawler.search\u001b[1;34m(self, topic, site)\u001b[0m\n\u001b[0;32m     26\u001b[0m \u001b[38;5;28;01mdef\u001b[39;00m \u001b[38;5;21msearch\u001b[39m(\u001b[38;5;28mself\u001b[39m, topic, site):\n\u001b[0;32m     27\u001b[0m     \u001b[38;5;66;03m# site: Website 객체\u001b[39;00m\n\u001b[0;32m     28\u001b[0m     \u001b[38;5;28mprint\u001b[39m(\u001b[38;5;124m'\u001b[39m\u001b[38;5;124msearchUrl+topic:\u001b[39m\u001b[38;5;124m'\u001b[39m, site\u001b[38;5;241m.\u001b[39msearchUrl \u001b[38;5;241m+\u001b[39m topic)\n\u001b[1;32m---> 30\u001b[0m     bs \u001b[38;5;241m=\u001b[39m \u001b[38;5;28;43mself\u001b[39;49m\u001b[38;5;241;43m.\u001b[39;49m\u001b[43mgetpage\u001b[49m(site\u001b[38;5;241m.\u001b[39msearchUrl \u001b[38;5;241m+\u001b[39m topic)\n\u001b[0;32m     31\u001b[0m     searchResults \u001b[38;5;241m=\u001b[39m bs\u001b[38;5;241m.\u001b[39mselect(site\u001b[38;5;241m.\u001b[39mresultListing)\n\u001b[0;32m     33\u001b[0m     \u001b[38;5;28;01mfor\u001b[39;00m result \u001b[38;5;129;01min\u001b[39;00m searchResults:\n",
      "\u001b[1;31mAttributeError\u001b[0m: 'Crawler' object has no attribute 'getpage'"
     ]
    }
   ],
   "source": [
    "crawler = Crawler()\n",
    "\n",
    "siteData1 = [\n",
    "    ['Reuters', # Website.name\n",
    "     'http://reuters.com', # Website.url\n",
    "     'http://www.reuters.com/search/news?blob=', # Website.searchUrl: 검색을 위한 URL\n",
    "     'div.search-result-content', # Website.resultListing: 검색 결과에 대한 정보\n",
    "     'h3.search-result-title > a', # Website.resultUrl: 결과에서 URL을 추출할 때 사용할 태그\n",
    "     False, # Website.absoluteUrl 사용 여부\n",
    "     'h1', # Website.titleTag\n",
    "     'p.Paragraph-paragraph-2Bgue'] # Website.bodyTag\n",
    "     ]\n",
    "\n",
    "sites = []\n",
    "for row in siteData1:\n",
    "    sites.append(Website(row[0], row[1], row[2], row[3], row[4], row[5], row[6], row[7]))\n",
    "\n",
    "topics = ['python']\n",
    "for topic in topics:\n",
    "    print('GETTING INFO ABOUT: ' + topic)\n",
    "    for targetSite in sites:\n",
    "        crawler.search(topic, targetSite)"
   ]
  },
  {
   "cell_type": "code",
   "execution_count": null,
   "id": "8f38a9a1",
   "metadata": {},
   "outputs": [],
   "source": []
  }
 ],
 "metadata": {
  "kernelspec": {
   "display_name": "Python 3 (ipykernel)",
   "language": "python",
   "name": "python3"
  },
  "language_info": {
   "codemirror_mode": {
    "name": "ipython",
    "version": 3
   },
   "file_extension": ".py",
   "mimetype": "text/x-python",
   "name": "python",
   "nbconvert_exporter": "python",
   "pygments_lexer": "ipython3",
   "version": "3.9.12"
  }
 },
 "nbformat": 4,
 "nbformat_minor": 5
}
