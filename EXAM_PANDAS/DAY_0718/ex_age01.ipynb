{
 "cells": [
  {
   "cell_type": "code",
   "execution_count": 53,
   "id": "7eabb61a",
   "metadata": {},
   "outputs": [
    {
     "name": "stdout",
     "output_type": "stream",
     "text": [
      "['행정구역', '2022년06월_계_총인구수', '2022년06월_계_연령구간인구수', '2022년06월_계_0세', '2022년06월_계_1세', '2022년06월_계_2세', '2022년06월_계_3세', '2022년06월_계_4세', '2022년06월_계_5세', '2022년06월_계_6세', '2022년06월_계_7세', '2022년06월_계_8세', '2022년06월_계_9세', '2022년06월_계_10세', '2022년06월_계_11세', '2022년06월_계_12세', '2022년06월_계_13세', '2022년06월_계_14세', '2022년06월_계_15세', '2022년06월_계_16세', '2022년06월_계_17세', '2022년06월_계_18세', '2022년06월_계_19세', '2022년06월_계_20세', '2022년06월_계_21세', '2022년06월_계_22세', '2022년06월_계_23세', '2022년06월_계_24세', '2022년06월_계_25세', '2022년06월_계_26세', '2022년06월_계_27세', '2022년06월_계_28세', '2022년06월_계_29세', '2022년06월_계_30세', '2022년06월_계_31세', '2022년06월_계_32세', '2022년06월_계_33세', '2022년06월_계_34세', '2022년06월_계_35세', '2022년06월_계_36세', '2022년06월_계_37세', '2022년06월_계_38세', '2022년06월_계_39세', '2022년06월_계_40세', '2022년06월_계_41세', '2022년06월_계_42세', '2022년06월_계_43세', '2022년06월_계_44세', '2022년06월_계_45세', '2022년06월_계_46세', '2022년06월_계_47세', '2022년06월_계_48세', '2022년06월_계_49세', '2022년06월_계_50세', '2022년06월_계_51세', '2022년06월_계_52세', '2022년06월_계_53세', '2022년06월_계_54세', '2022년06월_계_55세', '2022년06월_계_56세', '2022년06월_계_57세', '2022년06월_계_58세', '2022년06월_계_59세', '2022년06월_계_60세', '2022년06월_계_61세', '2022년06월_계_62세', '2022년06월_계_63세', '2022년06월_계_64세', '2022년06월_계_65세', '2022년06월_계_66세', '2022년06월_계_67세', '2022년06월_계_68세', '2022년06월_계_69세', '2022년06월_계_70세', '2022년06월_계_71세', '2022년06월_계_72세', '2022년06월_계_73세', '2022년06월_계_74세', '2022년06월_계_75세', '2022년06월_계_76세', '2022년06월_계_77세', '2022년06월_계_78세', '2022년06월_계_79세', '2022년06월_계_80세', '2022년06월_계_81세', '2022년06월_계_82세', '2022년06월_계_83세', '2022년06월_계_84세', '2022년06월_계_85세', '2022년06월_계_86세', '2022년06월_계_87세', '2022년06월_계_88세', '2022년06월_계_89세', '2022년06월_계_90세', '2022년06월_계_91세', '2022년06월_계_92세', '2022년06월_계_93세', '2022년06월_계_94세', '2022년06월_계_95세', '2022년06월_계_96세', '2022년06월_계_97세', '2022년06월_계_98세', '2022년06월_계_99세', '2022년06월_계_100세 이상']\n",
      "['대구광역시 북구 산격3동(2723063000)', '9,499', '9,499', '13', '9', '19', '26', '22', '26', '24', '35', '16', '33', '30', '38', '37', '31', '38', '40', '35', '49', '127', '179', '193', '250', '345', '371', '351', '339', '298', '268', '231', '226', '205', '161', '158', '123', '90', '87', '81', '85', '75', '83', '106', '87', '112', '100', '68', '98', '92', '105', '117', '115', '109', '104', '131', '117', '114', '137', '124', '116', '108', '133', '120', '171', '158', '127', '135', '109', '129', '118', '102', '107', '103', '79', '98', '95', '84', '82', '44', '67', '55', '74', '46', '53', '61', '35', '39', '32', '39', '19', '18', '12', '10', '12', '8', '9', '2', '3', '0', '3', '0', '0', '1']\n"
     ]
    }
   ],
   "source": [
    "import csv\n",
    "import matplotlib.pyplot as plt\n",
    "import re\n",
    "import platform\n",
    "import matplotlib.font_manager as fm\n",
    "\n",
    "DIR = '../../Data/'\n",
    "f = open(DIR+'age.csv', encoding='euc_kr')\n",
    "data = csv.reader(f)\n",
    "header = next(data)\n",
    "print(header)\n",
    "for row in data: \n",
    "    if '산격3' in row[0]:\n",
    "        print(row)\n",
    "f.close()"
   ]
  },
  {
   "cell_type": "code",
   "execution_count": 30,
   "id": "d02477eb",
   "metadata": {},
   "outputs": [
    {
     "name": "stdout",
     "output_type": "stream",
     "text": [
      "['13', '9', '19', '26', '22', '26', '24', '35', '16', '33', '30', '38', '37', '31', '38', '40', '35', '49', '127', '179', '193', '250', '345', '371', '351', '339', '298', '268', '231', '226', '205', '161', '158', '123', '90', '87', '81', '85', '75', '83', '106', '87', '112', '100', '68', '98', '92', '105', '117', '115', '109', '104', '131', '117', '114', '137', '124', '116', '108', '133', '120', '171', '158', '127', '135', '109', '129', '118', '102', '107', '103', '79', '98', '95', '84', '82', '44', '67', '55', '74', '46', '53', '61', '35', '39', '32', '39', '19', '18', '12', '10', '12', '8', '9', '2', '3', '0', '3', '0', '0', '1']\n"
     ]
    }
   ],
   "source": [
    "f = open(DIR+'age.csv', encoding='euc_kr')\n",
    "data = csv.reader(f)\n",
    "header = next(data)\n",
    "result = []\n",
    "for row in data: \n",
    "    if '산격3' in row[0]:\n",
    "        for data in row[3:]:\n",
    "            result.append(data)\n",
    "print(result)\n",
    "f.close()"
   ]
  },
  {
   "cell_type": "code",
   "execution_count": 31,
   "id": "cbdbf520",
   "metadata": {},
   "outputs": [
    {
     "data": {
      "image/png": "[encoded data removed]",
      "text/plain": [
       "<Figure size 432x288 with 1 Axes>"
      ]
     },
     "metadata": {},
     "output_type": "display_data"
    }
   ],
   "source": [
    "f = open(DIR+'age.csv', encoding='euc_kr')\n",
    "data = csv.reader(f)\n",
    "result = []\n",
    "city = ''\n",
    "for row in data:\n",
    "    if '산격3' in row[0]:\n",
    "        str_list = re.split('[()]', row[0]) # [0]: '대구광역시 북구 산격3동(2723063000)'\n",
    "        city = str_list[0]\n",
    "        for data in row[3:]: # 0세부터 100세 이상까지 데이터\n",
    "            result.append(int(data)) # 숫자로 변환\n",
    "f.close()\n",
    "\n",
    "if platform.system() == 'Windows':\n",
    "    plt.rc('font', family='Malgun Gothic')\n",
    "else:\n",
    "    plt.rc('font', family='AppleGothic')\n",
    "\n",
    "plt.title('{0} 인구현황'.format(city))\n",
    "plt.xlabel('나이')\n",
    "plt.ylabel('인구수')\n",
    "plt.style.use('ggplot') # R에서 사용하는 ggplot 패키지 형태\n",
    "plt.plot(result)\n",
    "plt.show()"
   ]
  },
  {
   "cell_type": "code",
   "execution_count": 33,
   "id": "4c64e86d",
   "metadata": {},
   "outputs": [
    {
     "name": "stdout",
     "output_type": "stream",
     "text": [
      "3\n",
      "대구광역시 북구 산격3동\n",
      "[0]: 대구광역시 북구 산격3동\n",
      "[1]: 2723063000\n",
      "[2]: \n",
      "['대구광역시 북구 산격3동', '2723063000', '']\n"
     ]
    }
   ],
   "source": [
    "city = '대구광역시 북구 산격3동(2723063000)'\n",
    "str_list = re.split('[()]', city)\n",
    "print(len(str_list))\n",
    "print(str_list[0])\n",
    "for i in range(len(str_list)):\n",
    "    print('[{}]: {}'.format(i, str_list[i]))\n",
    "print(str_list)"
   ]
  },
  {
   "cell_type": "code",
   "execution_count": 35,
   "id": "241d4338",
   "metadata": {},
   "outputs": [
    {
     "name": "stdout",
     "output_type": "stream",
     "text": [
      "['apple', 'orange', 'banana', 'tomato', 'melon']\n"
     ]
    }
   ],
   "source": [
    "s = 'apple orange:banana,tomato;melon' \n",
    "fruits = re.split('[ ,:;]', s) # 대괄호 안에 분리할 문자 다 넣음\n",
    "print(fruits)"
   ]
  },
  {
   "cell_type": "code",
   "execution_count": 42,
   "id": "d72de91c",
   "metadata": {},
   "outputs": [],
   "source": [
    "def parse_district_name(district):\n",
    "    '''\n",
    "    '행정구역' 명칭에서 숫자 부분을 제거함\n",
    "    - 서울특별시 종로구 (1111000000)\n",
    "    '''\n",
    "    district_name = re.split('[()]', district)\n",
    "    # [0]: 행정구역 이름, [1]: 코드 번호\n",
    "    return district_name[0]\n",
    "\n",
    "def print_population(population):\n",
    "    '''\n",
    "    특정 지역의 인구 현황을 화면에 출력함\n",
    "    '''\n",
    "    for i in range(len(population)):\n",
    "        print('{0:3d}세: {1:4d}명'.format(i, population[i]), end=' ')\n",
    "        if (i + 1) % 10 == 0:\n",
    "            print()"
   ]
  },
  {
   "cell_type": "code",
   "execution_count": 38,
   "id": "2cb83738",
   "metadata": {},
   "outputs": [
    {
     "data": {
      "text/plain": [
       "'서울특별시 종로구 '"
      ]
     },
     "execution_count": 38,
     "metadata": {},
     "output_type": "execute_result"
    }
   ],
   "source": [
    "parse_district_name('서울특별시 종로구 (1111000000)')"
   ]
  },
  {
   "cell_type": "code",
   "execution_count": 48,
   "id": "c4515d1d",
   "metadata": {},
   "outputs": [
    {
     "ename": "ValueError",
     "evalue": "Unknown format code 'd' for object of type 'str'",
     "output_type": "error",
     "traceback": [
      "\u001b[1;31m---------------------------------------------------------------------------\u001b[0m",
      "\u001b[1;31mValueError\u001b[0m                                Traceback (most recent call last)",
      "Input \u001b[1;32mIn [48]\u001b[0m, in \u001b[0;36m<cell line: 1>\u001b[1;34m()\u001b[0m\n\u001b[1;32m----> 1\u001b[0m \u001b[43mprint_population\u001b[49m\u001b[43m(\u001b[49m\u001b[38;5;124;43m'\u001b[39;49m\u001b[38;5;124;43m10세\u001b[39;49m\u001b[38;5;124;43m'\u001b[39;49m\u001b[43m)\u001b[49m\n",
      "Input \u001b[1;32mIn [42]\u001b[0m, in \u001b[0;36mprint_population\u001b[1;34m(population)\u001b[0m\n\u001b[0;32m     11\u001b[0m \u001b[38;5;124;03m'''\u001b[39;00m\n\u001b[0;32m     12\u001b[0m \u001b[38;5;124;03m특정 지역의 인구 현황을 화면에 출력함\u001b[39;00m\n\u001b[0;32m     13\u001b[0m \u001b[38;5;124;03m'''\u001b[39;00m\n\u001b[0;32m     14\u001b[0m \u001b[38;5;28;01mfor\u001b[39;00m i \u001b[38;5;129;01min\u001b[39;00m \u001b[38;5;28mrange\u001b[39m(\u001b[38;5;28mlen\u001b[39m(population)):\n\u001b[1;32m---> 15\u001b[0m     \u001b[38;5;28mprint\u001b[39m(\u001b[38;5;124;43m'\u001b[39;49m\u001b[38;5;132;43;01m{0:3d}\u001b[39;49;00m\u001b[38;5;124;43m세: \u001b[39;49m\u001b[38;5;132;43;01m{1:4d}\u001b[39;49;00m\u001b[38;5;124;43m명\u001b[39;49m\u001b[38;5;124;43m'\u001b[39;49m\u001b[38;5;241;43m.\u001b[39;49m\u001b[43mformat\u001b[49m\u001b[43m(\u001b[49m\u001b[43mi\u001b[49m\u001b[43m,\u001b[49m\u001b[43m \u001b[49m\u001b[43mpopulation\u001b[49m\u001b[43m[\u001b[49m\u001b[43mi\u001b[49m\u001b[43m]\u001b[49m\u001b[43m)\u001b[49m, end\u001b[38;5;241m=\u001b[39m\u001b[38;5;124m'\u001b[39m\u001b[38;5;124m \u001b[39m\u001b[38;5;124m'\u001b[39m)\n\u001b[0;32m     16\u001b[0m     \u001b[38;5;28;01mif\u001b[39;00m (i \u001b[38;5;241m+\u001b[39m \u001b[38;5;241m1\u001b[39m) \u001b[38;5;241m%\u001b[39m \u001b[38;5;241m10\u001b[39m \u001b[38;5;241m==\u001b[39m \u001b[38;5;241m0\u001b[39m:\n\u001b[0;32m     17\u001b[0m         \u001b[38;5;28mprint\u001b[39m()\n",
      "\u001b[1;31mValueError\u001b[0m: Unknown format code 'd' for object of type 'str'"
     ]
    }
   ],
   "source": [
    "print_population('10세')"
   ]
  },
  {
   "cell_type": "code",
   "execution_count": 50,
   "id": "52e38ffd",
   "metadata": {},
   "outputs": [],
   "source": [
    "def draw_population(district_name, population_list):\n",
    "    '''\n",
    "    특정 지역에 대한 인구 분포를 그래프로 나타냄(plot)\n",
    "    - district_name: 지역 이름\n",
    "    - population_list: 0~100세 이상까지 인구수 리스트\n",
    "    '''\n",
    "    # 그래프 출력\n",
    "    if platform.system() == 'Windows':\n",
    "        font_name = fm.FontProperties(fname=\"c:\\Windows\\Fonts\\malgun.ttf\").get_name()\n",
    "        plt.rc('font', family=font_name)\n",
    "    else:\n",
    "        plt.rc('font', family='AppleGothic')\n",
    "\n",
    "    plt.style.use('ggplot')\n",
    "    plt.title('{} 인구 현황'.format(district_name))\n",
    "    plt.xlabel('나이')\n",
    "    plt.ylabel('인구수')\n",
    "    \n",
    "    plt.bar(range(101), population_list)\n",
    "    plt.xticks(range(0, 101, 10)) # 0세 ~ 100세 이상\n",
    "\n",
    "    plt.plot(population_list)\n",
    "    plt.show()"
   ]
  },
  {
   "cell_type": "code",
   "execution_count": 54,
   "id": "e93f092b",
   "metadata": {},
   "outputs": [
    {
     "name": "stdout",
     "output_type": "stream",
     "text": [
      "인구 구조를 알고 싶은 지역의 이름(읍면동 단위)을 입력하세요: 산격3\n",
      "  0세:   13명   1세:    9명   2세:   19명   3세:   26명   4세:   22명   5세:   26명   6세:   24명   7세:   35명   8세:   16명   9세:   33명 \n",
      " 10세:   30명  11세:   38명  12세:   37명  13세:   31명  14세:   38명  15세:   40명  16세:   35명  17세:   49명  18세:  127명  19세:  179명 \n",
      " 20세:  193명  21세:  250명  22세:  345명  23세:  371명  24세:  351명  25세:  339명  26세:  298명  27세:  268명  28세:  231명  29세:  226명 \n",
      " 30세:  205명  31세:  161명  32세:  158명  33세:  123명  34세:   90명  35세:   87명  36세:   81명  37세:   85명  38세:   75명  39세:   83명 \n",
      " 40세:  106명  41세:   87명  42세:  112명  43세:  100명  44세:   68명  45세:   98명  46세:   92명  47세:  105명  48세:  117명  49세:  115명 \n",
      " 50세:  109명  51세:  104명  52세:  131명  53세:  117명  54세:  114명  55세:  137명  56세:  124명  57세:  116명  58세:  108명  59세:  133명 \n",
      " 60세:  120명  61세:  171명  62세:  158명  63세:  127명  64세:  135명  65세:  109명  66세:  129명  67세:  118명  68세:  102명  69세:  107명 \n",
      " 70세:  103명  71세:   79명  72세:   98명  73세:   95명  74세:   84명  75세:   82명  76세:   44명  77세:   67명  78세:   55명  79세:   74명 \n",
      " 80세:   46명  81세:   53명  82세:   61명  83세:   35명  84세:   39명  85세:   32명  86세:   39명  87세:   19명  88세:   18명  89세:   12명 \n",
      " 90세:   10명  91세:   12명  92세:    8명  93세:    9명  94세:    2명  95세:    3명  96세:    0명  97세:    3명  98세:    0명  99세:    0명 \n",
      "100세:    1명 "
     ]
    },
    {
     "data": {
      "image/png": "[encoded data removed]",
      "text/plain": [
       "<Figure size 432x288 with 1 Axes>"
      ]
     },
     "metadata": {},
     "output_type": "display_data"
    }
   ],
   "source": [
    "def get_population(district):\n",
    "    f = open(DIR+'age.csv', encoding='euc_kr')\n",
    "    data = csv.reader(f)\n",
    "    header = next(data) # 헤더 정보 건너뜀\n",
    "\n",
    "    population_list = []\n",
    "    full_district_name = ''\n",
    "    for row in data:\n",
    "        if district in row[0]:\n",
    "            full_district_name = parse_district_name(row[0]) # (시 구 동) 이름만 분리\n",
    "            for data in row[3:]:\n",
    "                if ',' in data:\n",
    "                    data = data.replace(',','') # 천단위 콤마 제거\n",
    "                population_list.append(int(data))\n",
    "\n",
    "    f.close()\n",
    "    print_population(population_list)\n",
    "    draw_population(full_district_name, population_list)\n",
    "\n",
    "district = input('인구 구조를 알고 싶은 지역의 이름(읍면동 단위)을 입력하세요: ')\n",
    "get_population(district)\n"
   ]
  },
  {
   "cell_type": "code",
   "execution_count": 55,
   "id": "93f1fe03",
   "metadata": {},
   "outputs": [],
   "source": [
    "def parse_city_name(city):\n",
    "    '''\n",
    "    행정구역명에서 도시 이름 파싱 (코드 번호 제거)\n",
    "    :param city:\n",
    "    :return:\n",
    "    '''\n",
    "    city_name = re.split('[()]', city)\n",
    "    # [0]: 행정구역 이름, [1]:\n",
    "    return city_name[0]"
   ]
  },
  {
   "cell_type": "code",
   "execution_count": 58,
   "id": "2066cd10",
   "metadata": {},
   "outputs": [],
   "source": [
    "def draw_piechart(city_name, city_population, voting_population):\n",
    "    '''\n",
    "    전체 인구수 대비 투표 가능 인구의 파이차트 작성\n",
    "    '''\n",
    "    non_voting_population = city_population - voting_population\n",
    "    population = [non_voting_population, voting_population]\n",
    "    if platform.system() == 'Windows':\n",
    "        plt.rc('font', family='Malgun Gothic')\n",
    "    else:\n",
    "        plt.rc('font', family='AppleGothic')\n",
    "    color = ['tomato', 'royalblue']\n",
    "    plt.pie(population, labels=['18세 미만', '투표가능인구'], autopct='%.1f%%',\n",
    "            colors=color, startangle=90)\n",
    "\n",
    "    plt.legend()\n",
    "    plt.title(city_name + \" 투표 가능 인구 비율\")\n",
    "    plt.show()"
   ]
  },
  {
   "cell_type": "code",
   "execution_count": 63,
   "id": "81e1d533",
   "metadata": {},
   "outputs": [
    {
     "name": "stdout",
     "output_type": "stream",
     "text": [
      "투표 가능 인구수를 확인할 도시이름을 입력하시오: 산격3\n",
      "대구광역시 북구 산격3동 전체 인구수:9,499명, 투표 가능 인구수: 8,978명\n"
     ]
    },
    {
     "data": {
      "image/png": "[encoded data removed]",
      "text/plain": [
       "<Figure size 432x288 with 1 Axes>"
      ]
     },
     "metadata": {},
     "output_type": "display_data"
    }
   ],
   "source": [
    "def get_voting_population(city):\n",
    "    '''\n",
    "    전체 인구수 : row[1], 투표 가능 인구수 분석 row[21:]\n",
    "    '''\n",
    "    f = open(DIR+'age.csv', encoding='euc_kr')\n",
    "    data = csv.reader(f)\n",
    "    header = next(data) # 헤더 정보 건너뜀\n",
    "    city_name = ''\n",
    "    city_population = 0 # 도시 전체 인구수\n",
    "    voting_population = 0 # 투표 가능 인구수\n",
    "    for row in data:\n",
    "        if city in row[0]:\n",
    "            city_population = row[1]\n",
    "            if ',' in city_population:\n",
    "                # 도시 전체 인구수에서 천단위 콤마 제거\n",
    "\n",
    "                city_population = city_population.replace(',', '')\n",
    "            city_population = int(city_population)\n",
    "            city_name = parse_city_name(row[0]) # (시 구 동) 이름만 분리: 지역 번호 제거\n",
    "            for data in row[21:]:\n",
    "                if ',' in data:\n",
    "                    data = data.replace(',','') # 천단위 콤마 제거\n",
    "                voting_num = int(data)\n",
    "                voting_population += voting_num # 누적된 투표 가능 인구수\n",
    "            break\n",
    "    f.close()\n",
    "    print('{} 전체 인구수:{:,}명, 투표 가능 인구수: {:,}명'.\n",
    "        format(city_name, city_population, voting_population))\n",
    "    draw_piechart(city_name, city_population, voting_population)\n",
    "city = input('투표 가능 인구수를 확인할 도시이름을 입력하시오: ')\n",
    "get_voting_population(city)"
   ]
  },
  {
   "cell_type": "code",
   "execution_count": null,
   "id": "05d23ba1",
   "metadata": {},
   "outputs": [],
   "source": [
    "f = open(DIR+'age.csv', encoding='euc_kr')\n",
    "data = csv.reader(f)\n",
    "header = next(data) # 헤더 정보 건너뜀\n",
    "city_name = ''\n",
    "city_population = 0 # 도시 전체 인구수\n",
    "voting_population = 0 # 투표 가능 인구수\n",
    "\n",
    "for row in data:\n",
    "    if city in row[0]:\n",
    "        city_population = row[1]\n",
    "        if  ',' in city_population:\n",
    "            city_population = city_population.replace(',','')\n",
    "        city_population = int(city_population)\n",
    "        city_name = parse_city_name(row[0])\n",
    "    for data in row[21:]:\n",
    "        if ',' in data:\n",
    "            data = data.replace(',','')\n",
    "            voting_population += voting_num\n",
    "    break\n",
    "f.close()"
   ]
  }
 ],
 "metadata": {
  "kernelspec": {
   "display_name": "Python 3 (ipykernel)",
   "language": "python",
   "name": "python3"
  },
  "language_info": {
   "codemirror_mode": {
    "name": "ipython",
    "version": 3
   },
   "file_extension": ".py",
   "mimetype": "text/x-python",
   "name": "python",
   "nbconvert_exporter": "python",
   "pygments_lexer": "ipython3",
   "version": "3.9.12"
  }
 },
 "nbformat": 4,
 "nbformat_minor": 5
}
