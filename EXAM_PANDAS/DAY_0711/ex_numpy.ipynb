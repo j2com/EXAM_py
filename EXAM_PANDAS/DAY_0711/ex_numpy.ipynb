{
 "cells": [
  {
   "cell_type": "markdown",
   "id": "b65b68e2",
   "metadata": {},
   "source": [
    "# Numpy 패키지 ------------------------------------------------\n",
    "\n",
    "- pandas에서 데이터를 저장 및 처리에 사용되는 패키지\n",
    "\n",
    "- 외부 패키지로 반드시 설치 필요\n",
    "\n",
    "- 고속 데이터 처리, 수치 계산 수행 패키지\n",
    "\n",
    "- 머신러닝/딥러닝용 패키지 Scikit-lern, Tensorflow, PyTorch, Keras 등등에서도 \n",
    "- 내부 데이터 저장 및 수치 계산 사용되는 패키지\n",
    "\n",
    "- [중요] 동일한 데이터 타입의 데이터를 저장하는 배열(Array) 타입!"
   ]
  },
  {
   "cell_type": "code",
   "execution_count": 1,
   "id": "d8783ea4",
   "metadata": {},
   "outputs": [
    {
     "data": {
      "text/plain": [
       "'1.21.5'"
      ]
     },
     "execution_count": 1,
     "metadata": {},
     "output_type": "execute_result"
    }
   ],
   "source": [
    "# 버전 확인\n",
    "import numpy as np\n",
    "\n",
    "np.__version__"
   ]
  },
  {
   "cell_type": "code",
   "execution_count": 3,
   "id": "95d80fbd",
   "metadata": {},
   "outputs": [
    {
     "data": {
      "text/plain": [
       "array([1, 2, 3])"
      ]
     },
     "execution_count": 3,
     "metadata": {},
     "output_type": "execute_result"
    }
   ],
   "source": [
    "# ndarray 객체 생성하기 ------------------------------------ numpy.array()\n",
    "\n",
    "arr1 = np.array([1,2,3])\n",
    "arr1"
   ]
  },
  {
   "cell_type": "code",
   "execution_count": 4,
   "id": "a8ee31c0",
   "metadata": {},
   "outputs": [
    {
     "data": {
      "text/plain": [
       "numpy.ndarray"
      ]
     },
     "execution_count": 4,
     "metadata": {},
     "output_type": "execute_result"
    }
   ],
   "source": [
    "type(arr1)"
   ]
  },
  {
   "cell_type": "code",
   "execution_count": 8,
   "id": "26329386",
   "metadata": {},
   "outputs": [
    {
     "name": "stdout",
     "output_type": "stream",
     "text": [
      "1\n",
      "(3,)\n",
      "int32\n",
      "4\n",
      "3\n"
     ]
    }
   ],
   "source": [
    "# ndarray 객체 송성 확인하기 --------------------------------------------\n",
    "# 객체변수명.속성명\n",
    "# ndim : 차원 (예:1, 2, 3....)\n",
    "# shape : 형태 ( 예: (갯수), (행, 열), (면, 행, 열))\n",
    "# dtype : 데이터 타입\n",
    "# itemsize : 배열 요소의 바이트 크기\n",
    "# size : 배열 요소 갯수\n",
    "print(arr1.ndim, arr1.shape, arr1.dtype, arr1.itemsize, arr1.size, sep='\\n')"
   ]
  },
  {
   "cell_type": "code",
   "execution_count": 13,
   "id": "f1c32761",
   "metadata": {},
   "outputs": [
    {
     "name": "stdout",
     "output_type": "stream",
     "text": [
      "객체변수명 arr1 => [1 2 3]\n",
      "객체변수명 arr1 => 1\n",
      "객체변수명 arr1 => 2\n"
     ]
    }
   ],
   "source": [
    "# 배열의 요소 즉 아이템, 원소 접근하기 -----------------------------------------------------\n",
    "# 0-base 인덱스 자동 지정 => 객체변수명[인덱스]\n",
    "\n",
    "print(f'객체변수명 arr1 => {arr1}')\n",
    "print(f'객체변수명 arr1 => {arr1[0]}')\n",
    "print(f'객체변수명 arr1 => {arr1[1]}')"
   ]
  },
  {
   "cell_type": "code",
   "execution_count": 17,
   "id": "167bcdd4",
   "metadata": {},
   "outputs": [
    {
     "data": {
      "text/plain": [
       "array([1, 1, 1, 1], dtype=int64)"
      ]
     },
     "execution_count": 17,
     "metadata": {},
     "output_type": "execute_result"
    }
   ],
   "source": [
    "# 모든 값을 0으로 채워서 ndarray 객체 생성 함수 => ones()\n",
    "arr2 = np.array([1,1,1,1])\n",
    "arr2 = np.ones(4, dtype=np.int64)\n",
    "arr2"
   ]
  },
  {
   "cell_type": "code",
   "execution_count": 18,
   "id": "d8cc14e2",
   "metadata": {},
   "outputs": [
    {
     "name": "stdout",
     "output_type": "stream",
     "text": [
      "1\n",
      "(4,)\n",
      "int64\n",
      "8\n",
      "4\n"
     ]
    }
   ],
   "source": [
    "print(arr2.ndim, arr2.shape, arr2.dtype, arr2.itemsize, arr2.size, sep='\\n')"
   ]
  },
  {
   "cell_type": "code",
   "execution_count": 19,
   "id": "d3fc0df4",
   "metadata": {},
   "outputs": [
    {
     "data": {
      "text/plain": [
       "array([[0., 0., 0.],\n",
       "       [0., 0., 0.]])"
      ]
     },
     "execution_count": 19,
     "metadata": {},
     "output_type": "execute_result"
    }
   ],
   "source": [
    "# 초기화하지 않고 ndarray 객체 생성 => numpy.empty()\n",
    "arr3 = np.empty((2,3))\n",
    "arr3"
   ]
  },
  {
   "cell_type": "code",
   "execution_count": 21,
   "id": "7cce7be4",
   "metadata": {},
   "outputs": [
    {
     "data": {
      "text/plain": [
       "array([[1., 1., 1., 1.],\n",
       "       [1., 1., 1., 1.],\n",
       "       [1., 1., 1., 1.],\n",
       "       [1., 1., 1., 1.]])"
      ]
     },
     "execution_count": 21,
     "metadata": {},
     "output_type": "execute_result"
    }
   ],
   "source": [
    "# 2차원 형태의 ndarray 객체 생성\n",
    "\n",
    "arr_1 = np.ones((4,4))\n",
    "arr_1"
   ]
  },
  {
   "cell_type": "code",
   "execution_count": 22,
   "id": "e15d6ff1",
   "metadata": {},
   "outputs": [
    {
     "data": {
      "text/plain": [
       "array([1., 1., 1., 1., 1., 1., 1., 1., 1., 1., 1., 1., 1., 1., 1., 1.])"
      ]
     },
     "execution_count": 22,
     "metadata": {},
     "output_type": "execute_result"
    }
   ],
   "source": [
    "arr_1.flatten()"
   ]
  },
  {
   "cell_type": "code",
   "execution_count": 25,
   "id": "cc538e64",
   "metadata": {},
   "outputs": [
    {
     "data": {
      "text/plain": [
       "array([[1., 1., 1., 1., 1., 1., 1., 1.],\n",
       "       [1., 1., 1., 1., 1., 1., 1., 1.]])"
      ]
     },
     "execution_count": 25,
     "metadata": {},
     "output_type": "execute_result"
    }
   ],
   "source": [
    "# 1차원 => 다른 차원으로 변경 reshape()\n",
    "\n",
    "arr_2 = arr_1.reshape((2,8))\n",
    "arr_2"
   ]
  },
  {
   "cell_type": "code",
   "execution_count": 26,
   "id": "908169a1",
   "metadata": {},
   "outputs": [
    {
     "data": {
      "text/plain": [
       "array([0, 1, 2, 3, 4, 5, 6, 7])"
      ]
     },
     "execution_count": 26,
     "metadata": {},
     "output_type": "execute_result"
    }
   ],
   "source": [
    "# 차원 / 형태 변환 => reshape(-1,n), reshape(n, -1)\n",
    "arr8 = np.arange(8)\n",
    "arr8"
   ]
  },
  {
   "cell_type": "code",
   "execution_count": 27,
   "id": "76060f2f",
   "metadata": {},
   "outputs": [
    {
     "data": {
      "text/plain": [
       "array([[0, 1],\n",
       "       [2, 3],\n",
       "       [4, 5],\n",
       "       [6, 7]])"
      ]
     },
     "execution_count": 27,
     "metadata": {},
     "output_type": "execute_result"
    }
   ],
   "source": [
    "arr9 = arr8.reshape(-1,2)\n",
    "arr9"
   ]
  },
  {
   "cell_type": "code",
   "execution_count": null,
   "id": "a82de84b",
   "metadata": {},
   "outputs": [],
   "source": []
  }
 ],
 "metadata": {
  "kernelspec": {
   "display_name": "Python 3 (ipykernel)",
   "language": "python",
   "name": "python3"
  },
  "language_info": {
   "codemirror_mode": {
    "name": "ipython",
    "version": 3
   },
   "file_extension": ".py",
   "mimetype": "text/x-python",
   "name": "python",
   "nbconvert_exporter": "python",
   "pygments_lexer": "ipython3",
   "version": "3.9.12"
  }
 },
 "nbformat": 4,
 "nbformat_minor": 5
}
