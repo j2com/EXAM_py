{
 "cells": [
  {
   "cell_type": "code",
   "execution_count": 1,
   "id": "4e7522e5",
   "metadata": {},
   "outputs": [],
   "source": [
    "import requests\n",
    "from selenium import webdriver\n",
    "from bs4 import BeautifulSoup\n",
    "import pandas as pd\n",
    "from urllib.request import urlopen\n",
    "from konlpy.tag import Kkma, Komoran, Okt\n",
    "from collections import Counter\n",
    "import matplotlib.pyplot as plt\n",
    "from wordcloud import WordCloud\n",
    "import platform\n",
    "import nltk"
   ]
  },
  {
   "cell_type": "code",
   "execution_count": null,
   "id": "5d559246",
   "metadata": {},
   "outputs": [
    {
     "name": "stdout",
     "output_type": "stream",
     "text": [
      "26\n",
      "68\n",
      "68\n",
      "84\n",
      "['68', '84']\n",
      "84\n",
      "42\n",
      "['68', '84', '42']\n",
      "42\n",
      "26\n"
     ]
    },
    {
     "ename": "KeyboardInterrupt",
     "evalue": "Interrupted by user",
     "output_type": "error",
     "traceback": [
      "\u001b[1;31m---------------------------------------------------------------------------\u001b[0m",
      "\u001b[1;31mKeyboardInterrupt\u001b[0m                         Traceback (most recent call last)",
      "Input \u001b[1;32mIn [71]\u001b[0m, in \u001b[0;36m<cell line: 3>\u001b[1;34m()\u001b[0m\n\u001b[0;32m      1\u001b[0m allResult_list \u001b[38;5;241m=\u001b[39m []\n\u001b[0;32m      2\u001b[0m \u001b[38;5;28;01mwhile\u001b[39;00m \u001b[38;5;28;01mTrue\u001b[39;00m:\n\u001b[1;32m----> 3\u001b[0m     n \u001b[38;5;241m=\u001b[39m \u001b[38;5;28mint\u001b[39m(\u001b[38;5;28;43minput\u001b[39;49m\u001b[43m(\u001b[49m\u001b[43m)\u001b[49m)\n\u001b[0;32m      4\u001b[0m     \u001b[38;5;28;01mif\u001b[39;00m n \u001b[38;5;241m<\u001b[39m \u001b[38;5;241m10\u001b[39m \u001b[38;5;129;01mand\u001b[39;00m n \u001b[38;5;241m>\u001b[39m\u001b[38;5;241m=\u001b[39m \u001b[38;5;241m0\u001b[39m:\n\u001b[0;32m      5\u001b[0m         str_list \u001b[38;5;241m=\u001b[39m [\u001b[38;5;124m'\u001b[39m\u001b[38;5;124m0\u001b[39m\u001b[38;5;124m'\u001b[39m, \u001b[38;5;28mstr\u001b[39m(n)]\n",
      "File \u001b[1;32mC:\\ProgramData\\Anaconda3\\lib\\site-packages\\ipykernel\\kernelbase.py:1075\u001b[0m, in \u001b[0;36mKernel.raw_input\u001b[1;34m(self, prompt)\u001b[0m\n\u001b[0;32m   1071\u001b[0m \u001b[38;5;28;01mif\u001b[39;00m \u001b[38;5;129;01mnot\u001b[39;00m \u001b[38;5;28mself\u001b[39m\u001b[38;5;241m.\u001b[39m_allow_stdin:\n\u001b[0;32m   1072\u001b[0m     \u001b[38;5;28;01mraise\u001b[39;00m StdinNotImplementedError(\n\u001b[0;32m   1073\u001b[0m         \u001b[38;5;124m\"\u001b[39m\u001b[38;5;124mraw_input was called, but this frontend does not support input requests.\u001b[39m\u001b[38;5;124m\"\u001b[39m\n\u001b[0;32m   1074\u001b[0m     )\n\u001b[1;32m-> 1075\u001b[0m \u001b[38;5;28;01mreturn\u001b[39;00m \u001b[38;5;28;43mself\u001b[39;49m\u001b[38;5;241;43m.\u001b[39;49m\u001b[43m_input_request\u001b[49m\u001b[43m(\u001b[49m\n\u001b[0;32m   1076\u001b[0m \u001b[43m    \u001b[49m\u001b[38;5;28;43mstr\u001b[39;49m\u001b[43m(\u001b[49m\u001b[43mprompt\u001b[49m\u001b[43m)\u001b[49m\u001b[43m,\u001b[49m\n\u001b[0;32m   1077\u001b[0m \u001b[43m    \u001b[49m\u001b[38;5;28;43mself\u001b[39;49m\u001b[38;5;241;43m.\u001b[39;49m\u001b[43m_parent_ident\u001b[49m\u001b[43m[\u001b[49m\u001b[38;5;124;43m\"\u001b[39;49m\u001b[38;5;124;43mshell\u001b[39;49m\u001b[38;5;124;43m\"\u001b[39;49m\u001b[43m]\u001b[49m\u001b[43m,\u001b[49m\n\u001b[0;32m   1078\u001b[0m \u001b[43m    \u001b[49m\u001b[38;5;28;43mself\u001b[39;49m\u001b[38;5;241;43m.\u001b[39;49m\u001b[43mget_parent\u001b[49m\u001b[43m(\u001b[49m\u001b[38;5;124;43m\"\u001b[39;49m\u001b[38;5;124;43mshell\u001b[39;49m\u001b[38;5;124;43m\"\u001b[39;49m\u001b[43m)\u001b[49m\u001b[43m,\u001b[49m\n\u001b[0;32m   1079\u001b[0m \u001b[43m    \u001b[49m\u001b[43mpassword\u001b[49m\u001b[38;5;241;43m=\u001b[39;49m\u001b[38;5;28;43;01mFalse\u001b[39;49;00m\u001b[43m,\u001b[49m\n\u001b[0;32m   1080\u001b[0m \u001b[43m\u001b[49m\u001b[43m)\u001b[49m\n",
      "File \u001b[1;32mC:\\ProgramData\\Anaconda3\\lib\\site-packages\\ipykernel\\kernelbase.py:1120\u001b[0m, in \u001b[0;36mKernel._input_request\u001b[1;34m(self, prompt, ident, parent, password)\u001b[0m\n\u001b[0;32m   1117\u001b[0m             \u001b[38;5;28;01mbreak\u001b[39;00m\n\u001b[0;32m   1118\u001b[0m \u001b[38;5;28;01mexcept\u001b[39;00m \u001b[38;5;167;01mKeyboardInterrupt\u001b[39;00m:\n\u001b[0;32m   1119\u001b[0m     \u001b[38;5;66;03m# re-raise KeyboardInterrupt, to truncate traceback\u001b[39;00m\n\u001b[1;32m-> 1120\u001b[0m     \u001b[38;5;28;01mraise\u001b[39;00m \u001b[38;5;167;01mKeyboardInterrupt\u001b[39;00m(\u001b[38;5;124m\"\u001b[39m\u001b[38;5;124mInterrupted by user\u001b[39m\u001b[38;5;124m\"\u001b[39m) \u001b[38;5;28;01mfrom\u001b[39;00m \u001b[38;5;28mNone\u001b[39m\n\u001b[0;32m   1121\u001b[0m \u001b[38;5;28;01mexcept\u001b[39;00m \u001b[38;5;167;01mException\u001b[39;00m:\n\u001b[0;32m   1122\u001b[0m     \u001b[38;5;28mself\u001b[39m\u001b[38;5;241m.\u001b[39mlog\u001b[38;5;241m.\u001b[39mwarning(\u001b[38;5;124m\"\u001b[39m\u001b[38;5;124mInvalid Message:\u001b[39m\u001b[38;5;124m\"\u001b[39m, exc_info\u001b[38;5;241m=\u001b[39m\u001b[38;5;28;01mTrue\u001b[39;00m)\n",
      "\u001b[1;31mKeyboardInterrupt\u001b[0m: Interrupted by user"
     ]
    }
   ],
   "source": [
    "allResult_list = []\n",
    "while True:\n",
    "    n = int(input())\n",
    "    if n < 10 and n >= 0:\n",
    "        str_list = ['0', str(n)]\n",
    "        sumNum = int(str_list[0])+int(str_list[1])\n",
    "        resultSum = str(n)+str_list[1]\n",
    "    elif n >= 10 and n < 99:\n",
    "        sumNum2 = int(list(str(n))[0]) + int(list(str(n))[1])\n",
    "        if sumNum2 < 10:\n",
    "            allResult_list.append(list(str(n))[1] + list(str(sumNum2))[0])\n",
    "            print(list(str(n))[1] + list(str(sumNum2))[0])\n",
    "        else:\n",
    "            allResult = list(str(n))[1] + list(str(sumNum2))[1]\n",
    "            allResult_list.append(allResult)\n",
    "            print(allResult)\n",
    "            print(allResult_list)\n",
    "    if allResult_list[-1] == n:\n",
    "        break           "
   ]
  },
  {
   "cell_type": "code",
   "execution_count": 3,
   "id": "cc93f91b",
   "metadata": {},
   "outputs": [],
   "source": [
    "lyrics_list = []\n",
    "\n",
    "for n in range(0,10):\n",
    "    headers = {'User-Agent' : 'Mozilla/5.0 (Windows NT 10.0; Win64; x64) AppleWebKit/537.36 (KHTML, like Gecko) Chrome/98.0.4758.102 Safari/537.36'}\n",
    "    data = requests.get('https://www.genie.co.kr/chart/musicHistory?year=200{}&category=0'.format(n) ,headers=headers)\n",
    "    bs = BeautifulSoup(data.text, 'html.parser')\n",
    "    \n",
    "    bs1 = bs.find('tbody')\n",
    "    codeNum_list = []\n",
    "    for i in range(0,50):\n",
    "        codeNum_list.append(bs1.find_all('tr')[i].attrs['songid'])\n",
    "        \n",
    "    url = 'https://www.genie.co.kr/detail/songInfo?xgnm='\n",
    "\n",
    "    \n",
    "    for codeNum in codeNum_list:\n",
    "    \n",
    "        headers1 = {'User-Agent' : 'Mozilla/5.0 (Windows NT 10.0; Win64; x64) AppleWebKit/537.36 (KHTML, like Gecko) Chrome/98.0.4758.102 Safari/537.36'}\n",
    "        data1 = requests.get(url+codeNum,headers=headers)\n",
    "        info_bs = BeautifulSoup(data1.text, 'html.parser')\n",
    "        \n",
    "        lyrics_list.append(info_bs.find('pre').find('p').text.replace('\\r','').replace('\\t','').replace('\\n\\n','\\n').replace('\\n',' '))"
   ]
  },
  {
   "cell_type": "code",
   "execution_count": 4,
   "id": "e8d3d21b",
   "metadata": {},
   "outputs": [],
   "source": [
    "okt = Okt()"
   ]
  },
  {
   "cell_type": "code",
   "execution_count": 5,
   "id": "b28108f2",
   "metadata": {},
   "outputs": [
    {
     "name": "stdout",
     "output_type": "stream",
     "text": [
      "[]\n"
     ]
    },
    {
     "ename": "ValueError",
     "evalue": "We need at least 1 word to plot a word cloud, got 0.",
     "output_type": "error",
     "traceback": [
      "\u001b[1;31m---------------------------------------------------------------------------\u001b[0m",
      "\u001b[1;31mValueError\u001b[0m                                Traceback (most recent call last)",
      "Input \u001b[1;32mIn [5]\u001b[0m, in \u001b[0;36m<cell line: 1>\u001b[1;34m()\u001b[0m\n\u001b[0;32m     42\u001b[0m     path \u001b[38;5;241m=\u001b[39m \u001b[38;5;124mr\u001b[39m\u001b[38;5;124m'\u001b[39m\u001b[38;5;124m/usr/share/fonts/truetype/name/NanumMyeongjo.ttf\u001b[39m\u001b[38;5;124m'\u001b[39m\n\u001b[0;32m     44\u001b[0m wc \u001b[38;5;241m=\u001b[39m WordCloud(font_path\u001b[38;5;241m=\u001b[39mpath, background_color\u001b[38;5;241m=\u001b[39m\u001b[38;5;124m\"\u001b[39m\u001b[38;5;124mwhite\u001b[39m\u001b[38;5;124m\"\u001b[39m, max_font_size\u001b[38;5;241m=\u001b[39m\u001b[38;5;241m60\u001b[39m)\n\u001b[1;32m---> 45\u001b[0m cloud \u001b[38;5;241m=\u001b[39m \u001b[43mwc\u001b[49m\u001b[38;5;241;43m.\u001b[39;49m\u001b[43mgenerate_from_frequencies\u001b[49m\u001b[43m(\u001b[49m\u001b[38;5;28;43mdict\u001b[39;49m\u001b[43m(\u001b[49m\u001b[43mtags\u001b[49m\u001b[43m)\u001b[49m\u001b[43m)\u001b[49m\n\u001b[0;32m     46\u001b[0m \u001b[38;5;66;03m# 생성된 WordCloud를 test.jpg로 보낸다.\u001b[39;00m\n\u001b[0;32m     47\u001b[0m \u001b[38;5;66;03m#cloud.to_file('test.jpg')\u001b[39;00m\n\u001b[0;32m     48\u001b[0m plt\u001b[38;5;241m.\u001b[39mfigure(figsize\u001b[38;5;241m=\u001b[39m(\u001b[38;5;241m10\u001b[39m, \u001b[38;5;241m8\u001b[39m))\n",
      "File \u001b[1;32mC:\\ProgramData\\Anaconda3\\lib\\site-packages\\wordcloud\\wordcloud.py:410\u001b[0m, in \u001b[0;36mWordCloud.generate_from_frequencies\u001b[1;34m(self, frequencies, max_font_size)\u001b[0m\n\u001b[0;32m    408\u001b[0m frequencies \u001b[38;5;241m=\u001b[39m \u001b[38;5;28msorted\u001b[39m(frequencies\u001b[38;5;241m.\u001b[39mitems(), key\u001b[38;5;241m=\u001b[39mitemgetter(\u001b[38;5;241m1\u001b[39m), reverse\u001b[38;5;241m=\u001b[39m\u001b[38;5;28;01mTrue\u001b[39;00m)\n\u001b[0;32m    409\u001b[0m \u001b[38;5;28;01mif\u001b[39;00m \u001b[38;5;28mlen\u001b[39m(frequencies) \u001b[38;5;241m<\u001b[39m\u001b[38;5;241m=\u001b[39m \u001b[38;5;241m0\u001b[39m:\n\u001b[1;32m--> 410\u001b[0m     \u001b[38;5;28;01mraise\u001b[39;00m \u001b[38;5;167;01mValueError\u001b[39;00m(\u001b[38;5;124m\"\u001b[39m\u001b[38;5;124mWe need at least 1 word to plot a word cloud, \u001b[39m\u001b[38;5;124m\"\u001b[39m\n\u001b[0;32m    411\u001b[0m                      \u001b[38;5;124m\"\u001b[39m\u001b[38;5;124mgot \u001b[39m\u001b[38;5;132;01m%d\u001b[39;00m\u001b[38;5;124m.\u001b[39m\u001b[38;5;124m\"\u001b[39m \u001b[38;5;241m%\u001b[39m \u001b[38;5;28mlen\u001b[39m(frequencies))\n\u001b[0;32m    412\u001b[0m frequencies \u001b[38;5;241m=\u001b[39m frequencies[:\u001b[38;5;28mself\u001b[39m\u001b[38;5;241m.\u001b[39mmax_words]\n\u001b[0;32m    414\u001b[0m \u001b[38;5;66;03m# largest entry will be 1\u001b[39;00m\n",
      "\u001b[1;31mValueError\u001b[0m: We need at least 1 word to plot a word cloud, got 0."
     ]
    }
   ],
   "source": [
    "for i in range(0,10):\n",
    "    noun_adj_list = []\n",
    "    lyrics_str = str(lyrics_list[0+(i*50):50+(i*50)])\n",
    "    lyrics_list1 = lyrics_list[0+(i*50):50+(i*50)]\n",
    "    \n",
    "    senTag = []\n",
    "    result = []\n",
    "    ENG_list = []\n",
    "    allresult = result + ENG_list\n",
    "    for gasa in lyrics_list1:  # 50곡의 가사를 처음부터 한곡씩 꺼내어서 작업한다.\n",
    "        \n",
    "        sentences_tag = okt.pos(gasa) \n",
    "        is_noun = lambda pos : pos[:2] == 'NN'\n",
    "        tokenize = nltk.word_tokenize(gasa)\n",
    "        ENG_list.append(word for (word, pos) in nltk.pos_tag(tokenize) if is_noun(pos))\n",
    "        for word, tag in sentences_tag:\n",
    "            if tag in ['Noun']:\n",
    "                if len(word) > 1:\n",
    "                    result.append(word)\n",
    "        # 특수문자 제거\n",
    "#         special_chr = [\"‘\", \"’\", \"!\",  \",\", \".\", \"(\", \")\", \"?\", \"&\", \"'\", \"\\”\", \"\\\"\", \"~\"]\n",
    "#         for char in special_chr:\n",
    "#             gasa = gasa.replace( char, \" \" )\n",
    "\n",
    "#         # 공백을 기준으로 문자열 나누기\n",
    "#         get_rid_lst=['나', '너', '내','네', '난','넌', '날', '널', '넌', '젠','있다', '없다','하다']\n",
    "#         temp = gasa.split( \" \" )    # 공백으로 나누기\n",
    "#         for _str in temp:   # 반복문을 이용하여서 단어 하나씩 꺼내어 본다.\n",
    "#             if _str != \"\":  # 공백(\"\")이 아닐 경우에만 해당 조건문을 수행한다.\n",
    "#                 if len(_str) > 1 and _str not in get_rid_lst:\n",
    "#                     result.append( _str )    \n",
    "        \n",
    "        \n",
    "    counts = Counter(allresult)\n",
    "    tags = counts.most_common(35)\n",
    "    print(tags)\n",
    "    if platform.system() == 'Windows':\n",
    "        path = r'c:\\Windows\\Fonts\\malgun.ttf'\n",
    "    elif platform.system() == 'Darwin': # Mac OS\n",
    "        path = r'/System/Library/Fonts/AppleGothic'\n",
    "    else:\n",
    "        path = r'/usr/share/fonts/truetype/name/NanumMyeongjo.ttf'\n",
    "    \n",
    "    wc = WordCloud(font_path=path, background_color=\"white\", max_font_size=60)\n",
    "    cloud = wc.generate_from_frequencies(dict(tags))\n",
    "    # 생성된 WordCloud를 test.jpg로 보낸다.\n",
    "    #cloud.to_file('test.jpg')\n",
    "    plt.figure(figsize=(10, 8))\n",
    "    plt.title(f'{2000+i}년도 노래 가사 빈도수 35개', fontsize = 30)\n",
    "    plt.axis('off')\n",
    "    plt.imshow(cloud)\n",
    "    plt.show()"
   ]
  },
  {
   "cell_type": "code",
   "execution_count": null,
   "id": "5cbcf7f5",
   "metadata": {},
   "outputs": [],
   "source": []
  }
 ],
 "metadata": {
  "kernelspec": {
   "display_name": "Python 3 (ipykernel)",
   "language": "python",
   "name": "python3"
  },
  "language_info": {
   "codemirror_mode": {
    "name": "ipython",
    "version": 3
   },
   "file_extension": ".py",
   "mimetype": "text/x-python",
   "name": "python",
   "nbconvert_exporter": "python",
   "pygments_lexer": "ipython3",
   "version": "3.9.12"
  }
 },
 "nbformat": 4,
 "nbformat_minor": 5
}
