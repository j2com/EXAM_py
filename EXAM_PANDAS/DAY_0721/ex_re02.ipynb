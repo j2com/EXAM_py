{
 "cells": [
  {
   "cell_type": "markdown",
   "id": "8344b0e4",
   "metadata": {},
   "source": [
    "# 정규 표현식과 BeautifulSoup #1\n",
    "    § BeautifulSoup의 문자열을 받는 함수들\n",
    "        • 정규 표현식을 매개 변수로 받을 수 있음\n",
    "    § 제품 이미지 검색:\n",
    "        • <img src=“...”> 태그의 속성[‘src’] 사용"
   ]
  },
  {
   "cell_type": "code",
   "execution_count": 1,
   "id": "b6c53ca8",
   "metadata": {},
   "outputs": [],
   "source": [
    "from urllib.request import urlopen\n",
    "from bs4 import BeautifulSoup\n",
    "import re"
   ]
  },
  {
   "cell_type": "code",
   "execution_count": 3,
   "id": "2ebcc4c1",
   "metadata": {},
   "outputs": [],
   "source": [
    "html = urlopen('http://www.pythonscraping.com/pages/page3.html')\n",
    "bs = BeautifulSoup(html, 'html.parser')"
   ]
  },
  {
   "cell_type": "code",
   "execution_count": 5,
   "id": "5eaca166",
   "metadata": {},
   "outputs": [
    {
     "name": "stdout",
     "output_type": "stream",
     "text": [
      "<img src=\"../img/gifts/img1.jpg\"/>, ../img/gifts/img1.jpg\n",
      "<img src=\"../img/gifts/img2.jpg\"/>, ../img/gifts/img2.jpg\n",
      "<img src=\"../img/gifts/img3.jpg\"/>, ../img/gifts/img3.jpg\n",
      "<img src=\"../img/gifts/img4.jpg\"/>, ../img/gifts/img4.jpg\n",
      "<img src=\"../img/gifts/img6.jpg\"/>, ../img/gifts/img6.jpg\n"
     ]
    }
   ],
   "source": [
    "#img_tag = re.compile('\\.\\.\\/img\\/gifts/img.*\\.jpg')\n",
    "img_tag = re.compile('/img/gifts/img.*.jpg') # ‘.*’ 임의의 한 문자 0회 이상\n",
    "images = bs.find_all('img', {'src': img_tag})\n",
    "for image in images:\n",
    "    print(image, end=', ')\n",
    "    print(image['src'])"
   ]
  },
  {
   "cell_type": "code",
   "execution_count": 6,
   "id": "2892223e",
   "metadata": {},
   "outputs": [
    {
     "data": {
      "text/plain": [
       "[<img src=\"../img/gifts/img1.jpg\"/>,\n",
       " <img src=\"../img/gifts/img2.jpg\"/>,\n",
       " <img src=\"../img/gifts/img3.jpg\"/>,\n",
       " <img src=\"../img/gifts/img4.jpg\"/>,\n",
       " <img src=\"../img/gifts/img6.jpg\"/>]"
      ]
     },
     "execution_count": 6,
     "metadata": {},
     "output_type": "execute_result"
    }
   ],
   "source": [
    "images"
   ]
  },
  {
   "cell_type": "markdown",
   "id": "66bb39bc",
   "metadata": {},
   "source": [
    "# 정규 표현식과 BeautifulSoup #2\n",
    "    § 대소문자 구분없이 특정 단어 검색\n",
    "        • ‘[T|t]{1}he prince’\n",
    "            – T 또는 t가 1회"
   ]
  },
  {
   "cell_type": "code",
   "execution_count": 7,
   "id": "de9eece8",
   "metadata": {},
   "outputs": [
    {
     "name": "stdout",
     "output_type": "stream",
     "text": [
      "the prince count:  7\n",
      "T|the prince count: 11\n"
     ]
    }
   ],
   "source": [
    "html = urlopen('http://www.pythonscraping.com/pages/warandpeace.html')\n",
    "bs = BeautifulSoup(html, 'html.parser')\n",
    "princeList = bs.find_all(text='the prince')\n",
    "print('the prince count: ', len(princeList))\n",
    "# find_all()에 정규식 사용\n",
    "prince_list = bs.find_all(text=re.compile('[T|t]{1}he prince'))\n",
    "print('T|the prince count:', len(prince_list))"
   ]
  },
  {
   "cell_type": "markdown",
   "id": "25111049",
   "metadata": {},
   "source": [
    "# Tag 속성에 접근하기 #1\n",
    "    § Tag 속성 사용\n",
    "        • <img> 태그:\n",
    "        – src 속성에 이미지 정보를 가지고 있음\n",
    "        • <img> 태그의 src 속성값 가져오기\n",
    "        - attrs['src']"
   ]
  },
  {
   "cell_type": "code",
   "execution_count": 10,
   "id": "d7965545",
   "metadata": {},
   "outputs": [
    {
     "name": "stdout",
     "output_type": "stream",
     "text": [
      "<img src=\"../img/gifts/img1.jpg\"/>\n",
      "{'src': '../img/gifts/img1.jpg'}\n",
      "../img/gifts/img1.jpg\n"
     ]
    }
   ],
   "source": [
    "soup = BeautifulSoup('<img src=../img/gifts/img1.jpg>', 'html.parser')\n",
    "img_tag = soup.img\n",
    "\n",
    "print(img_tag)\n",
    "print(img_tag.attrs) # dictionary 형태로 저장\n",
    "print(img_tag.attrs['src']) # [] = 속성값"
   ]
  },
  {
   "cell_type": "markdown",
   "id": "2a514735",
   "metadata": {},
   "source": [
    "# 태그 속성에 접근하기 #2\n",
    "\n",
    "    § URL 정보 가져오기\n",
    "        • <a> 태그: href 속성에 URL 정보를 가짐\n",
    "        • <a>태그의 href 속성값 가져오기\n",
    "            – <a>태그 선택(직접 선택, find, find_all() 등)\n",
    "            – attrs[‘href’]"
   ]
  },
  {
   "cell_type": "code",
   "execution_count": 12,
   "id": "7b16149a",
   "metadata": {},
   "outputs": [
    {
     "name": "stdout",
     "output_type": "stream",
     "text": [
      "<a href=\"https://www.naver.com\">Naver</a>\n",
      "https://www.naver.com\n",
      "find: <a href=\"https://www.naver.com\">Naver</a>\n",
      "https://www.naver.com\n"
     ]
    }
   ],
   "source": [
    "html = '<a href=\"https://www.naver.com\">Naver</a>'\n",
    "soup = BeautifulSoup(html, 'html.parser')\n",
    "\n",
    "link = soup.a # <a>태그 지정\n",
    "print(link)\n",
    "print(link.attrs['href']) # <a> 태그의 href 속성 접근\n",
    "\n",
    "link1 = soup.find('a')\n",
    "print('find:', link1)\n",
    "print(link1.attrs['href'])"
   ]
  },
  {
   "cell_type": "code",
   "execution_count": null,
   "id": "f53fa299",
   "metadata": {},
   "outputs": [],
   "source": []
  }
 ],
 "metadata": {
  "kernelspec": {
   "display_name": "Python 3 (ipykernel)",
   "language": "python",
   "name": "python3"
  },
  "language_info": {
   "codemirror_mode": {
    "name": "ipython",
    "version": 3
   },
   "file_extension": ".py",
   "mimetype": "text/x-python",
   "name": "python",
   "nbconvert_exporter": "python",
   "pygments_lexer": "ipython3",
   "version": "3.9.12"
  }
 },
 "nbformat": 4,
 "nbformat_minor": 5
}
