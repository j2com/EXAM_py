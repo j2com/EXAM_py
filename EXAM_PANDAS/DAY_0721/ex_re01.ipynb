{
 "cells": [
  {
   "cell_type": "code",
   "execution_count": 1,
   "id": "b472e99d",
   "metadata": {},
   "outputs": [
    {
     "name": "stdout",
     "output_type": "stream",
     "text": [
      "None\n",
      "<re.Match object; span=(7, 12), match='apple'>\n"
     ]
    }
   ],
   "source": [
    "import re\n",
    "\n",
    "# compile() 사용안함\n",
    "m = re.match('[a-z]+', 'Python')\n",
    "print(m)\n",
    "print(re.search('apple', 'I like apple!'))"
   ]
  },
  {
   "cell_type": "code",
   "execution_count": 4,
   "id": "ef549939",
   "metadata": {},
   "outputs": [
    {
     "name": "stdout",
     "output_type": "stream",
     "text": [
      "<re.Match object; span=(2, 6), match='like'>\n",
      "like\n"
     ]
    }
   ],
   "source": [
    "# compile() 사용\n",
    "p = re.compile('[a-z]+') # 알파벳 소문자\n",
    "m = p.match('python')\n",
    "print(p.search('I like apple 123'))\n",
    "print(p.search('I like apple 123').group(0))"
   ]
  },
  {
   "cell_type": "markdown",
   "id": "87dd9f8c",
   "metadata": {},
   "source": [
    "# findall() 함수\n",
    "• 일치하는 모든 문자열을 리스트로 리턴"
   ]
  },
  {
   "cell_type": "code",
   "execution_count": 5,
   "id": "29b5c94d",
   "metadata": {},
   "outputs": [
    {
     "name": "stdout",
     "output_type": "stream",
     "text": [
      "['life', 'is', 'too', 'short']\n"
     ]
    }
   ],
   "source": [
    "p = re.compile('[a-z]+') # 알파벳 소문자\n",
    "\n",
    "print(p.findall('life is too short'))"
   ]
  },
  {
   "cell_type": "markdown",
   "id": "057e3a17",
   "metadata": {},
   "source": [
    "# search() 함수\n",
    "• 일치하는 첫 번째 문자열만 리턴"
   ]
  },
  {
   "cell_type": "code",
   "execution_count": 6,
   "id": "54b8da1c",
   "metadata": {},
   "outputs": [
    {
     "name": "stdout",
     "output_type": "stream",
     "text": [
      "<re.Match object; span=(2, 6), match='like'>\n",
      "['like', 'apple']\n"
     ]
    }
   ],
   "source": [
    "result = p.search('I like apple 123')\n",
    "print(result)\n",
    "\n",
    "result = p.findall('I like apple 123')\n",
    "print(result)"
   ]
  },
  {
   "cell_type": "markdown",
   "id": "d8fcfd94",
   "metadata": {},
   "source": [
    "# 전화 번호 분석\n",
    "• 전화번호: ‘지역번호-국번-전화번호’\n",
    "– 전화번호: (2, 3자리)-(3, 4자리)-(4자리)\n",
    "– 예: 02-123-4567, 053-123-1234"
   ]
  },
  {
   "cell_type": "code",
   "execution_count": 7,
   "id": "b902b846",
   "metadata": {},
   "outputs": [
    {
     "name": "stdout",
     "output_type": "stream",
     "text": [
      "<re.Match object; span=(0, 11), match='02-123-4567'>\n",
      "None\n",
      "None\n"
     ]
    }
   ],
   "source": [
    "# ^ .. $ 을 명시해야 정확한 자리수 검사가 이루어짐\n",
    "tel_checker = re.compile(\"^(\\d{2,3})-(\\d{3,4})-(\\d{4})$\")\n",
    "print(tel_checker.match('02-123-4567'))\n",
    "print(tel_checker.match('053-950-45678'))\n",
    "print(tel_checker.match('053950-4567'))"
   ]
  },
  {
   "cell_type": "markdown",
   "id": "9438dfee",
   "metadata": {},
   "source": [
    "# groups(): 매칭 결과를 튜플로 출력"
   ]
  },
  {
   "cell_type": "code",
   "execution_count": 8,
   "id": "f50f4400",
   "metadata": {},
   "outputs": [
    {
     "name": "stdout",
     "output_type": "stream",
     "text": [
      "('02', '123', '4567')\n"
     ]
    }
   ],
   "source": [
    "m = tel_checker.match('02-123-4567')\n",
    "print(m.groups())"
   ]
  },
  {
   "cell_type": "markdown",
   "id": "b3f24d67",
   "metadata": {},
   "source": [
    "# 전화 번호 분석\n",
    "    • group()\n",
    "        – 매칭된 전체 문자열 반환\n",
    "    • group(index)\n",
    "        – 해당 인덱스에 매칭된 문자열 반환\n",
    "        – index=0: 전체 리턴"
   ]
  },
  {
   "cell_type": "code",
   "execution_count": 16,
   "id": "f726a9c7",
   "metadata": {},
   "outputs": [
    {
     "name": "stdout",
     "output_type": "stream",
     "text": [
      "group(): 02-123-4567\n",
      "group(1): 02\n",
      "group(2,3) ('123', '4567')\n",
      "start(): 0\n",
      "end(): 11\n"
     ]
    }
   ],
   "source": [
    "m = tel_checker.match('02-123-4567') # groups()(튜플형태리턴) = group(0) 동일\n",
    "print('group():', m.group())\n",
    "print('group(1):', m.group(1))\n",
    "print('group(2,3)', m.group(2,3))\n",
    "print('start():', m.start()) # 매칭된 전체 문자열의 시작 인덱스\n",
    "print('end():', m.end()) # 마지막 인덱스 + 1"
   ]
  },
  {
   "cell_type": "markdown",
   "id": "b8b21f6a",
   "metadata": {},
   "source": [
    "# 전방 탐색(lookahead)\n",
    "    § 전방 긍정 탐색\n",
    "        • 패턴과 일치하는 문자열을 만나면 패턴 앞의 문자열 반환\n",
    "        • (?=패턴)\n",
    "    § 전방 부정 탐색\n",
    "        • 패턴과 일치하지 않는 문자열을 만나면 해당 문자열 반환\n",
    "        • (?!패턴)"
   ]
  },
  {
   "cell_type": "code",
   "execution_count": 17,
   "id": "2b035ea1",
   "metadata": {},
   "outputs": [
    {
     "name": "stdout",
     "output_type": "stream",
     "text": [
      "<re.Match object; span=(0, 5), match='1000 '>\n",
      "<re.Match object; span=(0, 24), match='2022-07-01 00:00:01 ABC.'>\n",
      "<re.Match object; span=(9, 13), match='5678'>\n"
     ]
    }
   ],
   "source": [
    "# 전방 긍정 탐색\n",
    "lookahead1 = re.search('.+(?=won)', '1000 won')\n",
    "print(lookahead1)\n",
    "lookahead2 = re.search('.+(?=log:)', '2022-07-01 00:00:01 ABC.log: 전방탐색')\n",
    "print(lookahead2)\n",
    "# 전방 부정 탐색\n",
    "lookahead3 = re.search('\\d{4}(?!-)', '010-1234-5678')\n",
    "print(lookahead3)"
   ]
  },
  {
   "cell_type": "code",
   "execution_count": null,
   "id": "aa2dc12e",
   "metadata": {},
   "outputs": [],
   "source": []
  }
 ],
 "metadata": {
  "kernelspec": {
   "display_name": "Python 3 (ipykernel)",
   "language": "python",
   "name": "python3"
  },
  "language_info": {
   "codemirror_mode": {
    "name": "ipython",
    "version": 3
   },
   "file_extension": ".py",
   "mimetype": "text/x-python",
   "name": "python",
   "nbconvert_exporter": "python",
   "pygments_lexer": "ipython3",
   "version": "3.9.12"
  }
 },
 "nbformat": 4,
 "nbformat_minor": 5
}
