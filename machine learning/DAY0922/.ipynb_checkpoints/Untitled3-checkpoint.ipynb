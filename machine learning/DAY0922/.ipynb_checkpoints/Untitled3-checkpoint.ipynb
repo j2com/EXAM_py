{
 "cells": [
  {
   "cell_type": "markdown",
   "id": "1e059cd6",
   "metadata": {},
   "source": [
    "# 비원형 데이터워 군집화 - DBSCAN\n",
    "---\n",
    "- 분할적 군집화 방식\n",
    "- 밀도(데이터의 밀집)기반 군진화 ==> 미리 군집수 지정 필요 없음\n",
    "- 다양한 형태의 데이터에서 군집화 가능\n",
    "- 이상치 데이터 제거도 가능함"
   ]
  },
  {
   "cell_type": "code",
   "execution_count": 1,
   "id": "96f4e49b",
   "metadata": {},
   "outputs": [],
   "source": [
    "from sklearn.datasets import load_iris\n",
    "import numpy as np\n",
    "import matplotlib.pyplot as plt\n",
    "import pandas as pd"
   ]
  },
  {
   "cell_type": "code",
   "execution_count": null,
   "id": "733b4271",
   "metadata": {},
   "outputs": [],
   "source": []
  }
 ],
 "metadata": {
  "kernelspec": {
   "display_name": "Python 3 (ipykernel)",
   "language": "python",
   "name": "python3"
  },
  "language_info": {
   "codemirror_mode": {
    "name": "ipython",
    "version": 3
   },
   "file_extension": ".py",
   "mimetype": "text/x-python",
   "name": "python",
   "nbconvert_exporter": "python",
   "pygments_lexer": "ipython3",
   "version": "3.9.12"
  }
 },
 "nbformat": 4,
 "nbformat_minor": 5
}
