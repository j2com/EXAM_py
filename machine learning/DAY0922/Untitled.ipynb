{
 "cells": [
  {
   "cell_type": "code",
   "execution_count": 1,
   "id": "fc38f8c6",
   "metadata": {},
   "outputs": [],
   "source": [
    "# konlpy를 사용하려면 자바를 설치하고 본인 경로에 맞게 아래와 같이 설정을 해줘야한다.\n",
    "# echo 'export JAVA_HOME=$(/usr/libexec/java_home)' >> .zshrc / 또는 .bashrc\n",
    "from konlpy.tag import Okt\n",
    "okt=Okt()"
   ]
  },
  {
   "cell_type": "code",
   "execution_count": 2,
   "id": "72c32284",
   "metadata": {},
   "outputs": [],
   "source": [
    "text=[\n",
    "'문자 인코딩, 줄여서 인코딩은 사용자가 입력한 문자나 기호들을 컴퓨터가 이용할 수 있는 신호로 만드는 것을 말한다.',\n",
    "'넓은 의미의 컴퓨터는 이러한 신호를 입력받고 처리하는 기계를 뜻하며, 신호 처리 시스템을 통해 이렇게 처리된 정보를 사용자가 이해할 수 있게 된다.', \n",
    "'이 신호를 입력하는 인코딩과 문자를 해독하는 디코딩하기 위해선 미리 정해진 기준을 바탕으로 입력과 해독이 처리되어야 하는데, 이를 문자열 세트 또는 문자셋이라고 한다.', \n",
    "'초기 보급형 컴퓨터의 문자열 세트는 아스키나 EBCDIC이 표준이었으나, 이러한 문자열 세트는 세계 곳곳에 인터넷이 보급되며 표현해야 할 문자가 증가하면서 이러한 문자셋들을 표준화하기 위해 많은 대체 방식이 개발되었다.',\n",
    "'표준 문자셋을 개발하는 것에 대한 논의가 이어졌고, 후에는 유니코드가 등장하게 되었다.'\n",
    "]"
   ]
  },
  {
   "cell_type": "code",
   "execution_count": 13,
   "id": "af548b92",
   "metadata": {},
   "outputs": [
    {
     "name": "stdout",
     "output_type": "stream",
     "text": [
      "[('문자', 4), ('입력', 4), ('신호', 4), ('처리', 4), ('인코딩', 3), ('컴퓨터', 3), ('문자열', 3), ('세트', 3), ('문자셋', 3), ('사용자', 2), ('해독', 2), ('위해', 2), ('보급', 2), ('표준', 2), ('개발', 2), ('기호', 1), ('이용', 1), ('말', 1), ('의미', 1), ('기계', 1), ('뜻', 1), ('시스템', 1), ('통해', 1), ('정보', 1), ('이해', 1), ('디코딩', 1), ('선', 1), ('미리', 1), ('정해진', 1), ('기준', 1), ('바탕', 1), ('초기', 1), ('아스키', 1), ('세계', 1), ('곳곳', 1), ('인터넷', 1), ('표현', 1), ('증가', 1), ('표준화', 1), ('대체', 1), ('방식', 1), ('대한', 1), ('논의', 1), ('유니코드', 1), ('등장', 1)]\n"
     ]
    }
   ],
   "source": [
    "from collections import Counter\n",
    "# 불용어\n",
    "stop_words=['것','수','이','줄','후']\n",
    "results=[]\n",
    "# 정제된 코퍼스\n",
    "result=[]\n",
    "for line in text:\n",
    "    tmp=[]\n",
    "    # 명사 추출\n",
    "    word_list=okt.nouns(line)\n",
    "    # 각 단어 불용어 처리 후 저장\n",
    "    for word in word_list:\n",
    "        if word not in stop_words:\n",
    "            tmp.append(word)\n",
    "            result.append(word)\n",
    "    results.append(tmp)    \n",
    "# BoW 화\n",
    "cnt=Counter(result)\n",
    "\n",
    "# 빈도수 기준 내림차순 정렬 / Counter 사용시 이미 내림차순 정렬됨.\n",
    "vocab_sorted=sorted(cnt.items(), key = lambda x:x[1], reverse = True)\n",
    "print(vocab_sorted)"
   ]
  },
  {
   "cell_type": "code",
   "execution_count": 4,
   "id": "c1310aae",
   "metadata": {},
   "outputs": [
    {
     "data": {
      "text/plain": [
       "['표준', '문자셋', '개발', '대한', '논의', '유니코드', '등장']"
      ]
     },
     "execution_count": 4,
     "metadata": {},
     "output_type": "execute_result"
    }
   ],
   "source": [
    "tmp"
   ]
  },
  {
   "cell_type": "code",
   "execution_count": 14,
   "id": "6a0a22c0",
   "metadata": {},
   "outputs": [
    {
     "data": {
      "text/plain": [
       "[['문자', '인코딩', '인코딩', '사용자', '입력', '문자', '기호', '컴퓨터', '이용', '신호', '말'],\n",
       " ['의미',\n",
       "  '컴퓨터',\n",
       "  '신호',\n",
       "  '입력',\n",
       "  '처리',\n",
       "  '기계',\n",
       "  '뜻',\n",
       "  '신호',\n",
       "  '처리',\n",
       "  '시스템',\n",
       "  '통해',\n",
       "  '처리',\n",
       "  '정보',\n",
       "  '사용자',\n",
       "  '이해'],\n",
       " ['신호',\n",
       "  '입력',\n",
       "  '인코딩',\n",
       "  '문자',\n",
       "  '해독',\n",
       "  '디코딩',\n",
       "  '위해',\n",
       "  '선',\n",
       "  '미리',\n",
       "  '정해진',\n",
       "  '기준',\n",
       "  '바탕',\n",
       "  '입력',\n",
       "  '해독',\n",
       "  '처리',\n",
       "  '문자열',\n",
       "  '세트',\n",
       "  '문자셋'],\n",
       " ['초기',\n",
       "  '보급',\n",
       "  '컴퓨터',\n",
       "  '문자열',\n",
       "  '세트',\n",
       "  '아스키',\n",
       "  '표준',\n",
       "  '문자열',\n",
       "  '세트',\n",
       "  '세계',\n",
       "  '곳곳',\n",
       "  '인터넷',\n",
       "  '보급',\n",
       "  '표현',\n",
       "  '문자',\n",
       "  '증가',\n",
       "  '문자셋',\n",
       "  '표준화',\n",
       "  '위해',\n",
       "  '대체',\n",
       "  '방식',\n",
       "  '개발'],\n",
       " ['표준', '문자셋', '개발', '대한', '논의', '유니코드', '등장']]"
      ]
     },
     "execution_count": 14,
     "metadata": {},
     "output_type": "execute_result"
    }
   ],
   "source": [
    "results"
   ]
  },
  {
   "cell_type": "code",
   "execution_count": 8,
   "id": "c4a5089f",
   "metadata": {},
   "outputs": [
    {
     "name": "stdout",
     "output_type": "stream",
     "text": [
      "문자 인코딩, 줄여서 인코딩은 사용자가 입력한 문자나 기호들을 컴퓨터가 이용할 수 있는 신호로 만드는 것을 말한다.\n",
      "----------------\n",
      "넓은 의미의 컴퓨터는 이러한 신호를 입력받고 처리하는 기계를 뜻하며, 신호 처리 시스템을 통해 이렇게 처리된 정보를 사용자가 이해할 수 있게 된다.\n",
      "----------------\n",
      "이 신호를 입력하는 인코딩과 문자를 해독하는 디코딩하기 위해선 미리 정해진 기준을 바탕으로 입력과 해독이 처리되어야 하는데, 이를 문자열 세트 또는 문자셋이라고 한다.\n",
      "----------------\n",
      "초기 보급형 컴퓨터의 문자열 세트는 아스키나 EBCDIC이 표준이었으나, 이러한 문자열 세트는 세계 곳곳에 인터넷이 보급되며 표현해야 할 문자가 증가하면서 이러한 문자셋들을 표준화하기 위해 많은 대체 방식이 개발되었다.\n",
      "----------------\n",
      "표준 문자셋을 개발하는 것에 대한 논의가 이어졌고, 후에는 유니코드가 등장하게 되었다.\n",
      "----------------\n"
     ]
    }
   ],
   "source": [
    "for line in text:\n",
    "    print(line)\n",
    "    print('----------------')"
   ]
  },
  {
   "cell_type": "code",
   "execution_count": 9,
   "id": "402c09bd",
   "metadata": {},
   "outputs": [],
   "source": [
    "result=[]\n",
    "for line in text:\n",
    "    tmp=[]\n",
    "    # 명사 추출\n",
    "    word_list=okt.nouns(line)\n",
    "    # 각 단어 불용어 처리 후 저장\n",
    "    for word in word_list:\n",
    "        if word not in stop_words:\n",
    "            tmp.append(word)\n",
    "            result.append(word)"
   ]
  },
  {
   "cell_type": "code",
   "execution_count": 10,
   "id": "f480d41b",
   "metadata": {},
   "outputs": [
    {
     "data": {
      "text/plain": [
       "['표준', '문자셋', '개발', '대한', '논의', '유니코드', '등장']"
      ]
     },
     "execution_count": 10,
     "metadata": {},
     "output_type": "execute_result"
    }
   ],
   "source": [
    "tmp"
   ]
  },
  {
   "cell_type": "code",
   "execution_count": 11,
   "id": "3e1c5161",
   "metadata": {},
   "outputs": [
    {
     "data": {
      "text/plain": [
       "['문자',\n",
       " '인코딩',\n",
       " '인코딩',\n",
       " '사용자',\n",
       " '입력',\n",
       " '문자',\n",
       " '기호',\n",
       " '컴퓨터',\n",
       " '이용',\n",
       " '신호',\n",
       " '말',\n",
       " '의미',\n",
       " '컴퓨터',\n",
       " '신호',\n",
       " '입력',\n",
       " '처리',\n",
       " '기계',\n",
       " '뜻',\n",
       " '신호',\n",
       " '처리',\n",
       " '시스템',\n",
       " '통해',\n",
       " '처리',\n",
       " '정보',\n",
       " '사용자',\n",
       " '이해',\n",
       " '신호',\n",
       " '입력',\n",
       " '인코딩',\n",
       " '문자',\n",
       " '해독',\n",
       " '디코딩',\n",
       " '위해',\n",
       " '선',\n",
       " '미리',\n",
       " '정해진',\n",
       " '기준',\n",
       " '바탕',\n",
       " '입력',\n",
       " '해독',\n",
       " '처리',\n",
       " '문자열',\n",
       " '세트',\n",
       " '문자셋',\n",
       " '초기',\n",
       " '보급',\n",
       " '컴퓨터',\n",
       " '문자열',\n",
       " '세트',\n",
       " '아스키',\n",
       " '표준',\n",
       " '문자열',\n",
       " '세트',\n",
       " '세계',\n",
       " '곳곳',\n",
       " '인터넷',\n",
       " '보급',\n",
       " '표현',\n",
       " '문자',\n",
       " '증가',\n",
       " '문자셋',\n",
       " '표준화',\n",
       " '위해',\n",
       " '대체',\n",
       " '방식',\n",
       " '개발',\n",
       " '표준',\n",
       " '문자셋',\n",
       " '개발',\n",
       " '대한',\n",
       " '논의',\n",
       " '유니코드',\n",
       " '등장']"
      ]
     },
     "execution_count": 11,
     "metadata": {},
     "output_type": "execute_result"
    }
   ],
   "source": [
    "result"
   ]
  },
  {
   "cell_type": "code",
   "execution_count": null,
   "id": "a7c23561",
   "metadata": {},
   "outputs": [],
   "source": []
  }
 ],
 "metadata": {
  "kernelspec": {
   "display_name": "Python 3 (ipykernel)",
   "language": "python",
   "name": "python3"
  },
  "language_info": {
   "codemirror_mode": {
    "name": "ipython",
    "version": 3
   },
   "file_extension": ".py",
   "mimetype": "text/x-python",
   "name": "python",
   "nbconvert_exporter": "python",
   "pygments_lexer": "ipython3",
   "version": "3.9.12"
  }
 },
 "nbformat": 4,
 "nbformat_minor": 5
}
