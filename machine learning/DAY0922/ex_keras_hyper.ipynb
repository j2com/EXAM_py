{
 "cells": [
  {
   "cell_type": "markdown",
   "id": "aec8a714",
   "metadata": {},
   "source": [
    "## Scikeras \n",
    "---\n",
    "- Keras/Tensorflow에서 Scikit-learn을 사용하기 위한 인터페이스\n",
    "- Scikit-learn의 Pipeline, Hyperparameter 튜닝 기능 사용에 좋음\n",
    "- 설치\n",
    "    * !pip install scikeras"
   ]
  },
  {
   "cell_type": "markdown",
   "id": "ab186bfe",
   "metadata": {},
   "source": [
    "###  모듈 로딩"
   ]
  },
  {
   "cell_type": "code",
   "execution_count": 203,
   "id": "e55ce08c",
   "metadata": {},
   "outputs": [],
   "source": [
    "from scikeras.wrappers import KerasRegressor, KerasClassifier\n",
    "from tensorflow.keras import Sequential\n",
    "from tensorflow.keras.layers import Dense, InputLayer\n",
    "from tensorflow.keras.optimizers import SGD\n",
    "from tensorflow.keras.utils import set_random_seed\n",
    "from tensorflow.keras.backend import clear_session\n",
    "import numpy as np"
   ]
  },
  {
   "cell_type": "code",
   "execution_count": 204,
   "id": "af31187f",
   "metadata": {},
   "outputs": [],
   "source": [
    "## 동일 결과 출력 시드 설정"
   ]
  },
  {
   "cell_type": "code",
   "execution_count": 205,
   "id": "477f4330",
   "metadata": {},
   "outputs": [],
   "source": [
    "clear_session()\n",
    "np.random.seed(42)\n",
    "set_random_seed(42)"
   ]
  },
  {
   "cell_type": "markdown",
   "id": "ecca14d3",
   "metadata": {},
   "source": [
    "### [1] 데이터 로딩 및 준비"
   ]
  },
  {
   "cell_type": "code",
   "execution_count": 206,
   "id": "1cf94645",
   "metadata": {},
   "outputs": [],
   "source": [
    "from sklearn.datasets import load_iris"
   ]
  },
  {
   "cell_type": "code",
   "execution_count": 207,
   "id": "887ea47c",
   "metadata": {},
   "outputs": [],
   "source": [
    "data=load_iris()"
   ]
  },
  {
   "cell_type": "code",
   "execution_count": 208,
   "id": "cccd354f",
   "metadata": {},
   "outputs": [],
   "source": [
    "x_data=data.data\n",
    "y=data.target"
   ]
  },
  {
   "cell_type": "code",
   "execution_count": 209,
   "id": "a43f0ead",
   "metadata": {},
   "outputs": [
    {
     "data": {
      "text/plain": [
       "((150, 4), (150,))"
      ]
     },
     "execution_count": 209,
     "metadata": {},
     "output_type": "execute_result"
    }
   ],
   "source": [
    "x_data.shape, y.shape"
   ]
  },
  {
   "cell_type": "markdown",
   "id": "0293dc3f",
   "metadata": {},
   "source": [
    "### [2] 모델 생성"
   ]
  },
  {
   "cell_type": "code",
   "execution_count": 210,
   "id": "0a73730d",
   "metadata": {},
   "outputs": [],
   "source": [
    "# 파라미터 => KerasClassifier 또는 KerasRegrssor의 parameter로 추가됨\n",
    "def build_model(n_hidden, neuron_1, neuron_2, neuron_3, learning_rate, input_shape=(4,)):\n",
    "    \n",
    "    model = Sequential()\n",
    "    \n",
    "    model.add(InputLayer(input_shape=input_shape))\n",
    "    \n",
    "#     for layer in range(n_hidden):\n",
    "#         model.add(Dense(n_neurons, activation=\"relu\"))\n",
    "    model.add(Dense(neuron_1, activation=\"relu\"))\n",
    "    model.add(Dense(neuron_2, activation=\"relu\"))\n",
    "    model.add(Dense(neuron_3, activation=\"relu\"))\n",
    "        \n",
    "    model.add(Dense(3, activation='softmax'))\n",
    "    \n",
    "    return model"
   ]
  },
  {
   "cell_type": "code",
   "execution_count": 212,
   "id": "a4d1ca73",
   "metadata": {},
   "outputs": [],
   "source": [
    "keras_clf = KerasClassifier(build_model, \n",
    "                            n_hidden=1, \n",
    "                            neuron_1=30, \n",
    "                            neuron_2=50, \n",
    "                            neuron_3=20, \n",
    "                            learning_rate=0.001,\n",
    "                            loss=\"sparse_categorical_crossentropy\",\n",
    "                            epochs=5)"
   ]
  },
  {
   "cell_type": "code",
   "execution_count": 213,
   "id": "007561b2",
   "metadata": {},
   "outputs": [
    {
     "name": "stdout",
     "output_type": "stream",
     "text": [
      "Epoch 1/50\n",
      "5/5 [==============================] - 1s 2ms/step - loss: 0.9956\n",
      "Epoch 2/50\n",
      "5/5 [==============================] - 0s 4ms/step - loss: 0.8918\n",
      "Epoch 3/50\n",
      "5/5 [==============================] - 0s 4ms/step - loss: 0.8252\n",
      "Epoch 4/50\n",
      "5/5 [==============================] - 0s 3ms/step - loss: 0.7645\n",
      "Epoch 5/50\n",
      "5/5 [==============================] - 0s 3ms/step - loss: 0.7214\n",
      "Epoch 6/50\n",
      "5/5 [==============================] - 0s 3ms/step - loss: 0.6589\n",
      "Epoch 7/50\n",
      "5/5 [==============================] - 0s 7ms/step - loss: 0.6125\n",
      "Epoch 8/50\n",
      "5/5 [==============================] - 0s 9ms/step - loss: 0.5601\n",
      "Epoch 9/50\n",
      "5/5 [==============================] - 0s 6ms/step - loss: 0.5133\n",
      "Epoch 10/50\n",
      "5/5 [==============================] - 0s 5ms/step - loss: 0.4878\n",
      "Epoch 11/50\n",
      "5/5 [==============================] - 0s 3ms/step - loss: 0.4404\n",
      "Epoch 12/50\n",
      "5/5 [==============================] - 0s 3ms/step - loss: 0.4218\n",
      "Epoch 13/50\n",
      "5/5 [==============================] - 0s 4ms/step - loss: 0.3854\n",
      "Epoch 14/50\n",
      "5/5 [==============================] - 0s 5ms/step - loss: 0.3422\n",
      "Epoch 15/50\n",
      "5/5 [==============================] - 0s 4ms/step - loss: 0.3062\n",
      "Epoch 16/50\n",
      "5/5 [==============================] - 0s 7ms/step - loss: 0.2814\n",
      "Epoch 17/50\n",
      "5/5 [==============================] - 0s 4ms/step - loss: 0.2731\n",
      "Epoch 18/50\n",
      "5/5 [==============================] - 0s 5ms/step - loss: 0.2483\n",
      "Epoch 19/50\n",
      "5/5 [==============================] - 0s 4ms/step - loss: 0.2241\n",
      "Epoch 20/50\n",
      "5/5 [==============================] - 0s 4ms/step - loss: 0.2073\n",
      "Epoch 21/50\n",
      "5/5 [==============================] - 0s 4ms/step - loss: 0.2007\n",
      "Epoch 22/50\n",
      "5/5 [==============================] - 0s 3ms/step - loss: 0.1959\n",
      "Epoch 23/50\n",
      "5/5 [==============================] - 0s 4ms/step - loss: 0.1713\n",
      "Epoch 24/50\n",
      "5/5 [==============================] - 0s 3ms/step - loss: 0.1673\n",
      "Epoch 25/50\n",
      "5/5 [==============================] - 0s 2ms/step - loss: 0.1531\n",
      "Epoch 26/50\n",
      "5/5 [==============================] - 0s 3ms/step - loss: 0.1609\n",
      "Epoch 27/50\n",
      "5/5 [==============================] - 0s 3ms/step - loss: 0.1410\n",
      "Epoch 28/50\n",
      "5/5 [==============================] - 0s 2ms/step - loss: 0.1336\n",
      "Epoch 29/50\n",
      "5/5 [==============================] - 0s 5ms/step - loss: 0.1372\n",
      "Epoch 30/50\n",
      "5/5 [==============================] - 0s 3ms/step - loss: 0.1367\n",
      "Epoch 31/50\n",
      "5/5 [==============================] - 0s 3ms/step - loss: 0.1187\n",
      "Epoch 32/50\n",
      "5/5 [==============================] - 0s 4ms/step - loss: 0.1148\n",
      "Epoch 33/50\n",
      "5/5 [==============================] - 0s 3ms/step - loss: 0.1123\n",
      "Epoch 34/50\n",
      "5/5 [==============================] - 0s 3ms/step - loss: 0.1407\n",
      "Epoch 35/50\n",
      "5/5 [==============================] - 0s 3ms/step - loss: 0.1209\n",
      "Epoch 36/50\n",
      "5/5 [==============================] - 0s 3ms/step - loss: 0.1061\n",
      "Epoch 37/50\n",
      "5/5 [==============================] - 0s 2ms/step - loss: 0.1071\n",
      "Epoch 38/50\n",
      "5/5 [==============================] - 0s 3ms/step - loss: 0.1048\n",
      "Epoch 39/50\n",
      "5/5 [==============================] - 0s 3ms/step - loss: 0.1017\n",
      "Epoch 40/50\n",
      "5/5 [==============================] - 0s 2ms/step - loss: 0.0955\n",
      "Epoch 41/50\n",
      "5/5 [==============================] - 0s 10ms/step - loss: 0.0996\n",
      "Epoch 42/50\n",
      "5/5 [==============================] - 0s 3ms/step - loss: 0.0932\n",
      "Epoch 43/50\n",
      "5/5 [==============================] - 0s 2ms/step - loss: 0.1052\n",
      "Epoch 44/50\n",
      "5/5 [==============================] - 0s 5ms/step - loss: 0.0893\n",
      "Epoch 45/50\n",
      "5/5 [==============================] - 0s 5ms/step - loss: 0.0953\n",
      "Epoch 46/50\n",
      "5/5 [==============================] - 0s 3ms/step - loss: 0.0903\n",
      "Epoch 47/50\n",
      "5/5 [==============================] - 0s 3ms/step - loss: 0.0831\n",
      "Epoch 48/50\n",
      "5/5 [==============================] - 0s 4ms/step - loss: 0.0830\n",
      "Epoch 49/50\n",
      "5/5 [==============================] - 0s 6ms/step - loss: 0.0938\n",
      "Epoch 50/50\n",
      "5/5 [==============================] - 0s 3ms/step - loss: 0.0803\n"
     ]
    },
    {
     "data": {
      "text/html": [
       "<style>#sk-container-id-13 {color: black;background-color: white;}#sk-container-id-13 pre{padding: 0;}#sk-container-id-13 div.sk-toggleable {background-color: white;}#sk-container-id-13 label.sk-toggleable__label {cursor: pointer;display: block;width: 100%;margin-bottom: 0;padding: 0.3em;box-sizing: border-box;text-align: center;}#sk-container-id-13 label.sk-toggleable__label-arrow:before {content: \"▸\";float: left;margin-right: 0.25em;color: #696969;}#sk-container-id-13 label.sk-toggleable__label-arrow:hover:before {color: black;}#sk-container-id-13 div.sk-estimator:hover label.sk-toggleable__label-arrow:before {color: black;}#sk-container-id-13 div.sk-toggleable__content {max-height: 0;max-width: 0;overflow: hidden;text-align: left;background-color: #f0f8ff;}#sk-container-id-13 div.sk-toggleable__content pre {margin: 0.2em;color: black;border-radius: 0.25em;background-color: #f0f8ff;}#sk-container-id-13 input.sk-toggleable__control:checked~div.sk-toggleable__content {max-height: 200px;max-width: 100%;overflow: auto;}#sk-container-id-13 input.sk-toggleable__control:checked~label.sk-toggleable__label-arrow:before {content: \"▾\";}#sk-container-id-13 div.sk-estimator input.sk-toggleable__control:checked~label.sk-toggleable__label {background-color: #d4ebff;}#sk-container-id-13 div.sk-label input.sk-toggleable__control:checked~label.sk-toggleable__label {background-color: #d4ebff;}#sk-container-id-13 input.sk-hidden--visually {border: 0;clip: rect(1px 1px 1px 1px);clip: rect(1px, 1px, 1px, 1px);height: 1px;margin: -1px;overflow: hidden;padding: 0;position: absolute;width: 1px;}#sk-container-id-13 div.sk-estimator {font-family: monospace;background-color: #f0f8ff;border: 1px dotted black;border-radius: 0.25em;box-sizing: border-box;margin-bottom: 0.5em;}#sk-container-id-13 div.sk-estimator:hover {background-color: #d4ebff;}#sk-container-id-13 div.sk-parallel-item::after {content: \"\";width: 100%;border-bottom: 1px solid gray;flex-grow: 1;}#sk-container-id-13 div.sk-label:hover label.sk-toggleable__label {background-color: #d4ebff;}#sk-container-id-13 div.sk-serial::before {content: \"\";position: absolute;border-left: 1px solid gray;box-sizing: border-box;top: 0;bottom: 0;left: 50%;z-index: 0;}#sk-container-id-13 div.sk-serial {display: flex;flex-direction: column;align-items: center;background-color: white;padding-right: 0.2em;padding-left: 0.2em;position: relative;}#sk-container-id-13 div.sk-item {position: relative;z-index: 1;}#sk-container-id-13 div.sk-parallel {display: flex;align-items: stretch;justify-content: center;background-color: white;position: relative;}#sk-container-id-13 div.sk-item::before, #sk-container-id-13 div.sk-parallel-item::before {content: \"\";position: absolute;border-left: 1px solid gray;box-sizing: border-box;top: 0;bottom: 0;left: 50%;z-index: -1;}#sk-container-id-13 div.sk-parallel-item {display: flex;flex-direction: column;z-index: 1;position: relative;background-color: white;}#sk-container-id-13 div.sk-parallel-item:first-child::after {align-self: flex-end;width: 50%;}#sk-container-id-13 div.sk-parallel-item:last-child::after {align-self: flex-start;width: 50%;}#sk-container-id-13 div.sk-parallel-item:only-child::after {width: 0;}#sk-container-id-13 div.sk-dashed-wrapped {border: 1px dashed gray;margin: 0 0.4em 0.5em 0.4em;box-sizing: border-box;padding-bottom: 0.4em;background-color: white;}#sk-container-id-13 div.sk-label label {font-family: monospace;font-weight: bold;display: inline-block;line-height: 1.2em;}#sk-container-id-13 div.sk-label-container {text-align: center;}#sk-container-id-13 div.sk-container {/* jupyter's `normalize.less` sets `[hidden] { display: none; }` but bootstrap.min.css set `[hidden] { display: none !important; }` so we also need the `!important` here to be able to override the default hidden behavior on the sphinx rendered scikit-learn.org. See: https://github.com/scikit-learn/scikit-learn/issues/21755 */display: inline-block !important;position: relative;}#sk-container-id-13 div.sk-text-repr-fallback {display: none;}</style><div id=\"sk-container-id-13\" class=\"sk-top-container\"><div class=\"sk-text-repr-fallback\"><pre>KerasClassifier(\n",
       "\tmodel=&lt;function build_model at 0x00000234D994CE50&gt;\n",
       "\tbuild_fn=None\n",
       "\twarm_start=False\n",
       "\trandom_state=None\n",
       "\toptimizer=rmsprop\n",
       "\tloss=sparse_categorical_crossentropy\n",
       "\tmetrics=None\n",
       "\tbatch_size=None\n",
       "\tvalidation_batch_size=None\n",
       "\tverbose=1\n",
       "\tcallbacks=None\n",
       "\tvalidation_split=0.0\n",
       "\tshuffle=True\n",
       "\trun_eagerly=False\n",
       "\tepochs=50\n",
       "\tn_hidden=1\n",
       "\tneuron_1=30\n",
       "\tneuron_2=50\n",
       "\tneuron_3=20\n",
       "\tlearning_rate=0.001\n",
       "\tclass_weight=None\n",
       ")</pre><b>In a Jupyter environment, please rerun this cell to show the HTML representation or trust the notebook. <br />On GitHub, the HTML representation is unable to render, please try loading this page with nbviewer.org.</b></div><div class=\"sk-container\" hidden><div class=\"sk-item\"><div class=\"sk-estimator sk-toggleable\"><input class=\"sk-toggleable__control sk-hidden--visually\" id=\"sk-estimator-id-13\" type=\"checkbox\" checked><label for=\"sk-estimator-id-13\" class=\"sk-toggleable__label sk-toggleable__label-arrow\">KerasClassifier</label><div class=\"sk-toggleable__content\"><pre>KerasClassifier(\n",
       "\tmodel=&lt;function build_model at 0x00000234D994CE50&gt;\n",
       "\tbuild_fn=None\n",
       "\twarm_start=False\n",
       "\trandom_state=None\n",
       "\toptimizer=rmsprop\n",
       "\tloss=sparse_categorical_crossentropy\n",
       "\tmetrics=None\n",
       "\tbatch_size=None\n",
       "\tvalidation_batch_size=None\n",
       "\tverbose=1\n",
       "\tcallbacks=None\n",
       "\tvalidation_split=0.0\n",
       "\tshuffle=True\n",
       "\trun_eagerly=False\n",
       "\tepochs=50\n",
       "\tn_hidden=1\n",
       "\tneuron_1=30\n",
       "\tneuron_2=50\n",
       "\tneuron_3=20\n",
       "\tlearning_rate=0.001\n",
       "\tclass_weight=None\n",
       ")</pre></div></div></div></div></div>"
      ],
      "text/plain": [
       "KerasClassifier(\n",
       "\tmodel=<function build_model at 0x00000234D994CE50>\n",
       "\tbuild_fn=None\n",
       "\twarm_start=False\n",
       "\trandom_state=None\n",
       "\toptimizer=rmsprop\n",
       "\tloss=sparse_categorical_crossentropy\n",
       "\tmetrics=None\n",
       "\tbatch_size=None\n",
       "\tvalidation_batch_size=None\n",
       "\tverbose=1\n",
       "\tcallbacks=None\n",
       "\tvalidation_split=0.0\n",
       "\tshuffle=True\n",
       "\trun_eagerly=False\n",
       "\tepochs=50\n",
       "\tn_hidden=1\n",
       "\tneuron_1=30\n",
       "\tneuron_2=50\n",
       "\tneuron_3=20\n",
       "\tlearning_rate=0.001\n",
       "\tclass_weight=None\n",
       ")"
      ]
     },
     "execution_count": 213,
     "metadata": {},
     "output_type": "execute_result"
    }
   ],
   "source": [
    "keras_clf.fit(x_data, y)"
   ]
  },
  {
   "cell_type": "code",
   "execution_count": 214,
   "id": "615e2a1b",
   "metadata": {},
   "outputs": [
    {
     "name": "stdout",
     "output_type": "stream",
     "text": [
      "5/5 [==============================] - 0s 2ms/step\n"
     ]
    }
   ],
   "source": [
    "mse_test = keras_clf.score(x_data, y)"
   ]
  },
  {
   "cell_type": "code",
   "execution_count": 215,
   "id": "7bc817d1",
   "metadata": {},
   "outputs": [
    {
     "name": "stdout",
     "output_type": "stream",
     "text": [
      "mse_test ; 0.9666666666666667\n"
     ]
    }
   ],
   "source": [
    "print(f'mse_test ; {mse_test}')"
   ]
  },
  {
   "cell_type": "code",
   "execution_count": 216,
   "id": "7211f958",
   "metadata": {},
   "outputs": [
    {
     "data": {
      "text/plain": [
       "<bound method BaseEstimator.get_params of KerasClassifier(\n",
       "\tmodel=<function build_model at 0x00000234D994CE50>\n",
       "\tbuild_fn=None\n",
       "\twarm_start=False\n",
       "\trandom_state=None\n",
       "\toptimizer=rmsprop\n",
       "\tloss=sparse_categorical_crossentropy\n",
       "\tmetrics=None\n",
       "\tbatch_size=None\n",
       "\tvalidation_batch_size=None\n",
       "\tverbose=1\n",
       "\tcallbacks=None\n",
       "\tvalidation_split=0.0\n",
       "\tshuffle=True\n",
       "\trun_eagerly=False\n",
       "\tepochs=50\n",
       "\tn_hidden=1\n",
       "\tneuron_1=30\n",
       "\tneuron_2=50\n",
       "\tneuron_3=20\n",
       "\tlearning_rate=0.001\n",
       "\tclass_weight=None\n",
       ")>"
      ]
     },
     "execution_count": 216,
     "metadata": {},
     "output_type": "execute_result"
    }
   ],
   "source": [
    "keras_clf.get_params"
   ]
  },
  {
   "cell_type": "markdown",
   "id": "bb66ccd9",
   "metadata": {},
   "source": [
    "### [3]Hyperparameter Tunning"
   ]
  },
  {
   "cell_type": "code",
   "execution_count": 217,
   "id": "5c5f7cbc",
   "metadata": {},
   "outputs": [],
   "source": [
    "from sklearn.model_selection import GridSearchCV"
   ]
  },
  {
   "cell_type": "code",
   "execution_count": 219,
   "id": "7df59b7b",
   "metadata": {},
   "outputs": [],
   "source": [
    "params = {\n",
    "    \"n_hidden\": [1,3,5,10],\n",
    "    \"neuron_1\": [10,30,60],\n",
    "    \"neuron_2\": [30, 60, 90],\n",
    "    \"neuron_3\": [10,50,70],\n",
    "    \"optimizer\": [\"adam\", \"sgd\"],\n",
    "    \"learning_rate\": [0.0001, 0.001, 0.1],\n",
    "}\n",
    "gs = GridSearchCV(keras_clf, params, \n",
    "                  refit=False, cv=3, \n",
    "                  scoring='accuracy',\n",
    "                  verbose=False)"
   ]
  },
  {
   "cell_type": "raw",
   "id": "7d1d001c",
   "metadata": {},
   "source": [
    "print(f'fitting....')\n",
    "gs.fit(x_data, y)\n",
    "print('EMD')"
   ]
  },
  {
   "cell_type": "code",
   "execution_count": null,
   "id": "12105b8f",
   "metadata": {},
   "outputs": [],
   "source": [
    "print(gs.best_score_, gs.best_params_, sep='\\n')"
   ]
  },
  {
   "cell_type": "code",
   "execution_count": null,
   "id": "8b69a695",
   "metadata": {},
   "outputs": [],
   "source": []
  },
  {
   "cell_type": "code",
   "execution_count": null,
   "id": "1c33fb42",
   "metadata": {},
   "outputs": [],
   "source": []
  }
 ],
 "metadata": {
  "kernelspec": {
   "display_name": "Python 3 (ipykernel)",
   "language": "python",
   "name": "python3"
  },
  "language_info": {
   "codemirror_mode": {
    "name": "ipython",
    "version": 3
   },
   "file_extension": ".py",
   "mimetype": "text/x-python",
   "name": "python",
   "nbconvert_exporter": "python",
   "pygments_lexer": "ipython3",
   "version": "3.9.12"
  }
 },
 "nbformat": 4,
 "nbformat_minor": 5
}
