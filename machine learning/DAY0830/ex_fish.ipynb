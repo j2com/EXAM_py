{
 "cells": [
  {
   "cell_type": "code",
   "execution_count": 1,
   "id": "3ffe8fc8",
   "metadata": {},
   "outputs": [],
   "source": [
    "import matplotlib.pyplot as plt"
   ]
  },
  {
   "cell_type": "code",
   "execution_count": 2,
   "id": "7f8de7ca",
   "metadata": {},
   "outputs": [],
   "source": [
    "bream_length =[25.4,26.3,26.5,29.0,29.0,29.7,29.7,30.0,30.0,30.7,31.0,\n",
    "31.0,31.5,32.0,32.0,32.0,33.0,33.0,33.5,33.5,34.0,34.0,\n",
    "34.5,35.0,35.0,35.0,35.0,36.0,36.0,37.0,38.5,38.5,39.5,\n",
    "41.0,41.0]\n",
    "bream_weight = [242.0,290.0,340.0,363.0,430.0,450.0,500.0,390.0,450.0,500.0,\n",
    "475.0,500.0,500.0,340.0,600.0,600.0,700.0,700.0,610.0,650.0,\n",
    "575.0,685.0,620.0,680.0,700.0,725.0,720.0,714.0,850.0,1000.0,\n",
    "920.0,955.0,925.0,975.0,950.0]"
   ]
  },
  {
   "cell_type": "code",
   "execution_count": 4,
   "id": "d74c5646",
   "metadata": {},
   "outputs": [
    {
     "data": {
      "image/png": "[encoded data removed]",
      "text/plain": [
       "<Figure size 432x288 with 1 Axes>"
      ]
     },
     "metadata": {
      "needs_background": "light"
     },
     "output_type": "display_data"
    }
   ],
   "source": [
    "plt.scatter(bream_length, bream_weight)\n",
    "plt.xlabel('bream length') # x축은 길이\n",
    "plt.ylabel('bream weight') # y축은 무게\n",
    "plt.show()"
   ]
  },
  {
   "cell_type": "code",
   "execution_count": 5,
   "id": "1cba7c4b",
   "metadata": {},
   "outputs": [],
   "source": [
    "smelt_length = [9.8, 10.5, 10.6, 11.0, 11.2, 11.3, 11.8, 11.8, 12.0, 12.2, \n",
    "12.4, 13.0, 14.3, 15.0]\n",
    "smelt_weight = [6.7, 7.5, 7.0, 9.7, 9.8, 8.7, 10.0, 9.9, 9.8, 12.2, 13.4, \n",
    "12.2, 19.7, 19.9]"
   ]
  },
  {
   "cell_type": "code",
   "execution_count": 6,
   "id": "c4152622",
   "metadata": {},
   "outputs": [
    {
     "data": {
      "image/png": "[encoded data removed]",
      "text/plain": [
       "<Figure size 432x288 with 1 Axes>"
      ]
     },
     "metadata": {
      "needs_background": "light"
     },
     "output_type": "display_data"
    }
   ],
   "source": [
    "plt.scatter(bream_length, bream_weight, label = 'bream')\n",
    "plt.scatter(smelt_length, smelt_weight, label = 'smelt')\n",
    "plt.xlabel('length')\n",
    "plt.ylabel('weight')\n",
    "plt.legend()\n",
    "plt.show()"
   ]
  },
  {
   "cell_type": "code",
   "execution_count": 7,
   "id": "851bf31e",
   "metadata": {},
   "outputs": [],
   "source": [
    "length = bream_length + smelt_length\n",
    "weight = bream_weight + smelt_weight"
   ]
  },
  {
   "cell_type": "code",
   "execution_count": 14,
   "id": "fabaf56f",
   "metadata": {},
   "outputs": [],
   "source": [
    "fish_data = [[l,w] for l, w in zip(length, weight)]"
   ]
  },
  {
   "cell_type": "code",
   "execution_count": 15,
   "id": "e6779697",
   "metadata": {},
   "outputs": [
    {
     "name": "stdout",
     "output_type": "stream",
     "text": [
      "[[25.4, 242.0], [26.3, 290.0], [26.5, 340.0], [29.0, 363.0], [29.0, 430.0], [29.7, 450.0], [29.7, 500.0], [30.0, 390.0], [30.0, 450.0], [30.7, 500.0], [31.0, 475.0], [31.0, 500.0], [31.5, 500.0], [32.0, 340.0], [32.0, 600.0], [32.0, 600.0], [33.0, 700.0], [33.0, 700.0], [33.5, 610.0], [33.5, 650.0], [34.0, 575.0], [34.0, 685.0], [34.5, 620.0], [35.0, 680.0], [35.0, 700.0], [35.0, 725.0], [35.0, 720.0], [36.0, 714.0], [36.0, 850.0], [37.0, 1000.0], [38.5, 920.0], [38.5, 955.0], [39.5, 925.0], [41.0, 975.0], [41.0, 950.0], [9.8, 6.7], [10.5, 7.5], [10.6, 7.0], [11.0, 9.7], [11.2, 9.8], [11.3, 8.7], [11.8, 10.0], [11.8, 9.9], [12.0, 9.8], [12.2, 12.2], [12.4, 13.4], [13.0, 12.2], [14.3, 19.7], [15.0, 19.9]]\n"
     ]
    }
   ],
   "source": [
    "print(fish_data)"
   ]
  },
  {
   "cell_type": "code",
   "execution_count": 18,
   "id": "ca474783",
   "metadata": {},
   "outputs": [
    {
     "name": "stdout",
     "output_type": "stream",
     "text": [
      "[1, 1, 1, 1, 1, 1, 1, 1, 1, 1, 1, 1, 1, 1, 1, 1, 1, 1, 1, 1, 1, 1, 1, 1, 1, 1, 1, 1, 1, 1, 1, 1, 1, 1, 1, 0, 0, 0, 0, 0, 0, 0, 0, 0, 0, 0, 0, 0, 0]\n"
     ]
    }
   ],
   "source": [
    "fish_target = [1] * 35 + [0] * 14\n",
    "print(fish_target)"
   ]
  },
  {
   "cell_type": "markdown",
   "id": "f15cb127",
   "metadata": {},
   "source": [
    "# k-최근접 알고리즘 적용 과정"
   ]
  },
  {
   "cell_type": "markdown",
   "id": "848fd9b0",
   "metadata": {},
   "source": [
    "## 1. kNN 모델 생성\n",
    "    • KNeighborClassifier(n_ngighbors,\t…) 객체 생성"
   ]
  },
  {
   "cell_type": "code",
   "execution_count": 92,
   "id": "be278706",
   "metadata": {},
   "outputs": [],
   "source": [
    "from sklearn.neighbors import KNeighborsClassifier"
   ]
  },
  {
   "cell_type": "code",
   "execution_count": 27,
   "id": "b6f2a79d",
   "metadata": {},
   "outputs": [],
   "source": [
    "kn = KNeighborsClassifier() # 기본 이웃의 개수 : n_neighbors=5 (디폴트 값)"
   ]
  },
  {
   "cell_type": "markdown",
   "id": "a9c9b398",
   "metadata": {},
   "source": [
    "## 2. 모델 훈련(학습)\n",
    "    • fit(Training data, Target values)\t함수\n",
    "    • fish_data와 fish_target을 이용하여 모델 훈련"
   ]
  },
  {
   "cell_type": "code",
   "execution_count": 29,
   "id": "6e2f7483",
   "metadata": {},
   "outputs": [
    {
     "data": {
      "text/plain": [
       "KNeighborsClassifier()"
      ]
     },
     "execution_count": 29,
     "metadata": {},
     "output_type": "execute_result"
    }
   ],
   "source": [
    "kn.fit(fish_data, fish_target)"
   ]
  },
  {
   "cell_type": "markdown",
   "id": "8ec1eb83",
   "metadata": {},
   "source": [
    "## 3. 모델 평가: score() 함수\n",
    "    • score(Test\tsamples,\tTarget\tvalues): 정확도의 평균값 리턴"
   ]
  },
  {
   "cell_type": "code",
   "execution_count": 30,
   "id": "aaeaac1a",
   "metadata": {},
   "outputs": [
    {
     "data": {
      "text/plain": [
       "1.0"
      ]
     },
     "execution_count": 30,
     "metadata": {},
     "output_type": "execute_result"
    }
   ],
   "source": [
    "kn.score(fish_data, fish_target)"
   ]
  },
  {
   "cell_type": "markdown",
   "id": "427a5ff5",
   "metadata": {},
   "source": [
    "## 4. 새로운 데이터를 활용한 결과 예측: predict(X)"
   ]
  },
  {
   "cell_type": "code",
   "execution_count": 34,
   "id": "c8c538b2",
   "metadata": {},
   "outputs": [
    {
     "data": {
      "text/plain": [
       "array([0])"
      ]
     },
     "execution_count": 34,
     "metadata": {},
     "output_type": "execute_result"
    }
   ],
   "source": [
    "kn.predict([[12, 50]])"
   ]
  },
  {
   "cell_type": "markdown",
   "id": "be2c97a1",
   "metadata": {},
   "source": [
    "# k-최근접 알고리즘 속성"
   ]
  },
  {
   "cell_type": "markdown",
   "id": "1d3659aa",
   "metadata": {},
   "source": [
    "## _fit_X 속성\n",
    "    • 훈련 데이터를 모두 가짐(fish_data)"
   ]
  },
  {
   "cell_type": "code",
   "execution_count": 35,
   "id": "b1964f8f",
   "metadata": {},
   "outputs": [
    {
     "name": "stdout",
     "output_type": "stream",
     "text": [
      "[[  25.4  242. ]\n",
      " [  26.3  290. ]\n",
      " [  26.5  340. ]\n",
      " [  29.   363. ]\n",
      " [  29.   430. ]\n",
      " [  29.7  450. ]\n",
      " [  29.7  500. ]\n",
      " [  30.   390. ]\n",
      " [  30.   450. ]\n",
      " [  30.7  500. ]\n",
      " [  31.   475. ]\n",
      " [  31.   500. ]\n",
      " [  31.5  500. ]\n",
      " [  32.   340. ]\n",
      " [  32.   600. ]\n",
      " [  32.   600. ]\n",
      " [  33.   700. ]\n",
      " [  33.   700. ]\n",
      " [  33.5  610. ]\n",
      " [  33.5  650. ]\n",
      " [  34.   575. ]\n",
      " [  34.   685. ]\n",
      " [  34.5  620. ]\n",
      " [  35.   680. ]\n",
      " [  35.   700. ]\n",
      " [  35.   725. ]\n",
      " [  35.   720. ]\n",
      " [  36.   714. ]\n",
      " [  36.   850. ]\n",
      " [  37.  1000. ]\n",
      " [  38.5  920. ]\n",
      " [  38.5  955. ]\n",
      " [  39.5  925. ]\n",
      " [  41.   975. ]\n",
      " [  41.   950. ]\n",
      " [   9.8    6.7]\n",
      " [  10.5    7.5]\n",
      " [  10.6    7. ]\n",
      " [  11.     9.7]\n",
      " [  11.2    9.8]\n",
      " [  11.3    8.7]\n",
      " [  11.8   10. ]\n",
      " [  11.8    9.9]\n",
      " [  12.     9.8]\n",
      " [  12.2   12.2]\n",
      " [  12.4   13.4]\n",
      " [  13.    12.2]\n",
      " [  14.3   19.7]\n",
      " [  15.    19.9]]\n"
     ]
    }
   ],
   "source": [
    "print(kn._fit_X)"
   ]
  },
  {
   "cell_type": "markdown",
   "id": "5889693f",
   "metadata": {},
   "source": [
    "# _y 속성\n",
    "    • fish_target을 가짐"
   ]
  },
  {
   "cell_type": "code",
   "execution_count": 36,
   "id": "6d63c1e1",
   "metadata": {},
   "outputs": [
    {
     "name": "stdout",
     "output_type": "stream",
     "text": [
      "[1 1 1 1 1 1 1 1 1 1 1 1 1 1 1 1 1 1 1 1 1 1 1 1 1 1 1 1 1 1 1 1 1 1 1 0 0\n",
      " 0 0 0 0 0 0 0 0 0 0 0 0]\n"
     ]
    }
   ],
   "source": [
    "print(kn._y)"
   ]
  },
  {
   "cell_type": "markdown",
   "id": "2b9c3475",
   "metadata": {},
   "source": [
    "##  n_neighbors 값 변경(49)"
   ]
  },
  {
   "cell_type": "code",
   "execution_count": 42,
   "id": "923d3208",
   "metadata": {},
   "outputs": [],
   "source": [
    "kn49 = KNeighborsClassifier(n_neighbors=49) # n_neighbors 개수 줄일수록 정확도 상승"
   ]
  },
  {
   "cell_type": "code",
   "execution_count": 39,
   "id": "3031e33b",
   "metadata": {},
   "outputs": [
    {
     "data": {
      "text/plain": [
       "KNeighborsClassifier(n_neighbors=49)"
      ]
     },
     "execution_count": 39,
     "metadata": {},
     "output_type": "execute_result"
    }
   ],
   "source": [
    "kn49.fit(fish_data, fish_target)"
   ]
  },
  {
   "cell_type": "code",
   "execution_count": 40,
   "id": "3d18ab3b",
   "metadata": {},
   "outputs": [
    {
     "data": {
      "text/plain": [
       "0.7142857142857143"
      ]
     },
     "execution_count": 40,
     "metadata": {},
     "output_type": "execute_result"
    }
   ],
   "source": [
    "kn49.score(fish_data, fish_target) "
   ]
  },
  {
   "cell_type": "code",
   "execution_count": 41,
   "id": "c7bbe7ef",
   "metadata": {},
   "outputs": [
    {
     "name": "stdout",
     "output_type": "stream",
     "text": [
      "0.7142857142857143\n"
     ]
    }
   ],
   "source": [
    "print(35/49)"
   ]
  },
  {
   "cell_type": "markdown",
   "id": "919dc0a5",
   "metadata": {},
   "source": [
    "# 훈련 세트와 테스트 세트 만들기"
   ]
  },
  {
   "cell_type": "code",
   "execution_count": 53,
   "id": "b0c778d2",
   "metadata": {},
   "outputs": [],
   "source": [
    "#\t훈련 세트 생성(35개)\n",
    "train_input = fish_data[:35]\n",
    "train_target = fish_target[:35]"
   ]
  },
  {
   "cell_type": "code",
   "execution_count": 54,
   "id": "bc9db5f2",
   "metadata": {},
   "outputs": [],
   "source": [
    "#\t테스트 세트 생성(14개)\n",
    "test_input = fish_data[35:]\n",
    "test_target = fish_target[35:]"
   ]
  },
  {
   "cell_type": "markdown",
   "id": "3a8253ad",
   "metadata": {},
   "source": [
    "# 잘못된 훈련 데이터 사용 결과 \n",
    "    - 정확도 0.0"
   ]
  },
  {
   "cell_type": "code",
   "execution_count": 56,
   "id": "46c63f97",
   "metadata": {},
   "outputs": [
    {
     "data": {
      "text/plain": [
       "0.0"
      ]
     },
     "execution_count": 56,
     "metadata": {},
     "output_type": "execute_result"
    }
   ],
   "source": [
    "kn = KNeighborsClassifier() # 객체 생성\n",
    "kn = kn.fit(train_input, train_target) # 모델 훈련\n",
    "kn.score(test_input, test_target) # 테스트 세트로 평가 (정확도 출력)"
   ]
  },
  {
   "cell_type": "markdown",
   "id": "3c82b5b0",
   "metadata": {},
   "source": [
    "# Numpy를 활용한 배열 생성\n",
    "    - Numpy 사용\n",
    "        • 다차원 배열을 쉽게 조작할 수 있음\n",
    "    - 기존 fish_data와 fish_target를 Numpy 배열로 변경\n",
    "        • Numpy.array(list):\t파이썬의 list를 Numpy의 array로 변경"
   ]
  },
  {
   "cell_type": "code",
   "execution_count": 57,
   "id": "6a264e61",
   "metadata": {},
   "outputs": [],
   "source": [
    "import numpy as np"
   ]
  },
  {
   "cell_type": "code",
   "execution_count": 59,
   "id": "e6335614",
   "metadata": {},
   "outputs": [
    {
     "name": "stdout",
     "output_type": "stream",
     "text": [
      "[[  25.4  242. ]\n",
      " [  26.3  290. ]\n",
      " [  26.5  340. ]\n",
      " [  29.   363. ]\n",
      " [  29.   430. ]\n",
      " [  29.7  450. ]\n",
      " [  29.7  500. ]\n",
      " [  30.   390. ]\n",
      " [  30.   450. ]\n",
      " [  30.7  500. ]\n",
      " [  31.   475. ]\n",
      " [  31.   500. ]\n",
      " [  31.5  500. ]\n",
      " [  32.   340. ]\n",
      " [  32.   600. ]\n",
      " [  32.   600. ]\n",
      " [  33.   700. ]\n",
      " [  33.   700. ]\n",
      " [  33.5  610. ]\n",
      " [  33.5  650. ]\n",
      " [  34.   575. ]\n",
      " [  34.   685. ]\n",
      " [  34.5  620. ]\n",
      " [  35.   680. ]\n",
      " [  35.   700. ]\n",
      " [  35.   725. ]\n",
      " [  35.   720. ]\n",
      " [  36.   714. ]\n",
      " [  36.   850. ]\n",
      " [  37.  1000. ]\n",
      " [  38.5  920. ]\n",
      " [  38.5  955. ]\n",
      " [  39.5  925. ]\n",
      " [  41.   975. ]\n",
      " [  41.   950. ]\n",
      " [   9.8    6.7]\n",
      " [  10.5    7.5]\n",
      " [  10.6    7. ]\n",
      " [  11.     9.7]\n",
      " [  11.2    9.8]\n",
      " [  11.3    8.7]\n",
      " [  11.8   10. ]\n",
      " [  11.8    9.9]\n",
      " [  12.     9.8]\n",
      " [  12.2   12.2]\n",
      " [  12.4   13.4]\n",
      " [  13.    12.2]\n",
      " [  14.3   19.7]\n",
      " [  15.    19.9]]\n",
      "(49, 2)\n"
     ]
    }
   ],
   "source": [
    "input_arr = np.array(fish_data)\n",
    "target_arr = np.array(fish_target)\n",
    "\n",
    "print(input_arr)\n",
    "print(input_arr.shape) # shape : 배열의 크기 리턴"
   ]
  },
  {
   "cell_type": "markdown",
   "id": "9c15c980",
   "metadata": {},
   "source": [
    "# Numpy를 이용하여 데이터 섞기\n",
    "    - Numpy 사용\n",
    "        • random.seed(seed) : 랜덤값 생성을 위한 초기값 지정\n",
    "            – 초기값(seed)값이 같으면 동일한 랜덤값을 뽑을 수 있음\n",
    "        • Numpy.arange(stop):\tstop-1까지 1의 간격으로 배열 생성\n",
    "            – arange:\tarray\trange\n",
    "        • random.shuffle(x):\t배열 x(ndarray 타입-를 무작위로 섞음"
   ]
  },
  {
   "cell_type": "code",
   "execution_count": 64,
   "id": "84808955",
   "metadata": {},
   "outputs": [
    {
     "name": "stdout",
     "output_type": "stream",
     "text": [
      "[ 0  1  2  3  4  5  6  7  8  9 10 11 12 13 14 15 16 17 18 19 20 21 22 23\n",
      " 24 25 26 27 28 29 30 31 32 33 34 35 36 37 38 39 40 41 42 43 44 45 46 47\n",
      " 48]\n"
     ]
    }
   ],
   "source": [
    "np.random.seed(42)\n",
    "index_list = np.arange(49)\n",
    "print(index_list)"
   ]
  },
  {
   "cell_type": "code",
   "execution_count": 68,
   "id": "b7b0d019",
   "metadata": {},
   "outputs": [
    {
     "name": "stdout",
     "output_type": "stream",
     "text": [
      "[13 45 47 44 17 27 26 25 31 19 12  4 34  8  3  6 40 41 46 15  9 16 24 33\n",
      " 30  0 43 32  5 29 11 36  1 21  2 37 35 23 39 10 22 18 48 20  7 42 14 28\n",
      " 38]\n"
     ]
    }
   ],
   "source": [
    "np.random.shuffle(index_list)\n",
    "print(index_list)"
   ]
  },
  {
   "cell_type": "markdown",
   "id": "1c47e692",
   "metadata": {},
   "source": [
    "# 랜덤 배열로 훈련 세트와 테스트 세트 만들기\n",
    "    - Numpy의 배열 인덱싱 이용\n",
    "        • 여러 개의 인덱스로 한 번에 여러 개의 배열 원소를 선택할 수 있음"
   ]
  },
  {
   "cell_type": "code",
   "execution_count": 69,
   "id": "75c82759",
   "metadata": {},
   "outputs": [],
   "source": [
    "#\t훈련 세트 생성\n",
    "train_input = input_arr[index_list[:35]]\n",
    "train_target = target_arr[index_list[:35]]"
   ]
  },
  {
   "cell_type": "code",
   "execution_count": 71,
   "id": "bb632244",
   "metadata": {},
   "outputs": [],
   "source": [
    "#\t테스트 세트 생성\n",
    "test_input = input_arr[index_list[35:]]\n",
    "test_target = target_arr[index_list[35:]]"
   ]
  },
  {
   "cell_type": "code",
   "execution_count": 72,
   "id": "cf467bb9",
   "metadata": {
    "scrolled": true
   },
   "outputs": [
    {
     "data": {
      "image/png": "[encoded data removed]",
      "text/plain": [
       "<Figure size 432x288 with 1 Axes>"
      ]
     },
     "metadata": {
      "needs_background": "light"
     },
     "output_type": "display_data"
    }
   ],
   "source": [
    "plt.scatter(train_input[:, 0], train_input[:, 1], label = 'train set')\n",
    "plt.scatter(test_input[:, 0], test_input[:, 1], label = 'test set')\n",
    "\n",
    "plt.xlabel('length')\n",
    "plt.ylabel('weight')\n",
    "plt.legend()\n",
    "plt.show()"
   ]
  },
  {
   "cell_type": "code",
   "execution_count": 83,
   "id": "6382965a",
   "metadata": {},
   "outputs": [
    {
     "name": "stdout",
     "output_type": "stream",
     "text": [
      "score 1.0\n",
      "predict     [0 0 1 0 1 1 1 0 1 1 0 1 1 0]\n",
      "test_target [0 0 1 0 1 1 1 0 1 1 0 1 1 0]\n"
     ]
    }
   ],
   "source": [
    "kn = kn.fit(train_input, train_target)\n",
    "print(\"score\", kn.score(test_input, test_target))\n",
    "\n",
    "print(\"predict    \", kn.predict(test_input))\n",
    "print(\"test_target\", test_target)"
   ]
  },
  {
   "cell_type": "code",
   "execution_count": 81,
   "id": "274347c6",
   "metadata": {},
   "outputs": [
    {
     "data": {
      "text/plain": [
       "array([[  32. ,  340. ],\n",
       "       [  12.4,   13.4],\n",
       "       [  14.3,   19.7],\n",
       "       [  12.2,   12.2],\n",
       "       [  33. ,  700. ],\n",
       "       [  36. ,  714. ],\n",
       "       [  35. ,  720. ],\n",
       "       [  35. ,  725. ],\n",
       "       [  38.5,  955. ],\n",
       "       [  33.5,  650. ],\n",
       "       [  31.5,  500. ],\n",
       "       [  29. ,  430. ],\n",
       "       [  41. ,  950. ],\n",
       "       [  30. ,  450. ],\n",
       "       [  29. ,  363. ],\n",
       "       [  29.7,  500. ],\n",
       "       [  11.3,    8.7],\n",
       "       [  11.8,   10. ],\n",
       "       [  13. ,   12.2],\n",
       "       [  32. ,  600. ],\n",
       "       [  30.7,  500. ],\n",
       "       [  33. ,  700. ],\n",
       "       [  35. ,  700. ],\n",
       "       [  41. ,  975. ],\n",
       "       [  38.5,  920. ],\n",
       "       [  25.4,  242. ],\n",
       "       [  12. ,    9.8],\n",
       "       [  39.5,  925. ],\n",
       "       [  29.7,  450. ],\n",
       "       [  37. , 1000. ],\n",
       "       [  31. ,  500. ],\n",
       "       [  10.5,    7.5],\n",
       "       [  26.3,  290. ],\n",
       "       [  34. ,  685. ],\n",
       "       [  26.5,  340. ]])"
      ]
     },
     "execution_count": 81,
     "metadata": {},
     "output_type": "execute_result"
    }
   ],
   "source": [
    "train_input"
   ]
  },
  {
   "cell_type": "markdown",
   "id": "6a9a6cea",
   "metadata": {},
   "source": [
    "# 문제점 발생\n",
    "    - 2-1 머신러닝 프로그램의 문제점 발생\n",
    "        • 길이 25cm, 무게 150g인 도미를 빙어로 판단"
   ]
  },
  {
   "cell_type": "code",
   "execution_count": 82,
   "id": "3716daa8",
   "metadata": {},
   "outputs": [
    {
     "name": "stdout",
     "output_type": "stream",
     "text": [
      "predict(길이 25cm, 무게 150g): [0]\n"
     ]
    }
   ],
   "source": [
    "print(\"predict(길이 25cm, 무게 150g):\", kn.predict([[25,150.0]]))"
   ]
  },
  {
   "cell_type": "markdown",
   "id": "c31603d6",
   "metadata": {},
   "source": [
    "## 샘플 데이터의 두 특성(길이, 무게)의 스케일이 다르기 때문\n",
    "    – 스케일을 조정해야 됨: 표준점수로 변환해야 됨\n",
    "        • 표준 점수: 평균과의 거리"
   ]
  },
  {
   "cell_type": "markdown",
   "id": "c67f5939",
   "metadata": {},
   "source": [
    "# Numpy를 활용한 데이터 전처리 #1\n",
    "    - column_stack()\n",
    "        • Numpy 제공 함수: 리스트를 일렬로 세운 다음 차례대로 연결\n",
    "        • Python에서 제공하는 zip()함수와 동일한 기능"
   ]
  },
  {
   "cell_type": "code",
   "execution_count": 99,
   "id": "65127395",
   "metadata": {},
   "outputs": [
    {
     "name": "stdout",
     "output_type": "stream",
     "text": [
      "[[ 25.4 242. ]\n",
      " [ 26.3 290. ]\n",
      " [ 26.5 340. ]\n",
      " [ 29.  363. ]\n",
      " [ 29.  430. ]]\n"
     ]
    }
   ],
   "source": [
    "#\tcolumn_stack((list1, list2)):\t튜플 형태로 전달\n",
    "fish_data =\tnp.column_stack((length, weight))\n",
    "print(fish_data[:5])"
   ]
  },
  {
   "cell_type": "code",
   "execution_count": 88,
   "id": "96e1ebf0",
   "metadata": {},
   "outputs": [
    {
     "name": "stdout",
     "output_type": "stream",
     "text": [
      "[1. 1. 1. 1. 1. 1. 1. 1. 1. 1. 1. 1. 1. 1. 1. 1. 1. 1. 1. 1. 1. 1. 1. 1.\n",
      " 1. 1. 1. 1. 1. 1. 1. 1. 1. 1. 1.]\n"
     ]
    }
   ],
   "source": [
    "print(np.ones(35))"
   ]
  },
  {
   "cell_type": "code",
   "execution_count": 89,
   "id": "b9e535b2",
   "metadata": {},
   "outputs": [
    {
     "name": "stdout",
     "output_type": "stream",
     "text": [
      "[0. 0. 0. 0. 0. 0. 0. 0. 0. 0. 0. 0. 0. 0.]\n"
     ]
    }
   ],
   "source": [
    "print(np.zeros(14))"
   ]
  },
  {
   "cell_type": "code",
   "execution_count": 90,
   "id": "d707032b",
   "metadata": {},
   "outputs": [
    {
     "name": "stdout",
     "output_type": "stream",
     "text": [
      "[1. 1. 1. 1. 1. 1. 1. 1. 1. 1. 1. 1. 1. 1. 1. 1. 1. 1. 1. 1. 1. 1. 1. 1.\n",
      " 1. 1. 1. 1. 1. 1. 1. 1. 1. 1. 1. 0. 0. 0. 0. 0. 0. 0. 0. 0. 0. 0. 0. 0.\n",
      " 0.]\n"
     ]
    }
   ],
   "source": [
    "fish_target = np.concatenate((np.ones(35), np.zeros(14)))\n",
    "print(fish_target)"
   ]
  },
  {
   "cell_type": "markdown",
   "id": "c33a4638",
   "metadata": {},
   "source": [
    "# 사이킷런으로 훈련 세트와 테스트 세트 나누기#1\n",
    "    § 사이킷런으로 훈련 세트와 테스트 세트 나누기\n",
    "        • train_test_split() 함수 원형\n",
    "        – 전달되는 리스트나 배열을 비율에 맞게 훈련 세트와 테스트 세트로 나눔\n",
    "        – 총 4개의 배열이 반환됨"
   ]
  },
  {
   "cell_type": "code",
   "execution_count": 98,
   "id": "3f915582",
   "metadata": {},
   "outputs": [],
   "source": [
    "from sklearn.model_selection import train_test_split"
   ]
  },
  {
   "cell_type": "code",
   "execution_count": 100,
   "id": "2d402f9a",
   "metadata": {},
   "outputs": [],
   "source": [
    "train_input, test_input, train_target, test_target = train_test_split(fish_data,\n",
    "                                                                     fish_target, stratify=fish_target, random_state=42)"
   ]
  },
  {
   "cell_type": "code",
   "execution_count": 102,
   "id": "28e72878",
   "metadata": {},
   "outputs": [
    {
     "name": "stdout",
     "output_type": "stream",
     "text": [
      "train_input.shape: (36, 2) test_input.shape (13, 2)\n"
     ]
    }
   ],
   "source": [
    "print('train_input.shape:',train_input.shape,\n",
    "'test_input.shape',test_input.shape)"
   ]
  },
  {
   "cell_type": "markdown",
   "id": "73c998d0",
   "metadata": {},
   "source": [
    "# 가장 가까운 이웃 찾기 #1\n",
    "    § k-최근접 이웃 모델 적용\n",
    "        • train_test_split()함수로 나눈 데이터 사용"
   ]
  },
  {
   "cell_type": "code",
   "execution_count": 103,
   "id": "74d73eb0",
   "metadata": {},
   "outputs": [],
   "source": [
    "from sklearn.neighbors import KNeighborsClassifier"
   ]
  },
  {
   "cell_type": "code",
   "execution_count": 105,
   "id": "bb3b10f6",
   "metadata": {},
   "outputs": [
    {
     "name": "stdout",
     "output_type": "stream",
     "text": [
      "score:  1.0\n"
     ]
    }
   ],
   "source": [
    "kn = KNeighborsClassifier()\n",
    "kn.fit(train_input, train_target)\n",
    "\n",
    "print(\"score: \", kn.score(test_input, test_target))"
   ]
  },
  {
   "cell_type": "code",
   "execution_count": 106,
   "id": "a9c1065b",
   "metadata": {},
   "outputs": [
    {
     "name": "stdout",
     "output_type": "stream",
     "text": [
      "[0.]\n"
     ]
    }
   ],
   "source": [
    "print(kn.predict([[25, 150]]))"
   ]
  },
  {
   "cell_type": "markdown",
   "id": "01151d3d",
   "metadata": {},
   "source": [
    "# 가장 가까운 이웃 찾기 #2\n",
    "    -§ 길이 25cm, 무게 150g의 생선을 산점도로 표시"
   ]
  },
  {
   "cell_type": "code",
   "execution_count": 108,
   "id": "934c7953",
   "metadata": {},
   "outputs": [
    {
     "data": {
      "image/png": "[encoded data removed]",
      "text/plain": [
       "<Figure size 432x288 with 1 Axes>"
      ]
     },
     "metadata": {
      "needs_background": "light"
     },
     "output_type": "display_data"
    }
   ],
   "source": [
    "plt.scatter(train_input[:,0], train_input[:,1])\n",
    "plt.scatter(20, 150, marker = '^')\n",
    "plt.xlabel('length')\n",
    "plt.ylabel('weight')\n",
    "plt.show()"
   ]
  },
  {
   "cell_type": "markdown",
   "id": "854de1b2",
   "metadata": {},
   "source": [
    "## 가장 가까운 이웃과의 거리 계산\n",
    "    • kneighbors(): n_neighbors(default값 5)개의 이웃을 찾음"
   ]
  },
  {
   "cell_type": "code",
   "execution_count": 109,
   "id": "50f921ff",
   "metadata": {},
   "outputs": [
    {
     "name": "stdout",
     "output_type": "stream",
     "text": [
      "[[ 92.00086956 130.48375378 130.73859415 138.32150953 138.39320793]]\n",
      "[[21 33 19 30  1]]\n"
     ]
    }
   ],
   "source": [
    "distance, indexes = kn.kneighbors([[25, 150]])\n",
    "print(distance)\n",
    "print(indexes)"
   ]
  },
  {
   "cell_type": "code",
   "execution_count": 118,
   "id": "3724118f",
   "metadata": {},
   "outputs": [
    {
     "data": {
      "image/png": "[encoded data removed]",
      "text/plain": [
       "<Figure size 432x288 with 1 Axes>"
      ]
     },
     "metadata": {
      "needs_background": "light"
     },
     "output_type": "display_data"
    }
   ],
   "source": [
    "plt.scatter(train_input[:,0], train_input[:,1], label = 'train_data', color = 'b')\n",
    "plt.scatter(train_input[indexes,0],train_input[indexes,1],\n",
    "marker='D',label='neighbors',color='r')\n",
    "plt.scatter(25, 150, marker='^', color='orange', label='Unknown')\n",
    "plt.xlabel('length')\n",
    "plt.ylabel('weight')\n",
    "plt.legend()\n",
    "plt.show()"
   ]
  },
  {
   "cell_type": "code",
   "execution_count": 117,
   "id": "e5429f5a",
   "metadata": {},
   "outputs": [
    {
     "name": "stdout",
     "output_type": "stream",
     "text": [
      "neighbors:  [[[ 25.4 242. ]\n",
      "  [ 15.   19.9]\n",
      "  [ 14.3  19.7]\n",
      "  [ 13.   12.2]\n",
      "  [ 12.2  12.2]]]\n",
      "target:  [[1. 0. 0. 0. 0.]]\n"
     ]
    }
   ],
   "source": [
    "print(\"neighbors: \", train_input[indexes])\n",
    "print(\"target: \", train_target[indexes])"
   ]
  },
  {
   "cell_type": "markdown",
   "id": "539cec09",
   "metadata": {},
   "source": [
    "# Scale을 동일하게 수정\n",
    "    § x축과 y축의 범위를 동일하게 수정\n",
    "        • 두 특성(길이, 무게)의 scale이 다름\n",
    "        • xlim(),\tylim()함수: x,\ty축의 범위를 지정"
   ]
  },
  {
   "cell_type": "code",
   "execution_count": 121,
   "id": "1ea19c67",
   "metadata": {},
   "outputs": [
    {
     "data": {
      "image/png": "[encoded data removed]",
      "text/plain": [
       "<Figure size 432x288 with 1 Axes>"
      ]
     },
     "metadata": {
      "needs_background": "light"
     },
     "output_type": "display_data"
    }
   ],
   "source": [
    "plt.scatter(train_input[:,0],train_input[:,1],\n",
    "label='train_data',color='b')\n",
    "plt.scatter(25,150,marker='^'\n",
    ",color='orange',label='Unknown')\n",
    "plt.scatter(train_input[indexes,0],train_input[indexes,1],\n",
    "marker='D',label='neighbors',color='r')\n",
    "plt.xlim((0,1000)) #x축의 눈금 간격을 y축과 동일하게 변경\n",
    "plt.xlabel('length')\n",
    "plt.ylabel('weight')\n",
    "plt.legend()\n",
    "plt.show()"
   ]
  },
  {
   "cell_type": "markdown",
   "id": "4a54b8cc",
   "metadata": {},
   "source": [
    "# 데이터 전처리 (Data Preprocessing) #1\n",
    "    § 데이터 전처리\n",
    "        • 특성값을 일정한 기준으로 맞춤\n",
    "        • 표준 점수 (Standard\tScore, Z 점수)\n",
    "        – 각 특성(길이, 무게)의 값이 0에서 표준편차의 몇 배만큼 덜어져 있는지를 나타냄"
   ]
  },
  {
   "cell_type": "markdown",
   "id": "fe983031",
   "metadata": {},
   "source": [
    "## § 평균 및 표준편차 계산\n",
    "    • 브로드 캐스팅\n",
    "    – 행(row)이나 열(column)의 모든 데이터에 대해 한 번에 연산을 수행"
   ]
  },
  {
   "cell_type": "code",
   "execution_count": 122,
   "id": "403b051d",
   "metadata": {},
   "outputs": [
    {
     "name": "stdout",
     "output_type": "stream",
     "text": [
      "[ 27.29722222 454.09722222] [  9.98244253 323.29893931]\n"
     ]
    }
   ],
   "source": [
    "mean = np.mean(train_input, axis=0)\n",
    "std = np.std(train_input, axis=0)\n",
    "print(mean, std)"
   ]
  },
  {
   "cell_type": "markdown",
   "id": "91b1e71c",
   "metadata": {},
   "source": [
    "# 데이터 전처리 (Data Preprocessing) #2\n",
    "    § 표준 점수(Z값) 계산"
   ]
  },
  {
   "cell_type": "code",
   "execution_count": 123,
   "id": "46818131",
   "metadata": {},
   "outputs": [
    {
     "name": "stdout",
     "output_type": "stream",
     "text": [
      "[[ 0.24070039  0.14198246]\n",
      " [-1.51237757 -1.36683783]\n",
      " [ 0.5712808   0.76060496]]\n"
     ]
    }
   ],
   "source": [
    "train_scaled = (train_input - mean) / std\n",
    "print(train_scaled[:3])"
   ]
  },
  {
   "cell_type": "markdown",
   "id": "23e9bc0b",
   "metadata": {},
   "source": [
    "# 전처리 데이터로 모델 훈련 #1\n",
    "    - 표준 점수로 변환한 훈련 데이터 분포 확인\n",
    "        • train_scaled 데이터와 샘플 데이터(25,\t150)\t비교"
   ]
  },
  {
   "cell_type": "code",
   "execution_count": 124,
   "id": "4fbd5bbe",
   "metadata": {},
   "outputs": [
    {
     "data": {
      "image/png": "[encoded data removed]",
      "text/plain": [
       "<Figure size 432x288 with 1 Axes>"
      ]
     },
     "metadata": {
      "needs_background": "light"
     },
     "output_type": "display_data"
    }
   ],
   "source": [
    "plt.scatter(train_scaled[:,0],train_scaled[:,1],label='train_scaled')\n",
    "plt.scatter(25,150,marker='^'\n",
    ",label='unknown')\n",
    "plt.xlabel('length')\n",
    "plt.ylabel('weight')\n",
    "plt.legend()\n",
    "plt.show()"
   ]
  },
  {
   "cell_type": "markdown",
   "id": "69b3d31f",
   "metadata": {},
   "source": [
    "# 전처리 데이터로 모델 훈련 #2\n",
    "    - 샘플 데이터를 표준 점수로 변환"
   ]
  },
  {
   "cell_type": "code",
   "execution_count": 126,
   "id": "4508b6e4",
   "metadata": {},
   "outputs": [
    {
     "name": "stdout",
     "output_type": "stream",
     "text": [
      "[-0.23012627 -0.94060693]\n"
     ]
    }
   ],
   "source": [
    "new = ([25, 150] - mean) / std\n",
    "print(new)"
   ]
  },
  {
   "cell_type": "code",
   "execution_count": 127,
   "id": "b7cb7a7b",
   "metadata": {},
   "outputs": [
    {
     "data": {
      "image/png": "[encoded data removed]",
      "text/plain": [
       "<Figure size 432x288 with 1 Axes>"
      ]
     },
     "metadata": {
      "needs_background": "light"
     },
     "output_type": "display_data"
    }
   ],
   "source": [
    "plt.scatter(train_scaled[:,0],train_scaled[:,1],label='train_scaled')\n",
    "plt.scatter(new[0],new[1],marker='^'\n",
    ",label='unknown')\n",
    "plt.xlabel('length')\n",
    "plt.ylabel('weight')\n",
    "plt.legend()\n",
    "plt.show()"
   ]
  },
  {
   "cell_type": "markdown",
   "id": "8316a07f",
   "metadata": {},
   "source": [
    "# 전처리 데이터로 모델 훈련 #3\n",
    "    - 표준 점수로 변환한 훈련 데이터로 k-최근접 이웃 모델 훈련"
   ]
  },
  {
   "cell_type": "code",
   "execution_count": 128,
   "id": "08c51a7a",
   "metadata": {},
   "outputs": [
    {
     "name": "stdout",
     "output_type": "stream",
     "text": [
      "1.0\n",
      "[1.]\n"
     ]
    }
   ],
   "source": [
    "kn.fit(train_scaled, train_target)\n",
    "\n",
    "test_scaled = (test_input - mean) / std\n",
    "print(kn.score(test_scaled, test_target))\n",
    "\n",
    "print(kn.predict([new]))"
   ]
  },
  {
   "cell_type": "markdown",
   "id": "0e58a6cb",
   "metadata": {},
   "source": [
    "# 최종 이웃 찾기 및 산점도"
   ]
  },
  {
   "cell_type": "code",
   "execution_count": 132,
   "id": "dd3c0b17",
   "metadata": {},
   "outputs": [],
   "source": [
    "distances, indexes = kn.kneighbors([new])"
   ]
  },
  {
   "cell_type": "code",
   "execution_count": 134,
   "id": "1068244e",
   "metadata": {},
   "outputs": [
    {
     "name": "stdout",
     "output_type": "stream",
     "text": [
      "[[0.2873737  0.7711188  0.89552179 0.91493515 0.95427626]]\n"
     ]
    },
    {
     "data": {
      "image/png": "[encoded data removed]",
      "text/plain": [
       "<Figure size 432x288 with 1 Axes>"
      ]
     },
     "metadata": {
      "needs_background": "light"
     },
     "output_type": "display_data"
    }
   ],
   "source": [
    "print(distances)\n",
    "plt.scatter(train_scaled[:,0],train_scaled[:,1],label='train_scaled')\n",
    "plt.scatter(new[0],new[1],marker='^'\n",
    ",label='sample')\n",
    "plt.scatter(train_scaled[indexes,0],train_scaled[indexes,1],\n",
    "marker='D',label='neighbors')\n",
    "plt.xlabel('length')\n",
    "plt.ylabel('weight')\n",
    "plt.legend()\n",
    "plt.show()"
   ]
  },
  {
   "cell_type": "code",
   "execution_count": null,
   "id": "863f1f16",
   "metadata": {},
   "outputs": [],
   "source": []
  }
 ],
 "metadata": {
  "kernelspec": {
   "display_name": "Python 3 (ipykernel)",
   "language": "python",
   "name": "python3"
  },
  "language_info": {
   "codemirror_mode": {
    "name": "ipython",
    "version": 3
   },
   "file_extension": ".py",
   "mimetype": "text/x-python",
   "name": "python",
   "nbconvert_exporter": "python",
   "pygments_lexer": "ipython3",
   "version": "3.9.12"
  }
 },
 "nbformat": 4,
 "nbformat_minor": 5
}
