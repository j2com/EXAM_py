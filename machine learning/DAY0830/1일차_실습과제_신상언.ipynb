{
 "cells": [
  {
   "cell_type": "code",
   "execution_count": 24,
   "id": "43431cff",
   "metadata": {},
   "outputs": [],
   "source": [
    "import matplotlib.pyplot as plt\n",
    "from sklearn.neighbors import KNeighborsClassifier\n",
    "import numpy as np\n",
    "from sklearn.model_selection import train_test_split\n",
    "import pandas as pd"
   ]
  },
  {
   "cell_type": "code",
   "execution_count": 2,
   "id": "b1f60a32",
   "metadata": {},
   "outputs": [],
   "source": [
    "bream_length =[25.4,26.3,26.5,29.0,29.0,29.7,29.7,30.0,30.0,30.7,31.0,\n",
    "31.0,31.5,32.0,32.0,32.0,33.0,33.0,33.5,33.5,34.0,34.0,\n",
    "34.5,35.0,35.0,35.0,35.0,36.0,36.0,37.0,38.5,38.5,39.5,\n",
    "41.0,41.0]\n",
    "bream_weight = [242.0,290.0,340.0,363.0,430.0,450.0,500.0,390.0,450.0,500.0,\n",
    "475.0,500.0,500.0,340.0,600.0,600.0,700.0,700.0,610.0,650.0,\n",
    "575.0,685.0,620.0,680.0,700.0,725.0,720.0,714.0,850.0,1000.0,\n",
    "920.0,955.0,925.0,975.0,950.0]"
   ]
  },
  {
   "cell_type": "code",
   "execution_count": 3,
   "id": "3102cc98",
   "metadata": {},
   "outputs": [],
   "source": [
    "smelt_length = [9.8, 10.5, 10.6, 11.0, 11.2, 11.3, 11.8, 11.8, 12.0, 12.2, \n",
    "12.4, 13.0, 14.3, 15.0]\n",
    "smelt_weight = [6.7, 7.5, 7.0, 9.7, 9.8, 8.7, 10.0, 9.9, 9.8, 12.2, 13.4, \n",
    "12.2, 19.7, 19.9]"
   ]
  },
  {
   "cell_type": "code",
   "execution_count": 4,
   "id": "de6aa15e",
   "metadata": {},
   "outputs": [],
   "source": [
    "length = bream_length + smelt_length\n",
    "weight = bream_weight + smelt_weight"
   ]
  },
  {
   "cell_type": "code",
   "execution_count": 7,
   "id": "90e745be",
   "metadata": {},
   "outputs": [],
   "source": [
    "fish_data = np.column_stack((length, weight))"
   ]
  },
  {
   "cell_type": "code",
   "execution_count": 8,
   "id": "a6e6aef7",
   "metadata": {},
   "outputs": [],
   "source": [
    "kn = KNeighborsClassifier()"
   ]
  },
  {
   "cell_type": "code",
   "execution_count": 10,
   "id": "b212d8b9",
   "metadata": {},
   "outputs": [],
   "source": [
    "target_data = np.concatenate((np.ones(35), np.zeros(14)))"
   ]
  },
  {
   "cell_type": "code",
   "execution_count": 11,
   "id": "bb188e9f",
   "metadata": {},
   "outputs": [],
   "source": [
    "kn49 = KNeighborsClassifier(n_neighbors= 49)"
   ]
  },
  {
   "cell_type": "code",
   "execution_count": 12,
   "id": "7bbf383e",
   "metadata": {},
   "outputs": [
    {
     "data": {
      "text/plain": [
       "KNeighborsClassifier(n_neighbors=49)"
      ]
     },
     "execution_count": 12,
     "metadata": {},
     "output_type": "execute_result"
    }
   ],
   "source": [
    "kn49.fit(fish_data, target_data)"
   ]
  },
  {
   "cell_type": "code",
   "execution_count": 13,
   "id": "b57f25eb",
   "metadata": {},
   "outputs": [
    {
     "data": {
      "text/plain": [
       "0.7142857142857143"
      ]
     },
     "execution_count": 13,
     "metadata": {},
     "output_type": "execute_result"
    }
   ],
   "source": [
    "kn49.score(fish_data, target_data)"
   ]
  },
  {
   "cell_type": "code",
   "execution_count": 42,
   "id": "281be4eb",
   "metadata": {},
   "outputs": [],
   "source": [
    "score = []\n",
    "neighbors = []\n",
    "for i in range(5, 50):\n",
    "    kn = KNeighborsClassifier(n_neighbors= i)\n",
    "    kn.fit(fish_data, target_data)\n",
    "    score.append(kn.score(fish_data, target_data))\n",
    "    neighbors.append(i)    "
   ]
  },
  {
   "cell_type": "code",
   "execution_count": 43,
   "id": "419ba0a9",
   "metadata": {},
   "outputs": [],
   "source": [
    "df = pd.DataFrame(np.column_stack((neighbors, score)))"
   ]
  },
  {
   "cell_type": "code",
   "execution_count": 45,
   "id": "bed101d5",
   "metadata": {},
   "outputs": [],
   "source": [
    "df.columns = ['neighbors', 'score']"
   ]
  },
  {
   "cell_type": "code",
   "execution_count": 46,
   "id": "ad1d2262",
   "metadata": {},
   "outputs": [
    {
     "data": {
      "image/png": "[encoded data removed]",
      "text/plain": [
       "<Figure size 1080x576 with 1 Axes>"
      ]
     },
     "metadata": {
      "needs_background": "light"
     },
     "output_type": "display_data"
    }
   ],
   "source": [
    "plt.figure(figsize=(15,8))\n",
    "plt.plot(df['neighbors'], df['score'], marker = 's')\n",
    "plt.xlabel('neighbors')\n",
    "plt.ylabel('score')\n",
    "plt.xticks(neighbors)\n",
    "plt.yticks(score)\n",
    "plt.show()"
   ]
  },
  {
   "cell_type": "code",
   "execution_count": null,
   "id": "fea3dc4f",
   "metadata": {},
   "outputs": [],
   "source": []
  }
 ],
 "metadata": {
  "kernelspec": {
   "display_name": "Python 3 (ipykernel)",
   "language": "python",
   "name": "python3"
  },
  "language_info": {
   "codemirror_mode": {
    "name": "ipython",
    "version": 3
   },
   "file_extension": ".py",
   "mimetype": "text/x-python",
   "name": "python",
   "nbconvert_exporter": "python",
   "pygments_lexer": "ipython3",
   "version": "3.9.12"
  }
 },
 "nbformat": 4,
 "nbformat_minor": 5
}
