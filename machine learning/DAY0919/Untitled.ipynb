{
 "cells": [
  {
   "cell_type": "markdown",
   "id": "7e286dc0",
   "metadata": {},
   "source": [
    "# MNIST + PCA\n",
    "- Feature 784개 ==> 주요 Feature로 압축"
   ]
  },
  {
   "cell_type": "code",
   "execution_count": null,
   "id": "0e620040",
   "metadata": {},
   "outputs": [],
   "source": [
    "import tensorflow as tf"
   ]
  },
  {
   "cell_type": "code",
   "execution_count": 3,
   "id": "7e958125",
   "metadata": {},
   "outputs": [],
   "source": [
    "from tensorflow.keras.datasets.mnist import load_data\n",
    "from sklearn.decomposition import PCA\n",
    "import numpy as np\n",
    "import matplotlib.pyplot as plt"
   ]
  },
  {
   "cell_type": "markdown",
   "id": "194312a0",
   "metadata": {},
   "source": [
    "### [1] 데이터 로딩"
   ]
  },
  {
   "cell_type": "code",
   "execution_count": 4,
   "id": "caba3a1a",
   "metadata": {},
   "outputs": [],
   "source": [
    "(x_train, y_train), (x_test, y_test) = load_data()"
   ]
  },
  {
   "cell_type": "code",
   "execution_count": 9,
   "id": "6bd384cf",
   "metadata": {},
   "outputs": [
    {
     "data": {
      "text/plain": [
       "((60000, 784), (10000, 28, 28))"
      ]
     },
     "execution_count": 9,
     "metadata": {},
     "output_type": "execute_result"
    }
   ],
   "source": [
    "x_train.shape, x_test.shape"
   ]
  },
  {
   "cell_type": "markdown",
   "id": "dc58ccb7",
   "metadata": {},
   "source": [
    "### [2] 데이터 전처리"
   ]
  },
  {
   "cell_type": "code",
   "execution_count": 6,
   "id": "15baf5ce",
   "metadata": {},
   "outputs": [],
   "source": [
    "# reshape\n",
    "x_train = x_train.reshape(-1, 28*28)"
   ]
  },
  {
   "cell_type": "code",
   "execution_count": 12,
   "id": "b3e612fe",
   "metadata": {},
   "outputs": [],
   "source": [
    "# 스케일링\n",
    "x_train = x_train/255.0"
   ]
  },
  {
   "cell_type": "markdown",
   "id": "729d2de3",
   "metadata": {},
   "source": [
    "### [3] PCA(주성분 분석"
   ]
  },
  {
   "cell_type": "markdown",
   "id": "2d9f8ffd",
   "metadata": {},
   "source": [
    "### 방법 1"
   ]
  },
  {
   "cell_type": "code",
   "execution_count": 59,
   "id": "92846e0b",
   "metadata": {},
   "outputs": [],
   "source": [
    "pca = PCA(n_components=0.95)\n",
    "x_train_reduced = pca.fit_transform(x_train)"
   ]
  },
  {
   "cell_type": "code",
   "execution_count": 60,
   "id": "ca69d080",
   "metadata": {},
   "outputs": [
    {
     "name": "stdout",
     "output_type": "stream",
     "text": [
      "선택한 차원(픽셀) 수 : 154\n"
     ]
    }
   ],
   "source": [
    "print('선택한 차원(픽셀) 수 :', pca.n_components_)"
   ]
  },
  {
   "cell_type": "markdown",
   "id": "302ebe29",
   "metadata": {},
   "source": [
    "### 방법 2"
   ]
  },
  {
   "cell_type": "code",
   "execution_count": 61,
   "id": "faabab2d",
   "metadata": {},
   "outputs": [
    {
     "name": "stdout",
     "output_type": "stream",
     "text": [
      "주성분 갯수(차원): 154\n"
     ]
    }
   ],
   "source": [
    "cumsum = np.cumsum(pca.explained_variance_ratio_)\n",
    "d=np.argmax(cumsum>=0.95)+1\n",
    "\n",
    "print(f'주성분 갯수(차원): {d}')"
   ]
  },
  {
   "cell_type": "code",
   "execution_count": 62,
   "id": "8637577f",
   "metadata": {},
   "outputs": [
    {
     "data": {
      "image/png": "[encoded data removed]",
      "text/plain": [
       "<Figure size 432x288 with 1 Axes>"
      ]
     },
     "metadata": {
      "needs_background": "light"
     },
     "output_type": "display_data"
    }
   ],
   "source": [
    "plt.plot(cumsum)\n",
    "plt.plot([0,154.0], [0,0.95], 'r--')\n",
    "plt.plot(d, 0.95, 'ro')\n",
    "plt.show()"
   ]
  },
  {
   "cell_type": "code",
   "execution_count": 63,
   "id": "d8036ed6",
   "metadata": {},
   "outputs": [
    {
     "data": {
      "image/png": "[encoded data removed]",
      "text/plain": [
       "<Figure size 432x288 with 1 Axes>"
      ]
     },
     "metadata": {
      "needs_background": "light"
     },
     "output_type": "display_data"
    }
   ],
   "source": [
    "plt.imshow(x_train[0].reshape(28,28))\n",
    "plt.show()"
   ]
  },
  {
   "cell_type": "code",
   "execution_count": 64,
   "id": "61e7a29f",
   "metadata": {},
   "outputs": [
    {
     "data": {
      "text/plain": [
       "154"
      ]
     },
     "execution_count": 64,
     "metadata": {},
     "output_type": "execute_result"
    }
   ],
   "source": [
    "len(x_train_reduced[0])"
   ]
  },
  {
   "cell_type": "markdown",
   "id": "603a0b7b",
   "metadata": {},
   "source": [
    "#### 복원[3-3]"
   ]
  },
  {
   "cell_type": "code",
   "execution_count": 65,
   "id": "9adae2f9",
   "metadata": {},
   "outputs": [],
   "source": [
    "x_train_recovered = pca.inverse_transform(x_train_reduced)"
   ]
  },
  {
   "cell_type": "code",
   "execution_count": 66,
   "id": "3a513b27",
   "metadata": {},
   "outputs": [
    {
     "data": {
      "image/png": "[encoded data removed]",
      "text/plain": [
       "<Figure size 432x288 with 1 Axes>"
      ]
     },
     "metadata": {
      "needs_background": "light"
     },
     "output_type": "display_data"
    }
   ],
   "source": [
    "plt.imshow(x_train_recovered[0].reshape(28,28))\n",
    "plt.show()"
   ]
  },
  {
   "cell_type": "code",
   "execution_count": null,
   "id": "eb0090cd",
   "metadata": {},
   "outputs": [],
   "source": [
    "# 압축된 피쳐성분기반 원래 성분 복원\n",
    "reMnist = pca.inverse_transform(x_train_reduced)"
   ]
  },
  {
   "cell_type": "code",
   "execution_count": 132,
   "id": "ab821a8b",
   "metadata": {},
   "outputs": [],
   "source": [
    "def drawimage(selecimg, recoverimg):    \n",
    "    plt.subplot(1,2,1)\n",
    "    plt.imshow(selecimg.reshape(28,28), cmap='gray')\n",
    "    plt.subplot(1,2,2)\n",
    "    plt.imshow(recoverimg.reshape(28,28), cmap='gray')\n",
    "    plt.show()    "
   ]
  },
  {
   "cell_type": "code",
   "execution_count": 69,
   "id": "604360bf",
   "metadata": {},
   "outputs": [
    {
     "data": {
      "image/png": "[encoded data removed]",
      "text/plain": [
       "<Figure size 432x288 with 2 Axes>"
      ]
     },
     "metadata": {
      "needs_background": "light"
     },
     "output_type": "display_data"
    }
   ],
   "source": [
    "drawimage(x_train[0], x_train_recovered[0])"
   ]
  },
  {
   "cell_type": "code",
   "execution_count": 141,
   "id": "4310df66",
   "metadata": {},
   "outputs": [],
   "source": [
    "def drawimage1(selecimg, recoverimg):\n",
    "    for i in range(1,7):\n",
    "        plt.subplot(2,6,i*2-1)\n",
    "        plt.imshow(selecimg[i-1].reshape(28,28), cmap='gray')\n",
    "        plt.subplot(2,6,i*2)\n",
    "        plt.imshow(recoverimg[i-1].reshape(28,28), cmap='gray')\n",
    "        plt.show()    "
   ]
  },
  {
   "cell_type": "code",
   "execution_count": 142,
   "id": "28821a78",
   "metadata": {},
   "outputs": [
    {
     "data": {
      "image/png": "[encoded data removed]",
      "text/plain": [
       "<Figure size 432x288 with 2 Axes>"
      ]
     },
     "metadata": {
      "needs_background": "light"
     },
     "output_type": "display_data"
    },
    {
     "data": {
      "image/png": "[encoded data removed]",
      "text/plain": [
       "<Figure size 432x288 with 2 Axes>"
      ]
     },
     "metadata": {
      "needs_background": "light"
     },
     "output_type": "display_data"
    },
    {
     "data": {
      "image/png": "[encoded data removed]",
      "text/plain": [
       "<Figure size 432x288 with 2 Axes>"
      ]
     },
     "metadata": {
      "needs_background": "light"
     },
     "output_type": "display_data"
    },
    {
     "data": {
      "image/png": "[encoded data removed]",
      "text/plain": [
       "<Figure size 432x288 with 2 Axes>"
      ]
     },
     "metadata": {
      "needs_background": "light"
     },
     "output_type": "display_data"
    },
    {
     "data": {
      "image/png": "[encoded data removed]",
      "text/plain": [
       "<Figure size 432x288 with 2 Axes>"
      ]
     },
     "metadata": {
      "needs_background": "light"
     },
     "output_type": "display_data"
    },
    {
     "data": {
      "image/png": "[encoded data removed]",
      "text/plain": [
       "<Figure size 432x288 with 2 Axes>"
      ]
     },
     "metadata": {
      "needs_background": "light"
     },
     "output_type": "display_data"
    }
   ],
   "source": [
    "drawimage1(x_train, x_train_recovered)"
   ]
  },
  {
   "cell_type": "code",
   "execution_count": null,
   "id": "682a9eb8",
   "metadata": {},
   "outputs": [],
   "source": []
  }
 ],
 "metadata": {
  "kernelspec": {
   "display_name": "Python 3 (ipykernel)",
   "language": "python",
   "name": "python3"
  },
  "language_info": {
   "codemirror_mode": {
    "name": "ipython",
    "version": 3
   },
   "file_extension": ".py",
   "mimetype": "text/x-python",
   "name": "python",
   "nbconvert_exporter": "python",
   "pygments_lexer": "ipython3",
   "version": "3.9.12"
  }
 },
 "nbformat": 4,
 "nbformat_minor": 5
}
