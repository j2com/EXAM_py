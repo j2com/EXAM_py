{
 "cells": [
  {
   "cell_type": "markdown",
   "id": "a1fdfec9",
   "metadata": {},
   "source": [
    "## K-Means 분할적 군집화\n",
    "- 지정된 K만큼 임의의 중심점(Centroid)를 지정\n",
    "- 중심점(Centroid)를 기준으로 가까운 거리에 있는 데이터를 하나의 군집으로 묶기\n",
    "- 군집마다 다시 중심점(Centroid) 계산\n",
    "- 중심점(Centroid) 이동이 더 이상 변경되지 않을때까지 반복하는 방법"
   ]
  },
  {
   "cell_type": "markdown",
   "id": "4cd4da3e",
   "metadata": {},
   "source": [
    "## [1] 데이터 로딩 및 준비"
   ]
  },
  {
   "cell_type": "code",
   "execution_count": 1,
   "id": "425e7361",
   "metadata": {},
   "outputs": [],
   "source": [
    "import tensorflow as tf"
   ]
  },
  {
   "cell_type": "code",
   "execution_count": 2,
   "id": "2895e56f",
   "metadata": {},
   "outputs": [],
   "source": [
    "from sklearn.datasets import load_iris\n",
    "from sklearn.cluster import KMeans\n",
    "import matplotlib.pyplot as plt\n",
    "import numpy as np"
   ]
  },
  {
   "cell_type": "code",
   "execution_count": 3,
   "id": "6632fd43",
   "metadata": {},
   "outputs": [],
   "source": [
    "iris = load_iris()"
   ]
  },
  {
   "cell_type": "code",
   "execution_count": 9,
   "id": "012fbe2f",
   "metadata": {},
   "outputs": [
    {
     "data": {
      "text/plain": [
       "(150, 2)"
      ]
     },
     "execution_count": 9,
     "metadata": {},
     "output_type": "execute_result"
    }
   ],
   "source": [
    "# 비지도 학습 => target 필요X\n",
    "data = iris.data[:,:2]\n",
    "target = iris.target\n",
    "data.shape"
   ]
  },
  {
   "cell_type": "markdown",
   "id": "873d6cd9",
   "metadata": {},
   "source": [
    "## [2] 데이터 처리"
   ]
  },
  {
   "cell_type": "code",
   "execution_count": 30,
   "id": "64f54e12",
   "metadata": {},
   "outputs": [],
   "source": [
    "irisCluster = KMeans(n_clusters=4)"
   ]
  },
  {
   "cell_type": "code",
   "execution_count": 31,
   "id": "c61cd3d6",
   "metadata": {},
   "outputs": [
    {
     "data": {
      "text/plain": [
       "KMeans(n_clusters=4)"
      ]
     },
     "execution_count": 31,
     "metadata": {},
     "output_type": "execute_result"
    }
   ],
   "source": [
    "irisCluster.fit(data)"
   ]
  },
  {
   "cell_type": "code",
   "execution_count": 32,
   "id": "da78bac9",
   "metadata": {},
   "outputs": [
    {
     "name": "stdout",
     "output_type": "stream",
     "text": [
      "cluster_centers_ : [[4.77777778 2.94444444]\n",
      " [5.9245283  2.7509434 ]\n",
      " [6.8804878  3.09756098]\n",
      " [5.22068966 3.66551724]]\n",
      "labels : [3 0 0 0 3 3 0 3 0 0 3 0 0 0 3 3 3 3 3 3 3 3 3 3 0 0 3 3 3 0 0 3 3 3 0 0 3\n",
      " 3 0 3 3 0 0 3 3 0 3 0 3 0 2 2 2 1 2 1 2 0 2 0 0 1 1 1 1 2 1 1 1 1 1 1 1 1\n",
      " 1 2 2 2 1 1 1 1 1 1 1 1 2 1 1 1 1 1 1 0 1 1 1 1 0 1 2 1 2 1 2 2 0 2 2 2 2\n",
      " 1 2 1 1 2 2 2 2 1 2 1 2 1 2 2 1 1 1 2 2 2 1 1 1 2 2 2 1 2 2 2 1 2 2 2 1 2\n",
      " 1 1]\n",
      "label_Counts : [0 1 2 3]\n",
      "28.01114916080846\n",
      "7\n"
     ]
    }
   ],
   "source": [
    "# cluster 객체 속성 확인\n",
    "print(f'cluster_centers_ : {irisCluster.cluster_centers_}')\n",
    "print(f'labels : {irisCluster.labels_}')\n",
    "print(f'label_Counts : {np.unique(irisCluster.labels_)}')\n",
    "print(irisCluster.inertia_)\n",
    "print(irisCluster.n_iter_)"
   ]
  },
  {
   "cell_type": "markdown",
   "id": "ecbe1f5b",
   "metadata": {},
   "source": [
    "### 시각화"
   ]
  },
  {
   "cell_type": "code",
   "execution_count": 33,
   "id": "d9e86a3e",
   "metadata": {},
   "outputs": [],
   "source": [
    "# 샘플데이터 => 결정된 군집으로 변환\n",
    "transiris = irisCluster.transform(data)"
   ]
  },
  {
   "cell_type": "code",
   "execution_count": 34,
   "id": "b4705291",
   "metadata": {},
   "outputs": [],
   "source": [
    "import pandas as pd"
   ]
  },
  {
   "cell_type": "code",
   "execution_count": 35,
   "id": "8c60c608",
   "metadata": {},
   "outputs": [
    {
     "data": {
      "text/plain": [
       "(150, 2)"
      ]
     },
     "execution_count": 35,
     "metadata": {},
     "output_type": "execute_result"
    }
   ],
   "source": [
    "irisDF = pd.DataFrame(data)\n",
    "irisDF.shape"
   ]
  },
  {
   "cell_type": "code",
   "execution_count": 37,
   "id": "a61fae32",
   "metadata": {},
   "outputs": [
    {
     "data": {
      "image/png": "[encoded data removed]",
      "text/plain": [
       "<Figure size 432x288 with 1 Axes>"
      ]
     },
     "metadata": {
      "needs_background": "light"
     },
     "output_type": "display_data"
    }
   ],
   "source": [
    "plt.scatter(data[:,0], data[:,1], c='skyblue')\n",
    "plt.plot(irisCluster.cluster_centers_[0][0],irisCluster.cluster_centers_[0][1],'ro',label='c1')\n",
    "plt.plot(irisCluster.cluster_centers_[1][0],irisCluster.cluster_centers_[1][1],'g^',label='c2')\n",
    "plt.legend()\n",
    "plt.show()"
   ]
  },
  {
   "cell_type": "code",
   "execution_count": null,
   "id": "53ce6217",
   "metadata": {},
   "outputs": [],
   "source": []
  }
 ],
 "metadata": {
  "kernelspec": {
   "display_name": "Python 3 (ipykernel)",
   "language": "python",
   "name": "python3"
  },
  "language_info": {
   "codemirror_mode": {
    "name": "ipython",
    "version": 3
   },
   "file_extension": ".py",
   "mimetype": "text/x-python",
   "name": "python",
   "nbconvert_exporter": "python",
   "pygments_lexer": "ipython3",
   "version": "3.9.12"
  }
 },
 "nbformat": 4,
 "nbformat_minor": 5
}
