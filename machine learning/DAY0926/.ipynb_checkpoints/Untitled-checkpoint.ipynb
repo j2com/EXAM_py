{
 "cells": [
  {
   "cell_type": "markdown",
   "id": "0118967e",
   "metadata": {},
   "source": [
    "# 텍스트 전처리\n",
    "---\n",
    "- 패키지 설치\n",
    "    - NLTK: pip install nltk\n",
    "    - Konply : pip install konply"
   ]
  },
  {
   "cell_type": "markdown",
   "id": "9bacbb77",
   "metadata": {},
   "source": [
    "## [1] 토큰화(Tokenization)\n",
    "---\n",
    "- 문장/문서를 의미르 지닌 작은 단위로 나누는 것\n",
    "- 나누어진 단어를 토큰(Token)이라 함\n",
    "- 종류\n",
    "    - 문장 토큰화\n",
    "    - 단어 토큰화"
   ]
  },
  {
   "cell_type": "code",
   "execution_count": 22,
   "id": "72a4f145",
   "metadata": {},
   "outputs": [],
   "source": [
    "from nltk.tokenize import sent_tokenize, word_tokenize\n",
    "import nltk"
   ]
  },
  {
   "cell_type": "code",
   "execution_count": 30,
   "id": "67bf336f",
   "metadata": {},
   "outputs": [
    {
     "data": {
      "text/plain": [
       "True"
      ]
     },
     "execution_count": 30,
     "metadata": {},
     "output_type": "execute_result"
    }
   ],
   "source": [
    "# nltk Corpus(말뭉치) 데이터셋 다운받기\n",
    "nltk.download('all', quiet=True)"
   ]
  },
  {
   "cell_type": "code",
   "execution_count": 65,
   "id": "32a88a42",
   "metadata": {},
   "outputs": [],
   "source": [
    "raw_text1='''\n",
    "In Korea, more than half of residents speak Korean?\n",
    "GitHub Actions makes it easy to automate? \n",
    "all your software workflows!\n",
    "'''\n",
    "raw_text2='''\n",
    "GitHub Actions makes it easy to automate all your software workflows \n",
    "'''"
   ]
  },
  {
   "cell_type": "code",
   "execution_count": 66,
   "id": "c3eef984",
   "metadata": {},
   "outputs": [
    {
     "name": "stdout",
     "output_type": "stream",
     "text": [
      "['In', 'Korea', ',', 'more', 'than', 'half', 'of', 'residents', 'speak', 'Korean', '?', 'GitHub', 'Actions', 'makes', 'it', 'easy', 'to', 'automate', '?', 'all', 'your', 'software', 'workflows', '!']\n"
     ]
    }
   ],
   "source": [
    "result1 = word_tokenize(raw_text1)\n",
    "print(result1)"
   ]
  },
  {
   "cell_type": "code",
   "execution_count": 67,
   "id": "e5315bab",
   "metadata": {},
   "outputs": [
    {
     "name": "stdout",
     "output_type": "stream",
     "text": [
      "['GitHub', 'Actions', 'makes', 'it', 'easy', 'to', 'automate', 'all', 'your', 'software', 'workflows']\n"
     ]
    }
   ],
   "source": [
    "result2 = word_tokenize(raw_text2)\n",
    "print(result2)"
   ]
  },
  {
   "cell_type": "code",
   "execution_count": 68,
   "id": "60ab6629",
   "metadata": {},
   "outputs": [],
   "source": [
    "text_raw = [raw_text1,raw_text2]"
   ]
  },
  {
   "cell_type": "code",
   "execution_count": 69,
   "id": "2dba49aa",
   "metadata": {},
   "outputs": [],
   "source": [
    "sent_result=sent_tokenize(raw_text1)"
   ]
  },
  {
   "cell_type": "code",
   "execution_count": 70,
   "id": "164f721f",
   "metadata": {},
   "outputs": [
    {
     "data": {
      "text/plain": [
       "['\\nIn Korea, more than half of residents speak Korean?',\n",
       " 'GitHub Actions makes it easy to automate?',\n",
       " 'all your software workflows!']"
      ]
     },
     "execution_count": 70,
     "metadata": {},
     "output_type": "execute_result"
    }
   ],
   "source": [
    "sent_result"
   ]
  },
  {
   "cell_type": "code",
   "execution_count": 71,
   "id": "995a2a74",
   "metadata": {},
   "outputs": [
    {
     "data": {
      "text/plain": [
       "3"
      ]
     },
     "execution_count": 71,
     "metadata": {},
     "output_type": "execute_result"
    }
   ],
   "source": [
    "len(sent_result)"
   ]
  },
  {
   "cell_type": "markdown",
   "id": "82ddff65",
   "metadata": {},
   "source": [
    "## 여러 문장에 토큰 추출\n",
    "---"
   ]
  },
  {
   "cell_type": "code",
   "execution_count": 72,
   "id": "35e47562",
   "metadata": {},
   "outputs": [
    {
     "name": "stdout",
     "output_type": "stream",
     "text": [
      "sent => \n",
      "In Korea, more than half of residents speak Korean?\n",
      "GitHub Actions makes it easy to automate? \n",
      "all your software workflows!\n",
      "\n",
      "['In', 'Korea', ',', 'more', 'than', 'half', 'of', 'residents', 'speak', 'Korean', '?', 'GitHub', 'Actions', 'makes', 'it', 'easy', 'to', 'automate', '?', 'all', 'your', 'software', 'workflows', '!']\n",
      "-----\n",
      "sent => \n",
      "GitHub Actions makes it easy to automate all your software workflows \n",
      "\n",
      "['GitHub', 'Actions', 'makes', 'it', 'easy', 'to', 'automate', 'all', 'your', 'software', 'workflows']\n",
      "-----\n",
      "------\n",
      "[['GitHub', 'Actions', 'makes', 'it', 'easy', 'to', 'automate', 'all', 'your', 'software', 'workflows']]\n"
     ]
    }
   ],
   "source": [
    "# 문장 단위로 추출\n",
    "for sent in text_raw:\n",
    "    total_token=[]\n",
    "    \n",
    "    # 문장에서 추출한 토큰\n",
    "    print(f'sent => {sent}')\n",
    "    sentToken=word_tokenize(sent)\n",
    "    print(sentToken,'-----',sep='\\n')\n",
    "    # 모든 문장의 토큰에 추가\n",
    "    total_token.append(sentToken)\n",
    "print('------')\n",
    "print(total_token)"
   ]
  },
  {
   "cell_type": "markdown",
   "id": "867a897e",
   "metadata": {},
   "source": [
    "## 한글\n",
    "---"
   ]
  },
  {
   "cell_type": "code",
   "execution_count": 73,
   "id": "476bd057",
   "metadata": {},
   "outputs": [],
   "source": [
    "from konlpy.tag import Okt\n",
    "\n",
    "# 형태소 분리 객체\n",
    "okt = Okt()"
   ]
  },
  {
   "cell_type": "code",
   "execution_count": 74,
   "id": "d62916e8",
   "metadata": {},
   "outputs": [
    {
     "name": "stdout",
     "output_type": "stream",
     "text": [
      "['오늘', '은', '월요일', '입니다']\n"
     ]
    }
   ],
   "source": [
    "result=okt.morphs(\"오늘은 월요일입니다\")\n",
    "print(result)"
   ]
  },
  {
   "cell_type": "code",
   "execution_count": 75,
   "id": "8f34f5e6",
   "metadata": {},
   "outputs": [
    {
     "name": "stdout",
     "output_type": "stream",
     "text": [
      "[('오늘', 'Noun'), ('은', 'Josa'), ('월요일', 'Noun'), ('이다', 'Adjective'), ('.', 'Punctuation')]\n"
     ]
    }
   ],
   "source": [
    "# 형태소 분리 후 태깅(Tagging) => 품사\n",
    "result2=okt.pos(\"오늘은 월요일입니다.\", stem=True)\n",
    "print(result2)"
   ]
  },
  {
   "cell_type": "markdown",
   "id": "311dd032",
   "metadata": {},
   "source": [
    "### [2] 정제 & 정규화\n",
    "---\n",
    "- 불영어 제거 => 노이즈 제거\n",
    "- 텍스트의 동일화\n",
    "    - 대문자 또는 소문자로 통일\n",
    "    - 문장의 길이"
   ]
  },
  {
   "cell_type": "markdown",
   "id": "28e76843",
   "metadata": {},
   "source": [
    "### [2-1] 불용어(Stopword)"
   ]
  },
  {
   "cell_type": "code",
   "execution_count": 76,
   "id": "364788f7",
   "metadata": {},
   "outputs": [
    {
     "data": {
      "text/plain": [
       "<WordListCorpusReader in 'C:\\\\Users\\\\ss\\\\AppData\\\\Roaming\\\\nltk_data\\\\corpora\\\\stopwords'>"
      ]
     },
     "execution_count": 76,
     "metadata": {},
     "output_type": "execute_result"
    }
   ],
   "source": [
    "nltk.corpus.stopwords"
   ]
  },
  {
   "cell_type": "code",
   "execution_count": 77,
   "id": "b4d01c72",
   "metadata": {},
   "outputs": [],
   "source": [
    "en_stopwords=nltk.corpus.stopwords.words('english')"
   ]
  },
  {
   "cell_type": "code",
   "execution_count": 78,
   "id": "526880c2",
   "metadata": {},
   "outputs": [
    {
     "data": {
      "text/plain": [
       "179"
      ]
     },
     "execution_count": 78,
     "metadata": {},
     "output_type": "execute_result"
    }
   ],
   "source": [
    "len(en_stopwords)"
   ]
  },
  {
   "cell_type": "code",
   "execution_count": 79,
   "id": "5f02c0b4",
   "metadata": {},
   "outputs": [
    {
     "data": {
      "text/plain": [
       "['i', 'me', 'my', 'myself', 'we', 'our', 'ours', 'ourselves', 'you', \"you're\"]"
      ]
     },
     "execution_count": 79,
     "metadata": {},
     "output_type": "execute_result"
    }
   ],
   "source": [
    "en_stopwords[:10]"
   ]
  },
  {
   "cell_type": "markdown",
   "id": "8aaaf448",
   "metadata": {},
   "source": [
    "### [2-2] 어간 및 표제어 처리\n",
    "---"
   ]
  },
  {
   "cell_type": "code",
   "execution_count": 80,
   "id": "281e3571",
   "metadata": {},
   "outputs": [],
   "source": [
    "from nltk.stem import LancasterStemmer"
   ]
  },
  {
   "cell_type": "code",
   "execution_count": 81,
   "id": "03b9046e",
   "metadata": {},
   "outputs": [],
   "source": [
    "lstem = LancasterStemmer()"
   ]
  },
  {
   "cell_type": "code",
   "execution_count": 82,
   "id": "1878b428",
   "metadata": {},
   "outputs": [
    {
     "data": {
      "text/plain": [
       "('work', 'work', 'work')"
      ]
     },
     "execution_count": 82,
     "metadata": {},
     "output_type": "execute_result"
    }
   ],
   "source": [
    "lstem.stem('working'), lstem.stem('works'), lstem.stem('worked')"
   ]
  },
  {
   "cell_type": "code",
   "execution_count": 83,
   "id": "a1926e65",
   "metadata": {},
   "outputs": [
    {
     "data": {
      "text/plain": [
       "('amus', 'amus')"
      ]
     },
     "execution_count": 83,
     "metadata": {},
     "output_type": "execute_result"
    }
   ],
   "source": [
    "lstem.stem('amuse'), lstem.stem('amused')"
   ]
  },
  {
   "cell_type": "code",
   "execution_count": 84,
   "id": "e88f7795",
   "metadata": {},
   "outputs": [
    {
     "data": {
      "text/plain": [
       "('happy', 'happy')"
      ]
     },
     "execution_count": 84,
     "metadata": {},
     "output_type": "execute_result"
    }
   ],
   "source": [
    "lstem.stem('happy'), lstem.stem('happiness')"
   ]
  },
  {
   "cell_type": "code",
   "execution_count": 85,
   "id": "e50cb537",
   "metadata": {},
   "outputs": [],
   "source": [
    "# 표제어(사전에 등록된 단어 추출)\n",
    "from nltk.stem import WordNetLemmatizer"
   ]
  },
  {
   "cell_type": "code",
   "execution_count": 86,
   "id": "676c233b",
   "metadata": {},
   "outputs": [],
   "source": [
    "wlemma=WordNetLemmatizer()"
   ]
  },
  {
   "cell_type": "code",
   "execution_count": 87,
   "id": "6c0db6d3",
   "metadata": {},
   "outputs": [
    {
     "data": {
      "text/plain": [
       "('work', 'work')"
      ]
     },
     "execution_count": 87,
     "metadata": {},
     "output_type": "execute_result"
    }
   ],
   "source": [
    "wlemma.lemmatize('working','v'), wlemma.lemmatize('worked','v')"
   ]
  },
  {
   "cell_type": "code",
   "execution_count": 88,
   "id": "04767b00",
   "metadata": {},
   "outputs": [
    {
     "data": {
      "text/plain": [
       "('amuse', 'amuse')"
      ]
     },
     "execution_count": 88,
     "metadata": {},
     "output_type": "execute_result"
    }
   ],
   "source": [
    "wlemma.lemmatize('amusing','v'), wlemma.lemmatize('amused','v')"
   ]
  },
  {
   "cell_type": "markdown",
   "id": "66187188",
   "metadata": {},
   "source": [
    "### [3] 텍스트 벡터화\n",
    "---\n",
    "- 텍스트 => 수치화\n",
    "- 희소벡터(OHE)BOW 방식 --> Count기반, TH-IDF 기반\n",
    "- 밀집벡터 : Embedding 방식, Word2Vect"
   ]
  },
  {
   "cell_type": "code",
   "execution_count": 89,
   "id": "3e5130bc",
   "metadata": {},
   "outputs": [],
   "source": [
    "from sklearn.feature_extraction.text import CountVectorizer, TfidfVectorizer"
   ]
  },
  {
   "cell_type": "code",
   "execution_count": 90,
   "id": "07037ea9",
   "metadata": {},
   "outputs": [
    {
     "data": {
      "text/plain": [
       "['\\nIn Korea, more than half of residents speak Korean?\\nGitHub Actions makes it easy to automate? \\nall your software workflows!\\n',\n",
       " '\\nGitHub Actions makes it easy to automate all your software workflows \\n']"
      ]
     },
     "execution_count": 90,
     "metadata": {},
     "output_type": "execute_result"
    }
   ],
   "source": [
    "corpus=[raw_text1, raw_text2]\n",
    "corpus"
   ]
  },
  {
   "cell_type": "code",
   "execution_count": 91,
   "id": "e94e9fe3",
   "metadata": {},
   "outputs": [],
   "source": [
    "ohe = CountVectorizer()"
   ]
  },
  {
   "cell_type": "code",
   "execution_count": 93,
   "id": "b1920149",
   "metadata": {},
   "outputs": [],
   "source": [
    "result = ohe.fit_transform(corpus)"
   ]
  },
  {
   "cell_type": "code",
   "execution_count": 94,
   "id": "636b5185",
   "metadata": {},
   "outputs": [
    {
     "name": "stdout",
     "output_type": "stream",
     "text": [
      "  (0, 6)\t1\n",
      "  (0, 8)\t1\n",
      "  (0, 11)\t1\n",
      "  (0, 16)\t1\n",
      "  (0, 5)\t1\n",
      "  (0, 12)\t1\n",
      "  (0, 13)\t1\n",
      "  (0, 15)\t1\n",
      "  (0, 9)\t1\n",
      "  (0, 4)\t1\n",
      "  (0, 0)\t1\n",
      "  (0, 10)\t1\n",
      "  (0, 7)\t1\n",
      "  (0, 3)\t1\n",
      "  (0, 17)\t1\n",
      "  (0, 2)\t1\n",
      "  (0, 1)\t1\n",
      "  (0, 19)\t1\n",
      "  (0, 14)\t1\n",
      "  (0, 18)\t1\n",
      "  (1, 4)\t1\n",
      "  (1, 0)\t1\n",
      "  (1, 10)\t1\n",
      "  (1, 7)\t1\n",
      "  (1, 3)\t1\n",
      "  (1, 17)\t1\n",
      "  (1, 2)\t1\n",
      "  (1, 1)\t1\n",
      "  (1, 19)\t1\n",
      "  (1, 14)\t1\n",
      "  (1, 18)\t1\n"
     ]
    }
   ],
   "source": [
    "print(result)"
   ]
  },
  {
   "cell_type": "code",
   "execution_count": 95,
   "id": "cd0fd45c",
   "metadata": {},
   "outputs": [],
   "source": [
    "result=result.toarray()"
   ]
  },
  {
   "cell_type": "code",
   "execution_count": 97,
   "id": "bb886a58",
   "metadata": {},
   "outputs": [
    {
     "name": "stdout",
     "output_type": "stream",
     "text": [
      "(2, 20) [[1 1 1 1 1 1 1 1 1 1 1 1 1 1 1 1 1 1 1 1]\n",
      " [1 1 1 1 1 0 0 1 0 0 1 0 0 0 1 0 0 1 1 1]]\n"
     ]
    }
   ],
   "source": [
    "print(result.shape, result)"
   ]
  },
  {
   "cell_type": "code",
   "execution_count": 98,
   "id": "a97e53fa",
   "metadata": {},
   "outputs": [],
   "source": [
    "# TF-IDF 기반\n",
    "tfidf = TfidfVectorizer()"
   ]
  },
  {
   "cell_type": "code",
   "execution_count": 100,
   "id": "9d94b2e5",
   "metadata": {},
   "outputs": [],
   "source": [
    "tf_corpus=tfidf.fit_transform(corpus)"
   ]
  },
  {
   "cell_type": "code",
   "execution_count": 101,
   "id": "4d102367",
   "metadata": {},
   "outputs": [
    {
     "data": {
      "text/plain": [
       "scipy.sparse.csr.csr_matrix"
      ]
     },
     "execution_count": 101,
     "metadata": {},
     "output_type": "execute_result"
    }
   ],
   "source": [
    "type(tf_corpus)"
   ]
  },
  {
   "cell_type": "code",
   "execution_count": 102,
   "id": "1c25ca4f",
   "metadata": {},
   "outputs": [],
   "source": [
    "tf_corpus=tf_corpus.toarray()"
   ]
  },
  {
   "cell_type": "code",
   "execution_count": 103,
   "id": "67f54c35",
   "metadata": {},
   "outputs": [
    {
     "data": {
      "text/plain": [
       "array([[0.18641024, 0.18641024, 0.18641024, 0.18641024, 0.18641024,\n",
       "        0.26199309, 0.26199309, 0.18641024, 0.26199309, 0.26199309,\n",
       "        0.18641024, 0.26199309, 0.26199309, 0.26199309, 0.18641024,\n",
       "        0.26199309, 0.26199309, 0.18641024, 0.18641024, 0.18641024],\n",
       "       [0.30151134, 0.30151134, 0.30151134, 0.30151134, 0.30151134,\n",
       "        0.        , 0.        , 0.30151134, 0.        , 0.        ,\n",
       "        0.30151134, 0.        , 0.        , 0.        , 0.30151134,\n",
       "        0.        , 0.        , 0.30151134, 0.30151134, 0.30151134]])"
      ]
     },
     "execution_count": 103,
     "metadata": {},
     "output_type": "execute_result"
    }
   ],
   "source": [
    "tf_corpus"
   ]
  },
  {
   "cell_type": "code",
   "execution_count": 104,
   "id": "6c517fca",
   "metadata": {},
   "outputs": [],
   "source": [
    "text='''\n",
    "sent='Wiki is in Ward is original description: The simplest online database that could possibly work.\\\n",
    "Wiki is a piece of server software that allows users to freely create and edit Web page content using \n",
    "any Web browser. Wiki supports hyperlinks and has a simple text syntax for creating new pages and crosslinks \n",
    "between internal pages on the fly.\\ Wiki is unusual among group communication mechanisms in that \n",
    "it allows the organization of contributions to be edited in addition to the content itself.Like many simple concepts, \n",
    "\"open editing\" has some profound and subtle effects on Wiki usage. Allowing everyday users to create and edit any page \n",
    "in a Web site is exciting in that it encourages democratic use of the Web and promotes content composition \n",
    "by nontechnical users.'\n",
    "'''"
   ]
  },
  {
   "cell_type": "code",
   "execution_count": 105,
   "id": "4d4dff86",
   "metadata": {},
   "outputs": [],
   "source": [
    "sen_text = sent_tokenize(text)"
   ]
  },
  {
   "cell_type": "code",
   "execution_count": 106,
   "id": "5810f975",
   "metadata": {},
   "outputs": [
    {
     "data": {
      "text/plain": [
       "[\"\\nsent='Wiki is in Ward is original description: The simplest online database that could possibly work.Wiki is a piece of server software that allows users to freely create and edit Web page content using \\nany Web browser.\",\n",
       " 'Wiki supports hyperlinks and has a simple text syntax for creating new pages and crosslinks \\nbetween internal pages on the fly.\\\\ Wiki is unusual among group communication mechanisms in that \\nit allows the organization of contributions to be edited in addition to the content itself.Like many simple concepts, \\n\"open editing\" has some profound and subtle effects on Wiki usage.',\n",
       " \"Allowing everyday users to create and edit any page \\nin a Web site is exciting in that it encourages democratic use of the Web and promotes content composition \\nby nontechnical users.'\"]"
      ]
     },
     "execution_count": 106,
     "metadata": {},
     "output_type": "execute_result"
    }
   ],
   "source": [
    "sen_text"
   ]
  },
  {
   "cell_type": "code",
   "execution_count": 108,
   "id": "4fdff399",
   "metadata": {},
   "outputs": [
    {
     "data": {
      "text/plain": [
       "3"
      ]
     },
     "execution_count": 108,
     "metadata": {},
     "output_type": "execute_result"
    }
   ],
   "source": [
    "len(sen_text)"
   ]
  },
  {
   "cell_type": "code",
   "execution_count": 115,
   "id": "ba15a35a",
   "metadata": {},
   "outputs": [],
   "source": [
    "en_stopwords=nltk.corpus.stopwords.words('english')"
   ]
  },
  {
   "cell_type": "code",
   "execution_count": 124,
   "id": "8af0fcbe",
   "metadata": {},
   "outputs": [
    {
     "name": "stdout",
     "output_type": "stream",
     "text": [
      "[\"sent='Wiki\", 'is', 'in', 'Ward', 'is', 'original', 'description', ':', 'The', 'simplest', 'online', 'database', 'that', 'could', 'possibly', 'work.Wiki', 'is', 'a', 'piece', 'of', 'server', 'software', 'that', 'allows', 'users', 'to', 'freely', 'create', 'and', 'edit', 'Web', 'page', 'content', 'using', 'any', 'Web', 'browser', '.']\n",
      "--------------\n",
      "['Wiki', 'supports', 'hyperlinks', 'and', 'has', 'a', 'simple', 'text', 'syntax', 'for', 'creating', 'new', 'pages', 'and', 'crosslinks', 'between', 'internal', 'pages', 'on', 'the', 'fly.\\\\', 'Wiki', 'is', 'unusual', 'among', 'group', 'communication', 'mechanisms', 'in', 'that', 'it', 'allows', 'the', 'organization', 'of', 'contributions', 'to', 'be', 'edited', 'in', 'addition', 'to', 'the', 'content', 'itself.Like', 'many', 'simple', 'concepts', ',', \"''\", 'open', 'editing', \"''\", 'has', 'some', 'profound', 'and', 'subtle', 'effects', 'on', 'Wiki', 'usage', '.']\n",
      "--------------\n",
      "['Allowing', 'everyday', 'users', 'to', 'create', 'and', 'edit', 'any', 'page', 'in', 'a', 'Web', 'site', 'is', 'exciting', 'in', 'that', 'it', 'encourages', 'democratic', 'use', 'of', 'the', 'Web', 'and', 'promotes', 'content', 'composition', 'by', 'nontechnical', 'users', '.', \"'\"]\n",
      "--------------\n",
      "[[\"sent='Wiki\", 'is', 'in', 'Ward', 'is', 'original', 'description', ':', 'The', 'simplest', 'online', 'database', 'that', 'could', 'possibly', 'work.Wiki', 'is', 'a', 'piece', 'of', 'server', 'software', 'that', 'allows', 'users', 'to', 'freely', 'create', 'and', 'edit', 'Web', 'page', 'content', 'using', 'any', 'Web', 'browser', '.'], ['Wiki', 'supports', 'hyperlinks', 'and', 'has', 'a', 'simple', 'text', 'syntax', 'for', 'creating', 'new', 'pages', 'and', 'crosslinks', 'between', 'internal', 'pages', 'on', 'the', 'fly.\\\\', 'Wiki', 'is', 'unusual', 'among', 'group', 'communication', 'mechanisms', 'in', 'that', 'it', 'allows', 'the', 'organization', 'of', 'contributions', 'to', 'be', 'edited', 'in', 'addition', 'to', 'the', 'content', 'itself.Like', 'many', 'simple', 'concepts', ',', \"''\", 'open', 'editing', \"''\", 'has', 'some', 'profound', 'and', 'subtle', 'effects', 'on', 'Wiki', 'usage', '.'], ['Allowing', 'everyday', 'users', 'to', 'create', 'and', 'edit', 'any', 'page', 'in', 'a', 'Web', 'site', 'is', 'exciting', 'in', 'that', 'it', 'encourages', 'democratic', 'use', 'of', 'the', 'Web', 'and', 'promotes', 'content', 'composition', 'by', 'nontechnical', 'users', '.', \"'\"]] 3\n"
     ]
    }
   ],
   "source": [
    "result=[]\n",
    "for sent in sen_text:\n",
    "    word = word_tokenize(sent)\n",
    "    print(word)\n",
    "    print('--------------')\n",
    "    if word not in en_stopwords:\n",
    "        result.append(word)\n",
    "print(result, len(result))"
   ]
  },
  {
   "cell_type": "markdown",
   "id": "f7649026",
   "metadata": {},
   "source": [
    "## Tokenizer 객체 생성\n",
    "---"
   ]
  },
  {
   "cell_type": "code",
   "execution_count": null,
   "id": "c39a94a7",
   "metadata": {},
   "outputs": [],
   "source": []
  }
 ],
 "metadata": {
  "kernelspec": {
   "display_name": "Python 3 (ipykernel)",
   "language": "python",
   "name": "python3"
  },
  "language_info": {
   "codemirror_mode": {
    "name": "ipython",
    "version": 3
   },
   "file_extension": ".py",
   "mimetype": "text/x-python",
   "name": "python",
   "nbconvert_exporter": "python",
   "pygments_lexer": "ipython3",
   "version": "3.9.12"
  }
 },
 "nbformat": 4,
 "nbformat_minor": 5
}
