{
 "cells": [
  {
   "cell_type": "markdown",
   "id": "40f0325f",
   "metadata": {},
   "source": [
    "# SGDClassifier\n",
    "\n",
    "- LogisiticRegression + SGD(확률적 경사하강법) 적용한 분류\n",
    "- 필수 파라미터 => 손실함수 설정"
   ]
  },
  {
   "cell_type": "code",
   "execution_count": 208,
   "id": "5391bc5e",
   "metadata": {},
   "outputs": [],
   "source": [
    "# 모듈 로딩 ----------------------------------------------------\n",
    "from sklearn.linear_model import LogisticRegression\n",
    "import matplotlib.pyplot as plt\n",
    "import numpy as np\n",
    "import pandas as pd\n",
    "from sklearn.model_selection import train_test_split\n",
    "from sklearn.preprocessing import StandardScaler\n",
    "from sklearn.linear_model import SGDClassifier"
   ]
  },
  {
   "cell_type": "code",
   "execution_count": 209,
   "id": "ac4f9aae",
   "metadata": {},
   "outputs": [],
   "source": [
    "# 경고 무시 -------------------------\n",
    "# 향후 deprecated 된다는 경고 출력 막음\n",
    "import warnings\n",
    "warnings.filterwarnings(action='ignore')"
   ]
  },
  {
   "cell_type": "code",
   "execution_count": 210,
   "id": "8b385a9b",
   "metadata": {},
   "outputs": [],
   "source": [
    "df = pd.read_csv('../../Data/fish.csv')"
   ]
  },
  {
   "cell_type": "code",
   "execution_count": 211,
   "id": "84902bf2",
   "metadata": {},
   "outputs": [
    {
     "data": {
      "text/html": [
       "<div>\n",
       "<style scoped>\n",
       "    .dataframe tbody tr th:only-of-type {\n",
       "        vertical-align: middle;\n",
       "    }\n",
       "\n",
       "    .dataframe tbody tr th {\n",
       "        vertical-align: top;\n",
       "    }\n",
       "\n",
       "    .dataframe thead th {\n",
       "        text-align: right;\n",
       "    }\n",
       "</style>\n",
       "<table border=\"1\" class=\"dataframe\">\n",
       "  <thead>\n",
       "    <tr style=\"text-align: right;\">\n",
       "      <th></th>\n",
       "      <th>Species</th>\n",
       "      <th>Weight</th>\n",
       "      <th>Length</th>\n",
       "      <th>Diagonal</th>\n",
       "      <th>Height</th>\n",
       "      <th>Width</th>\n",
       "    </tr>\n",
       "  </thead>\n",
       "  <tbody>\n",
       "    <tr>\n",
       "      <th>0</th>\n",
       "      <td>Bream</td>\n",
       "      <td>242.0</td>\n",
       "      <td>25.4</td>\n",
       "      <td>30.0</td>\n",
       "      <td>11.5200</td>\n",
       "      <td>4.0200</td>\n",
       "    </tr>\n",
       "    <tr>\n",
       "      <th>1</th>\n",
       "      <td>Bream</td>\n",
       "      <td>290.0</td>\n",
       "      <td>26.3</td>\n",
       "      <td>31.2</td>\n",
       "      <td>12.4800</td>\n",
       "      <td>4.3056</td>\n",
       "    </tr>\n",
       "    <tr>\n",
       "      <th>2</th>\n",
       "      <td>Bream</td>\n",
       "      <td>340.0</td>\n",
       "      <td>26.5</td>\n",
       "      <td>31.1</td>\n",
       "      <td>12.3778</td>\n",
       "      <td>4.6961</td>\n",
       "    </tr>\n",
       "    <tr>\n",
       "      <th>3</th>\n",
       "      <td>Bream</td>\n",
       "      <td>363.0</td>\n",
       "      <td>29.0</td>\n",
       "      <td>33.5</td>\n",
       "      <td>12.7300</td>\n",
       "      <td>4.4555</td>\n",
       "    </tr>\n",
       "    <tr>\n",
       "      <th>4</th>\n",
       "      <td>Bream</td>\n",
       "      <td>430.0</td>\n",
       "      <td>29.0</td>\n",
       "      <td>34.0</td>\n",
       "      <td>12.4440</td>\n",
       "      <td>5.1340</td>\n",
       "    </tr>\n",
       "  </tbody>\n",
       "</table>\n",
       "</div>"
      ],
      "text/plain": [
       "  Species  Weight  Length  Diagonal   Height   Width\n",
       "0   Bream   242.0    25.4      30.0  11.5200  4.0200\n",
       "1   Bream   290.0    26.3      31.2  12.4800  4.3056\n",
       "2   Bream   340.0    26.5      31.1  12.3778  4.6961\n",
       "3   Bream   363.0    29.0      33.5  12.7300  4.4555\n",
       "4   Bream   430.0    29.0      34.0  12.4440  5.1340"
      ]
     },
     "execution_count": 211,
     "metadata": {},
     "output_type": "execute_result"
    }
   ],
   "source": [
    "# feature 5개, target 1개\n",
    "df.head()"
   ]
  },
  {
   "cell_type": "code",
   "execution_count": 212,
   "id": "54e94057",
   "metadata": {},
   "outputs": [
    {
     "data": {
      "text/plain": [
       "Species     0\n",
       "Weight      0\n",
       "Length      0\n",
       "Diagonal    0\n",
       "Height      0\n",
       "Width       0\n",
       "dtype: int64"
      ]
     },
     "execution_count": 212,
     "metadata": {},
     "output_type": "execute_result"
    }
   ],
   "source": [
    "df.isna().sum()"
   ]
  },
  {
   "cell_type": "code",
   "execution_count": 213,
   "id": "4cf13982",
   "metadata": {},
   "outputs": [],
   "source": [
    "data = df.iloc[:,1:].to_numpy()\n",
    "target = df.iloc[:,0].to_numpy()"
   ]
  },
  {
   "cell_type": "code",
   "execution_count": 214,
   "id": "dcde5281",
   "metadata": {},
   "outputs": [],
   "source": [
    "## 학습용, 테스트용 데이터 분리 => 8:2\n",
    "## random_state : 학습 시 랜덤한 동일 데이터로 진행 위해 사용\n",
    "train_input, test_input, train_target, test_target = train_test_split(data, target,\n",
    "                                                                     random_state=42) "
   ]
  },
  {
   "cell_type": "code",
   "execution_count": 215,
   "id": "0dedf753",
   "metadata": {},
   "outputs": [],
   "source": [
    "## 표준화 평균 0, 표준편차 1\n",
    "from sklearn.preprocessing import StandardScaler\n",
    "ss = StandardScaler()\n",
    "ss.fit(train_input)\n",
    "train_scaled = ss.transform(train_input)\n",
    "test_scaled = ss.transform(test_input)"
   ]
  },
  {
   "cell_type": "code",
   "execution_count": 216,
   "id": "7527ea86",
   "metadata": {},
   "outputs": [],
   "source": [
    "# 최적화 경사하강법 변경 => BGD => SGD 손실함수\n",
    "# loss = 손실함수 : 모델에 따라 다름 ==> 'log' 곧 deprecated 예정\n",
    "# max_iter = 1000 기본값 : 학습 횟수\n",
    "# sc = SGDClassifier(loss = 'log',\n",
    "#                  max_iter=1000,\n",
    "#                  random_state=42)\n",
    "# 반복 횟수 즉 max_iter 만큼 실행\n",
    "#sc.fit(train_scaled, train_target)\n",
    "\n",
    "#print(sc.score(train_scaled,train_target))\n",
    "#print(sc.score(test_scaled,test_target))"
   ]
  },
  {
   "cell_type": "code",
   "execution_count": 217,
   "id": "513513c0",
   "metadata": {},
   "outputs": [],
   "source": [
    "# partial_fit() - 1 epoch만 학습 실해\n",
    "# sc.partial_fit(train_scaled, train_target)"
   ]
  },
  {
   "cell_type": "code",
   "execution_count": 218,
   "id": "6be847a9",
   "metadata": {},
   "outputs": [],
   "source": [
    "#print(sc.score(train_scaled,train_target))\n",
    "#print(sc.score(test_scaled,test_target))"
   ]
  },
  {
   "cell_type": "code",
   "execution_count": 219,
   "id": "cf55a695",
   "metadata": {},
   "outputs": [],
   "source": [
    "classes = np.unique(train_target)"
   ]
  },
  {
   "cell_type": "code",
   "execution_count": 220,
   "id": "4944f244",
   "metadata": {},
   "outputs": [],
   "source": [
    "## 최적의 학습 횟수 찾기\n",
    "train_score = []\n",
    "test_score = []\n",
    "for i in range(0,100):\n",
    "    sc.partial_fit(train_scaled, train_target, classes=classes)\n",
    "    train_score.append(sc.score(train_scaled,train_target))\n",
    "    test_score.append(sc.score(test_scaled,test_target))"
   ]
  },
  {
   "cell_type": "code",
   "execution_count": 221,
   "id": "ef5ae9df",
   "metadata": {},
   "outputs": [
    {
     "data": {
      "image/png": "[encoded data removed]",
      "text/plain": [
       "<Figure size 432x288 with 1 Axes>"
      ]
     },
     "metadata": {
      "needs_background": "light"
     },
     "output_type": "display_data"
    }
   ],
   "source": [
    "plt.plot(train_score, label = 'train score')\n",
    "plt.plot(test_score, label = 'test score', color='red')\n",
    "plt.legend(loc=4)\n",
    "plt.show()"
   ]
  },
  {
   "cell_type": "code",
   "execution_count": 243,
   "id": "9a4688c6",
   "metadata": {},
   "outputs": [
    {
     "name": "stdout",
     "output_type": "stream",
     "text": [
      "0.9411764705882353\n",
      "0.925\n",
      "123\n"
     ]
    }
   ],
   "source": [
    "# early_stopping : 조기종료 여부(기:False)\n",
    "# n_iter_no_change : n번 동안 변경 되지 않은 경우 early_stopping 이 True \n",
    "# tol : 성능 개선의 기준값\n",
    "sc = SGDClassifier(loss = 'log',\n",
    "                  max_iter=1000,\n",
    "                  random_state=42,\n",
    "                  n_iter_no_change=20,\n",
    "                  early_stopping=False)\n",
    "sc.fit(train_scaled, train_target)\n",
    "\n",
    "print(sc.score(train_scaled, train_target))\n",
    "print(sc.score(test_scaled, test_target))\n",
    "print(sc.n_iter_)"
   ]
  },
  {
   "cell_type": "code",
   "execution_count": null,
   "id": "eb1cc942",
   "metadata": {},
   "outputs": [],
   "source": []
  }
 ],
 "metadata": {
  "kernelspec": {
   "display_name": "Python 3 (ipykernel)",
   "language": "python",
   "name": "python3"
  },
  "language_info": {
   "codemirror_mode": {
    "name": "ipython",
    "version": 3
   },
   "file_extension": ".py",
   "mimetype": "text/x-python",
   "name": "python",
   "nbconvert_exporter": "python",
   "pygments_lexer": "ipython3",
   "version": "3.9.12"
  }
 },
 "nbformat": 4,
 "nbformat_minor": 5
}
