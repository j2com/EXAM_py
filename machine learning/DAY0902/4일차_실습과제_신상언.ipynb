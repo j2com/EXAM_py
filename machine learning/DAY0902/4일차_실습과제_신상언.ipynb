{
 "cells": [
  {
   "cell_type": "markdown",
   "id": "4ee7ef82",
   "metadata": {},
   "source": [
    "### SVM(Support Vector Machine)\n",
    "\n",
    "- ML에서 오랫동안 연구되었고 성능이 좋은 모델\n",
    "- DL보다 성능이 좋은 경우도 있음"
   ]
  },
  {
   "cell_type": "code",
   "execution_count": 168,
   "id": "f905a0dd",
   "metadata": {},
   "outputs": [],
   "source": [
    "from sklearn.svm import SVC\n",
    "from sklearn.datasets import load_digits\n",
    "from sklearn.model_selection import train_test_split\n",
    "from sklearn.linear_model import LogisticRegression\n",
    "import numpy as np\n",
    "import matplotlib.pyplot as plt"
   ]
  },
  {
   "cell_type": "markdown",
   "id": "3abe1ebf",
   "metadata": {},
   "source": [
    "### [1] 데이터 준비"
   ]
  },
  {
   "cell_type": "code",
   "execution_count": 169,
   "id": "71e3f569",
   "metadata": {},
   "outputs": [],
   "source": [
    "digit = load_digits()"
   ]
  },
  {
   "cell_type": "code",
   "execution_count": 170,
   "id": "f118a095",
   "metadata": {},
   "outputs": [],
   "source": [
    "# data, target 분리\n",
    "data = digit['data']\n",
    "target = digit['target']"
   ]
  },
  {
   "cell_type": "code",
   "execution_count": 171,
   "id": "d5af253b",
   "metadata": {},
   "outputs": [
    {
     "name": "stdout",
     "output_type": "stream",
     "text": [
      "data : (1797, 64), target : (1797,)\n"
     ]
    }
   ],
   "source": [
    "print(f'data : {data.shape}, target : {target.shape}')"
   ]
  },
  {
   "cell_type": "code",
   "execution_count": 172,
   "id": "d33027f8",
   "metadata": {},
   "outputs": [
    {
     "name": "stdout",
     "output_type": "stream",
     "text": [
      "data[0] : [ 0.  0.  5. 13.  9.  1.  0.  0.  0.  0. 13. 15. 10. 15.  5.  0.  0.  3.\n",
      " 15.  2.  0. 11.  8.  0.  0.  4. 12.  0.  0.  8.  8.  0.  0.  5.  8.  0.\n",
      "  0.  9.  8.  0.  0.  4. 11.  0.  1. 12.  7.  0.  0.  2. 14.  5. 10. 12.\n",
      "  0.  0.  0.  0.  6. 13. 10.  0.  0.  0.]\n",
      "images[0] : [[ 0.  0.  5. 13.  9.  1.  0.  0.]\n",
      " [ 0.  0. 13. 15. 10. 15.  5.  0.]\n",
      " [ 0.  3. 15.  2.  0. 11.  8.  0.]\n",
      " [ 0.  4. 12.  0.  0.  8.  8.  0.]\n",
      " [ 0.  5.  8.  0.  0.  9.  8.  0.]\n",
      " [ 0.  4. 11.  0.  1. 12.  7.  0.]\n",
      " [ 0.  2. 14.  5. 10. 12.  0.  0.]\n",
      " [ 0.  0.  6. 13. 10.  0.  0.  0.]]\n"
     ]
    }
   ],
   "source": [
    "print(f'data[0] : {digit[\"data\"][0]}')\n",
    "print(f'images[0] : {digit[\"images\"][0]}')"
   ]
  },
  {
   "cell_type": "markdown",
   "id": "e411f17b",
   "metadata": {},
   "source": [
    "### [2] 학습용 & 테스트용"
   ]
  },
  {
   "cell_type": "code",
   "execution_count": 173,
   "id": "966f8442",
   "metadata": {},
   "outputs": [],
   "source": [
    "train_input, test_input, train_target, test_target = train_test_split(data, target,\n",
    "                                                                     random_state=42)"
   ]
  },
  {
   "cell_type": "markdown",
   "id": "3296ef85",
   "metadata": {},
   "source": [
    "### [3] - 1 모델 생성 (로지스틱)"
   ]
  },
  {
   "cell_type": "code",
   "execution_count": 174,
   "id": "16f6f0ce",
   "metadata": {},
   "outputs": [],
   "source": [
    "lr = LogisticRegression(max_iter=5000)"
   ]
  },
  {
   "cell_type": "code",
   "execution_count": 175,
   "id": "8f0557c4",
   "metadata": {},
   "outputs": [
    {
     "data": {
      "text/plain": [
       "LogisticRegression(max_iter=5000)"
      ]
     },
     "execution_count": 175,
     "metadata": {},
     "output_type": "execute_result"
    }
   ],
   "source": [
    "lr.fit(train_input, train_target)"
   ]
  },
  {
   "cell_type": "code",
   "execution_count": 176,
   "id": "b6eec0bf",
   "metadata": {},
   "outputs": [
    {
     "data": {
      "text/plain": [
       "1.0"
      ]
     },
     "execution_count": 176,
     "metadata": {},
     "output_type": "execute_result"
    }
   ],
   "source": [
    "lr.score(train_input, train_target)"
   ]
  },
  {
   "cell_type": "markdown",
   "id": "e110e105",
   "metadata": {},
   "source": [
    "### [4] - 1 예측 (로지스틱)"
   ]
  },
  {
   "cell_type": "code",
   "execution_count": 177,
   "id": "0d0e0865",
   "metadata": {},
   "outputs": [
    {
     "name": "stdout",
     "output_type": "stream",
     "text": [
      "[1]\n"
     ]
    }
   ],
   "source": [
    "print(lr.predict([digit['data'][1]]))"
   ]
  },
  {
   "cell_type": "markdown",
   "id": "72c55740",
   "metadata": {},
   "source": [
    "### [3] - 2 모델  생성 (SVC)"
   ]
  },
  {
   "cell_type": "code",
   "execution_count": 178,
   "id": "c6569897",
   "metadata": {},
   "outputs": [
    {
     "data": {
      "text/plain": [
       "SVC()"
      ]
     },
     "execution_count": 178,
     "metadata": {},
     "output_type": "execute_result"
    }
   ],
   "source": [
    "# model 학습\n",
    "model = SVC().fit(train_input, train_target)\n",
    "model"
   ]
  },
  {
   "cell_type": "code",
   "execution_count": 179,
   "id": "bed55326",
   "metadata": {},
   "outputs": [
    {
     "data": {
      "text/plain": [
       "0.9962880475129918"
      ]
     },
     "execution_count": 179,
     "metadata": {},
     "output_type": "execute_result"
    }
   ],
   "source": [
    "model.score(train_input, train_target)"
   ]
  },
  {
   "cell_type": "code",
   "execution_count": 180,
   "id": "023ad8a4",
   "metadata": {},
   "outputs": [
    {
     "data": {
      "text/plain": [
       "0.9866666666666667"
      ]
     },
     "execution_count": 180,
     "metadata": {},
     "output_type": "execute_result"
    }
   ],
   "source": [
    "model.score(test_input, test_target)"
   ]
  },
  {
   "cell_type": "markdown",
   "id": "147a34bb",
   "metadata": {},
   "source": [
    "### [4] - 2 예측 (SVC)"
   ]
  },
  {
   "cell_type": "code",
   "execution_count": 181,
   "id": "836dcb76",
   "metadata": {
    "scrolled": true
   },
   "outputs": [
    {
     "name": "stdout",
     "output_type": "stream",
     "text": [
      "[2]\n"
     ]
    }
   ],
   "source": [
    "print(model.predict([digit['data'][2]]))"
   ]
  },
  {
   "cell_type": "markdown",
   "id": "f575d83a",
   "metadata": {},
   "source": [
    "### [5] 성능 튜닝 ( 스케일링)"
   ]
  },
  {
   "cell_type": "code",
   "execution_count": 182,
   "id": "1317ae07",
   "metadata": {},
   "outputs": [],
   "source": [
    "from sklearn.preprocessing import MinMaxScaler"
   ]
  },
  {
   "cell_type": "code",
   "execution_count": 183,
   "id": "c94cbfe7",
   "metadata": {},
   "outputs": [],
   "source": [
    "# 훈련데이터에 대해 스케일링 적용을 위한 조사\n",
    "scaler = MinMaxScaler()\n",
    "scaler.fit(train_input)\n",
    "\n",
    "# 훈련데이터에 대해 스케일링 적용\n",
    "train_input_scaled = scaler.transform(train_input)\n",
    "\n",
    "# 테스트데이터에 대해 스케일링 적용\n",
    "test_input_scaled = scaler.transform(test_input)"
   ]
  },
  {
   "cell_type": "code",
   "execution_count": 184,
   "id": "b1b1bdfb",
   "metadata": {},
   "outputs": [
    {
     "name": "stdout",
     "output_type": "stream",
     "text": [
      "훈련 세트 정확도: 0.999\n",
      "테스트 세트 정확도: 0.991\n"
     ]
    }
   ],
   "source": [
    "# gamma 파라미저 조정\n",
    "model = SVC(C=5, gamma=0.1).fit(train_input_scaled, train_target)\n",
    "\n",
    "# 평가\n",
    "print(\"훈련 세트 정확도: {:.3f}\".format(model.score(train_input_scaled, train_target)))\n",
    "print(\"테스트 세트 정확도: {:.3f}\".format(model.score(test_input_scaled, test_target)))"
   ]
  },
  {
   "cell_type": "markdown",
   "id": "cb8a6668",
   "metadata": {},
   "source": [
    "### [6] 모델 . predict"
   ]
  },
  {
   "cell_type": "code",
   "execution_count": 185,
   "id": "4fa64c16",
   "metadata": {},
   "outputs": [
    {
     "name": "stdout",
     "output_type": "stream",
     "text": [
      "[7]\n"
     ]
    }
   ],
   "source": [
    "print(model.predict(scaler.transform([digit['data'][7]])))"
   ]
  },
  {
   "cell_type": "markdown",
   "id": "d80d5f2b",
   "metadata": {},
   "source": [
    "### C : 5 , gamma = 0.1 일때 정확도 가장 높음"
   ]
  },
  {
   "cell_type": "code",
   "execution_count": 167,
   "id": "cb198d22",
   "metadata": {},
   "outputs": [
    {
     "name": "stdout",
     "output_type": "stream",
     "text": [
      "RBF SVM : C:1, gamma:0.1,training score:0.996288,test score:0.986667 \n",
      "\n",
      "RBF SVM : C:5, gamma:0.1,training score:0.999258,test score:0.991111 \n",
      "\n",
      "RBF SVM : C:10, gamma:0.1,training score:1.000000,test score:0.988889 \n",
      "\n",
      "RBF SVM : C:20, gamma:0.1,training score:1.000000,test score:0.988889 \n",
      "\n",
      "RBF SVM : C:40, gamma:0.1,training score:1.000000,test score:0.988889 \n",
      "\n",
      "RBF SVM : C:100, gamma:0.1,training score:1.000000,test score:0.988889 \n",
      "\n",
      "RBF SVM : C:1, gamma:0.25,training score:0.997773,test score:0.988889 \n",
      "\n",
      "RBF SVM : C:5, gamma:0.25,training score:1.000000,test score:0.991111 \n",
      "\n",
      "RBF SVM : C:10, gamma:0.25,training score:1.000000,test score:0.991111 \n",
      "\n",
      "RBF SVM : C:20, gamma:0.25,training score:1.000000,test score:0.991111 \n",
      "\n",
      "RBF SVM : C:40, gamma:0.25,training score:1.000000,test score:0.991111 \n",
      "\n",
      "RBF SVM : C:100, gamma:0.25,training score:1.000000,test score:0.991111 \n",
      "\n",
      "RBF SVM : C:1, gamma:0.5,training score:1.000000,test score:0.988889 \n",
      "\n",
      "RBF SVM : C:5, gamma:0.5,training score:1.000000,test score:0.991111 \n",
      "\n",
      "RBF SVM : C:10, gamma:0.5,training score:1.000000,test score:0.991111 \n",
      "\n",
      "RBF SVM : C:20, gamma:0.5,training score:1.000000,test score:0.991111 \n",
      "\n",
      "RBF SVM : C:40, gamma:0.5,training score:1.000000,test score:0.991111 \n",
      "\n",
      "RBF SVM : C:100, gamma:0.5,training score:1.000000,test score:0.991111 \n",
      "\n",
      "RBF SVM : C:1, gamma:1,training score:1.000000,test score:0.975556 \n",
      "\n",
      "RBF SVM : C:5, gamma:1,training score:1.000000,test score:0.975556 \n",
      "\n",
      "RBF SVM : C:10, gamma:1,training score:1.000000,test score:0.975556 \n",
      "\n",
      "RBF SVM : C:20, gamma:1,training score:1.000000,test score:0.975556 \n",
      "\n",
      "RBF SVM : C:40, gamma:1,training score:1.000000,test score:0.975556 \n",
      "\n",
      "RBF SVM : C:100, gamma:1,training score:1.000000,test score:0.975556 \n",
      "\n"
     ]
    }
   ],
   "source": [
    "#RBF 커널 SVM, C와 gamma 퍼러미터 사용\n",
    "for thisGamma in [.1, .25, .5, 1]:\n",
    "    for thisC in [1,5,10,20,40,100]:\n",
    "        model3=SVC(kernel=\"rbf\", C=thisC, \n",
    "                   gamma=thisGamma).fit(train_input_scaled, train_target)\n",
    "        m3train=model3.score(train_input_scaled,train_target)\n",
    "        m3test=model3.score(test_input_scaled,test_target)\n",
    "        print(\"RBF SVM : C:{}, gamma:{},training score:{:2f},test score:{:2f} \\n\".format(thisC, thisGamma, m3train, m3test))"
   ]
  },
  {
   "cell_type": "code",
   "execution_count": null,
   "id": "16480b7e",
   "metadata": {},
   "outputs": [],
   "source": []
  }
 ],
 "metadata": {
  "kernelspec": {
   "display_name": "Python 3 (ipykernel)",
   "language": "python",
   "name": "python3"
  },
  "language_info": {
   "codemirror_mode": {
    "name": "ipython",
    "version": 3
   },
   "file_extension": ".py",
   "mimetype": "text/x-python",
   "name": "python",
   "nbconvert_exporter": "python",
   "pygments_lexer": "ipython3",
   "version": "3.9.12"
  }
 },
 "nbformat": 4,
 "nbformat_minor": 5
}
