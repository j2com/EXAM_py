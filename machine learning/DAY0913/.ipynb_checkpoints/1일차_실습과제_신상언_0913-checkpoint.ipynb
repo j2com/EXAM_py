{
 "cells": [
  {
   "cell_type": "code",
   "execution_count": 1,
   "id": "df861e2c",
   "metadata": {},
   "outputs": [],
   "source": [
    "import pandas as pd\n",
    "import numpy as np"
   ]
  },
  {
   "cell_type": "markdown",
   "id": "0ba4fb15",
   "metadata": {},
   "source": [
    "## 파일 불러오기"
   ]
  },
  {
   "cell_type": "code",
   "execution_count": 2,
   "id": "b9af7663",
   "metadata": {},
   "outputs": [],
   "source": [
    "df = pd.read_csv('C:/Users/ss/Downloads/auto-mpg.data', header=None, sep = '\\s+',names= ['mpg','cylinders','displacement','horsepower','weight','acceleration','model year','origin','car name'])"
   ]
  },
  {
   "cell_type": "code",
   "execution_count": 3,
   "id": "c5e83fa1",
   "metadata": {
    "scrolled": true
   },
   "outputs": [
    {
     "data": {
      "text/html": [
       "<div>\n",
       "<style scoped>\n",
       "    .dataframe tbody tr th:only-of-type {\n",
       "        vertical-align: middle;\n",
       "    }\n",
       "\n",
       "    .dataframe tbody tr th {\n",
       "        vertical-align: top;\n",
       "    }\n",
       "\n",
       "    .dataframe thead th {\n",
       "        text-align: right;\n",
       "    }\n",
       "</style>\n",
       "<table border=\"1\" class=\"dataframe\">\n",
       "  <thead>\n",
       "    <tr style=\"text-align: right;\">\n",
       "      <th></th>\n",
       "      <th>mpg</th>\n",
       "      <th>cylinders</th>\n",
       "      <th>displacement</th>\n",
       "      <th>horsepower</th>\n",
       "      <th>weight</th>\n",
       "      <th>acceleration</th>\n",
       "      <th>model year</th>\n",
       "      <th>origin</th>\n",
       "      <th>car name</th>\n",
       "    </tr>\n",
       "  </thead>\n",
       "  <tbody>\n",
       "    <tr>\n",
       "      <th>0</th>\n",
       "      <td>18.0</td>\n",
       "      <td>8</td>\n",
       "      <td>307.0</td>\n",
       "      <td>130.0</td>\n",
       "      <td>3504.0</td>\n",
       "      <td>12.0</td>\n",
       "      <td>70</td>\n",
       "      <td>1</td>\n",
       "      <td>chevrolet chevelle malibu</td>\n",
       "    </tr>\n",
       "    <tr>\n",
       "      <th>1</th>\n",
       "      <td>15.0</td>\n",
       "      <td>8</td>\n",
       "      <td>350.0</td>\n",
       "      <td>165.0</td>\n",
       "      <td>3693.0</td>\n",
       "      <td>11.5</td>\n",
       "      <td>70</td>\n",
       "      <td>1</td>\n",
       "      <td>buick skylark 320</td>\n",
       "    </tr>\n",
       "    <tr>\n",
       "      <th>2</th>\n",
       "      <td>18.0</td>\n",
       "      <td>8</td>\n",
       "      <td>318.0</td>\n",
       "      <td>150.0</td>\n",
       "      <td>3436.0</td>\n",
       "      <td>11.0</td>\n",
       "      <td>70</td>\n",
       "      <td>1</td>\n",
       "      <td>plymouth satellite</td>\n",
       "    </tr>\n",
       "    <tr>\n",
       "      <th>3</th>\n",
       "      <td>16.0</td>\n",
       "      <td>8</td>\n",
       "      <td>304.0</td>\n",
       "      <td>150.0</td>\n",
       "      <td>3433.0</td>\n",
       "      <td>12.0</td>\n",
       "      <td>70</td>\n",
       "      <td>1</td>\n",
       "      <td>amc rebel sst</td>\n",
       "    </tr>\n",
       "    <tr>\n",
       "      <th>4</th>\n",
       "      <td>17.0</td>\n",
       "      <td>8</td>\n",
       "      <td>302.0</td>\n",
       "      <td>140.0</td>\n",
       "      <td>3449.0</td>\n",
       "      <td>10.5</td>\n",
       "      <td>70</td>\n",
       "      <td>1</td>\n",
       "      <td>ford torino</td>\n",
       "    </tr>\n",
       "  </tbody>\n",
       "</table>\n",
       "</div>"
      ],
      "text/plain": [
       "    mpg  cylinders  displacement horsepower  weight  acceleration  model year  \\\n",
       "0  18.0          8         307.0      130.0  3504.0          12.0          70   \n",
       "1  15.0          8         350.0      165.0  3693.0          11.5          70   \n",
       "2  18.0          8         318.0      150.0  3436.0          11.0          70   \n",
       "3  16.0          8         304.0      150.0  3433.0          12.0          70   \n",
       "4  17.0          8         302.0      140.0  3449.0          10.5          70   \n",
       "\n",
       "   origin                   car name  \n",
       "0       1  chevrolet chevelle malibu  \n",
       "1       1          buick skylark 320  \n",
       "2       1         plymouth satellite  \n",
       "3       1              amc rebel sst  \n",
       "4       1                ford torino  "
      ]
     },
     "execution_count": 3,
     "metadata": {},
     "output_type": "execute_result"
    }
   ],
   "source": [
    "df.head()"
   ]
  },
  {
   "cell_type": "markdown",
   "id": "fd57f919",
   "metadata": {},
   "source": [
    "## 데이터 전처리"
   ]
  },
  {
   "cell_type": "code",
   "execution_count": 4,
   "id": "75f19698",
   "metadata": {},
   "outputs": [],
   "source": [
    "df.mpg = df.mpg*0.425"
   ]
  },
  {
   "cell_type": "code",
   "execution_count": 5,
   "id": "16270b63",
   "metadata": {},
   "outputs": [
    {
     "name": "stdout",
     "output_type": "stream",
     "text": [
      "<class 'pandas.core.frame.DataFrame'>\n",
      "RangeIndex: 398 entries, 0 to 397\n",
      "Data columns (total 9 columns):\n",
      " #   Column        Non-Null Count  Dtype  \n",
      "---  ------        --------------  -----  \n",
      " 0   mpg           398 non-null    float64\n",
      " 1   cylinders     398 non-null    int64  \n",
      " 2   displacement  398 non-null    float64\n",
      " 3   horsepower    398 non-null    object \n",
      " 4   weight        398 non-null    float64\n",
      " 5   acceleration  398 non-null    float64\n",
      " 6   model year    398 non-null    int64  \n",
      " 7   origin        398 non-null    int64  \n",
      " 8   car name      398 non-null    object \n",
      "dtypes: float64(4), int64(3), object(2)\n",
      "memory usage: 28.1+ KB\n"
     ]
    }
   ],
   "source": [
    "df.info()"
   ]
  },
  {
   "cell_type": "code",
   "execution_count": 6,
   "id": "c998faf3",
   "metadata": {},
   "outputs": [
    {
     "data": {
      "text/plain": [
       "mpg             0\n",
       "cylinders       0\n",
       "displacement    0\n",
       "horsepower      0\n",
       "weight          0\n",
       "acceleration    0\n",
       "model year      0\n",
       "origin          0\n",
       "car name        0\n",
       "dtype: int64"
      ]
     },
     "execution_count": 6,
     "metadata": {},
     "output_type": "execute_result"
    }
   ],
   "source": [
    "df.isna().sum()"
   ]
  },
  {
   "cell_type": "code",
   "execution_count": 7,
   "id": "9126b067",
   "metadata": {},
   "outputs": [
    {
     "data": {
      "text/plain": [
       "mpg             0\n",
       "cylinders       0\n",
       "displacement    0\n",
       "horsepower      0\n",
       "weight          0\n",
       "acceleration    0\n",
       "model year      0\n",
       "origin          0\n",
       "car name        0\n",
       "dtype: int64"
      ]
     },
     "execution_count": 7,
     "metadata": {},
     "output_type": "execute_result"
    }
   ],
   "source": [
    "df.isnull().sum()"
   ]
  },
  {
   "cell_type": "code",
   "execution_count": 8,
   "id": "9ca9de42",
   "metadata": {},
   "outputs": [
    {
     "data": {
      "text/plain": [
       "array(['130.0', '165.0', '150.0', '140.0', '198.0', '220.0', '215.0',\n",
       "       '225.0', '190.0', '170.0', '160.0', '95.00', '97.00', '85.00',\n",
       "       '88.00', '46.00', '87.00', '90.00', '113.0', '200.0', '210.0',\n",
       "       '193.0', '?', '100.0', '105.0', '175.0', '153.0', '180.0', '110.0',\n",
       "       '72.00', '86.00', '70.00', '76.00', '65.00', '69.00', '60.00',\n",
       "       '80.00', '54.00', '208.0', '155.0', '112.0', '92.00', '145.0',\n",
       "       '137.0', '158.0', '167.0', '94.00', '107.0', '230.0', '49.00',\n",
       "       '75.00', '91.00', '122.0', '67.00', '83.00', '78.00', '52.00',\n",
       "       '61.00', '93.00', '148.0', '129.0', '96.00', '71.00', '98.00',\n",
       "       '115.0', '53.00', '81.00', '79.00', '120.0', '152.0', '102.0',\n",
       "       '108.0', '68.00', '58.00', '149.0', '89.00', '63.00', '48.00',\n",
       "       '66.00', '139.0', '103.0', '125.0', '133.0', '138.0', '135.0',\n",
       "       '142.0', '77.00', '62.00', '132.0', '84.00', '64.00', '74.00',\n",
       "       '116.0', '82.00'], dtype=object)"
      ]
     },
     "execution_count": 8,
     "metadata": {},
     "output_type": "execute_result"
    }
   ],
   "source": [
    "df.horsepower.unique()"
   ]
  },
  {
   "cell_type": "code",
   "execution_count": 9,
   "id": "41da602d",
   "metadata": {},
   "outputs": [
    {
     "data": {
      "text/plain": [
       "count    392.000000\n",
       "mean     104.469388\n",
       "std       38.491160\n",
       "min       46.000000\n",
       "25%       75.000000\n",
       "50%       93.500000\n",
       "75%      126.000000\n",
       "max      230.000000\n",
       "Name: horsepower, dtype: float64"
      ]
     },
     "execution_count": 9,
     "metadata": {},
     "output_type": "execute_result"
    }
   ],
   "source": [
    "df[df['horsepower']!='?'].horsepower.astype('float64').describe()"
   ]
  },
  {
   "cell_type": "code",
   "execution_count": 10,
   "id": "36fcb626",
   "metadata": {},
   "outputs": [],
   "source": [
    "df.horsepower = df.horsepower.replace('?',104.46)"
   ]
  },
  {
   "cell_type": "code",
   "execution_count": 11,
   "id": "d42299ab",
   "metadata": {},
   "outputs": [
    {
     "data": {
      "text/plain": [
       "array(['130.0', '165.0', '150.0', '140.0', '198.0', '220.0', '215.0',\n",
       "       '225.0', '190.0', '170.0', '160.0', '95.00', '97.00', '85.00',\n",
       "       '88.00', '46.00', '87.00', '90.00', '113.0', '200.0', '210.0',\n",
       "       '193.0', 104.46, '100.0', '105.0', '175.0', '153.0', '180.0',\n",
       "       '110.0', '72.00', '86.00', '70.00', '76.00', '65.00', '69.00',\n",
       "       '60.00', '80.00', '54.00', '208.0', '155.0', '112.0', '92.00',\n",
       "       '145.0', '137.0', '158.0', '167.0', '94.00', '107.0', '230.0',\n",
       "       '49.00', '75.00', '91.00', '122.0', '67.00', '83.00', '78.00',\n",
       "       '52.00', '61.00', '93.00', '148.0', '129.0', '96.00', '71.00',\n",
       "       '98.00', '115.0', '53.00', '81.00', '79.00', '120.0', '152.0',\n",
       "       '102.0', '108.0', '68.00', '58.00', '149.0', '89.00', '63.00',\n",
       "       '48.00', '66.00', '139.0', '103.0', '125.0', '133.0', '138.0',\n",
       "       '135.0', '142.0', '77.00', '62.00', '132.0', '84.00', '64.00',\n",
       "       '74.00', '116.0', '82.00'], dtype=object)"
      ]
     },
     "execution_count": 11,
     "metadata": {},
     "output_type": "execute_result"
    }
   ],
   "source": [
    "df.horsepower.unique()"
   ]
  },
  {
   "cell_type": "code",
   "execution_count": 12,
   "id": "db0328ed",
   "metadata": {},
   "outputs": [
    {
     "name": "stdout",
     "output_type": "stream",
     "text": [
      "<class 'pandas.core.frame.DataFrame'>\n",
      "RangeIndex: 398 entries, 0 to 397\n",
      "Data columns (total 9 columns):\n",
      " #   Column        Non-Null Count  Dtype  \n",
      "---  ------        --------------  -----  \n",
      " 0   mpg           398 non-null    float64\n",
      " 1   cylinders     398 non-null    int64  \n",
      " 2   displacement  398 non-null    float64\n",
      " 3   horsepower    398 non-null    object \n",
      " 4   weight        398 non-null    float64\n",
      " 5   acceleration  398 non-null    float64\n",
      " 6   model year    398 non-null    int64  \n",
      " 7   origin        398 non-null    int64  \n",
      " 8   car name      398 non-null    object \n",
      "dtypes: float64(4), int64(3), object(2)\n",
      "memory usage: 28.1+ KB\n"
     ]
    }
   ],
   "source": [
    "df.info()"
   ]
  },
  {
   "cell_type": "code",
   "execution_count": 13,
   "id": "5be062ba",
   "metadata": {},
   "outputs": [
    {
     "data": {
      "text/plain": [
       "0      130.0\n",
       "1      165.0\n",
       "2      150.0\n",
       "3      150.0\n",
       "4      140.0\n",
       "       ...  \n",
       "393     86.0\n",
       "394     52.0\n",
       "395     84.0\n",
       "396     79.0\n",
       "397     82.0\n",
       "Name: horsepower, Length: 398, dtype: float64"
      ]
     },
     "execution_count": 13,
     "metadata": {},
     "output_type": "execute_result"
    }
   ],
   "source": [
    "df.horsepower.astype('float64')"
   ]
  },
  {
   "cell_type": "code",
   "execution_count": 14,
   "id": "dce5bf6a",
   "metadata": {},
   "outputs": [
    {
     "name": "stdout",
     "output_type": "stream",
     "text": [
      "<class 'pandas.core.frame.DataFrame'>\n",
      "RangeIndex: 398 entries, 0 to 397\n",
      "Data columns (total 9 columns):\n",
      " #   Column        Non-Null Count  Dtype  \n",
      "---  ------        --------------  -----  \n",
      " 0   mpg           398 non-null    float64\n",
      " 1   cylinders     398 non-null    int64  \n",
      " 2   displacement  398 non-null    float64\n",
      " 3   horsepower    398 non-null    object \n",
      " 4   weight        398 non-null    float64\n",
      " 5   acceleration  398 non-null    float64\n",
      " 6   model year    398 non-null    int64  \n",
      " 7   origin        398 non-null    int64  \n",
      " 8   car name      398 non-null    object \n",
      "dtypes: float64(4), int64(3), object(2)\n",
      "memory usage: 28.1+ KB\n"
     ]
    }
   ],
   "source": [
    "df.info()"
   ]
  },
  {
   "cell_type": "code",
   "execution_count": 15,
   "id": "e7929bf1",
   "metadata": {},
   "outputs": [],
   "source": [
    "from sklearn.preprocessing import LabelEncoder, StandardScaler"
   ]
  },
  {
   "cell_type": "code",
   "execution_count": 16,
   "id": "f698a75a",
   "metadata": {},
   "outputs": [],
   "source": [
    "le = LabelEncoder()\n",
    "df['cylinders'] = le.fit_transform(df['cylinders'])\n",
    "df['model year'] = le.fit_transform(df['model year'])\n",
    "df['origin'] = le.fit_transform(df['origin'])"
   ]
  },
  {
   "cell_type": "code",
   "execution_count": 17,
   "id": "0d7b506c",
   "metadata": {},
   "outputs": [],
   "source": [
    "from sklearn.model_selection import train_test_split"
   ]
  },
  {
   "cell_type": "code",
   "execution_count": 18,
   "id": "44cf9d08",
   "metadata": {},
   "outputs": [],
   "source": [
    "data = df.iloc[:,1:-1]"
   ]
  },
  {
   "cell_type": "code",
   "execution_count": 19,
   "id": "de7fc8f2",
   "metadata": {},
   "outputs": [],
   "source": [
    "target = df.iloc[:,0]"
   ]
  },
  {
   "cell_type": "code",
   "execution_count": 20,
   "id": "961993ea",
   "metadata": {
    "scrolled": false
   },
   "outputs": [
    {
     "data": {
      "text/html": [
       "<div>\n",
       "<style scoped>\n",
       "    .dataframe tbody tr th:only-of-type {\n",
       "        vertical-align: middle;\n",
       "    }\n",
       "\n",
       "    .dataframe tbody tr th {\n",
       "        vertical-align: top;\n",
       "    }\n",
       "\n",
       "    .dataframe thead th {\n",
       "        text-align: right;\n",
       "    }\n",
       "</style>\n",
       "<table border=\"1\" class=\"dataframe\">\n",
       "  <thead>\n",
       "    <tr style=\"text-align: right;\">\n",
       "      <th></th>\n",
       "      <th>cylinders</th>\n",
       "      <th>displacement</th>\n",
       "      <th>horsepower</th>\n",
       "      <th>weight</th>\n",
       "      <th>acceleration</th>\n",
       "      <th>model year</th>\n",
       "      <th>origin</th>\n",
       "    </tr>\n",
       "  </thead>\n",
       "  <tbody>\n",
       "    <tr>\n",
       "      <th>0</th>\n",
       "      <td>4</td>\n",
       "      <td>307.0</td>\n",
       "      <td>130.0</td>\n",
       "      <td>3504.0</td>\n",
       "      <td>12.0</td>\n",
       "      <td>0</td>\n",
       "      <td>0</td>\n",
       "    </tr>\n",
       "    <tr>\n",
       "      <th>1</th>\n",
       "      <td>4</td>\n",
       "      <td>350.0</td>\n",
       "      <td>165.0</td>\n",
       "      <td>3693.0</td>\n",
       "      <td>11.5</td>\n",
       "      <td>0</td>\n",
       "      <td>0</td>\n",
       "    </tr>\n",
       "    <tr>\n",
       "      <th>2</th>\n",
       "      <td>4</td>\n",
       "      <td>318.0</td>\n",
       "      <td>150.0</td>\n",
       "      <td>3436.0</td>\n",
       "      <td>11.0</td>\n",
       "      <td>0</td>\n",
       "      <td>0</td>\n",
       "    </tr>\n",
       "    <tr>\n",
       "      <th>3</th>\n",
       "      <td>4</td>\n",
       "      <td>304.0</td>\n",
       "      <td>150.0</td>\n",
       "      <td>3433.0</td>\n",
       "      <td>12.0</td>\n",
       "      <td>0</td>\n",
       "      <td>0</td>\n",
       "    </tr>\n",
       "    <tr>\n",
       "      <th>4</th>\n",
       "      <td>4</td>\n",
       "      <td>302.0</td>\n",
       "      <td>140.0</td>\n",
       "      <td>3449.0</td>\n",
       "      <td>10.5</td>\n",
       "      <td>0</td>\n",
       "      <td>0</td>\n",
       "    </tr>\n",
       "  </tbody>\n",
       "</table>\n",
       "</div>"
      ],
      "text/plain": [
       "   cylinders  displacement horsepower  weight  acceleration  model year  \\\n",
       "0          4         307.0      130.0  3504.0          12.0           0   \n",
       "1          4         350.0      165.0  3693.0          11.5           0   \n",
       "2          4         318.0      150.0  3436.0          11.0           0   \n",
       "3          4         304.0      150.0  3433.0          12.0           0   \n",
       "4          4         302.0      140.0  3449.0          10.5           0   \n",
       "\n",
       "   origin  \n",
       "0       0  \n",
       "1       0  \n",
       "2       0  \n",
       "3       0  \n",
       "4       0  "
      ]
     },
     "execution_count": 20,
     "metadata": {},
     "output_type": "execute_result"
    }
   ],
   "source": [
    "data.head()"
   ]
  },
  {
   "cell_type": "code",
   "execution_count": 21,
   "id": "2db73b7a",
   "metadata": {},
   "outputs": [
    {
     "data": {
      "text/plain": [
       "array([ 0,  1,  2,  3,  4,  5,  6,  7,  8,  9, 10, 11, 12], dtype=int64)"
      ]
     },
     "execution_count": 21,
     "metadata": {},
     "output_type": "execute_result"
    }
   ],
   "source": [
    "data['model year'].unique()"
   ]
  },
  {
   "cell_type": "markdown",
   "id": "e5407e5e",
   "metadata": {},
   "source": [
    "## data, target 분리"
   ]
  },
  {
   "cell_type": "code",
   "execution_count": 22,
   "id": "461ccc7b",
   "metadata": {},
   "outputs": [],
   "source": [
    "train_input, test_input, train_target, test_target = train_test_split(data, target, test_size=0.2, random_state=42)"
   ]
  },
  {
   "cell_type": "markdown",
   "id": "4999bc97",
   "metadata": {},
   "source": [
    "## 스케일링"
   ]
  },
  {
   "cell_type": "code",
   "execution_count": 23,
   "id": "e2313300",
   "metadata": {},
   "outputs": [],
   "source": [
    "ss = StandardScaler()\n",
    "train_input_scaled = ss.fit_transform(train_input)\n",
    "test_input_scaled = ss.transform(test_input)"
   ]
  },
  {
   "cell_type": "markdown",
   "id": "771c8c34",
   "metadata": {},
   "source": [
    "## All_estimators"
   ]
  },
  {
   "cell_type": "code",
   "execution_count": 24,
   "id": "ec38d811",
   "metadata": {},
   "outputs": [],
   "source": [
    "from sklearn.utils import all_estimators"
   ]
  },
  {
   "cell_type": "code",
   "execution_count": 25,
   "id": "1eb912d6",
   "metadata": {},
   "outputs": [],
   "source": [
    "models = all_estimators(type_filter='regressor')"
   ]
  },
  {
   "cell_type": "code",
   "execution_count": 26,
   "id": "07a096cb",
   "metadata": {},
   "outputs": [],
   "source": [
    "# 경고무시\n",
    "import warnings\n",
    "warnings.filterwarnings('ignore')\n",
    "\n",
    "scores = []\n",
    "for name, model in models:\n",
    "    \n",
    "        try:\n",
    "        # 모델 객체 생성\n",
    "            md = model()\n",
    "        # 학습\n",
    "            md.fit(train_input_scaled, train_target)\n",
    "        # 평가\n",
    "            scores.append((name,md.score(train_input_scaled, train_target),md.score(test_input_scaled, test_target)))\n",
    "                    \n",
    "        except :\n",
    "            pass"
   ]
  },
  {
   "cell_type": "code",
   "execution_count": 27,
   "id": "f9d49d14",
   "metadata": {},
   "outputs": [
    {
     "data": {
      "text/plain": [
       "[('ARDRegression', 0.8148888934784608, 0.8503904853352313),\n",
       " ('AdaBoostRegressor', 0.8947286898178498, 0.8501786905575348),\n",
       " ('BaggingRegressor', 0.9741112766677484, 0.8971685057745705),\n",
       " ('BayesianRidge', 0.8164689588382045, 0.858320060221681),\n",
       " ('CCA', 0.7985089276808673, 0.8117091610903427),\n",
       " ('DecisionTreeRegressor', 1.0, 0.7904827023267649),\n",
       " ('DummyRegressor', 0.0, -0.004033263418077082),\n",
       " ('ElasticNet', 0.7130576982112806, 0.7891468727501993),\n",
       " ('ElasticNetCV', 0.8165400969078478, 0.8579523025263125),\n",
       " ('ExtraTreeRegressor', 1.0, 0.7070826355332457),\n",
       " ('ExtraTreesRegressor', 0.999999512373699, 0.9034977678340497),\n",
       " ('GammaRegressor', 0.809113971583803, 0.8545370954700533),\n",
       " ('GaussianProcessRegressor', 0.9999999999999993, 0.22886705258296525),\n",
       " ('GradientBoostingRegressor', 0.9721406835479339, 0.9009223978429588),\n",
       " ('HistGradientBoostingRegressor', 0.9632826475407255, 0.9075431123075165),\n",
       " ('HuberRegressor', 0.8099689998256407, 0.8661600593476458),\n",
       " ('KNeighborsRegressor', 0.8968105304704689, 0.8993440030148916),\n",
       " ('KernelRidge', -8.072945465349804, -9.59523266639111),\n",
       " ('Lars', 0.8167716267023879, 0.8594254678934102),\n",
       " ('LarsCV', 0.8085294548216081, 0.8501755116238566),\n",
       " ('Lasso', 0.6689934514940197, 0.7397660321376567),\n",
       " ('LassoCV', 0.8167100590132363, 0.8584792770811565),\n",
       " ('LassoLars', 0.0, -0.004033263418077082),\n",
       " ('LassoLarsCV', 0.8167716267023879, 0.8594254678934102),\n",
       " ('LassoLarsIC', 0.8167716267023879, 0.8594254678934102),\n",
       " ('LinearRegression', 0.8167716267023879, 0.8594254678934102),\n",
       " ('LinearSVR', 0.7991480847268886, 0.8557139633383539),\n",
       " ('MLPRegressor', 0.7429239847951894, 0.7340819823642335),\n",
       " ('NuSVR', 0.875052309868737, 0.8928064829853044),\n",
       " ('OrthogonalMatchingPursuit', 0.6844798112332582, 0.7229710573030748),\n",
       " ('OrthogonalMatchingPursuitCV', 0.8115258053074388, 0.8409091133498285),\n",
       " ('PLSCanonical', -0.8327838974521495, -1.5613466632150006),\n",
       " ('PLSRegression', 0.7934455955339148, 0.8309373709842175),\n",
       " ('PassiveAggressiveRegressor', 0.3862584154603532, 0.20266286313788895),\n",
       " ('PoissonRegressor', 0.8591837449509465, 0.8891405243176373),\n",
       " ('QuantileRegressor', -0.019926746696173447, -0.007907923621216284),\n",
       " ('RANSACRegressor', 0.793091778620432, 0.8449771930154407),\n",
       " ('RadiusNeighborsRegressor', 0.9083649005600047, 0.9061455623375246),\n",
       " ('RandomForestRegressor', 0.9811780768969187, 0.901089194689392),\n",
       " ('Ridge', 0.8166806864943932, 0.8588651064273443),\n",
       " ('RidgeCV', 0.8166806864943925, 0.8588651064274186),\n",
       " ('SGDRegressor', 0.8142128042160275, 0.8519211157117296),\n",
       " ('SVR', 0.871113548757736, 0.8896062127458233),\n",
       " ('TheilSenRegressor', 0.8023736064631355, 0.8401387925481272),\n",
       " ('TransformedTargetRegressor', 0.8167716267023879, 0.8594254678934102),\n",
       " ('TweedieRegressor', 0.7456811555111567, 0.8175876964521861)]"
      ]
     },
     "execution_count": 27,
     "metadata": {},
     "output_type": "execute_result"
    }
   ],
   "source": [
    "scores"
   ]
  },
  {
   "cell_type": "markdown",
   "id": "69ea26de",
   "metadata": {},
   "source": [
    "## RMSE(All Model)"
   ]
  },
  {
   "cell_type": "code",
   "execution_count": 28,
   "id": "9da9328a",
   "metadata": {},
   "outputs": [],
   "source": [
    "from sklearn.metrics import *"
   ]
  },
  {
   "cell_type": "code",
   "execution_count": 29,
   "id": "2403dbda",
   "metadata": {},
   "outputs": [],
   "source": [
    "# 경고무시\n",
    "import warnings\n",
    "warnings.filterwarnings('ignore')\n",
    "\n",
    "RMSE_list = []\n",
    "for name, model in models:\n",
    "    try:\n",
    "        # 모델 객체 생성\n",
    "        md = model()\n",
    "        # 학습\n",
    "        md.fit(train_input_scaled, train_target)\n",
    "        # 평가\n",
    "        RMSE = np.sqrt(mean_squared_error(test_target, md.predict(test_input_scaled)))\n",
    "        RMSE_list.append((name, RMSE))        \n",
    "    except :\n",
    "        pass"
   ]
  },
  {
   "cell_type": "code",
   "execution_count": 30,
   "id": "30b09eb6",
   "metadata": {},
   "outputs": [
    {
     "data": {
      "text/plain": [
       "[('ARDRegression', 1.2053805880573714),\n",
       " ('AdaBoostRegressor', 1.1944284763254005),\n",
       " ('BaggingRegressor', 0.9654728844586987),\n",
       " ('BayesianRidge', 1.1730020412758706),\n",
       " ('CCA', 1.3522568226106495),\n",
       " ('DecisionTreeRegressor', 1.4274876312949263),\n",
       " ('DummyRegressor', 3.122616402596289),\n",
       " ('ElasticNet', 1.4309834448013217),\n",
       " ('ElasticNetCV', 1.1745234315229767),\n",
       " ('ExtraTreeRegressor', 1.3151930407263412),\n",
       " ('ExtraTreesRegressor', 1.0040890846348314),\n",
       " ('GammaRegressor', 1.2494263437111097),\n",
       " ('GaussianProcessRegressor', 2.7365867236474006),\n",
       " ('GradientBoostingRegressor', 0.976297622067391),\n",
       " ('HistGradientBoostingRegressor', 0.9475763679183716),\n",
       " ('HuberRegressor', 1.1400855828977192),\n",
       " ('KNeighborsRegressor', 0.9886997253337335),\n",
       " ('KernelRidge', 10.143780316028991),\n",
       " ('Lars', 1.1684171137035009),\n",
       " ('LarsCV', 1.2062462820671718),\n",
       " ('Lasso', 1.5897417426914402),\n",
       " ('LassoCV', 1.1723427588091433),\n",
       " ('LassoLars', 3.122616402596289),\n",
       " ('LassoLarsCV', 1.1684171137035009),\n",
       " ('LassoLarsIC', 1.1684171137035009),\n",
       " ('LinearRegression', 1.168417113703501),\n",
       " ('LinearSVR', 1.1866261984965116),\n",
       " ('MLPRegressor', 1.5784394351276603),\n",
       " ('NuSVR', 1.020302254435022),\n",
       " ('OrthogonalMatchingPursuit', 1.6402390922667078),\n",
       " ('OrthogonalMatchingPursuitCV', 1.2429888623731375),\n",
       " ('PLSCanonical', 4.987452435449125),\n",
       " ('PLSRegression', 1.2813518350496116),\n",
       " ('PassiveAggressiveRegressor', 1.7248689917943056),\n",
       " ('PoissonRegressor', 1.0263990037605262),\n",
       " ('QuantileRegressor', 3.1286358381770873),\n",
       " ('RANSACRegressor', 1.2382686548264907),\n",
       " ('RadiusNeighborsRegressor', 0.954711144209424),\n",
       " ('RandomForestRegressor', 0.934588253373511),\n",
       " ('Ridge', 1.1707435832757445),\n",
       " ('RidgeCV', 1.1707435832754358),\n",
       " ('SGDRegressor', 1.2129156635766714),\n",
       " ('SVR', 1.035420841658443),\n",
       " ('TheilSenRegressor', 1.2545173303423467),\n",
       " ('TransformedTargetRegressor', 1.168417113703501),\n",
       " ('TweedieRegressor', 1.3309803689304813)]"
      ]
     },
     "execution_count": 30,
     "metadata": {},
     "output_type": "execute_result"
    }
   ],
   "source": [
    "RMSE_list"
   ]
  },
  {
   "cell_type": "code",
   "execution_count": 31,
   "id": "121e7479",
   "metadata": {},
   "outputs": [],
   "source": [
    "from sklearn.ensemble import RandomForestRegressor"
   ]
  },
  {
   "cell_type": "code",
   "execution_count": 32,
   "id": "fb149833",
   "metadata": {},
   "outputs": [],
   "source": [
    "rfr = RandomForestRegressor()"
   ]
  },
  {
   "cell_type": "code",
   "execution_count": 33,
   "id": "fb7c8a63",
   "metadata": {},
   "outputs": [
    {
     "data": {
      "text/plain": [
       "RandomForestRegressor()"
      ]
     },
     "execution_count": 33,
     "metadata": {},
     "output_type": "execute_result"
    }
   ],
   "source": [
    "rfr.fit(train_input_scaled, train_target)"
   ]
  },
  {
   "cell_type": "code",
   "execution_count": 34,
   "id": "b5256d06",
   "metadata": {},
   "outputs": [
    {
     "name": "stdout",
     "output_type": "stream",
     "text": [
      "0.9804738339722725\n",
      "0.9090727422808207\n"
     ]
    }
   ],
   "source": [
    "print(rfr.score(train_input_scaled, train_target))\n",
    "print(rfr.score(test_input_scaled, test_target))"
   ]
  },
  {
   "cell_type": "code",
   "execution_count": 35,
   "id": "905e7cff",
   "metadata": {},
   "outputs": [],
   "source": [
    "from sklearn.model_selection import GridSearchCV"
   ]
  },
  {
   "cell_type": "code",
   "execution_count": 36,
   "id": "bea2a994",
   "metadata": {},
   "outputs": [],
   "source": [
    "param_grid = {'max_depth' : [5, 10, 15],\n",
    "               'n_estimators' : [100, 300, 500]}\n",
    "              "
   ]
  },
  {
   "cell_type": "code",
   "execution_count": 37,
   "id": "c62e6586",
   "metadata": {},
   "outputs": [],
   "source": [
    "grid_search_rfr = GridSearchCV(rfr, param_grid, cv=5, return_train_score=True)"
   ]
  },
  {
   "cell_type": "code",
   "execution_count": 38,
   "id": "4ccfc727",
   "metadata": {},
   "outputs": [
    {
     "data": {
      "text/plain": [
       "GridSearchCV(cv=5, estimator=RandomForestRegressor(),\n",
       "             param_grid={'max_depth': [5, 10, 15],\n",
       "                         'n_estimators': [100, 300, 500]},\n",
       "             return_train_score=True)"
      ]
     },
     "execution_count": 38,
     "metadata": {},
     "output_type": "execute_result"
    }
   ],
   "source": [
    "grid_search_rfr.fit(train_input_scaled, train_target)"
   ]
  },
  {
   "cell_type": "code",
   "execution_count": 39,
   "id": "a7b09c29",
   "metadata": {},
   "outputs": [
    {
     "data": {
      "text/plain": [
       "0.8501078360572372"
      ]
     },
     "execution_count": 39,
     "metadata": {},
     "output_type": "execute_result"
    }
   ],
   "source": [
    "grid_search_rfr.best_score_"
   ]
  },
  {
   "cell_type": "code",
   "execution_count": 40,
   "id": "4eacdd7c",
   "metadata": {},
   "outputs": [
    {
     "data": {
      "text/plain": [
       "RandomForestRegressor(max_depth=10)"
      ]
     },
     "execution_count": 40,
     "metadata": {},
     "output_type": "execute_result"
    }
   ],
   "source": [
    "grid_search_rfr.best_estimator_"
   ]
  },
  {
   "cell_type": "code",
   "execution_count": 41,
   "id": "a3035987",
   "metadata": {},
   "outputs": [],
   "source": [
    "rfrmodel = grid_search_rfr.best_estimator_"
   ]
  },
  {
   "cell_type": "code",
   "execution_count": 42,
   "id": "ac374af3",
   "metadata": {
    "scrolled": true
   },
   "outputs": [
    {
     "name": "stdout",
     "output_type": "stream",
     "text": [
      "0.980617644469504\n",
      "0.9111706877153947\n"
     ]
    }
   ],
   "source": [
    "print(rfrmodel.score(train_input_scaled,train_target))\n",
    "print(rfrmodel.score(test_input_scaled,test_target))"
   ]
  },
  {
   "cell_type": "code",
   "execution_count": 43,
   "id": "b5814a40",
   "metadata": {},
   "outputs": [],
   "source": [
    "pred=rfrmodel.predict(ss.transform(data))"
   ]
  },
  {
   "cell_type": "code",
   "execution_count": 44,
   "id": "8af54e8f",
   "metadata": {},
   "outputs": [],
   "source": [
    "pred = pred.reshape(-1,1)"
   ]
  },
  {
   "cell_type": "code",
   "execution_count": 45,
   "id": "64cdfac8",
   "metadata": {
    "scrolled": true
   },
   "outputs": [],
   "source": [
    "pred =pd.DataFrame(pred)"
   ]
  },
  {
   "cell_type": "markdown",
   "id": "ab316e04",
   "metadata": {},
   "source": [
    "## 예측값, 실제 데이터 비교"
   ]
  },
  {
   "cell_type": "code",
   "execution_count": 46,
   "id": "ef1e6ce1",
   "metadata": {},
   "outputs": [
    {
     "data": {
      "text/html": [
       "<div>\n",
       "<style scoped>\n",
       "    .dataframe tbody tr th:only-of-type {\n",
       "        vertical-align: middle;\n",
       "    }\n",
       "\n",
       "    .dataframe tbody tr th {\n",
       "        vertical-align: top;\n",
       "    }\n",
       "\n",
       "    .dataframe thead th {\n",
       "        text-align: right;\n",
       "    }\n",
       "</style>\n",
       "<table border=\"1\" class=\"dataframe\">\n",
       "  <thead>\n",
       "    <tr style=\"text-align: right;\">\n",
       "      <th></th>\n",
       "      <th>0</th>\n",
       "      <th>mpg</th>\n",
       "    </tr>\n",
       "  </thead>\n",
       "  <tbody>\n",
       "    <tr>\n",
       "      <th>0</th>\n",
       "      <td>6.832406</td>\n",
       "      <td>7.650</td>\n",
       "    </tr>\n",
       "    <tr>\n",
       "      <th>1</th>\n",
       "      <td>6.325241</td>\n",
       "      <td>6.375</td>\n",
       "    </tr>\n",
       "    <tr>\n",
       "      <th>2</th>\n",
       "      <td>7.128737</td>\n",
       "      <td>7.650</td>\n",
       "    </tr>\n",
       "    <tr>\n",
       "      <th>3</th>\n",
       "      <td>6.848875</td>\n",
       "      <td>6.800</td>\n",
       "    </tr>\n",
       "    <tr>\n",
       "      <th>4</th>\n",
       "      <td>7.206548</td>\n",
       "      <td>7.225</td>\n",
       "    </tr>\n",
       "    <tr>\n",
       "      <th>...</th>\n",
       "      <td>...</td>\n",
       "      <td>...</td>\n",
       "    </tr>\n",
       "    <tr>\n",
       "      <th>393</th>\n",
       "      <td>11.654883</td>\n",
       "      <td>11.475</td>\n",
       "    </tr>\n",
       "    <tr>\n",
       "      <th>394</th>\n",
       "      <td>16.055636</td>\n",
       "      <td>18.700</td>\n",
       "    </tr>\n",
       "    <tr>\n",
       "      <th>395</th>\n",
       "      <td>13.640494</td>\n",
       "      <td>13.600</td>\n",
       "    </tr>\n",
       "    <tr>\n",
       "      <th>396</th>\n",
       "      <td>12.578326</td>\n",
       "      <td>11.900</td>\n",
       "    </tr>\n",
       "    <tr>\n",
       "      <th>397</th>\n",
       "      <td>12.770513</td>\n",
       "      <td>13.175</td>\n",
       "    </tr>\n",
       "  </tbody>\n",
       "</table>\n",
       "<p>398 rows × 2 columns</p>\n",
       "</div>"
      ],
      "text/plain": [
       "             0     mpg\n",
       "0     6.832406   7.650\n",
       "1     6.325241   6.375\n",
       "2     7.128737   7.650\n",
       "3     6.848875   6.800\n",
       "4     7.206548   7.225\n",
       "..         ...     ...\n",
       "393  11.654883  11.475\n",
       "394  16.055636  18.700\n",
       "395  13.640494  13.600\n",
       "396  12.578326  11.900\n",
       "397  12.770513  13.175\n",
       "\n",
       "[398 rows x 2 columns]"
      ]
     },
     "execution_count": 46,
     "metadata": {},
     "output_type": "execute_result"
    }
   ],
   "source": [
    "pd.concat([pred,pd.DataFrame(target)],axis=1)"
   ]
  },
  {
   "cell_type": "markdown",
   "id": "bdbec158",
   "metadata": {},
   "source": [
    "## RMSE"
   ]
  },
  {
   "cell_type": "code",
   "execution_count": 47,
   "id": "b9b16507",
   "metadata": {
    "scrolled": true
   },
   "outputs": [
    {
     "data": {
      "text/plain": [
       "0.93970520579844"
      ]
     },
     "execution_count": 47,
     "metadata": {},
     "output_type": "execute_result"
    }
   ],
   "source": [
    "np.sqrt(mean_squared_error(test_target, rfr.predict(test_input_scaled)))"
   ]
  },
  {
   "cell_type": "markdown",
   "id": "0a7216fc",
   "metadata": {},
   "source": [
    "## MSE"
   ]
  },
  {
   "cell_type": "code",
   "execution_count": 69,
   "id": "297f7bb6",
   "metadata": {},
   "outputs": [
    {
     "data": {
      "text/plain": [
       "0.8830458738046885"
      ]
     },
     "execution_count": 69,
     "metadata": {},
     "output_type": "execute_result"
    }
   ],
   "source": [
    "mean_squared_error(test_target, rfr.predict(test_input_scaled))"
   ]
  },
  {
   "cell_type": "markdown",
   "id": "27b08765",
   "metadata": {},
   "source": [
    "## MAE"
   ]
  },
  {
   "cell_type": "code",
   "execution_count": 48,
   "id": "033ddd66",
   "metadata": {},
   "outputs": [
    {
     "data": {
      "text/plain": [
       "0.6741296874999997"
      ]
     },
     "execution_count": 48,
     "metadata": {},
     "output_type": "execute_result"
    }
   ],
   "source": [
    "mean_absolute_error(test_target, rfr.predict(test_input_scaled))"
   ]
  },
  {
   "cell_type": "markdown",
   "id": "b3440951",
   "metadata": {},
   "source": [
    "## R SQUARED"
   ]
  },
  {
   "cell_type": "code",
   "execution_count": 49,
   "id": "66bebf94",
   "metadata": {},
   "outputs": [
    {
     "data": {
      "text/plain": [
       "0.9683119572486614"
      ]
     },
     "execution_count": 49,
     "metadata": {},
     "output_type": "execute_result"
    }
   ],
   "source": [
    "rfrmodel.score(ss.transform(data),target)"
   ]
  },
  {
   "cell_type": "code",
   "execution_count": 50,
   "id": "420e07aa",
   "metadata": {},
   "outputs": [],
   "source": [
    "import tensorflow as ft"
   ]
  },
  {
   "cell_type": "code",
   "execution_count": 51,
   "id": "f1718b17",
   "metadata": {},
   "outputs": [],
   "source": [
    "from tensorflow.keras import Sequential\n",
    "from tensorflow.keras.layers import Dense"
   ]
  },
  {
   "cell_type": "code",
   "execution_count": 60,
   "id": "2d291d9d",
   "metadata": {},
   "outputs": [],
   "source": [
    "model = Sequential(name='MPG')"
   ]
  },
  {
   "cell_type": "code",
   "execution_count": 61,
   "id": "bf28398f",
   "metadata": {},
   "outputs": [],
   "source": [
    "l1 = Dense(10, activation='relu', input_shape=(7,))"
   ]
  },
  {
   "cell_type": "code",
   "execution_count": 62,
   "id": "beea6a3f",
   "metadata": {},
   "outputs": [],
   "source": [
    "l2 = Dense(30, activation='relu')\n",
    "l3 = Dense(1, activation='linear')"
   ]
  },
  {
   "cell_type": "code",
   "execution_count": 63,
   "id": "d987bf39",
   "metadata": {},
   "outputs": [],
   "source": [
    "model.add(l1)\n",
    "model.add(l2)\n",
    "model.add(l3)"
   ]
  },
  {
   "cell_type": "code",
   "execution_count": 64,
   "id": "83f353f8",
   "metadata": {},
   "outputs": [],
   "source": [
    "model.compile(optimizer='adam', loss='mean_squared_error', metrics=['mean_squared_error'])"
   ]
  },
  {
   "cell_type": "code",
   "execution_count": 65,
   "id": "0c686414",
   "metadata": {},
   "outputs": [
    {
     "name": "stdout",
     "output_type": "stream",
     "text": [
      "Epoch 1/100\n",
      "10/10 [==============================] - 0s 1ms/step - loss: 106.2305 - mean_squared_error: 106.2305\n",
      "Epoch 2/100\n",
      "10/10 [==============================] - 0s 1ms/step - loss: 99.9010 - mean_squared_error: 99.9010\n",
      "Epoch 3/100\n",
      "10/10 [==============================] - 0s 1ms/step - loss: 93.6531 - mean_squared_error: 93.6531\n",
      "Epoch 4/100\n",
      "10/10 [==============================] - 0s 997us/step - loss: 87.0115 - mean_squared_error: 87.0115\n",
      "Epoch 5/100\n",
      "10/10 [==============================] - 0s 997us/step - loss: 79.7042 - mean_squared_error: 79.7042\n",
      "Epoch 6/100\n",
      "10/10 [==============================] - 0s 1ms/step - loss: 72.2868 - mean_squared_error: 72.2868\n",
      "Epoch 7/100\n",
      "10/10 [==============================] - 0s 1ms/step - loss: 64.2388 - mean_squared_error: 64.2388\n",
      "Epoch 8/100\n",
      "10/10 [==============================] - 0s 1ms/step - loss: 55.7118 - mean_squared_error: 55.7118\n",
      "Epoch 9/100\n",
      "10/10 [==============================] - 0s 1ms/step - loss: 47.5645 - mean_squared_error: 47.5645\n",
      "Epoch 10/100\n",
      "10/10 [==============================] - 0s 997us/step - loss: 39.3299 - mean_squared_error: 39.3299\n",
      "Epoch 11/100\n",
      "10/10 [==============================] - 0s 1ms/step - loss: 32.0524 - mean_squared_error: 32.0524\n",
      "Epoch 12/100\n",
      "10/10 [==============================] - 0s 1ms/step - loss: 25.8372 - mean_squared_error: 25.8372\n",
      "Epoch 13/100\n",
      "10/10 [==============================] - 0s 1ms/step - loss: 20.7552 - mean_squared_error: 20.7552\n",
      "Epoch 14/100\n",
      "10/10 [==============================] - 0s 1ms/step - loss: 17.3362 - mean_squared_error: 17.3362\n",
      "Epoch 15/100\n",
      "10/10 [==============================] - 0s 1ms/step - loss: 14.9283 - mean_squared_error: 14.9283\n",
      "Epoch 16/100\n",
      "10/10 [==============================] - 0s 1ms/step - loss: 13.2910 - mean_squared_error: 13.2910\n",
      "Epoch 17/100\n",
      "10/10 [==============================] - 0s 1ms/step - loss: 12.1840 - mean_squared_error: 12.1840\n",
      "Epoch 18/100\n",
      "10/10 [==============================] - 0s 1ms/step - loss: 11.3590 - mean_squared_error: 11.3590\n",
      "Epoch 19/100\n",
      "10/10 [==============================] - 0s 1ms/step - loss: 10.6526 - mean_squared_error: 10.6526\n",
      "Epoch 20/100\n",
      "10/10 [==============================] - 0s 1ms/step - loss: 9.9990 - mean_squared_error: 9.9990\n",
      "Epoch 21/100\n",
      "10/10 [==============================] - 0s 1ms/step - loss: 9.3990 - mean_squared_error: 9.3990\n",
      "Epoch 22/100\n",
      "10/10 [==============================] - 0s 1ms/step - loss: 8.8288 - mean_squared_error: 8.8288\n",
      "Epoch 23/100\n",
      "10/10 [==============================] - 0s 1ms/step - loss: 8.3170 - mean_squared_error: 8.3170\n",
      "Epoch 24/100\n",
      "10/10 [==============================] - 0s 1ms/step - loss: 7.8510 - mean_squared_error: 7.8510\n",
      "Epoch 25/100\n",
      "10/10 [==============================] - 0s 1ms/step - loss: 7.3646 - mean_squared_error: 7.3646\n",
      "Epoch 26/100\n",
      "10/10 [==============================] - 0s 1ms/step - loss: 6.9437 - mean_squared_error: 6.9437\n",
      "Epoch 27/100\n",
      "10/10 [==============================] - 0s 1ms/step - loss: 6.5619 - mean_squared_error: 6.5619\n",
      "Epoch 28/100\n",
      "10/10 [==============================] - 0s 1ms/step - loss: 6.1811 - mean_squared_error: 6.1811\n",
      "Epoch 29/100\n",
      "10/10 [==============================] - 0s 1ms/step - loss: 5.8417 - mean_squared_error: 5.8417\n",
      "Epoch 30/100\n",
      "10/10 [==============================] - 0s 1ms/step - loss: 5.5255 - mean_squared_error: 5.5255\n",
      "Epoch 31/100\n",
      "10/10 [==============================] - 0s 1ms/step - loss: 5.2288 - mean_squared_error: 5.2288\n",
      "Epoch 32/100\n",
      "10/10 [==============================] - 0s 1ms/step - loss: 4.9780 - mean_squared_error: 4.9780\n",
      "Epoch 33/100\n",
      "10/10 [==============================] - 0s 1ms/step - loss: 4.7487 - mean_squared_error: 4.7487\n",
      "Epoch 34/100\n",
      "10/10 [==============================] - 0s 1ms/step - loss: 4.5107 - mean_squared_error: 4.5107\n",
      "Epoch 35/100\n",
      "10/10 [==============================] - 0s 1ms/step - loss: 4.3118 - mean_squared_error: 4.3118\n",
      "Epoch 36/100\n",
      "10/10 [==============================] - 0s 1ms/step - loss: 4.1326 - mean_squared_error: 4.1326\n",
      "Epoch 37/100\n",
      "10/10 [==============================] - 0s 1ms/step - loss: 3.9703 - mean_squared_error: 3.9703\n",
      "Epoch 38/100\n",
      "10/10 [==============================] - 0s 1ms/step - loss: 3.8184 - mean_squared_error: 3.8184\n",
      "Epoch 39/100\n",
      "10/10 [==============================] - 0s 1ms/step - loss: 3.6869 - mean_squared_error: 3.6869\n",
      "Epoch 40/100\n",
      "10/10 [==============================] - 0s 1ms/step - loss: 3.5619 - mean_squared_error: 3.5619\n",
      "Epoch 41/100\n",
      "10/10 [==============================] - 0s 1ms/step - loss: 3.4511 - mean_squared_error: 3.4511\n",
      "Epoch 42/100\n",
      "10/10 [==============================] - 0s 1ms/step - loss: 3.3539 - mean_squared_error: 3.3539\n",
      "Epoch 43/100\n",
      "10/10 [==============================] - 0s 1ms/step - loss: 3.2618 - mean_squared_error: 3.2618\n",
      "Epoch 44/100\n",
      "10/10 [==============================] - 0s 1ms/step - loss: 3.1815 - mean_squared_error: 3.1815\n",
      "Epoch 45/100\n",
      "10/10 [==============================] - 0s 1ms/step - loss: 3.1142 - mean_squared_error: 3.1142\n",
      "Epoch 46/100\n",
      "10/10 [==============================] - 0s 1ms/step - loss: 3.0460 - mean_squared_error: 3.0460\n",
      "Epoch 47/100\n",
      "10/10 [==============================] - 0s 1ms/step - loss: 2.9780 - mean_squared_error: 2.9780\n",
      "Epoch 48/100\n",
      "10/10 [==============================] - 0s 1ms/step - loss: 2.9246 - mean_squared_error: 2.9246\n",
      "Epoch 49/100\n",
      "10/10 [==============================] - 0s 1ms/step - loss: 2.8710 - mean_squared_error: 2.8710\n",
      "Epoch 50/100\n",
      "10/10 [==============================] - 0s 1ms/step - loss: 2.8205 - mean_squared_error: 2.8205\n",
      "Epoch 51/100\n",
      "10/10 [==============================] - 0s 1ms/step - loss: 2.7785 - mean_squared_error: 2.7785\n",
      "Epoch 52/100\n",
      "10/10 [==============================] - 0s 1ms/step - loss: 2.7354 - mean_squared_error: 2.7354\n",
      "Epoch 53/100\n",
      "10/10 [==============================] - 0s 1ms/step - loss: 2.6972 - mean_squared_error: 2.6972\n",
      "Epoch 54/100\n",
      "10/10 [==============================] - 0s 1ms/step - loss: 2.6626 - mean_squared_error: 2.6626\n",
      "Epoch 55/100\n",
      "10/10 [==============================] - 0s 1ms/step - loss: 2.6300 - mean_squared_error: 2.6300\n",
      "Epoch 56/100\n",
      "10/10 [==============================] - 0s 1ms/step - loss: 2.5969 - mean_squared_error: 2.5969\n",
      "Epoch 57/100\n",
      "10/10 [==============================] - 0s 1ms/step - loss: 2.5674 - mean_squared_error: 2.5674\n",
      "Epoch 58/100\n",
      "10/10 [==============================] - 0s 1ms/step - loss: 2.5360 - mean_squared_error: 2.5360\n",
      "Epoch 59/100\n",
      "10/10 [==============================] - 0s 1ms/step - loss: 2.5050 - mean_squared_error: 2.5050\n",
      "Epoch 60/100\n",
      "10/10 [==============================] - 0s 997us/step - loss: 2.4801 - mean_squared_error: 2.4801\n",
      "Epoch 61/100\n",
      "10/10 [==============================] - 0s 1ms/step - loss: 2.4611 - mean_squared_error: 2.4611\n",
      "Epoch 62/100\n",
      "10/10 [==============================] - 0s 1ms/step - loss: 2.4292 - mean_squared_error: 2.4292\n",
      "Epoch 63/100\n",
      "10/10 [==============================] - 0s 1ms/step - loss: 2.4056 - mean_squared_error: 2.4056\n",
      "Epoch 64/100\n",
      "10/10 [==============================] - 0s 997us/step - loss: 2.3901 - mean_squared_error: 2.3901\n",
      "Epoch 65/100\n",
      "10/10 [==============================] - 0s 1ms/step - loss: 2.3644 - mean_squared_error: 2.3644\n",
      "Epoch 66/100\n",
      "10/10 [==============================] - 0s 1ms/step - loss: 2.3458 - mean_squared_error: 2.3458\n",
      "Epoch 67/100\n",
      "10/10 [==============================] - 0s 1ms/step - loss: 2.3273 - mean_squared_error: 2.3273\n",
      "Epoch 68/100\n",
      "10/10 [==============================] - 0s 1ms/step - loss: 2.3048 - mean_squared_error: 2.3048\n",
      "Epoch 69/100\n",
      "10/10 [==============================] - 0s 886us/step - loss: 2.2844 - mean_squared_error: 2.2844\n",
      "Epoch 70/100\n",
      "10/10 [==============================] - 0s 1ms/step - loss: 2.2637 - mean_squared_error: 2.2637\n",
      "Epoch 71/100\n",
      "10/10 [==============================] - 0s 1ms/step - loss: 2.2463 - mean_squared_error: 2.2463\n",
      "Epoch 72/100\n",
      "10/10 [==============================] - 0s 997us/step - loss: 2.2294 - mean_squared_error: 2.2294\n",
      "Epoch 73/100\n",
      "10/10 [==============================] - 0s 2ms/step - loss: 2.2044 - mean_squared_error: 2.2044\n",
      "Epoch 74/100\n",
      "10/10 [==============================] - 0s 1ms/step - loss: 2.1874 - mean_squared_error: 2.1874\n",
      "Epoch 75/100\n"
     ]
    },
    {
     "name": "stdout",
     "output_type": "stream",
     "text": [
      "10/10 [==============================] - 0s 1ms/step - loss: 2.1715 - mean_squared_error: 2.1715\n",
      "Epoch 76/100\n",
      "10/10 [==============================] - 0s 997us/step - loss: 2.1571 - mean_squared_error: 2.1571\n",
      "Epoch 77/100\n",
      "10/10 [==============================] - 0s 1ms/step - loss: 2.1360 - mean_squared_error: 2.1360\n",
      "Epoch 78/100\n",
      "10/10 [==============================] - 0s 1ms/step - loss: 2.1183 - mean_squared_error: 2.1183\n",
      "Epoch 79/100\n",
      "10/10 [==============================] - 0s 1ms/step - loss: 2.1011 - mean_squared_error: 2.1011\n",
      "Epoch 80/100\n",
      "10/10 [==============================] - 0s 998us/step - loss: 2.0831 - mean_squared_error: 2.0831\n",
      "Epoch 81/100\n",
      "10/10 [==============================] - 0s 997us/step - loss: 2.0762 - mean_squared_error: 2.0762\n",
      "Epoch 82/100\n",
      "10/10 [==============================] - 0s 1ms/step - loss: 2.0500 - mean_squared_error: 2.0500\n",
      "Epoch 83/100\n",
      "10/10 [==============================] - 0s 1ms/step - loss: 2.0404 - mean_squared_error: 2.0404\n",
      "Epoch 84/100\n",
      "10/10 [==============================] - 0s 999us/step - loss: 2.0237 - mean_squared_error: 2.0237\n",
      "Epoch 85/100\n",
      "10/10 [==============================] - 0s 886us/step - loss: 2.0067 - mean_squared_error: 2.0067\n",
      "Epoch 86/100\n",
      "10/10 [==============================] - 0s 997us/step - loss: 1.9969 - mean_squared_error: 1.9969\n",
      "Epoch 87/100\n",
      "10/10 [==============================] - 0s 1ms/step - loss: 1.9732 - mean_squared_error: 1.9732\n",
      "Epoch 88/100\n",
      "10/10 [==============================] - 0s 997us/step - loss: 1.9576 - mean_squared_error: 1.9576\n",
      "Epoch 89/100\n",
      "10/10 [==============================] - 0s 997us/step - loss: 1.9482 - mean_squared_error: 1.9482\n",
      "Epoch 90/100\n",
      "10/10 [==============================] - 0s 1ms/step - loss: 1.9316 - mean_squared_error: 1.9316\n",
      "Epoch 91/100\n",
      "10/10 [==============================] - 0s 1ms/step - loss: 1.9161 - mean_squared_error: 1.9161\n",
      "Epoch 92/100\n",
      "10/10 [==============================] - 0s 997us/step - loss: 1.9019 - mean_squared_error: 1.9019\n",
      "Epoch 93/100\n",
      "10/10 [==============================] - 0s 997us/step - loss: 1.8882 - mean_squared_error: 1.8882\n",
      "Epoch 94/100\n",
      "10/10 [==============================] - 0s 1ms/step - loss: 1.8837 - mean_squared_error: 1.8837\n",
      "Epoch 95/100\n",
      "10/10 [==============================] - 0s 997us/step - loss: 1.8840 - mean_squared_error: 1.8840\n",
      "Epoch 96/100\n",
      "10/10 [==============================] - 0s 997us/step - loss: 1.8518 - mean_squared_error: 1.8518\n",
      "Epoch 97/100\n",
      "10/10 [==============================] - 0s 996us/step - loss: 1.8419 - mean_squared_error: 1.8419\n",
      "Epoch 98/100\n",
      "10/10 [==============================] - 0s 997us/step - loss: 1.8355 - mean_squared_error: 1.8355\n",
      "Epoch 99/100\n",
      "10/10 [==============================] - 0s 997us/step - loss: 1.8194 - mean_squared_error: 1.8194\n",
      "Epoch 100/100\n",
      "10/10 [==============================] - 0s 997us/step - loss: 1.8100 - mean_squared_error: 1.8100\n"
     ]
    },
    {
     "data": {
      "text/plain": [
       "<keras.callbacks.History at 0x1d8fbfbc2b0>"
      ]
     },
     "execution_count": 65,
     "metadata": {},
     "output_type": "execute_result"
    }
   ],
   "source": [
    "model.fit(train_input_scaled, train_target, epochs=100)"
   ]
  },
  {
   "cell_type": "code",
   "execution_count": 66,
   "id": "af7a1c0e",
   "metadata": {},
   "outputs": [
    {
     "name": "stdout",
     "output_type": "stream",
     "text": [
      "3/3 [==============================] - 0s 1ms/step - loss: 1.3579 - mean_squared_error: 1.3579\n"
     ]
    },
    {
     "data": {
      "text/plain": [
       "[1.357891321182251, 1.357891321182251]"
      ]
     },
     "execution_count": 66,
     "metadata": {},
     "output_type": "execute_result"
    }
   ],
   "source": [
    "model.evaluate(test_input_scaled, test_target)"
   ]
  },
  {
   "cell_type": "code",
   "execution_count": 67,
   "id": "0b3a5646",
   "metadata": {},
   "outputs": [
    {
     "name": "stdout",
     "output_type": "stream",
     "text": [
      "3/3 [==============================] - 0s 997us/step\n"
     ]
    },
    {
     "data": {
      "text/plain": [
       "array([[14.403151 ],\n",
       "       [13.995644 ],\n",
       "       [ 8.8191595],\n",
       "       [ 6.567253 ],\n",
       "       [ 6.032691 ],\n",
       "       [11.266785 ],\n",
       "       [11.863097 ],\n",
       "       [ 5.448935 ],\n",
       "       [ 8.365207 ],\n",
       "       [ 7.451648 ],\n",
       "       [ 6.3571935],\n",
       "       [16.232645 ],\n",
       "       [11.298113 ],\n",
       "       [ 6.2826657],\n",
       "       [ 9.392595 ],\n",
       "       [ 5.3752084],\n",
       "       [13.635093 ],\n",
       "       [ 6.865644 ],\n",
       "       [ 6.885229 ],\n",
       "       [16.193693 ],\n",
       "       [ 8.816939 ],\n",
       "       [ 7.9571424],\n",
       "       [10.652866 ],\n",
       "       [12.463057 ],\n",
       "       [ 7.2799144],\n",
       "       [17.51859  ],\n",
       "       [ 9.760124 ],\n",
       "       [ 9.2017975],\n",
       "       [ 7.0675855],\n",
       "       [ 5.6827273],\n",
       "       [12.351805 ],\n",
       "       [15.454678 ],\n",
       "       [ 7.8511744],\n",
       "       [10.600512 ],\n",
       "       [15.302005 ],\n",
       "       [ 5.839144 ],\n",
       "       [ 8.812058 ],\n",
       "       [ 7.323921 ],\n",
       "       [ 6.0677   ],\n",
       "       [10.5509815],\n",
       "       [10.135239 ],\n",
       "       [11.304697 ],\n",
       "       [ 6.9882636],\n",
       "       [ 4.731717 ],\n",
       "       [10.22919  ],\n",
       "       [14.479727 ],\n",
       "       [10.591198 ],\n",
       "       [ 8.062412 ],\n",
       "       [ 8.216532 ],\n",
       "       [11.663704 ],\n",
       "       [ 9.459749 ],\n",
       "       [15.007871 ],\n",
       "       [13.965058 ],\n",
       "       [ 5.162153 ],\n",
       "       [11.567655 ],\n",
       "       [ 5.4839034],\n",
       "       [ 7.561357 ],\n",
       "       [11.93246  ],\n",
       "       [ 8.986037 ],\n",
       "       [ 7.5561543],\n",
       "       [ 5.9876347],\n",
       "       [14.071713 ],\n",
       "       [ 9.045096 ],\n",
       "       [ 7.279209 ],\n",
       "       [ 7.549687 ],\n",
       "       [10.759815 ],\n",
       "       [ 9.742346 ],\n",
       "       [16.01108  ],\n",
       "       [13.877915 ],\n",
       "       [ 6.846879 ],\n",
       "       [15.571267 ],\n",
       "       [ 6.023153 ],\n",
       "       [ 5.943868 ],\n",
       "       [ 7.711314 ],\n",
       "       [11.462431 ],\n",
       "       [ 8.897419 ],\n",
       "       [ 7.229427 ],\n",
       "       [14.160381 ],\n",
       "       [12.511086 ],\n",
       "       [ 7.731468 ]], dtype=float32)"
      ]
     },
     "execution_count": 67,
     "metadata": {},
     "output_type": "execute_result"
    }
   ],
   "source": [
    "model.predict(test_input_scaled)"
   ]
  }
 ],
 "metadata": {
  "kernelspec": {
   "display_name": "Python 3 (ipykernel)",
   "language": "python",
   "name": "python3"
  },
  "language_info": {
   "codemirror_mode": {
    "name": "ipython",
    "version": 3
   },
   "file_extension": ".py",
   "mimetype": "text/x-python",
   "name": "python",
   "nbconvert_exporter": "python",
   "pygments_lexer": "ipython3",
   "version": "3.9.12"
  }
 },
 "nbformat": 4,
 "nbformat_minor": 5
}
