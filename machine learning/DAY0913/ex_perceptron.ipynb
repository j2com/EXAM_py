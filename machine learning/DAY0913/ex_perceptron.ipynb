{
 "cells": [
  {
   "cell_type": "markdown",
   "id": "88874d53",
   "metadata": {},
   "source": [
    "## 퍼셉트론(Perceptron)\n",
    "\n",
    "- 뉴런을 컴퓨터 프로그램화 한 클래스\n",
    "- 단순한 구조의 분류(classification)\n",
    "- AND, OR 문제 분류 성공\n",
    "- XOR 문제 분류 실패"
   ]
  },
  {
   "cell_type": "code",
   "execution_count": 1,
   "id": "9519a3be",
   "metadata": {},
   "outputs": [],
   "source": [
    "from sklearn.linear_model import Perceptron\n",
    "import numpy as np"
   ]
  },
  {
   "cell_type": "markdown",
   "id": "528f543d",
   "metadata": {},
   "source": [
    "## [1] AND 분류\n",
    "\n",
    "x1 x2 y  \n",
    "0  0  0  \n",
    "1  0  0    \n",
    "0  1  0  \n",
    "1  1  1  "
   ]
  },
  {
   "cell_type": "code",
   "execution_count": 2,
   "id": "cba0e2a4",
   "metadata": {},
   "outputs": [],
   "source": [
    "X1=[[0.,0.], [1.,0.], [0.,1.], [1.,1.]]\n",
    "y1=[0,0,0,1]"
   ]
  },
  {
   "cell_type": "code",
   "execution_count": 3,
   "id": "38d01b09",
   "metadata": {},
   "outputs": [],
   "source": [
    "andModel=Perceptron()"
   ]
  },
  {
   "cell_type": "code",
   "execution_count": 4,
   "id": "5915ced3",
   "metadata": {},
   "outputs": [
    {
     "data": {
      "text/plain": [
       "Perceptron()"
      ]
     },
     "execution_count": 4,
     "metadata": {},
     "output_type": "execute_result"
    }
   ],
   "source": [
    "andModel.fit(X1,y1)"
   ]
  },
  {
   "cell_type": "code",
   "execution_count": 5,
   "id": "edd53f47",
   "metadata": {},
   "outputs": [],
   "source": [
    "def showAttribute(model):\n",
    "    print(f'classes_ : {model.classes_}')\n",
    "    print(f'coef_ : {model.coef_}')\n",
    "    print(f'intercept_ : {model.intercept_}')\n",
    "    print(f'n_iter_ : {model.n_iter_}')"
   ]
  },
  {
   "cell_type": "code",
   "execution_count": 6,
   "id": "ddd5d536",
   "metadata": {
    "scrolled": true
   },
   "outputs": [
    {
     "name": "stdout",
     "output_type": "stream",
     "text": [
      "classes_ : [0 1]\n",
      "coef_ : [[2. 2.]]\n",
      "intercept_ : [-2.]\n",
      "n_iter_ : 10\n"
     ]
    }
   ],
   "source": [
    "showAttribute(andModel)"
   ]
  },
  {
   "cell_type": "code",
   "execution_count": 7,
   "id": "20f1a4f6",
   "metadata": {},
   "outputs": [],
   "source": [
    "pre_and = andModel.predict(X1)"
   ]
  },
  {
   "cell_type": "code",
   "execution_count": 9,
   "id": "c399db8b",
   "metadata": {},
   "outputs": [
    {
     "name": "stdout",
     "output_type": "stream",
     "text": [
      "정답 : [0, 0, 0, 1]\n",
      "예측 : [0 0 0 1]\n"
     ]
    }
   ],
   "source": [
    "print(f'정답 : {y1}')\n",
    "print(f'예측 : {pre_and}')"
   ]
  },
  {
   "cell_type": "code",
   "execution_count": 10,
   "id": "3d82357a",
   "metadata": {},
   "outputs": [],
   "source": [
    "from sklearn.metrics import accuracy_score"
   ]
  },
  {
   "cell_type": "code",
   "execution_count": 13,
   "id": "c6cb28e0",
   "metadata": {},
   "outputs": [
    {
     "name": "stdout",
     "output_type": "stream",
     "text": [
      "accuracy score = 1.0\n"
     ]
    }
   ],
   "source": [
    "print(f'accuracy score = {accuracy_score(y1,pre_and)}')"
   ]
  },
  {
   "cell_type": "markdown",
   "id": "5c8dbee5",
   "metadata": {},
   "source": [
    "## [2] OR 연산 분류"
   ]
  },
  {
   "cell_type": "code",
   "execution_count": 14,
   "id": "479731b9",
   "metadata": {},
   "outputs": [],
   "source": [
    "X2=[[0.,0.], [0.,1.], [1.,0.], [1.,1.]]\n",
    "y2=[0,1,1,1]"
   ]
  },
  {
   "cell_type": "code",
   "execution_count": 15,
   "id": "932f75bf",
   "metadata": {},
   "outputs": [],
   "source": [
    "orModel=Perceptron()"
   ]
  },
  {
   "cell_type": "code",
   "execution_count": 16,
   "id": "60a75c25",
   "metadata": {},
   "outputs": [
    {
     "data": {
      "text/plain": [
       "Perceptron()"
      ]
     },
     "execution_count": 16,
     "metadata": {},
     "output_type": "execute_result"
    }
   ],
   "source": [
    "orModel.fit(X2,y2)"
   ]
  },
  {
   "cell_type": "code",
   "execution_count": 17,
   "id": "14473c74",
   "metadata": {},
   "outputs": [
    {
     "name": "stdout",
     "output_type": "stream",
     "text": [
      "classes_ : [0 1]\n",
      "coef_ : [[2. 2.]]\n",
      "intercept_ : [-1.]\n",
      "n_iter_ : 7\n"
     ]
    }
   ],
   "source": [
    "showAttribute(orModel)"
   ]
  },
  {
   "cell_type": "code",
   "execution_count": 18,
   "id": "9f775216",
   "metadata": {},
   "outputs": [],
   "source": [
    "pre_or = orModel.predict(X2)"
   ]
  },
  {
   "cell_type": "code",
   "execution_count": 19,
   "id": "998506f7",
   "metadata": {},
   "outputs": [
    {
     "name": "stdout",
     "output_type": "stream",
     "text": [
      "정답 : [0, 1, 1, 1]\n",
      "예측 : [0 1 1 1]\n"
     ]
    }
   ],
   "source": [
    "print(f'정답 : {y2}')\n",
    "print(f'예측 : {pre_or}')"
   ]
  },
  {
   "cell_type": "markdown",
   "id": "6602c6c2",
   "metadata": {},
   "source": [
    "## [3] XOR 연산 분류"
   ]
  },
  {
   "cell_type": "code",
   "execution_count": 34,
   "id": "7f6c83e4",
   "metadata": {},
   "outputs": [],
   "source": [
    "xorModel=Perceptron()"
   ]
  },
  {
   "cell_type": "code",
   "execution_count": 35,
   "id": "31246f50",
   "metadata": {},
   "outputs": [
    {
     "data": {
      "text/plain": [
       "Perceptron()"
      ]
     },
     "execution_count": 35,
     "metadata": {},
     "output_type": "execute_result"
    }
   ],
   "source": [
    "xorModel.fit(X3,y3)"
   ]
  },
  {
   "cell_type": "code",
   "execution_count": 36,
   "id": "761ddc14",
   "metadata": {},
   "outputs": [],
   "source": [
    "pre_xor = xorModel.predict(X3)"
   ]
  }
 ],
 "metadata": {
  "kernelspec": {
   "display_name": "Python 3 (ipykernel)",
   "language": "python",
   "name": "python3"
  },
  "language_info": {
   "codemirror_mode": {
    "name": "ipython",
    "version": 3
   },
   "file_extension": ".py",
   "mimetype": "text/x-python",
   "name": "python",
   "nbconvert_exporter": "python",
   "pygments_lexer": "ipython3",
   "version": "3.9.12"
  }
 },
 "nbformat": 4,
 "nbformat_minor": 5
}
