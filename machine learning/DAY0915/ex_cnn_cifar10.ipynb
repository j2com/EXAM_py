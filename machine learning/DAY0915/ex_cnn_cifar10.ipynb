{
 "cells": [
  {
   "cell_type": "markdown",
   "id": "aaf0c3ee",
   "metadata": {},
   "source": [
    "## CiFAR 이미지 분류 모델 구현\n",
    "- 데이터 : https://www.cs.toronto.edu/~kriz/cifar.html\n",
    "- 학습방법 : 10가지 이미지 종류 분류 => 다중 분류\n",
    "- 이미지 : DNN, CNN"
   ]
  },
  {
   "cell_type": "markdown",
   "id": "486ac701",
   "metadata": {},
   "source": [
    "## [1] 데이터 로딩"
   ]
  },
  {
   "cell_type": "code",
   "execution_count": 1,
   "id": "69447137",
   "metadata": {},
   "outputs": [],
   "source": [
    "import tensorflow as tf"
   ]
  },
  {
   "cell_type": "code",
   "execution_count": 56,
   "id": "131562c5",
   "metadata": {
    "scrolled": true
   },
   "outputs": [],
   "source": [
    "# 모듈 로딩\n",
    "from sklearn.model_selection import train_test_split\n",
    "from tensorflow.keras import Sequential                       # 모델 객체\n",
    "from tensorflow.keras.layers import Dense, Dropout, Flatten, Conv2D, MaxPool2D,   # 레이어 객체\n",
    "from tensorflow.keras.datasets.cifar10 import load_data\n",
    "# 그래픽화 모듈 로딩\n",
    "from tensorflow.keras.utils import set_random_seed\n",
    "from tensorflow.keras.utils import plot_model\n",
    "import numpy as np\n",
    "import pandas as pd\n",
    "import matplotlib.pyplot as plt"
   ]
  },
  {
   "cell_type": "code",
   "execution_count": 57,
   "id": "3945b1c3",
   "metadata": {},
   "outputs": [],
   "source": [
    "cifar = tf.keras.datasets.cifar10.load_data()"
   ]
  },
  {
   "cell_type": "code",
   "execution_count": 88,
   "id": "adb9bfb4",
   "metadata": {},
   "outputs": [],
   "source": [
    "# W, b 고정하도록 seed 설정\n",
    "set_random_seed(11)"
   ]
  },
  {
   "cell_type": "code",
   "execution_count": 89,
   "id": "245499e3",
   "metadata": {},
   "outputs": [],
   "source": [
    "train_input = cifar[0][0]\n",
    "train_target = cifar[0][1]\n",
    "test_input = cifar[1][0]\n",
    "test_target = cifar[1][1]"
   ]
  },
  {
   "cell_type": "code",
   "execution_count": 90,
   "id": "45569811",
   "metadata": {},
   "outputs": [
    {
     "data": {
      "text/plain": [
       "((50000, 32, 32, 3), (50000, 1))"
      ]
     },
     "execution_count": 90,
     "metadata": {},
     "output_type": "execute_result"
    }
   ],
   "source": [
    "train_input.shape, train_target.shape"
   ]
  },
  {
   "cell_type": "markdown",
   "id": "b78a1655",
   "metadata": {},
   "source": [
    "## [2] 데이터 전처리"
   ]
  },
  {
   "cell_type": "markdown",
   "id": "328d0584",
   "metadata": {},
   "source": [
    "### 데이터 나누기"
   ]
  },
  {
   "cell_type": "code",
   "execution_count": 91,
   "id": "6e226cf7",
   "metadata": {},
   "outputs": [],
   "source": [
    "train_input, val_input, train_target, val_target = train_test_split(train_input, train_target, \n",
    "                                                                    test_size=0.2, random_state=11,\n",
    "                                                                    stratify=train_target)"
   ]
  },
  {
   "cell_type": "code",
   "execution_count": 92,
   "id": "5569ef47",
   "metadata": {},
   "outputs": [],
   "source": [
    "# 이미지 데이터의 픽셀값 즉 특성(Feature) 0.0~1.0으로 스케일링\n",
    "train_input = train_input/255.0 # numpy 브로드캐스팅\n",
    "val_input = val_input/255.0\n",
    "test_input = test_input/255.0"
   ]
  },
  {
   "cell_type": "code",
   "execution_count": 93,
   "id": "52197236",
   "metadata": {},
   "outputs": [],
   "source": [
    "train_input = train_input.reshape(-1, 32, 32, 3)\n",
    "test_input = test_input.reshape(-1, 32, 32, 3)\n",
    "val_input = val_input.reshape(-1, 32, 32, 3)"
   ]
  },
  {
   "cell_type": "code",
   "execution_count": 94,
   "id": "01dfdea6",
   "metadata": {},
   "outputs": [
    {
     "data": {
      "text/plain": [
       "((40000, 32, 32, 3), (10000, 32, 32, 3), (10000, 32, 32, 3))"
      ]
     },
     "execution_count": 94,
     "metadata": {},
     "output_type": "execute_result"
    }
   ],
   "source": [
    "train_input.shape, test_input.shape, val_input.shape"
   ]
  },
  {
   "cell_type": "markdown",
   "id": "69b585c1",
   "metadata": {},
   "source": [
    "## [3] 모델 생성"
   ]
  },
  {
   "cell_type": "code",
   "execution_count": 102,
   "id": "cac3a752",
   "metadata": {},
   "outputs": [],
   "source": [
    "model = Sequential()"
   ]
  },
  {
   "cell_type": "code",
   "execution_count": 103,
   "id": "5187c69a",
   "metadata": {},
   "outputs": [],
   "source": [
    "model.add(Conv2D(10, kernel_size=3, padding='same', input_shape=(32,32,3)))\n",
    "model.add(MaxPool2D())\n",
    "model.add(Conv2D(10, kernel_size=3, padding='same'))\n",
    "model.add(MaxPool2D())\n",
    "model.add(Conv2D(10, kernel_size=3, padding='same'))\n",
    "model.add(MaxPool2D())\n",
    "model.add(Flatten())\n",
    "model.add(Dense(50, activation='softmax'))\n",
    "model.add(Dropout(0.25))\n",
    "model.add(Dense(10, activation='softmax'))"
   ]
  },
  {
   "cell_type": "code",
   "execution_count": 104,
   "id": "dd734ad6",
   "metadata": {},
   "outputs": [
    {
     "name": "stdout",
     "output_type": "stream",
     "text": [
      "Model: \"sequential_6\"\n",
      "_________________________________________________________________\n",
      " Layer (type)                Output Shape              Param #   \n",
      "=================================================================\n",
      " conv2d_16 (Conv2D)          (None, 32, 32, 10)        280       \n",
      "                                                                 \n",
      " max_pooling2d_16 (MaxPoolin  (None, 16, 16, 10)       0         \n",
      " g2D)                                                            \n",
      "                                                                 \n",
      " conv2d_17 (Conv2D)          (None, 16, 16, 10)        910       \n",
      "                                                                 \n",
      " max_pooling2d_17 (MaxPoolin  (None, 8, 8, 10)         0         \n",
      " g2D)                                                            \n",
      "                                                                 \n",
      " conv2d_18 (Conv2D)          (None, 8, 8, 10)          910       \n",
      "                                                                 \n",
      " max_pooling2d_18 (MaxPoolin  (None, 4, 4, 10)         0         \n",
      " g2D)                                                            \n",
      "                                                                 \n",
      " flatten_6 (Flatten)         (None, 160)               0         \n",
      "                                                                 \n",
      " dense_6 (Dense)             (None, 50)                8050      \n",
      "                                                                 \n",
      " dropout_12 (Dropout)        (None, 50)                0         \n",
      "                                                                 \n",
      " dense_7 (Dense)             (None, 10)                510       \n",
      "                                                                 \n",
      "=================================================================\n",
      "Total params: 10,660\n",
      "Trainable params: 10,660\n",
      "Non-trainable params: 0\n",
      "_________________________________________________________________\n"
     ]
    }
   ],
   "source": [
    "model.summary()"
   ]
  },
  {
   "cell_type": "code",
   "execution_count": 105,
   "id": "66921540",
   "metadata": {},
   "outputs": [
    {
     "data": {
      "image/png": "[encoded data removed]",
      "text/plain": [
       "<IPython.core.display.Image object>"
      ]
     },
     "execution_count": 105,
     "metadata": {},
     "output_type": "execute_result"
    }
   ],
   "source": [
    "plot_model(model, show_shapes=True)"
   ]
  },
  {
   "cell_type": "code",
   "execution_count": 106,
   "id": "fd1e4708",
   "metadata": {},
   "outputs": [],
   "source": [
    "model.compile(optimizer='adam',loss='sparse_categorical_crossentropy',metrics=['accuracy'])"
   ]
  },
  {
   "cell_type": "markdown",
   "id": "9d162a62",
   "metadata": {},
   "source": [
    "## [4] 모델 학습"
   ]
  },
  {
   "cell_type": "code",
   "execution_count": 107,
   "id": "5a60725d",
   "metadata": {},
   "outputs": [
    {
     "name": "stdout",
     "output_type": "stream",
     "text": [
      "Epoch 1/30\n",
      "1250/1250 [==============================] - 14s 11ms/step - loss: 2.1074 - accuracy: 0.2308 - val_loss: 1.9530 - val_accuracy: 0.3105\n",
      "Epoch 2/30\n",
      "1250/1250 [==============================] - 12s 10ms/step - loss: 1.9277 - accuracy: 0.2932 - val_loss: 1.7881 - val_accuracy: 0.3848\n",
      "Epoch 3/30\n",
      "1250/1250 [==============================] - 12s 10ms/step - loss: 1.8059 - accuracy: 0.3458 - val_loss: 1.6893 - val_accuracy: 0.4190\n",
      "Epoch 4/30\n",
      "1250/1250 [==============================] - 13s 10ms/step - loss: 1.7150 - accuracy: 0.3853 - val_loss: 1.5771 - val_accuracy: 0.4696\n",
      "Epoch 5/30\n",
      "1250/1250 [==============================] - 13s 10ms/step - loss: 1.6475 - accuracy: 0.4099 - val_loss: 1.4906 - val_accuracy: 0.5027\n",
      "Epoch 6/30\n",
      "1250/1250 [==============================] - 14s 11ms/step - loss: 1.5973 - accuracy: 0.4274 - val_loss: 1.4479 - val_accuracy: 0.5269\n",
      "Epoch 7/30\n",
      "1250/1250 [==============================] - 16s 13ms/step - loss: 1.5503 - accuracy: 0.4451 - val_loss: 1.3978 - val_accuracy: 0.5291\n",
      "Epoch 8/30\n",
      "1250/1250 [==============================] - 15s 12ms/step - loss: 1.5178 - accuracy: 0.4620 - val_loss: 1.3370 - val_accuracy: 0.5522\n",
      "Epoch 9/30\n",
      "1250/1250 [==============================] - 14s 11ms/step - loss: 1.4857 - accuracy: 0.4730 - val_loss: 1.3258 - val_accuracy: 0.5613\n",
      "Epoch 10/30\n",
      "1250/1250 [==============================] - 14s 11ms/step - loss: 1.4585 - accuracy: 0.4819 - val_loss: 1.3011 - val_accuracy: 0.5625\n",
      "Epoch 11/30\n",
      "1250/1250 [==============================] - 14s 11ms/step - loss: 1.4399 - accuracy: 0.4907 - val_loss: 1.2653 - val_accuracy: 0.5811\n",
      "Epoch 12/30\n",
      "1250/1250 [==============================] - 14s 11ms/step - loss: 1.4134 - accuracy: 0.5024 - val_loss: 1.2768 - val_accuracy: 0.5651\n",
      "Epoch 13/30\n",
      "1250/1250 [==============================] - 14s 11ms/step - loss: 1.3984 - accuracy: 0.5062 - val_loss: 1.2637 - val_accuracy: 0.5796\n",
      "Epoch 14/30\n",
      "1250/1250 [==============================] - 14s 11ms/step - loss: 1.3763 - accuracy: 0.5132 - val_loss: 1.2297 - val_accuracy: 0.5881\n",
      "Epoch 15/30\n",
      "1250/1250 [==============================] - 14s 11ms/step - loss: 1.3651 - accuracy: 0.5194 - val_loss: 1.2237 - val_accuracy: 0.5903\n",
      "Epoch 16/30\n",
      "1250/1250 [==============================] - 15s 12ms/step - loss: 1.3454 - accuracy: 0.5293 - val_loss: 1.1990 - val_accuracy: 0.6038\n",
      "Epoch 17/30\n",
      "1250/1250 [==============================] - 15s 12ms/step - loss: 1.3373 - accuracy: 0.5335 - val_loss: 1.2098 - val_accuracy: 0.5956\n",
      "Epoch 18/30\n",
      "1250/1250 [==============================] - 15s 12ms/step - loss: 1.3189 - accuracy: 0.5424 - val_loss: 1.2128 - val_accuracy: 0.5934\n",
      "Epoch 19/30\n",
      "1250/1250 [==============================] - 15s 12ms/step - loss: 1.3080 - accuracy: 0.5514 - val_loss: 1.2080 - val_accuracy: 0.5978\n",
      "Epoch 20/30\n",
      "1250/1250 [==============================] - 14s 12ms/step - loss: 1.2955 - accuracy: 0.5575 - val_loss: 1.1758 - val_accuracy: 0.6050\n",
      "Epoch 21/30\n",
      "1250/1250 [==============================] - 15s 12ms/step - loss: 1.2815 - accuracy: 0.5635 - val_loss: 1.1673 - val_accuracy: 0.6107\n",
      "Epoch 22/30\n",
      "1250/1250 [==============================] - 15s 12ms/step - loss: 1.2728 - accuracy: 0.5674 - val_loss: 1.1900 - val_accuracy: 0.5996\n",
      "Epoch 23/30\n",
      "1250/1250 [==============================] - 14s 11ms/step - loss: 1.2521 - accuracy: 0.5745 - val_loss: 1.1746 - val_accuracy: 0.6044\n",
      "Epoch 24/30\n",
      "1250/1250 [==============================] - 14s 11ms/step - loss: 1.2513 - accuracy: 0.5763 - val_loss: 1.1387 - val_accuracy: 0.6151\n",
      "Epoch 25/30\n",
      "1250/1250 [==============================] - 14s 11ms/step - loss: 1.2289 - accuracy: 0.5831 - val_loss: 1.1659 - val_accuracy: 0.6080\n",
      "Epoch 26/30\n",
      "1250/1250 [==============================] - 14s 11ms/step - loss: 1.2227 - accuracy: 0.5833 - val_loss: 1.1368 - val_accuracy: 0.6134\n",
      "Epoch 27/30\n",
      "1250/1250 [==============================] - 14s 11ms/step - loss: 1.2123 - accuracy: 0.5914 - val_loss: 1.1295 - val_accuracy: 0.6187\n",
      "Epoch 28/30\n",
      "1250/1250 [==============================] - 14s 11ms/step - loss: 1.2035 - accuracy: 0.5926 - val_loss: 1.1250 - val_accuracy: 0.6187\n",
      "Epoch 29/30\n",
      "1250/1250 [==============================] - 14s 11ms/step - loss: 1.2001 - accuracy: 0.5935 - val_loss: 1.1118 - val_accuracy: 0.6265\n",
      "Epoch 30/30\n",
      "1250/1250 [==============================] - 14s 11ms/step - loss: 1.1857 - accuracy: 0.5985 - val_loss: 1.1303 - val_accuracy: 0.6150\n"
     ]
    },
    {
     "data": {
      "text/plain": [
       "<keras.callbacks.History at 0x2672ccd9dc0>"
      ]
     },
     "execution_count": 107,
     "metadata": {},
     "output_type": "execute_result"
    }
   ],
   "source": [
    "model.fit(train_input, train_target,epochs=30,validation_data=(val_input,val_target),validation_batch_size=50)"
   ]
  },
  {
   "cell_type": "code",
   "execution_count": 108,
   "id": "04e8c5ba",
   "metadata": {},
   "outputs": [
    {
     "name": "stdout",
     "output_type": "stream",
     "text": [
      "313/313 [==============================] - 2s 5ms/step - loss: 1.1303 - accuracy: 0.6150\n"
     ]
    },
    {
     "data": {
      "text/plain": [
       "[1.1303421258926392, 0.6150000095367432]"
      ]
     },
     "execution_count": 108,
     "metadata": {},
     "output_type": "execute_result"
    }
   ],
   "source": [
    "model.evaluate(val_input,val_target)"
   ]
  },
  {
   "cell_type": "code",
   "execution_count": 109,
   "id": "ea9fcce4",
   "metadata": {},
   "outputs": [
    {
     "name": "stdout",
     "output_type": "stream",
     "text": [
      "313/313 [==============================] - 2s 5ms/step - loss: 1.1427 - accuracy: 0.6113\n"
     ]
    },
    {
     "data": {
      "text/plain": [
       "[1.142716646194458, 0.611299991607666]"
      ]
     },
     "execution_count": 109,
     "metadata": {},
     "output_type": "execute_result"
    }
   ],
   "source": [
    "model.evaluate(test_input,test_target)"
   ]
  },
  {
   "cell_type": "markdown",
   "id": "3b4a2713",
   "metadata": {},
   "source": [
    "## [5] 예측"
   ]
  },
  {
   "cell_type": "code",
   "execution_count": 114,
   "id": "2d70dbe7",
   "metadata": {},
   "outputs": [
    {
     "name": "stdout",
     "output_type": "stream",
     "text": [
      "1/1 [==============================] - 0s 13ms/step\n"
     ]
    }
   ],
   "source": [
    "pretest=model.predict(test_input[3].reshape(-1,32,32,3))"
   ]
  },
  {
   "cell_type": "code",
   "execution_count": 116,
   "id": "25fb0429",
   "metadata": {},
   "outputs": [
    {
     "data": {
      "image/png": "[encoded data removed]",
      "text/plain": [
       "<Figure size 288x288 with 1 Axes>"
      ]
     },
     "metadata": {
      "needs_background": "light"
     },
     "output_type": "display_data"
    }
   ],
   "source": [
    "plt.matshow(test_input[3].reshape(32,32,3))\n",
    "plt.title(val_target[3])\n",
    "plt.show()"
   ]
  },
  {
   "cell_type": "code",
   "execution_count": 119,
   "id": "3a50f5d6",
   "metadata": {},
   "outputs": [],
   "source": [
    "import PIL.Image as pilimg"
   ]
  },
  {
   "cell_type": "code",
   "execution_count": 139,
   "id": "5191f355",
   "metadata": {},
   "outputs": [],
   "source": [
    "image = pilimg.open('cat.jpg')\n",
    "pix = np.array(image)"
   ]
  },
  {
   "cell_type": "code",
   "execution_count": 140,
   "id": "83918e52",
   "metadata": {},
   "outputs": [
    {
     "data": {
      "image/png": "[encoded data removed]",
      "text/plain": [
       "<Figure size 432x288 with 1 Axes>"
      ]
     },
     "metadata": {
      "needs_background": "light"
     },
     "output_type": "display_data"
    }
   ],
   "source": [
    "plt.imshow(pix)\n",
    "plt.show()"
   ]
  },
  {
   "cell_type": "code",
   "execution_count": 135,
   "id": "2150ac52",
   "metadata": {},
   "outputs": [
    {
     "name": "stdout",
     "output_type": "stream",
     "text": [
      "1/1 [==============================] - 0s 18ms/step\n"
     ]
    },
    {
     "data": {
      "text/plain": [
       "array([[0., 0., 0., 0., 0., 0., 1., 0., 0., 0.]], dtype=float32)"
      ]
     },
     "execution_count": 135,
     "metadata": {},
     "output_type": "execute_result"
    }
   ],
   "source": [
    "np.round(model.predict((pix/255.0).reshape(-1,32,32,3)))"
   ]
  },
  {
   "cell_type": "code",
   "execution_count": 133,
   "id": "5745276b",
   "metadata": {},
   "outputs": [
    {
     "name": "stdout",
     "output_type": "stream",
     "text": [
      "1/1 [==============================] - 0s 17ms/step\n"
     ]
    },
    {
     "data": {
      "text/plain": [
       "array([[0.73191786, 0.0115861 , 0.02918736, 0.00284423, 0.01427042,\n",
       "        0.00088742, 0.00165001, 0.00180508, 0.19686642, 0.00898515]],\n",
       "      dtype=float32)"
      ]
     },
     "execution_count": 133,
     "metadata": {},
     "output_type": "execute_result"
    }
   ],
   "source": [
    "model.predict(test_input[3].reshape(-1,32,32,3))"
   ]
  },
  {
   "cell_type": "code",
   "execution_count": 137,
   "id": "5dcb19a8",
   "metadata": {},
   "outputs": [],
   "source": [
    "image1 = pilimg.open('airplane.jpg')\n",
    "pix1 = np.array(image1)"
   ]
  },
  {
   "cell_type": "code",
   "execution_count": 138,
   "id": "56396236",
   "metadata": {},
   "outputs": [
    {
     "data": {
      "image/png": "[encoded data removed]",
      "text/plain": [
       "<Figure size 432x288 with 1 Axes>"
      ]
     },
     "metadata": {
      "needs_background": "light"
     },
     "output_type": "display_data"
    }
   ],
   "source": [
    "plt.imshow(pix1)\n",
    "plt.show()"
   ]
  },
  {
   "cell_type": "code",
   "execution_count": 141,
   "id": "1eb6ac06",
   "metadata": {},
   "outputs": [
    {
     "name": "stdout",
     "output_type": "stream",
     "text": [
      "1/1 [==============================] - 0s 17ms/step\n"
     ]
    },
    {
     "data": {
      "text/plain": [
       "array([[1., 0., 0., 0., 0., 0., 0., 0., 0., 0.]], dtype=float32)"
      ]
     },
     "execution_count": 141,
     "metadata": {},
     "output_type": "execute_result"
    }
   ],
   "source": [
    "np.round(model.predict((pix1/255.0).reshape(-1,32,32,3)))"
   ]
  },
  {
   "cell_type": "code",
   "execution_count": null,
   "id": "70e3e7c5",
   "metadata": {},
   "outputs": [],
   "source": []
  }
 ],
 "metadata": {
  "kernelspec": {
   "display_name": "Python 3 (ipykernel)",
   "language": "python",
   "name": "python3"
  },
  "language_info": {
   "codemirror_mode": {
    "name": "ipython",
    "version": 3
   },
   "file_extension": ".py",
   "mimetype": "text/x-python",
   "name": "python",
   "nbconvert_exporter": "python",
   "pygments_lexer": "ipython3",
   "version": "3.9.12"
  }
 },
 "nbformat": 4,
 "nbformat_minor": 5
}
