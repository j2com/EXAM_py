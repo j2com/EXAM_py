{
 "cells": [
  {
   "cell_type": "code",
   "execution_count": 31,
   "id": "eca5ae96-36b7-41da-92ec-66d6ab84abba",
   "metadata": {},
   "outputs": [],
   "source": [
    "import tensorflow as tf"
   ]
  },
  {
   "cell_type": "code",
   "execution_count": 32,
   "id": "590c3f29-c20e-4b21-8b97-28a01ae7742b",
   "metadata": {},
   "outputs": [],
   "source": [
    "from tensorflow.keras import Sequential\n",
    "from tensorflow.keras.layers import Dense, Dropout, Flatten\n",
    "# from tensorflow.keras.datasets.fashion_mnist import load_data\n",
    "import numpy as np"
   ]
  },
  {
   "cell_type": "code",
   "execution_count": 33,
   "id": "dbc0df08-ccd6-411e-90f8-a0f286df4fdd",
   "metadata": {},
   "outputs": [],
   "source": [
    "from tensorflow.keras.utils import plot_model # 모델 도식화 기능\n",
    "# plot_model을 경고문구 없이 사용하려면\n",
    "# ! pip install pydotplus\n",
    "# ! pip install pydot\n",
    "# ! pip install graphviz"
   ]
  },
  {
   "cell_type": "markdown",
   "id": "aa752c28-7b2f-4b8c-9811-3960ed90c6d0",
   "metadata": {},
   "source": [
    "## 모델 속성 및 W,b초기값 고정\n",
    "- 모델 속성 확인\n",
    "- 모덜 생성 시 랜덤으로 초기화 되는 W,b값 고정"
   ]
  },
  {
   "cell_type": "code",
   "execution_count": 34,
   "id": "515e7a1a-c321-4732-8db3-a142bd6091b5",
   "metadata": {},
   "outputs": [],
   "source": [
    "from tensorflow.keras import models, layers\n",
    "from tensorflow import random # random seed(난수) 설정용"
   ]
  },
  {
   "cell_type": "code",
   "execution_count": 35,
   "id": "8e433482-cd80-4c5e-94be-af0cdf090cb2",
   "metadata": {},
   "outputs": [],
   "source": [
    "# 임시 테스트 데이터\n",
    "# 특성 Feature 2개 : 시간, 과외횟수 / 출력 1개 : 점수 -> 회귀가 적절?\n",
    "X=np.array([[2,0],[3,0],[4,3],[5,1],[6,1],[7, 0],[8, 2]])\n",
    "y=np.array([52,56,71,77,82,94,100])"
   ]
  },
  {
   "cell_type": "code",
   "execution_count": 36,
   "id": "f7f259ca-a1f5-4576-94a0-edc5113c3396",
   "metadata": {},
   "outputs": [
    {
     "data": {
      "text/plain": [
       "((7, 2), (7,))"
      ]
     },
     "execution_count": 36,
     "metadata": {},
     "output_type": "execute_result"
    }
   ],
   "source": [
    "X.shape, y.shape"
   ]
  },
  {
   "cell_type": "code",
   "execution_count": 37,
   "id": "6f30e0a8-2337-416c-83be-b906e2f9bdc5",
   "metadata": {},
   "outputs": [],
   "source": [
    "## W,b초기값 고정\n",
    "random.set_seed(11)"
   ]
  },
  {
   "cell_type": "markdown",
   "id": "6c2f482b-575b-43f9-9c7f-c481cf5906b3",
   "metadata": {
    "tags": []
   },
   "source": [
    "#### 모델 구상"
   ]
  },
  {
   "cell_type": "code",
   "execution_count": 38,
   "id": "90b56115-d342-4243-aa3a-3d9dd589bff1",
   "metadata": {},
   "outputs": [],
   "source": [
    "model=models.Sequential()"
   ]
  },
  {
   "cell_type": "code",
   "execution_count": 39,
   "id": "a7606179-5c6c-467f-a4e7-0f4e39f47901",
   "metadata": {},
   "outputs": [],
   "source": [
    "model.add(layers.Dense(15, activation='relu', input_shape=(2,)))"
   ]
  },
  {
   "cell_type": "code",
   "execution_count": 40,
   "id": "66fa8bae-f1df-458f-af5b-8e05d1c3254f",
   "metadata": {},
   "outputs": [],
   "source": [
    "model.add(layers.Dense(1, activation='linear'))"
   ]
  },
  {
   "cell_type": "code",
   "execution_count": 41,
   "id": "5e02c102-92a2-4a12-b087-3c503173794d",
   "metadata": {
    "tags": []
   },
   "outputs": [
    {
     "name": "stdout",
     "output_type": "stream",
     "text": [
      "Model: \"sequential_2\"\n",
      "_________________________________________________________________\n",
      " Layer (type)                Output Shape              Param #   \n",
      "=================================================================\n",
      " dense_4 (Dense)             (None, 15)                45        \n",
      "                                                                 \n",
      " dense_5 (Dense)             (None, 1)                 16        \n",
      "                                                                 \n",
      "=================================================================\n",
      "Total params: 61\n",
      "Trainable params: 61\n",
      "Non-trainable params: 0\n",
      "_________________________________________________________________\n"
     ]
    }
   ],
   "source": [
    "model.summary()"
   ]
  },
  {
   "cell_type": "markdown",
   "id": "c993afc8-2c12-44e7-a4e9-1661e53be1af",
   "metadata": {},
   "source": [
    "#### 모델 속성 확인"
   ]
  },
  {
   "cell_type": "code",
   "execution_count": 42,
   "id": "b625442b-0fb9-48dc-a104-6d74d926f234",
   "metadata": {},
   "outputs": [
    {
     "data": {
      "text/plain": [
       "[<keras.layers.core.dense.Dense at 0x23e436f2640>,\n",
       " <keras.layers.core.dense.Dense at 0x23e465affd0>]"
      ]
     },
     "execution_count": 42,
     "metadata": {},
     "output_type": "execute_result"
    }
   ],
   "source": [
    "model.layers"
   ]
  },
  {
   "cell_type": "code",
   "execution_count": 43,
   "id": "2ce580c5-0c28-4a10-b48c-538cd25701ec",
   "metadata": {},
   "outputs": [
    {
     "data": {
      "text/plain": [
       "<keras.layers.core.dense.Dense at 0x23e436f2640>"
      ]
     },
     "execution_count": 43,
     "metadata": {},
     "output_type": "execute_result"
    }
   ],
   "source": [
    "l1=model.layers[0]\n",
    "l1"
   ]
  },
  {
   "cell_type": "code",
   "execution_count": 44,
   "id": "9cbb8a90-b60c-499f-b1f6-3808e34ef0dc",
   "metadata": {},
   "outputs": [
    {
     "data": {
      "text/plain": [
       "<tf.Variable 'dense_4/kernel:0' shape=(2, 15) dtype=float32, numpy=\n",
       "array([[-0.29631114,  0.37537187, -0.24640921,  0.5142406 ,  0.31416845,\n",
       "        -0.41857034, -0.19999248, -0.58546865, -0.3554358 ,  0.58291185,\n",
       "        -0.12107381,  0.3238395 , -0.06760222, -0.02177614,  0.05121469],\n",
       "       [ 0.3202483 ,  0.16437584, -0.42809546, -0.22091794,  0.47248828,\n",
       "        -0.02519327, -0.32629982,  0.12834728,  0.30775893,  0.09019065,\n",
       "         0.07265884, -0.48352158, -0.19885129, -0.11066794, -0.15434334]],\n",
       "      dtype=float32)>"
      ]
     },
     "execution_count": 44,
     "metadata": {},
     "output_type": "execute_result"
    }
   ],
   "source": [
    "# 가중치 확인 \n",
    "l1.weights[0]"
   ]
  },
  {
   "cell_type": "code",
   "execution_count": 45,
   "id": "cc5f00fb-8b20-48dd-9438-a6ff9e85bb08",
   "metadata": {},
   "outputs": [
    {
     "data": {
      "text/plain": [
       "array([[-0.296,  0.375, -0.246,  0.514,  0.314, -0.419, -0.2  , -0.585,\n",
       "        -0.355,  0.583, -0.121,  0.324, -0.068, -0.022,  0.051],\n",
       "       [ 0.32 ,  0.164, -0.428, -0.221,  0.472, -0.025, -0.326,  0.128,\n",
       "         0.308,  0.09 ,  0.073, -0.484, -0.199, -0.111, -0.154]],\n",
       "      dtype=float32)"
      ]
     },
     "execution_count": 45,
     "metadata": {},
     "output_type": "execute_result"
    }
   ],
   "source": [
    "l1.get_weights()[0].round(3)"
   ]
  },
  {
   "cell_type": "code",
   "execution_count": null,
   "id": "96b22a7a-c6de-45b6-8273-90cf70031f9f",
   "metadata": {},
   "outputs": [],
   "source": []
  },
  {
   "cell_type": "code",
   "execution_count": null,
   "id": "c215f364-e9b1-4d83-9e19-cff85b8d58fa",
   "metadata": {},
   "outputs": [],
   "source": []
  }
 ],
 "metadata": {
  "kernelspec": {
   "display_name": "Python 3 (ipykernel)",
   "language": "python",
   "name": "python3"
  },
  "language_info": {
   "codemirror_mode": {
    "name": "ipython",
    "version": 3
   },
   "file_extension": ".py",
   "mimetype": "text/x-python",
   "name": "python",
   "nbconvert_exporter": "python",
   "pygments_lexer": "ipython3",
   "version": "3.9.12"
  }
 },
 "nbformat": 4,
 "nbformat_minor": 5
}
