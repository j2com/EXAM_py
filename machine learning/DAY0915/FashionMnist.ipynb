{
 "cells": [
  {
   "cell_type": "code",
   "execution_count": 114,
   "id": "5520c769",
   "metadata": {},
   "outputs": [],
   "source": [
    "import tensorflow as tf"
   ]
  },
  {
   "cell_type": "code",
   "execution_count": 115,
   "id": "73e28b5f",
   "metadata": {},
   "outputs": [],
   "source": [
    "# 모듈 로딩\n",
    "from tensorflow.keras import Sequential                       # 모델 객체\n",
    "from tensorflow.keras.layers import Dense, Dropout, Flatten, Conv2D, MaxPool2D   # 레이어 객체\n",
    "from tensorflow.keras.datasets.fashion_mnist import load_data\n",
    "\n",
    "# 그래픽화 모듈 로딩\n",
    "from tensorflow.keras.utils import set_random_seed\n",
    "from tensorflow.keras.utils import plot_model\n",
    "import numpy as np\n",
    "import pandas as pd"
   ]
  },
  {
   "cell_type": "markdown",
   "id": "c6e49a78",
   "metadata": {},
   "source": [
    "## **CNN(Convolution Neural Network)**  \n",
    "\n",
    "---  \n",
    "- 이미지, 영상 처리에 사용되는 시녕망 모델\n",
    "- DNN의 한 분야\n",
    "- 텍스트 처리에도 사용되는 모델\n",
    "    * ConvXD : 이미지 형태 그대로 입력받아 특징 추출하는 레이어\n",
    "    * Polling : 특징맵에서 특징을 다시 추출하여 다운샘플링하는 레이어, 크기를 반으로 줄임 "
   ]
  },
  {
   "cell_type": "code",
   "execution_count": 116,
   "id": "1ba6e47a",
   "metadata": {},
   "outputs": [],
   "source": [
    "# W, b 고정하도록 seed 설정\n",
    "set_random_seed(11)"
   ]
  },
  {
   "cell_type": "markdown",
   "id": "71a68382",
   "metadata": {},
   "source": [
    "## [1] 데이터 로딩"
   ]
  },
  {
   "cell_type": "code",
   "execution_count": 117,
   "id": "ce277127",
   "metadata": {},
   "outputs": [],
   "source": [
    "fashion_mnist = tf.keras.datasets.fashion_mnist.load_data()"
   ]
  },
  {
   "cell_type": "code",
   "execution_count": 118,
   "id": "637be06b",
   "metadata": {},
   "outputs": [],
   "source": [
    "train_input = fashion_mnist[0][0]\n",
    "train_target = fashion_mnist[0][1]\n",
    "test_input = fashion_mnist[1][0]\n",
    "test_target = fashion_mnist[1][1]"
   ]
  },
  {
   "cell_type": "code",
   "execution_count": 119,
   "id": "b0ed4420",
   "metadata": {},
   "outputs": [
    {
     "data": {
      "text/plain": [
       "((60000, 28, 28), (60000,))"
      ]
     },
     "execution_count": 119,
     "metadata": {},
     "output_type": "execute_result"
    }
   ],
   "source": [
    "train_input.shape, train_target.shape"
   ]
  },
  {
   "cell_type": "markdown",
   "id": "8e296c19",
   "metadata": {},
   "source": [
    "## 검증용 데이터 셋 준비"
   ]
  },
  {
   "cell_type": "code",
   "execution_count": 120,
   "id": "c1fc8000",
   "metadata": {},
   "outputs": [],
   "source": [
    "train_input, val_input, train_target, val_target = train_test_split(train_input, train_target, \n",
    "                                                                    test_size=0.2, random_state=11,\n",
    "                                                                    stratify=train_target)"
   ]
  },
  {
   "cell_type": "markdown",
   "id": "0d969da5",
   "metadata": {},
   "source": [
    "## [2] 데이터 전처리"
   ]
  },
  {
   "cell_type": "code",
   "execution_count": 121,
   "id": "a5e3cc23",
   "metadata": {},
   "outputs": [],
   "source": [
    "# 이미지 데이터의 픽셀값 즉 특성(Feature) 0.0~1.0으로 스케일링\n",
    "train_input = train_input/255.0 # numpy 브로드캐스팅\n",
    "val_input = val_input/255.0\n",
    "test_input = test_input/255.0"
   ]
  },
  {
   "cell_type": "code",
   "execution_count": 122,
   "id": "133c65eb",
   "metadata": {},
   "outputs": [],
   "source": [
    "train_input = train_input.reshape(-1, 28, 28, 1)\n",
    "test_input = test_input.reshape(-1, 28, 28, 1)\n",
    "val_input = val_input.reshape(-1, 28, 28, 1)"
   ]
  },
  {
   "cell_type": "code",
   "execution_count": 123,
   "id": "8809c269",
   "metadata": {},
   "outputs": [
    {
     "data": {
      "text/plain": [
       "((48000, 28, 28, 1), (10000, 28, 28, 1), (12000, 28, 28, 1))"
      ]
     },
     "execution_count": 123,
     "metadata": {},
     "output_type": "execute_result"
    }
   ],
   "source": [
    "train_input.shape, test_input.shape, val_input.shape"
   ]
  },
  {
   "cell_type": "markdown",
   "id": "29b53a1b",
   "metadata": {},
   "source": [
    "## [3] 모델 구성 및 생성\n",
    "- 입력 형태 : 채널정보까찌 포함 3차원 (28,28,1)\n",
    "- 출력 형태 : 0-9정수 확률값 10개 출력\n",
    "- 학습 방식 : 분류 - 다중분류\n",
    "- 전반부 \n",
    "    - 이미지 특징 추출\n",
    "        - Conv2D, MaxPool2D\n",
    "- 후반부\n",
    "    - 이미지 데이터 학습\n",
    "        - Flatten, Dense"
   ]
  },
  {
   "cell_type": "markdown",
   "id": "7819f7cd",
   "metadata": {},
   "source": [
    "### [3-1] 모델 구상"
   ]
  },
  {
   "cell_type": "code",
   "execution_count": 134,
   "id": "6db6aaae",
   "metadata": {},
   "outputs": [],
   "source": [
    "model = Sequential()"
   ]
  },
  {
   "cell_type": "code",
   "execution_count": 135,
   "id": "4d353207",
   "metadata": {},
   "outputs": [],
   "source": [
    "# 이미지 특징 추출 Layer => 첫번째 입력값 설정\n",
    "model.add(Conv2D(10, kernel_size=3, padding='same', input_shape=(28,28,1)))"
   ]
  },
  {
   "cell_type": "code",
   "execution_count": 136,
   "id": "681462b4",
   "metadata": {},
   "outputs": [],
   "source": [
    "# 이미지 특징 다운샘플링 Layer => Maxpool2D\n",
    "model.add(MaxPool2D())"
   ]
  },
  {
   "cell_type": "code",
   "execution_count": 137,
   "id": "ff485837",
   "metadata": {},
   "outputs": [],
   "source": [
    "# 1차원으로 데이터 형태 변환 Layer => Flatten\n",
    "model.add(Flatten())"
   ]
  },
  {
   "cell_type": "code",
   "execution_count": 138,
   "id": "e96f1fa2",
   "metadata": {},
   "outputs": [],
   "source": [
    "# 출력층 => Node : 10개(0-9), 활성화 함수 : softmax\n",
    "model.add(Dense(10, activation='softmax'))"
   ]
  },
  {
   "cell_type": "code",
   "execution_count": 139,
   "id": "617a3bf1",
   "metadata": {},
   "outputs": [
    {
     "name": "stdout",
     "output_type": "stream",
     "text": [
      "Model: \"sequential_2\"\n",
      "_________________________________________________________________\n",
      " Layer (type)                Output Shape              Param #   \n",
      "=================================================================\n",
      " conv2d_7 (Conv2D)           (None, 28, 28, 10)        100       \n",
      "                                                                 \n",
      " max_pooling2d_6 (MaxPooling  (None, 14, 14, 10)       0         \n",
      " 2D)                                                             \n",
      "                                                                 \n",
      " flatten_9 (Flatten)         (None, 1960)              0         \n",
      "                                                                 \n",
      " dense_11 (Dense)            (None, 10)                19610     \n",
      "                                                                 \n",
      "=================================================================\n",
      "Total params: 19,710\n",
      "Trainable params: 19,710\n",
      "Non-trainable params: 0\n",
      "_________________________________________________________________\n"
     ]
    }
   ],
   "source": [
    "model.summary()"
   ]
  },
  {
   "cell_type": "code",
   "execution_count": 140,
   "id": "b77ce58a",
   "metadata": {
    "scrolled": false
   },
   "outputs": [
    {
     "data": {
      "image/png": "[encoded data removed]",
      "text/plain": [
       "<IPython.core.display.Image object>"
      ]
     },
     "execution_count": 140,
     "metadata": {},
     "output_type": "execute_result"
    }
   ],
   "source": [
    "plot_model(model, show_shapes=True)"
   ]
  },
  {
   "cell_type": "markdown",
   "id": "b710dd8e",
   "metadata": {},
   "source": [
    "### [3-2] 모델 생성\n",
    "- compile메서드\n",
    "    - 손실 함수 loss : sparse_categorical_crossentropy\n",
    "    - optimizer : adam\n",
    "    - metrics : accuracy"
   ]
  },
  {
   "cell_type": "code",
   "execution_count": 141,
   "id": "f5c71451",
   "metadata": {},
   "outputs": [],
   "source": [
    "model.compile(optimizer='adam',loss='sparse_categorical_crossentropy',metrics=['accuracy'])"
   ]
  },
  {
   "cell_type": "markdown",
   "id": "d2bcfc59",
   "metadata": {},
   "source": [
    "### [3-3] 모델 학습\n",
    "- fit 메서드\n",
    "    - 학습 데이터, 라벨\n",
    "    - epochs 학습횟수\n",
    "    - batch_size 학습분량\n",
    "    - validation_data 검증 데이터, 검증 라벨 (튜플)\n",
    "    - validation_split 학습 데이터의 일부 비율 설정(예 0.2)\n",
    "    - callback\n",
    "    - verbose : 학습 진행도 화면 출력 여부 설정"
   ]
  },
  {
   "cell_type": "code",
   "execution_count": 142,
   "id": "f7987131",
   "metadata": {},
   "outputs": [
    {
     "name": "stdout",
     "output_type": "stream",
     "text": [
      "Epoch 1/10\n",
      "1500/1500 [==============================] - 6s 4ms/step - loss: 0.5169 - accuracy: 0.8223\n",
      "Epoch 2/10\n",
      "1500/1500 [==============================] - 5s 4ms/step - loss: 0.3831 - accuracy: 0.8671\n",
      "Epoch 3/10\n",
      "1500/1500 [==============================] - 5s 4ms/step - loss: 0.3502 - accuracy: 0.8774\n",
      "Epoch 4/10\n",
      "1500/1500 [==============================] - 5s 4ms/step - loss: 0.3274 - accuracy: 0.8858\n",
      "Epoch 5/10\n",
      "1500/1500 [==============================] - 5s 4ms/step - loss: 0.3093 - accuracy: 0.8918\n",
      "Epoch 6/10\n",
      "1500/1500 [==============================] - 5s 4ms/step - loss: 0.2949 - accuracy: 0.8956\n",
      "Epoch 7/10\n",
      "1500/1500 [==============================] - 5s 4ms/step - loss: 0.2827 - accuracy: 0.9015\n",
      "Epoch 8/10\n",
      "1500/1500 [==============================] - 5s 4ms/step - loss: 0.2704 - accuracy: 0.9049\n",
      "Epoch 9/10\n",
      "1500/1500 [==============================] - 6s 4ms/step - loss: 0.2619 - accuracy: 0.9084\n",
      "Epoch 10/10\n",
      "1500/1500 [==============================] - 6s 4ms/step - loss: 0.2527 - accuracy: 0.9110\n"
     ]
    },
    {
     "data": {
      "text/plain": [
       "<keras.callbacks.History at 0x230b15bf0a0>"
      ]
     },
     "execution_count": 142,
     "metadata": {},
     "output_type": "execute_result"
    }
   ],
   "source": [
    "model.fit(train_input, train_target,epochs=10)"
   ]
  },
  {
   "cell_type": "code",
   "execution_count": 143,
   "id": "7f0c8bef",
   "metadata": {},
   "outputs": [
    {
     "name": "stdout",
     "output_type": "stream",
     "text": [
      "375/375 [==============================] - 1s 2ms/step - loss: 0.2934 - accuracy: 0.8988\n"
     ]
    },
    {
     "data": {
      "text/plain": [
       "[0.293377161026001, 0.8987500071525574]"
      ]
     },
     "execution_count": 143,
     "metadata": {},
     "output_type": "execute_result"
    }
   ],
   "source": [
    "model.evaluate(val_input,val_target)"
   ]
  },
  {
   "cell_type": "code",
   "execution_count": 144,
   "id": "de0b3328",
   "metadata": {},
   "outputs": [
    {
     "name": "stdout",
     "output_type": "stream",
     "text": [
      "313/313 [==============================] - 1s 2ms/step - loss: 0.3107 - accuracy: 0.8898\n"
     ]
    },
    {
     "data": {
      "text/plain": [
       "[0.3107122778892517, 0.8898000121116638]"
      ]
     },
     "execution_count": 144,
     "metadata": {},
     "output_type": "execute_result"
    }
   ],
   "source": [
    "model.evaluate(test_input,test_target)"
   ]
  },
  {
   "cell_type": "code",
   "execution_count": 155,
   "id": "adff810b",
   "metadata": {},
   "outputs": [
    {
     "name": "stdout",
     "output_type": "stream",
     "text": [
      "1/1 [==============================] - 0s 13ms/step\n"
     ]
    }
   ],
   "source": [
    "pretest=model.predict(test_input[1].reshape(-1,28,28,1))"
   ]
  },
  {
   "cell_type": "code",
   "execution_count": 156,
   "id": "690263ba",
   "metadata": {},
   "outputs": [],
   "source": [
    "import matplotlib.pyplot as plt"
   ]
  },
  {
   "cell_type": "code",
   "execution_count": 157,
   "id": "7e4421c1",
   "metadata": {},
   "outputs": [
    {
     "data": {
      "text/plain": [
       "<matplotlib.image.AxesImage at 0x230ccd83910>"
      ]
     },
     "execution_count": 157,
     "metadata": {},
     "output_type": "execute_result"
    },
    {
     "data": {
      "image/png": "[encoded data removed]",
      "text/plain": [
       "<Figure size 432x288 with 1 Axes>"
      ]
     },
     "metadata": {
      "needs_background": "light"
     },
     "output_type": "display_data"
    }
   ],
   "source": [
    "plt.imshow(pretest)"
   ]
  },
  {
   "cell_type": "code",
   "execution_count": 158,
   "id": "f53ded70",
   "metadata": {},
   "outputs": [
    {
     "data": {
      "text/plain": [
       "2"
      ]
     },
     "execution_count": 158,
     "metadata": {},
     "output_type": "execute_result"
    }
   ],
   "source": [
    "test_target[1]"
   ]
  },
  {
   "cell_type": "code",
   "execution_count": 161,
   "id": "8d0ee0a7",
   "metadata": {},
   "outputs": [
    {
     "data": {
      "image/png": "[encoded data removed]",
      "text/plain": [
       "<Figure size 288x288 with 1 Axes>"
      ]
     },
     "metadata": {
      "needs_background": "light"
     },
     "output_type": "display_data"
    }
   ],
   "source": [
    "plt.matshow(test_input[0].reshape(28,28))\n",
    "plt.show()"
   ]
  },
  {
   "cell_type": "code",
   "execution_count": null,
   "id": "aabd0b18",
   "metadata": {},
   "outputs": [],
   "source": []
  }
 ],
 "metadata": {
  "kernelspec": {
   "display_name": "Python 3 (ipykernel)",
   "language": "python",
   "name": "python3"
  },
  "language_info": {
   "codemirror_mode": {
    "name": "ipython",
    "version": 3
   },
   "file_extension": ".py",
   "mimetype": "text/x-python",
   "name": "python",
   "nbconvert_exporter": "python",
   "pygments_lexer": "ipython3",
   "version": "3.9.12"
  }
 },
 "nbformat": 4,
 "nbformat_minor": 5
}
