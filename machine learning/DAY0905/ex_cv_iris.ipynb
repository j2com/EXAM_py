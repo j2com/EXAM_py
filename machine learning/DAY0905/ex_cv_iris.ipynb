{
 "cells": [
  {
   "cell_type": "markdown",
   "id": "0db48465",
   "metadata": {},
   "source": [
    "### 교차 검증(Cross Validation)\n",
    "\n",
    "- 데이터셋 부족에 대한 과소적합 해결\n",
    "- 테스트 데이터셋에 대한 과대적합(Overfitting) 해결\n",
    "- cross_validate() 함수 사용\n",
    "    * 기본 값 cv = 5-fold ===> 모델 5개"
   ]
  },
  {
   "cell_type": "code",
   "execution_count": 1,
   "id": "9bd3e690",
   "metadata": {},
   "outputs": [],
   "source": [
    "from sklearn.model_selection import cross_validate\n",
    "from sklearn.datasets import load_iris\n",
    "from sklearn.linear_model import LogisticRegression\n",
    "import numpy as np"
   ]
  },
  {
   "cell_type": "code",
   "execution_count": 6,
   "id": "e2bca27e",
   "metadata": {},
   "outputs": [
    {
     "data": {
      "text/plain": [
       "((150, 4), (150,))"
      ]
     },
     "execution_count": 6,
     "metadata": {},
     "output_type": "execute_result"
    }
   ],
   "source": [
    "data = load_iris()\n",
    "input_data = data['data']\n",
    "input_target = data['target']\n",
    "\n",
    "input_data.shape, input_target.shape"
   ]
  },
  {
   "cell_type": "code",
   "execution_count": 15,
   "id": "4f11fed1",
   "metadata": {},
   "outputs": [],
   "source": [
    "model = LogisticRegression(max_iter=500)"
   ]
  },
  {
   "cell_type": "code",
   "execution_count": 18,
   "id": "bea260ec",
   "metadata": {},
   "outputs": [],
   "source": [
    "# 디폴트 : 5-Fold로 5등분 나누어서 학습/검증 모델 생성 진행.\n",
    "result = cross_validate(model, input_data, input_target, return_train_score=True, cv=10)"
   ]
  },
  {
   "cell_type": "code",
   "execution_count": 19,
   "id": "116cace0",
   "metadata": {},
   "outputs": [
    {
     "data": {
      "text/plain": [
       "{'fit_time': array([0.02845645, 0.01947618, 0.02193809, 0.0201323 , 0.01678205,\n",
       "        0.02414083, 0.01573229, 0.01685548, 0.02089477, 0.01848459]),\n",
       " 'score_time': array([0.        , 0.00104165, 0.        , 0.00103378, 0.        ,\n",
       "        0.        , 0.        , 0.        , 0.        , 0.        ]),\n",
       " 'test_score': array([1.        , 0.93333333, 1.        , 1.        , 0.93333333,\n",
       "        0.93333333, 0.93333333, 1.        , 1.        , 1.        ]),\n",
       " 'train_score': array([0.97037037, 0.97777778, 0.97037037, 0.97037037, 0.97777778,\n",
       "        0.97777778, 0.98518519, 0.97037037, 0.97037037, 0.97777778])}"
      ]
     },
     "execution_count": 19,
     "metadata": {},
     "output_type": "execute_result"
    }
   ],
   "source": [
    "result"
   ]
  },
  {
   "cell_type": "code",
   "execution_count": 12,
   "id": "eabcd3af",
   "metadata": {},
   "outputs": [
    {
     "data": {
      "text/plain": [
       "dict_keys(['data', 'target', 'frame', 'target_names', 'DESCR', 'feature_names', 'filename', 'data_module'])"
      ]
     },
     "execution_count": 12,
     "metadata": {},
     "output_type": "execute_result"
    }
   ],
   "source": [
    "data.keys()"
   ]
  },
  {
   "cell_type": "code",
   "execution_count": null,
   "id": "cd09ae49",
   "metadata": {},
   "outputs": [],
   "source": []
  }
 ],
 "metadata": {
  "kernelspec": {
   "display_name": "Python 3 (ipykernel)",
   "language": "python",
   "name": "python3"
  },
  "language_info": {
   "codemirror_mode": {
    "name": "ipython",
    "version": 3
   },
   "file_extension": ".py",
   "mimetype": "text/x-python",
   "name": "python",
   "nbconvert_exporter": "python",
   "pygments_lexer": "ipython3",
   "version": "3.9.12"
  }
 },
 "nbformat": 4,
 "nbformat_minor": 5
}
