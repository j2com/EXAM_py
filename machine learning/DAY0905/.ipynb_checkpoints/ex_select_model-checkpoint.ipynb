{
 "cells": [
  {
   "cell_type": "markdown",
   "id": "3abff606",
   "metadata": {},
   "source": [
    "### Sklearn 모델 추천 메서드 활용\n",
    "\n",
    "- sklearn.utils 모듈의 all_estimators(type_filter)\n",
    "    * type_filter 파라미터 : 'classifier', 'regressor' 지정\n",
    "    * 반환 : 해당 타입의 모델 리스트 => 모델이름, 모델 객체"
   ]
  },
  {
   "cell_type": "code",
   "execution_count": 2,
   "id": "ce77a503",
   "metadata": {},
   "outputs": [],
   "source": [
    "# 모듈 로딩 --------------------------------------------------\n",
    "from sklearn.datasets import load_iris\n",
    "from sklearn.model_selection import train_test_split\n",
    "from sklearn.tree import DecisionTreeClassifier\n",
    "import pandas as pd\n",
    "from sklearn.tree import plot_tree # 트리 시각화 함수\n",
    "import matplotlib.pyplot as plt\n",
    "from sklearn.utils import all_estimators\n",
    "import numpy as np"
   ]
  },
  {
   "cell_type": "code",
   "execution_count": null,
   "id": "b0fe401b",
   "metadata": {},
   "outputs": [],
   "source": []
  }
 ],
 "metadata": {
  "kernelspec": {
   "display_name": "Python 3 (ipykernel)",
   "language": "python",
   "name": "python3"
  },
  "language_info": {
   "codemirror_mode": {
    "name": "ipython",
    "version": 3
   },
   "file_extension": ".py",
   "mimetype": "text/x-python",
   "name": "python",
   "nbconvert_exporter": "python",
   "pygments_lexer": "ipython3",
   "version": "3.9.12"
  }
 },
 "nbformat": 4,
 "nbformat_minor": 5
}
