{
 "cells": [
  {
   "cell_type": "markdown",
   "id": "4287f797",
   "metadata": {},
   "source": [
    "# 지도 학습 (Supervised Learning)"
   ]
  },
  {
   "cell_type": "code",
   "execution_count": 1,
   "id": "6a63e0ff",
   "metadata": {},
   "outputs": [],
   "source": [
    "import numpy as np\n",
    "import matplotlib.pyplot as plt"
   ]
  },
  {
   "cell_type": "code",
   "execution_count": 2,
   "id": "caf1fbc8",
   "metadata": {},
   "outputs": [],
   "source": [
    "perch_length =np.array([8.4,13.7,15.0,16.2,17.4,18.0,18.7,19.0,19.6,20.0,\n",
    "21.0,21.0,21.0,21.3,22.0,22.0,22.0,22.0,22.0,22.5,\n",
    "22.5,22.7,23.0,23.5,24.0,24.0,24.6,25.0,25.6,26.5,\n",
    "27.3,27.5,27.5,27.5,28.0,28.7,30.0,32.8,34.5,35.0,\n",
    "36.5,36.0,37.0,37.0,39.0,39.0,39.0,40.0,40.0,40.0,\n",
    "40.0,42.0,43.0,43.0,43.5,44.0])\n",
    "perch_weight =np.array([5.9,32.0,40.0,51.5,70.0,100.0,78.0,80.0,85.0,85.0,\n",
    "110.0,115.0,125.0,130.0,120.0,120.0,130.0,135.0,110.0,130.0,\n",
    "150.0,145.0,150.0,170.0,225.0,145.0,188.0,180.0,197.0,218.0,\n",
    "300.0,260.0,265.0,250.0,250.0,300.0,320.0,514.0,556.0,840.0,\n",
    "685.0,700.0,700.0,690.0,900.0,650.0,820.0,850.0,900.0,1015.0,\n",
    "820.0,1100.0,1000.0,1100.0,1000.0,1000.0])"
   ]
  },
  {
   "cell_type": "code",
   "execution_count": 4,
   "id": "d657ea6e",
   "metadata": {},
   "outputs": [
    {
     "data": {
      "image/png": "[encoded data removed]",
      "text/plain": [
       "<Figure size 432x288 with 1 Axes>"
      ]
     },
     "metadata": {
      "needs_background": "light"
     },
     "output_type": "display_data"
    }
   ],
   "source": [
    "#\t산점도 확인\n",
    "plt.scatter(perch_length,perch_weight)\n",
    "plt.xlabel('length')\n",
    "plt.ylabel('weight')\n",
    "plt.show()"
   ]
  },
  {
   "cell_type": "markdown",
   "id": "e4bb0ba9",
   "metadata": {},
   "source": [
    "# 훈련 세트와 테스트 세트 준비\n",
    "    - train_test_split() 함수 사용\n",
    "        • 1개의 데이터 세트(perch_length)만 사용\n",
    "        • scikit-learn의 훈련 세트는 2차원 배열을 사용\n",
    "            – 입력 데이터 세트를 2차원 배열 형태로 변경이 필요\n",
    "            – reshape(row,\tcol) 함수 사용\n",
    "            – (42,) -> (42, 1)형태로 변경"
   ]
  },
  {
   "cell_type": "code",
   "execution_count": 5,
   "id": "e682346f",
   "metadata": {},
   "outputs": [],
   "source": [
    "from sklearn.model_selection import train_test_split"
   ]
  },
  {
   "cell_type": "code",
   "execution_count": 11,
   "id": "ddaaa9b3",
   "metadata": {},
   "outputs": [],
   "source": [
    "# 길이 input, 무게 target\n",
    "train_input, test_input, train_target, test_target = train_test_split(perch_length,\n",
    "                                                                     perch_weight,\n",
    "                                                                     random_state=42)"
   ]
  },
  {
   "cell_type": "code",
   "execution_count": 7,
   "id": "c03e432a",
   "metadata": {},
   "outputs": [
    {
     "name": "stdout",
     "output_type": "stream",
     "text": [
      "(42,) (14,)\n"
     ]
    }
   ],
   "source": [
    "print(train_input.shape, test_input.shape)"
   ]
  },
  {
   "cell_type": "code",
   "execution_count": 15,
   "id": "9689e5d8",
   "metadata": {},
   "outputs": [],
   "source": [
    "train_input = train_input.reshape(-1,1) # 1 컬럼 지정 해놓고 -1 나머지 알아서\n",
    "test_input = test_input.reshape(-1,1)"
   ]
  },
  {
   "cell_type": "code",
   "execution_count": 16,
   "id": "07c3939d",
   "metadata": {},
   "outputs": [
    {
     "name": "stdout",
     "output_type": "stream",
     "text": [
      "(42, 1) (14, 1)\n"
     ]
    }
   ],
   "source": [
    "print(train_input.shape, test_input.shape)"
   ]
  },
  {
   "cell_type": "markdown",
   "id": "8552ac6d",
   "metadata": {},
   "source": [
    "# k-최근접 이웃 회귀 알고리즘 정확도"
   ]
  },
  {
   "cell_type": "code",
   "execution_count": 25,
   "id": "e1a6b6ee",
   "metadata": {},
   "outputs": [],
   "source": [
    "from sklearn.neighbors import KNeighborsRegressor"
   ]
  },
  {
   "cell_type": "code",
   "execution_count": 26,
   "id": "2da5c6ea",
   "metadata": {},
   "outputs": [
    {
     "name": "stdout",
     "output_type": "stream",
     "text": [
      "0.992809406101064\n"
     ]
    }
   ],
   "source": [
    "knr =\tKNeighborsRegressor()\n",
    "#\t모델 훈련\n",
    "knr.fit(train_input,\ttrain_target)\n",
    "#\tscore():\t훈련 모델 점수 확인,\t결정 계수(R2)를 리턴\n",
    "print(knr.score(test_input,\ttest_target))"
   ]
  },
  {
   "cell_type": "markdown",
   "id": "54da9fe6",
   "metadata": {},
   "source": [
    "# mean_absolute_error\n",
    "    - mean_absolute_error (MAE): 평균 절대 오차\n",
    "        • 타킷(실제 값)과 예측 값의 절대값 오차 평균\n",
    "        • 절대값을 사용: 에러의 크기를 반영\n",
    "        • sklearn.merics 패키지 포함"
   ]
  },
  {
   "cell_type": "code",
   "execution_count": 27,
   "id": "2579ce45",
   "metadata": {},
   "outputs": [
    {
     "name": "stdout",
     "output_type": "stream",
     "text": [
      "19.157142857142862\n"
     ]
    }
   ],
   "source": [
    "from sklearn.metrics import mean_absolute_error\n",
    "\n",
    "#\t테스트 세트에 대한 예측값 계산\n",
    "test_prediction = knr.predict(test_input)\n",
    "\n",
    "#\t테스트 세트에 대한 평균 절대 오차 계산\n",
    "mae = mean_absolute_error(test_target, test_prediction)\n",
    "print(mae)"
   ]
  },
  {
   "cell_type": "code",
   "execution_count": null,
   "id": "ffd1870d",
   "metadata": {},
   "outputs": [],
   "source": []
  },
  {
   "cell_type": "code",
   "execution_count": 68,
   "id": "546f0117",
   "metadata": {},
   "outputs": [
    {
     "data": {
      "text/plain": [
       "array([  60. ,   79.6,  248. ,  122. ,  136. ,  847. ,  311.4,  183.4,\n",
       "        847. ,  113. , 1010. ,   60. ,  248. ,  248. ])"
      ]
     },
     "execution_count": 68,
     "metadata": {},
     "output_type": "execute_result"
    }
   ],
   "source": [
    "test_prediction"
   ]
  },
  {
   "cell_type": "markdown",
   "id": "0f0a7d7e",
   "metadata": {},
   "source": [
    "# 과대적합 vs 과소적합"
   ]
  },
  {
   "cell_type": "markdown",
   "id": "497295b0",
   "metadata": {},
   "source": [
    "## 모델 개선: 이웃 개수 줄이기\n",
    "    - 과소 적합 해결 방안: 이웃의 개수 줄임\n",
    "        • 기본 값 5에서 n_neighbors =\t3으로 변경\n",
    "            – 모델이 더 복잡해짐\n",
    "            – 훈련 세트의 국지적 패턴에 더 민감해짐"
   ]
  },
  {
   "cell_type": "code",
   "execution_count": 34,
   "id": "c2fafee1",
   "metadata": {},
   "outputs": [
    {
     "name": "stdout",
     "output_type": "stream",
     "text": [
      "훈련 데이터로 모델의 정확도 점수 계산:  0.9804899950518966\n",
      "테스트 데이터로 모델의 정확도 점수 계산:  0.9746459963987609\n"
     ]
    },
    {
     "data": {
      "text/plain": [
       "0.9746459963987609"
      ]
     },
     "execution_count": 34,
     "metadata": {},
     "output_type": "execute_result"
    }
   ],
   "source": [
    "knr.n_neighbors =3\n",
    "#\t모델을 다시 훈련\n",
    "knr.fit(train_input,train_target)\n",
    "print(\"훈련 데이터로 모델의 정확도 점수 계산: \", knr.score(train_input,train_target))\n",
    "knr.score(train_input,\ttrain_target)\n",
    "print(\"테스트 데이터로 모델의 정확도 점수 계산: \", knr.score(test_input,test_target))\n",
    "knr.score(test_input,\ttest_target)"
   ]
  },
  {
   "cell_type": "markdown",
   "id": "ea5ad2e2",
   "metadata": {},
   "source": [
    "# 이웃의 수에 따른 그래프 비교\n",
    "    - k-최근접 회귀 알고리즘에서 이웃의 수 변경: 1, 5, 10\n",
    "        • 농어의 길이를 5~45까지 변경하면서 무게 예측"
   ]
  },
  {
   "cell_type": "code",
   "execution_count": 35,
   "id": "bef29fdc",
   "metadata": {},
   "outputs": [],
   "source": [
    "#\tk-최근접 이웃 회귀 객체 생성\n",
    "knr = KNeighborsRegressor()"
   ]
  },
  {
   "cell_type": "code",
   "execution_count": 36,
   "id": "5df9df07",
   "metadata": {},
   "outputs": [],
   "source": [
    "# x:농어의 길이(5 ~ 45까지 범위 설정)\n",
    "x = np.arange(5,45).reshape(-1,1)"
   ]
  },
  {
   "cell_type": "code",
   "execution_count": 70,
   "id": "c90d62f9",
   "metadata": {},
   "outputs": [
    {
     "data": {
      "text/plain": [
       "array([ 81.5,  81.5,  81.5,  81.5,  81.5,  81.5,  81.5,  81.5,  81.5,\n",
       "        81.5,  81.5,  81.5,  81.5,  91.3, 100.8, 104.8, 116. , 128.5,\n",
       "       148. , 161.2, 195.5, 211. , 211. , 247.4, 247.4, 347.5, 453.5,\n",
       "       551. , 551. , 645.5, 700.5, 700.5, 739.1, 785. , 811. , 882.5,\n",
       "       912.5, 912.5, 912.5, 912.5])"
      ]
     },
     "execution_count": 70,
     "metadata": {},
     "output_type": "execute_result"
    }
   ],
   "source": [
    "prediction"
   ]
  },
  {
   "cell_type": "markdown",
   "id": "bb7c44c8",
   "metadata": {},
   "source": [
    "#\tn=1,\t5,\t10일때 예측 결과 그래프\n",
    "for n in [1,5,10]:\n",
    "    knr.n_neighbors = n\n",
    "    knr.fit(train_input, train_target)\n",
    "    \n",
    "    #\t지정한 범위 x(농어의 길이)에 대한 농어 무게 예측하기\n",
    "    prediction = knr.predict(x)\n",
    "    \n",
    "    #\t훈련 세트와 예측 결과 그래프 그리기\n",
    "    plt.scatter(train_input, train_target, label = 'train set')\n",
    "    plt.plot(x, prediction, label = 'prediction', color = 'orange')\n",
    "    \n",
    "    plt.title('n_neighbors =\t{}'.format(n))\n",
    "    plt.xlabel('length')\n",
    "    plt.ylabel('weight')\n",
    "    plt.show()"
   ]
  },
  {
   "cell_type": "markdown",
   "id": "9f3ad532",
   "metadata": {},
   "source": [
    "# k-최근접 이웃 알고리즘의 문제점\n",
    "    - k-최근접 이웃 회귀 알고리즘의 문제점\n",
    "        • 가장 가까운 샘플을 찾아 평균값 계산\n",
    "        • 새로운 샘플이 훈련 세트의 범위를 벗어나면 잘못된 예측을 함\n",
    "    - 훈련 세트 밖의 샘플 예측\n",
    "        • 50cm,\t100cm\t길이의 농어 무게 예측: 동일한 예측값"
   ]
  },
  {
   "cell_type": "code",
   "execution_count": 43,
   "id": "9c4e52c8",
   "metadata": {},
   "outputs": [],
   "source": [
    "knr = KNeighborsRegressor(n_neighbors=3)"
   ]
  },
  {
   "cell_type": "code",
   "execution_count": 44,
   "id": "40e49667",
   "metadata": {},
   "outputs": [
    {
     "data": {
      "text/plain": [
       "KNeighborsRegressor(n_neighbors=3)"
      ]
     },
     "execution_count": 44,
     "metadata": {},
     "output_type": "execute_result"
    }
   ],
   "source": [
    "knr.fit(train_input,\ttrain_target)"
   ]
  },
  {
   "cell_type": "code",
   "execution_count": 45,
   "id": "319ec3b8",
   "metadata": {},
   "outputs": [
    {
     "name": "stdout",
     "output_type": "stream",
     "text": [
      "50cm: [1033.33333333]\n",
      "100cm: [1033.33333333]\n"
     ]
    }
   ],
   "source": [
    "print('50cm:',\tknr.predict([[50]]))\n",
    "print('100cm:',\tknr.predict([[100]]))"
   ]
  },
  {
   "cell_type": "markdown",
   "id": "55bfeb93",
   "metadata": {},
   "source": [
    "## 50cm,\t100cm\t길이의 농어의 이웃 및 산점도 비교"
   ]
  },
  {
   "cell_type": "code",
   "execution_count": 48,
   "id": "de1a01d9",
   "metadata": {},
   "outputs": [],
   "source": [
    "dintance_50, indexes_50 = knr.kneighbors([[50]])"
   ]
  },
  {
   "cell_type": "code",
   "execution_count": 49,
   "id": "6466ec59",
   "metadata": {},
   "outputs": [],
   "source": [
    "dintance_100, indexes_100 = knr.kneighbors([[100]])"
   ]
  },
  {
   "cell_type": "code",
   "execution_count": 58,
   "id": "f57a6bc1",
   "metadata": {},
   "outputs": [
    {
     "data": {
      "image/png": "[encoded data removed]",
      "text/plain": [
       "<Figure size 432x288 with 1 Axes>"
      ]
     },
     "metadata": {
      "needs_background": "light"
     },
     "output_type": "display_data"
    }
   ],
   "source": [
    "plt.scatter(train_input, train_target, label = 'train set')\n",
    "plt.scatter(train_input[indexes_50], train_target[indexes_50], marker = 'D', label = '50cm neighbors')\n",
    "plt.scatter(50, 1033, marker = '^', label = '50cm')\n",
    "plt.scatter(train_input[indexes_100], train_target[indexes_100], marker = 'P', label = '100cm neighbors')\n",
    "plt.scatter(100, 1033, marker = 's', label = '100cm')\n",
    "\n",
    "plt.xlim(0, 110)\n",
    "plt.legend()\n",
    "plt.show()"
   ]
  },
  {
   "cell_type": "code",
   "execution_count": 66,
   "id": "e5cf1613",
   "metadata": {},
   "outputs": [
    {
     "name": "stdout",
     "output_type": "stream",
     "text": [
      "[[34  8 14]]\n",
      "[[34  8 14]]\n"
     ]
    }
   ],
   "source": [
    "# 훈련데이터에서 이웃 데이터의 인덱스 확인\n",
    "print(indexes_50)\n",
    "print(indexes_100)"
   ]
  },
  {
   "cell_type": "code",
   "execution_count": 67,
   "id": "0705af0f",
   "metadata": {},
   "outputs": [
    {
     "name": "stdout",
     "output_type": "stream",
     "text": [
      "1033.3333333333333\n",
      "1033.3333333333333\n"
     ]
    }
   ],
   "source": [
    "# 이웃 데이터의 무게 평균 계산\n",
    "print(np.mean(train_target[indexes_50]))\n",
    "print(np.mean(train_target[indexes_100]))"
   ]
  },
  {
   "cell_type": "markdown",
   "id": "22aa52a5",
   "metadata": {},
   "source": [
    "# 선형 회귀(Linear Regression)\n",
    "    • 데이터를 가장 잘 표현할 수 있는 직선 방정식을 찾는 알고리즘\n",
    "    • 특성과 타킷 사이의 관계를 가장 잘 나타내는 선형 방정식을 찾음\n",
    "        – 특성과 타킷 사이의 관계: 선형 방정식의 계수(기울기) 와 절편에 저장\n",
    "    • LinearRegression 클래스 사용\n",
    "        – sklearn.linear_model 패키지\n",
    "        – fit(), score(), predict() 메소드"
   ]
  },
  {
   "cell_type": "markdown",
   "id": "835b4f33",
   "metadata": {},
   "source": [
    "# 훈련 데이터를 이용한 직선 방정식 구하기"
   ]
  },
  {
   "cell_type": "code",
   "execution_count": 72,
   "id": "9a7e8852",
   "metadata": {},
   "outputs": [],
   "source": [
    "from sklearn.linear_model import LinearRegression"
   ]
  },
  {
   "cell_type": "code",
   "execution_count": 75,
   "id": "a5658c74",
   "metadata": {},
   "outputs": [
    {
     "name": "stdout",
     "output_type": "stream",
     "text": [
      "50cm:  [1241.83860323]\n",
      "[39.01714496] -709.0186449535477\n"
     ]
    }
   ],
   "source": [
    "lr = LinearRegression()\n",
    "#\t선형 회귀 모델 훈련\n",
    "lr.fit(train_input, train_target)\n",
    "#\t50cm\t농어에 대한 예측\n",
    "print(\"50cm: \", lr.predict([[50]]))\n",
    "\n",
    "#\t기울기(a):\tcoef_,\t절편(bias):\tintercept_\n",
    "print(lr.coef_, lr.intercept_)"
   ]
  },
  {
   "cell_type": "markdown",
   "id": "b3da3bd6",
   "metadata": {},
   "source": [
    "# 산점도 및 직선 그래프 그리기\n",
    "    - 기울기와 절편을 이용한 1차 방정식 그래프"
   ]
  },
  {
   "cell_type": "code",
   "execution_count": 78,
   "id": "c3230683",
   "metadata": {},
   "outputs": [
    {
     "data": {
      "image/png": "[encoded data removed]",
      "text/plain": [
       "<Figure size 432x288 with 1 Axes>"
      ]
     },
     "metadata": {
      "needs_background": "light"
     },
     "output_type": "display_data"
    }
   ],
   "source": [
    "plt.scatter(train_input, train_target)\n",
    "\n",
    "#\t15에서 50까지 1차 방정식 그래프 그리기\n",
    "#\tplot([x축 데이터:시작, 끝],\t[y축 데이터:시작, 끝])\n",
    "plt.plot([15, 50], [15*lr.coef_ + lr.intercept_, 50 * lr.coef_ + lr.intercept_],\n",
    "        color = 'red', linestyle = '--')\n",
    "\n",
    "#\t50cm\t농어 데이터\n",
    "plt.scatter(50, 1241.8, marker = '^', color = 'orangered')\n",
    "plt.show()"
   ]
  },
  {
   "cell_type": "code",
   "execution_count": 80,
   "id": "4c49adb2",
   "metadata": {},
   "outputs": [
    {
     "name": "stdout",
     "output_type": "stream",
     "text": [
      "[array([-123.7614705]), array([1241.83860323])]\n"
     ]
    }
   ],
   "source": [
    "print([15*lr.coef_ + lr.intercept_, 50 * lr.coef_ + lr.intercept_])"
   ]
  },
  {
   "cell_type": "code",
   "execution_count": 81,
   "id": "fa21387e",
   "metadata": {},
   "outputs": [
    {
     "data": {
      "text/plain": [
       "[15, 50]"
      ]
     },
     "execution_count": 81,
     "metadata": {},
     "output_type": "execute_result"
    }
   ],
   "source": [
    "[15,50]"
   ]
  },
  {
   "cell_type": "code",
   "execution_count": 83,
   "id": "bd23a989",
   "metadata": {},
   "outputs": [
    {
     "name": "stdout",
     "output_type": "stream",
     "text": [
      "train\tdata\tscore:\t 0.939846333997604\n",
      "test\tdata\tscore:\t 0.8247503123313558\n"
     ]
    }
   ],
   "source": [
    "print('train\tdata\tscore:\t',\t\t\t\t\t\n",
    "lr.score(train_input,\ttrain_target))\n",
    "print('test\tdata\tscore:\t',\t\n",
    "lr.score(test_input,\ttest_target))"
   ]
  },
  {
   "cell_type": "markdown",
   "id": "c1d634e7",
   "metadata": {},
   "source": [
    "# 다항 회귀(Polynomial Regression)\n",
    "    - 농어의 길이와 무게에 대한 산점도\n",
    "        • 일직선(1차 방정식)으로 표현하기 어려움\n",
    "        • 무게가 0 이하일 가능성 발생\n",
    "            – 모델이 더 복잡할 필요성이 있음\n",
    "    - 최적의 곡선(2차 방정식)을 구함\n",
    "        • 길이를 제곱한 항을 훈련 세트에 추가해야 됨"
   ]
  },
  {
   "cell_type": "markdown",
   "id": "6bdccc85",
   "metadata": {},
   "source": [
    "# 훈련 세트에 데이터 추가\n",
    "    - 길이를 제곱한 데이터를 훈련 세트에 추가\n",
    "        • column_stack()사용\n",
    "            – broadcasting 적용"
   ]
  },
  {
   "cell_type": "code",
   "execution_count": 85,
   "id": "b69797ed",
   "metadata": {},
   "outputs": [],
   "source": [
    "train_poly = np.column_stack((train_input**2, train_input))\n",
    "test_poly = np.column_stack((test_input**2, test_input))"
   ]
  },
  {
   "cell_type": "code",
   "execution_count": 86,
   "id": "ecb6cdcc",
   "metadata": {},
   "outputs": [
    {
     "name": "stdout",
     "output_type": "stream",
     "text": [
      "[[ 384.16   19.6 ]\n",
      " [ 484.     22.  ]\n",
      " [ 349.69   18.7 ]\n",
      " [ 302.76   17.4 ]\n",
      " [1296.     36.  ]]\n",
      "(42, 2) (14, 2)\n"
     ]
    }
   ],
   "source": [
    "print(train_poly[0:5])\n",
    "print(train_poly.shape, test_poly.shape)"
   ]
  },
  {
   "cell_type": "markdown",
   "id": "ecd414e4",
   "metadata": {},
   "source": [
    "# 다항 회귀식 구하기\n",
    "    - 선형 회귀 모델 재훈련\n",
    "        • 제곱한 데이터를 이용하여 선형 회귀 모델을 다시 훈련\n",
    "        • 타깃값은 그대로 사용함"
   ]
  },
  {
   "cell_type": "code",
   "execution_count": 87,
   "id": "3babb2b6",
   "metadata": {},
   "outputs": [
    {
     "name": "stdout",
     "output_type": "stream",
     "text": [
      "[1573.98423528]\n",
      "[  1.01433211 -21.55792498] 116.05021078278259\n"
     ]
    }
   ],
   "source": [
    "lr = LinearRegression()\n",
    "lr.fit(train_poly, train_target)\n",
    "\n",
    "print(lr.predict([[50**2, 50]]))\n",
    "print(lr.coef_, lr.intercept_)"
   ]
  },
  {
   "cell_type": "markdown",
   "id": "2b8de3d5",
   "metadata": {},
   "source": [
    "# 다항 회귀식을 이용한 그래프 그리기\n",
    "    - 훈련 세트의 산점도와 2차 방정식 그래프"
   ]
  },
  {
   "cell_type": "code",
   "execution_count": 89,
   "id": "82c62c0d",
   "metadata": {},
   "outputs": [
    {
     "data": {
      "image/png": "[encoded data removed]",
      "text/plain": [
       "<Figure size 432x288 with 1 Axes>"
      ]
     },
     "metadata": {
      "needs_background": "light"
     },
     "output_type": "display_data"
    }
   ],
   "source": [
    "#\t구간별 직선을 그리기 위해 15에서 49까지 정수 배열을 만듬\n",
    "point = np.arange(15, 50)\n",
    "#\t훈련 세트의 산점도 그리기\n",
    "plt.scatter(train_input, train_target)\n",
    "\n",
    "#\t15에서 49까지 2차 방정식 그래프 그리기\n",
    "plt.plot(point, 1.01*point**2 - 21.6*point + 116.05,\n",
    "        color='red', linestyle='--')\n",
    "\n",
    "#\t50cm\t농어 데이터(무게:1574g)\n",
    "plt.scatter([50], [1574], marker = '^')\n",
    "plt.xlabel('length')\n",
    "plt.ylabel('weight')\n",
    "plt.show()"
   ]
  },
  {
   "cell_type": "code",
   "execution_count": 90,
   "id": "99437b56",
   "metadata": {},
   "outputs": [
    {
     "name": "stdout",
     "output_type": "stream",
     "text": [
      "0.9706807451768623\n",
      "0.9775935108325121\n"
     ]
    }
   ],
   "source": [
    "print(lr.score(train_poly, train_target))\n",
    "print(lr.score(test_poly, test_target))"
   ]
  },
  {
   "cell_type": "markdown",
   "id": "827ce6d4",
   "metadata": {},
   "source": [
    "# 03-3 특성 공학과 규제"
   ]
  },
  {
   "cell_type": "markdown",
   "id": "a2a67ac6",
   "metadata": {},
   "source": [
    "# 다중 회귀 (Multiple Regression)\n",
    "    § 다중 회귀\n",
    "        • 여러 특성을 사용한 선형 회귀\n",
    "            – 길이, 높이, 두께 사용\n",
    "            – 다양한 특성의 조합을 생성\n",
    "        • PolynomialFeatures 클래스 사용\n",
    "    § 특성 공학 (Feature\tengineering)\n",
    "        • 기존의 특성을 사용하여 새로운 특성을 뽑아내는 작업"
   ]
  },
  {
   "cell_type": "code",
   "execution_count": 92,
   "id": "6cbc2de9",
   "metadata": {},
   "outputs": [
    {
     "name": "stdout",
     "output_type": "stream",
     "text": [
      "[[ 8.4   2.11  1.41]\n",
      " [13.7   3.53  2.  ]\n",
      " [15.    3.82  2.43]\n",
      " [16.2   4.59  2.63]\n",
      " [17.4   4.59  2.94]]\n",
      "(56, 3)\n"
     ]
    }
   ],
   "source": [
    "import\tpandas\tas\tpd\n",
    "df =\tpd.read_csv('https://bit.ly/perch_csv')\n",
    "perch_full =\tdf.to_numpy()\t#\tDataFrame을 Numpy의 array로 변환\n",
    "print(perch_full[:5])\n",
    "print(perch_full.shape)"
   ]
  },
  {
   "cell_type": "markdown",
   "id": "38d014a7",
   "metadata": {},
   "source": [
    "    § target 데이터(perch_weight)는 기존과 동일\n",
    "    § perch_full,perch_weight를 훈련 세트와 테스트 세트로 분리"
   ]
  },
  {
   "cell_type": "code",
   "execution_count": 93,
   "id": "95bbfb56",
   "metadata": {},
   "outputs": [],
   "source": [
    "train_input, test_input, train_target, test_target = train_test_split(\n",
    "perch_full, perch_weight, random_state=42)"
   ]
  },
  {
   "cell_type": "markdown",
   "id": "0a6e64df",
   "metadata": {},
   "source": [
    "# 사이킷런의 변환기 (Transformer)\n",
    "    § 다항 특성 만들기\n",
    "        • PolynomialFeatures 클래스 사용\n",
    "            – 각 특성을 제곱한 항을 추가하고, 특성끼리 서로 곱한 항을 추가\n",
    "        • PloynomialFeatures(include_bias=True)\n",
    "            – include_bias=True:\tbias(절편,\t0차항) 추가\n",
    "            – include_bias=False:\tbias\t삭제\n",
    "        • fit([a,\tb]): 특성 조합을 찾음\n",
    "            – [1,\ta,\tb,\ta*b,\ta^2,\tb^2]\t추가\n",
    "        • transform([[a,\tb]]): 특성 조합을 실제 데이터로 변환\n",
    "            – [1,\ta,\tb,\ta*b,\ta^2,\tb^2]\t로 변환"
   ]
  },
  {
   "cell_type": "markdown",
   "id": "ae663f82",
   "metadata": {},
   "source": [
    "# 다항 특성 만들기\n",
    "    § 훈련 세트(train_input)을 사용하여 다항 특성 만들기"
   ]
  },
  {
   "cell_type": "code",
   "execution_count": 96,
   "id": "c0ccb996",
   "metadata": {},
   "outputs": [
    {
     "name": "stdout",
     "output_type": "stream",
     "text": [
      "[[ 19.6      5.14     3.04   384.16   100.744   59.584   26.4196  15.6256\n",
      "    9.2416]\n",
      " [ 22.       5.88     3.52   484.     129.36    77.44    34.5744  20.6976\n",
      "   12.3904]\n",
      " [ 18.7      5.2      3.12   349.69    97.24    58.344   27.04    16.224\n",
      "    9.7344]]\n",
      "(42, 9)\n"
     ]
    }
   ],
   "source": [
    "from sklearn.preprocessing import PolynomialFeatures\n",
    "\n",
    "poly = PolynomialFeatures(include_bias=False)\n",
    "poly.fit(train_input)\n",
    "train_poly =\tpoly.transform(train_input)\t#\ttrain_input 데이터를 이용하여\n",
    "# 총 9개의 특성이 만들어짐\n",
    "print(train_poly[0:3])\n",
    "print(train_poly.shape)\n",
    "# 훈련 세트를 기준으로 만들어진 특성을 이용하여 테스트 세트를 변환하기 위함\n",
    "test_poly =\tpoly.transform(test_input)\t#\t테스트 세트 변환:\tfit()호출 안함"
   ]
  },
  {
   "cell_type": "markdown",
   "id": "6e086d69",
   "metadata": {},
   "source": [
    "## § get_feature_names()\n",
    "    • 각 특성의 조합을 알려줌"
   ]
  },
  {
   "cell_type": "code",
   "execution_count": 97,
   "id": "03677a65",
   "metadata": {},
   "outputs": [
    {
     "name": "stdout",
     "output_type": "stream",
     "text": [
      "['x0', 'x1', 'x2', 'x0^2', 'x0 x1', 'x0 x2', 'x1^2', 'x1 x2', 'x2^2']\n"
     ]
    },
    {
     "name": "stderr",
     "output_type": "stream",
     "text": [
      "C:\\ProgramData\\Anaconda3\\lib\\site-packages\\sklearn\\utils\\deprecation.py:87: FutureWarning: Function get_feature_names is deprecated; get_feature_names is deprecated in 1.0 and will be removed in 1.2. Please use get_feature_names_out instead.\n",
      "  warnings.warn(msg, category=FutureWarning)\n"
     ]
    }
   ],
   "source": [
    "print(poly.get_feature_names())"
   ]
  },
  {
   "cell_type": "markdown",
   "id": "5ef22e00",
   "metadata": {},
   "source": [
    "# 다중 회귀 모델 훈련 #1\n",
    "    § 다중 회귀 모델 훈련\n",
    "        • 선형 회귀 모델 훈련과 동일 (여러 개의 특성을 사용할 뿐임)\n",
    "            – 특성이 늘어나면 선형 회귀의 정확도 증가"
   ]
  },
  {
   "cell_type": "code",
   "execution_count": 98,
   "id": "5e2310b5",
   "metadata": {},
   "outputs": [
    {
     "name": "stdout",
     "output_type": "stream",
     "text": [
      "0.9903183436982125\n"
     ]
    }
   ],
   "source": [
    "lr = LinearRegression()\n",
    "lr.fit(train_poly, train_target)\n",
    "print(lr.score(train_poly, train_target))"
   ]
  },
  {
   "cell_type": "code",
   "execution_count": 99,
   "id": "cc2955e3",
   "metadata": {},
   "outputs": [
    {
     "name": "stdout",
     "output_type": "stream",
     "text": [
      "0.9714559911594155\n"
     ]
    }
   ],
   "source": [
    "print(lr.score(test_poly, test_target))"
   ]
  },
  {
   "cell_type": "markdown",
   "id": "313bc7df",
   "metadata": {},
   "source": [
    "# 다중 회귀 모델 훈련 #2\n",
    "    § degree 증가\n",
    "        • 고차항의 최대 차수 지정\n",
    "        • 3제곱, 4제곱, 5제곱 항 추가"
   ]
  },
  {
   "cell_type": "code",
   "execution_count": 100,
   "id": "d24419ac",
   "metadata": {},
   "outputs": [
    {
     "name": "stdout",
     "output_type": "stream",
     "text": [
      "(42, 55)\n"
     ]
    }
   ],
   "source": [
    "#\t고차항의 최대 차수 증가 (5차)\n",
    "poly = PolynomialFeatures(degree=5, include_bias=False)\n",
    "\n",
    "poly.fit(train_input)\n",
    "train_poly = poly.transform(train_input)\n",
    "test_poly = poly.transform(test_input)\n",
    "print(train_poly.shape)"
   ]
  },
  {
   "cell_type": "code",
   "execution_count": 101,
   "id": "21b0c2fe",
   "metadata": {},
   "outputs": [
    {
     "name": "stdout",
     "output_type": "stream",
     "text": [
      "0.9999999999938143\n",
      "-144.40744532797535\n"
     ]
    }
   ],
   "source": [
    "#\t선형 회귀 모델 훈련 및 훈련 세트 점수 계산\n",
    "lr.fit(train_poly, train_target)\n",
    "print(lr.score(train_poly, train_target))\n",
    "\n",
    "# 테스트 세트 점수 계산\n",
    "print(lr.score(test_poly, test_target))"
   ]
  },
  {
   "cell_type": "markdown",
   "id": "5c4cd259",
   "metadata": {},
   "source": [
    "# 규제 (Regularization) 오버피팅 방지\n",
    "    § 규제\n",
    "        • 모델이 훈련 세트에 과대 적합되는 것을 방지\n",
    "        • 선형 회귀 모델: 특성에 곱해지는 계수의 크기를 작게 줄임\n",
    "        • L1 규제 (L1\tRegularization)\n",
    "            – 계수(가중치)의 합을 더한 값에 규제 강도(ƛ)를 곱하여 오차에 더함\n",
    "            – 어떤 가중치는 0이 됨\n",
    "        • L2 규제 (L2\tRegularization)\n",
    "            – 각 계수(가중치) 제곱의 합에 규제 강도(ƛ)를 곱합\n",
    "            – ƛ를 크게 하면 가중치가 더 감소(규제 강화), ƛ를 작게 하면 가중증가\n",
    "    § 규제 전에 표준화 과정이 필요\n",
    "        • 각 특성의 크기(스케일)가 다르기 때문에 표준화 과정이 필요\n",
    "        • StandardScaler 클래스 사용"
   ]
  },
  {
   "cell_type": "markdown",
   "id": "ff04c5ea",
   "metadata": {},
   "source": [
    "# 표준화\n",
    "    § StandardScaler 클래스를 사용한 표준화\n",
    "        • 평균과 표준 편차 사용\n",
    "        • fit(), transform() 사용"
   ]
  },
  {
   "cell_type": "code",
   "execution_count": 102,
   "id": "c52fb01c",
   "metadata": {},
   "outputs": [],
   "source": [
    "from sklearn.preprocessing import StandardScaler\n",
    "\n",
    "ss = StandardScaler()\n",
    "ss.fit(train_poly)\n",
    "train_scaled = ss.transform(train_poly)\n",
    "test_scaled = ss.transform(test_poly)"
   ]
  },
  {
   "cell_type": "markdown",
   "id": "07de148e",
   "metadata": {},
   "source": [
    "# § 규제 모델\n",
    "    • 릿지(Ridge) 모델: L2\tregularization\n",
    "        – 계수를 제곱한 값을 기준으로 규제\n",
    "    • 라쏘(Lasso) 모델: L1\tregularization\n",
    "        – 계수(가중치)의 절대값을 기준으로 규제"
   ]
  },
  {
   "cell_type": "markdown",
   "id": "2dedb809",
   "metadata": {},
   "source": [
    "# 릿지 회귀\n",
    "    • sklearn.linear_model 패키지\n",
    "    • fit()로 훈련, score()메소드로 평가\n",
    "    • Ridge(alpha=1.0)\n",
    "        – alpha값이 크면 규제 강도가 세짐 (계수 값을 더 줄임)"
   ]
  },
  {
   "cell_type": "code",
   "execution_count": 103,
   "id": "b7344d1b",
   "metadata": {},
   "outputs": [
    {
     "name": "stdout",
     "output_type": "stream",
     "text": [
      "0.9896101671037343\n"
     ]
    }
   ],
   "source": [
    "from\tsklearn.linear_model import\tRidge\n",
    "ridge\t=\tRidge()\t#\talpha=1.0\n",
    "ridge.fit(train_scaled,\ttrain_target)\n",
    "print(ridge.score(train_scaled,\ttrain_target))\t#훈련 세트 점수 확인"
   ]
  },
  {
   "cell_type": "code",
   "execution_count": 104,
   "id": "7240f736",
   "metadata": {},
   "outputs": [
    {
     "name": "stdout",
     "output_type": "stream",
     "text": [
      "0.9790693977615386\n"
     ]
    }
   ],
   "source": [
    "print(ridge.score(test_scaled, test_target))"
   ]
  },
  {
   "cell_type": "code",
   "execution_count": 105,
   "id": "7eb97f44",
   "metadata": {},
   "outputs": [
    {
     "data": {
      "image/png": "[encoded data removed]",
      "text/plain": [
       "<Figure size 432x288 with 1 Axes>"
      ]
     },
     "metadata": {
      "needs_background": "light"
     },
     "output_type": "display_data"
    }
   ],
   "source": [
    "train_score = []\n",
    "test_score = []\n",
    "\n",
    "alpha_list = [0.001, 0.01, 0.1, 1, 10, 100]\n",
    "for alpha in alpha_list:\n",
    "    ridge = Ridge(alpha=alpha)\n",
    "    ridge.fit(train_scaled, train_target)\n",
    "    train_score.append(ridge.score(train_scaled, train_target))\n",
    "    test_score.append(ridge.score(test_scaled, test_target))\n",
    "    \n",
    "plt.plot(np.log10(alpha_list), train_score,\n",
    "        label='train_set score',marker='o',markersize=3)\n",
    "plt.plot(np.log10(alpha_list),test_score,\n",
    "        label='test_set score',marker='s',markersize=3)\n",
    "plt.xlabel('alpha')\n",
    "plt.ylabel('R^2')\n",
    "plt.legend()\n",
    "plt.show()"
   ]
  },
  {
   "cell_type": "code",
   "execution_count": null,
   "id": "0fa739b8",
   "metadata": {},
   "outputs": [],
   "source": []
  }
 ],
 "metadata": {
  "kernelspec": {
   "display_name": "Python 3 (ipykernel)",
   "language": "python",
   "name": "python3"
  },
  "language_info": {
   "codemirror_mode": {
    "name": "ipython",
    "version": 3
   },
   "file_extension": ".py",
   "mimetype": "text/x-python",
   "name": "python",
   "nbconvert_exporter": "python",
   "pygments_lexer": "ipython3",
   "version": "3.9.12"
  }
 },
 "nbformat": 4,
 "nbformat_minor": 5
}
