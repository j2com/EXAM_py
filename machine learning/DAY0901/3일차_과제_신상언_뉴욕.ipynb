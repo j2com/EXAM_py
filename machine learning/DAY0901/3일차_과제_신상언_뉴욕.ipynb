{
 "cells": [
  {
   "cell_type": "code",
   "execution_count": 73,
   "id": "fff2613e",
   "metadata": {},
   "outputs": [],
   "source": [
    "import pandas as pd\n",
    "from sklearn.linear_model import LogisticRegression\n",
    "import matplotlib.pyplot as plt\n",
    "import numpy as np\n",
    "from sklearn.model_selection import train_test_split\n",
    "from sklearn.linear_model import LinearRegression"
   ]
  },
  {
   "cell_type": "code",
   "execution_count": 74,
   "id": "34c7aabe",
   "metadata": {},
   "outputs": [],
   "source": [
    "df = pd.read_csv(\"C:/Users/ss/Desktop/train.csv/train.csv\", encoding= \"utf-8\", nrows = 50000)"
   ]
  },
  {
   "cell_type": "code",
   "execution_count": 75,
   "id": "b77f8e96",
   "metadata": {},
   "outputs": [],
   "source": [
    "df['distance'] = ((df['dropoff_longitude'] - df['pickup_longitude'])**2 + (df['dropoff_latitude'] - df['pickup_latitude'])**2)**0.5"
   ]
  },
  {
   "cell_type": "code",
   "execution_count": 76,
   "id": "2d69a036",
   "metadata": {},
   "outputs": [
    {
     "data": {
      "text/html": [
       "<div>\n",
       "<style scoped>\n",
       "    .dataframe tbody tr th:only-of-type {\n",
       "        vertical-align: middle;\n",
       "    }\n",
       "\n",
       "    .dataframe tbody tr th {\n",
       "        vertical-align: top;\n",
       "    }\n",
       "\n",
       "    .dataframe thead th {\n",
       "        text-align: right;\n",
       "    }\n",
       "</style>\n",
       "<table border=\"1\" class=\"dataframe\">\n",
       "  <thead>\n",
       "    <tr style=\"text-align: right;\">\n",
       "      <th></th>\n",
       "      <th>key</th>\n",
       "      <th>fare_amount</th>\n",
       "      <th>pickup_datetime</th>\n",
       "      <th>pickup_longitude</th>\n",
       "      <th>pickup_latitude</th>\n",
       "      <th>dropoff_longitude</th>\n",
       "      <th>dropoff_latitude</th>\n",
       "      <th>passenger_count</th>\n",
       "      <th>distance</th>\n",
       "    </tr>\n",
       "  </thead>\n",
       "  <tbody>\n",
       "    <tr>\n",
       "      <th>0</th>\n",
       "      <td>2009-06-15 17:26:21.0000001</td>\n",
       "      <td>4.5</td>\n",
       "      <td>2009-06-15 17:26:21 UTC</td>\n",
       "      <td>-73.844311</td>\n",
       "      <td>40.721319</td>\n",
       "      <td>-73.841610</td>\n",
       "      <td>40.712278</td>\n",
       "      <td>1</td>\n",
       "      <td>0.009436</td>\n",
       "    </tr>\n",
       "    <tr>\n",
       "      <th>1</th>\n",
       "      <td>2010-01-05 16:52:16.0000002</td>\n",
       "      <td>16.9</td>\n",
       "      <td>2010-01-05 16:52:16 UTC</td>\n",
       "      <td>-74.016048</td>\n",
       "      <td>40.711303</td>\n",
       "      <td>-73.979268</td>\n",
       "      <td>40.782004</td>\n",
       "      <td>1</td>\n",
       "      <td>0.079696</td>\n",
       "    </tr>\n",
       "    <tr>\n",
       "      <th>2</th>\n",
       "      <td>2011-08-18 00:35:00.00000049</td>\n",
       "      <td>5.7</td>\n",
       "      <td>2011-08-18 00:35:00 UTC</td>\n",
       "      <td>-73.982738</td>\n",
       "      <td>40.761270</td>\n",
       "      <td>-73.991242</td>\n",
       "      <td>40.750562</td>\n",
       "      <td>2</td>\n",
       "      <td>0.013674</td>\n",
       "    </tr>\n",
       "    <tr>\n",
       "      <th>3</th>\n",
       "      <td>2012-04-21 04:30:42.0000001</td>\n",
       "      <td>7.7</td>\n",
       "      <td>2012-04-21 04:30:42 UTC</td>\n",
       "      <td>-73.987130</td>\n",
       "      <td>40.733143</td>\n",
       "      <td>-73.991567</td>\n",
       "      <td>40.758092</td>\n",
       "      <td>1</td>\n",
       "      <td>0.025340</td>\n",
       "    </tr>\n",
       "    <tr>\n",
       "      <th>4</th>\n",
       "      <td>2010-03-09 07:51:00.000000135</td>\n",
       "      <td>5.3</td>\n",
       "      <td>2010-03-09 07:51:00 UTC</td>\n",
       "      <td>-73.968095</td>\n",
       "      <td>40.768008</td>\n",
       "      <td>-73.956655</td>\n",
       "      <td>40.783762</td>\n",
       "      <td>1</td>\n",
       "      <td>0.019470</td>\n",
       "    </tr>\n",
       "  </tbody>\n",
       "</table>\n",
       "</div>"
      ],
      "text/plain": [
       "                             key  fare_amount          pickup_datetime  \\\n",
       "0    2009-06-15 17:26:21.0000001          4.5  2009-06-15 17:26:21 UTC   \n",
       "1    2010-01-05 16:52:16.0000002         16.9  2010-01-05 16:52:16 UTC   \n",
       "2   2011-08-18 00:35:00.00000049          5.7  2011-08-18 00:35:00 UTC   \n",
       "3    2012-04-21 04:30:42.0000001          7.7  2012-04-21 04:30:42 UTC   \n",
       "4  2010-03-09 07:51:00.000000135          5.3  2010-03-09 07:51:00 UTC   \n",
       "\n",
       "   pickup_longitude  pickup_latitude  dropoff_longitude  dropoff_latitude  \\\n",
       "0        -73.844311        40.721319         -73.841610         40.712278   \n",
       "1        -74.016048        40.711303         -73.979268         40.782004   \n",
       "2        -73.982738        40.761270         -73.991242         40.750562   \n",
       "3        -73.987130        40.733143         -73.991567         40.758092   \n",
       "4        -73.968095        40.768008         -73.956655         40.783762   \n",
       "\n",
       "   passenger_count  distance  \n",
       "0                1  0.009436  \n",
       "1                1  0.079696  \n",
       "2                2  0.013674  \n",
       "3                1  0.025340  \n",
       "4                1  0.019470  "
      ]
     },
     "execution_count": 76,
     "metadata": {},
     "output_type": "execute_result"
    }
   ],
   "source": [
    "df.head(5)"
   ]
  },
  {
   "cell_type": "code",
   "execution_count": 77,
   "id": "4d7df36d",
   "metadata": {},
   "outputs": [
    {
     "data": {
      "text/plain": [
       "key                   object\n",
       "fare_amount          float64\n",
       "pickup_datetime       object\n",
       "pickup_longitude     float64\n",
       "pickup_latitude      float64\n",
       "dropoff_longitude    float64\n",
       "dropoff_latitude     float64\n",
       "passenger_count        int64\n",
       "distance             float64\n",
       "dtype: object"
      ]
     },
     "execution_count": 77,
     "metadata": {},
     "output_type": "execute_result"
    }
   ],
   "source": [
    "df.dtypes"
   ]
  },
  {
   "cell_type": "code",
   "execution_count": 78,
   "id": "c7de69cd",
   "metadata": {},
   "outputs": [],
   "source": [
    "df = df[(df['passenger_count'] > 0) & (df['fare_amount'] > 0)]"
   ]
  },
  {
   "cell_type": "code",
   "execution_count": 79,
   "id": "4caf6c6b",
   "metadata": {},
   "outputs": [],
   "source": [
    "df = df[(df['pickup_longitude'] >= -74.255) & (df['pickup_longitude'] <= -73.70)]\n",
    "df = df[(df['dropoff_longitude'] >= -74.255) & (df['dropoff_longitude'] <= -73.70)]\n",
    "df = df[(df['pickup_latitude'] >= 40.50) & (df['pickup_latitude'] <= 40.92)]\n",
    "df = df[(df['dropoff_latitude'] >= 40.50) & (df['dropoff_latitude'] <= 40.92)]      "
   ]
  },
  {
   "cell_type": "code",
   "execution_count": 80,
   "id": "50f04277",
   "metadata": {},
   "outputs": [],
   "source": [
    "train_input, test_input, train_target, test_target = train_test_split(np.array(df['distance']), np.array(df['fare_amount']), random_state=42)"
   ]
  },
  {
   "cell_type": "code",
   "execution_count": 81,
   "id": "ab335a22",
   "metadata": {},
   "outputs": [],
   "source": [
    "train_input = train_input.reshape(-1,1)\n",
    "test_input = test_input.reshape(-1,1)"
   ]
  },
  {
   "cell_type": "code",
   "execution_count": 82,
   "id": "75c9acbc",
   "metadata": {
    "scrolled": true
   },
   "outputs": [
    {
     "data": {
      "text/plain": [
       "array([[0.01592358],\n",
       "       [0.00888725],\n",
       "       [0.04534232],\n",
       "       ...,\n",
       "       [0.01358242],\n",
       "       [0.00411612],\n",
       "       [0.01136863]])"
      ]
     },
     "execution_count": 82,
     "metadata": {},
     "output_type": "execute_result"
    }
   ],
   "source": [
    "train_input"
   ]
  },
  {
   "cell_type": "code",
   "execution_count": 83,
   "id": "616834a5",
   "metadata": {},
   "outputs": [
    {
     "data": {
      "text/plain": [
       "array([[0.01488596],\n",
       "       [0.06330321],\n",
       "       [0.00948267],\n",
       "       ...,\n",
       "       [0.01782428],\n",
       "       [0.01332025],\n",
       "       [0.00169919]])"
      ]
     },
     "execution_count": 83,
     "metadata": {},
     "output_type": "execute_result"
    }
   ],
   "source": [
    "test_input"
   ]
  },
  {
   "cell_type": "code",
   "execution_count": 84,
   "id": "26b74a9c",
   "metadata": {},
   "outputs": [],
   "source": [
    "lr = LinearRegression()"
   ]
  },
  {
   "cell_type": "code",
   "execution_count": 85,
   "id": "7ad9e716",
   "metadata": {},
   "outputs": [
    {
     "data": {
      "text/plain": [
       "LinearRegression()"
      ]
     },
     "execution_count": 85,
     "metadata": {},
     "output_type": "execute_result"
    }
   ],
   "source": [
    "lr.fit(train_input, train_target)"
   ]
  },
  {
   "cell_type": "code",
   "execution_count": 88,
   "id": "dfb26284",
   "metadata": {},
   "outputs": [
    {
     "name": "stdout",
     "output_type": "stream",
     "text": [
      "0.7714352963904302\n",
      "0.7577935846109731\n"
     ]
    }
   ],
   "source": [
    "print(lr.score(train_input, train_target))\n",
    "print(lr.score(test_input, test_target))"
   ]
  },
  {
   "cell_type": "code",
   "execution_count": 89,
   "id": "7faed80d",
   "metadata": {},
   "outputs": [
    {
     "data": {
      "text/plain": [
       "<function matplotlib.pyplot.show(close=None, block=None)>"
      ]
     },
     "execution_count": 89,
     "metadata": {},
     "output_type": "execute_result"
    },
    {
     "data": {
      "image/png": "[encoded data removed]",
      "text/plain": [
       "<Figure size 432x288 with 1 Axes>"
      ]
     },
     "metadata": {
      "needs_background": "light"
     },
     "output_type": "display_data"
    }
   ],
   "source": [
    "plt.scatter(train_input, train_target)\n",
    "plt.plot([0, 0.5], [0*lr.coef_+lr.intercept_,0.5*lr.coef_+lr.intercept_],\n",
    "color='red',linestyle='--')\n",
    "plt.xlabel('distance')\n",
    "plt.ylabel('fare_amount')\n",
    "plt.show"
   ]
  },
  {
   "cell_type": "code",
   "execution_count": 90,
   "id": "13d97dcb",
   "metadata": {},
   "outputs": [
    {
     "name": "stdout",
     "output_type": "stream",
     "text": [
      "[[2.53560305e-04 1.59235770e-02]\n",
      " [7.89831530e-05 8.88724665e-03]\n",
      " [2.05592581e-03 4.53423181e-02]\n",
      " [3.08637551e-03 5.55551574e-02]\n",
      " [2.02299600e-03 4.49777278e-02]]\n",
      "(36529, 2) (12177, 2)\n"
     ]
    }
   ],
   "source": [
    "train_poly =np.column_stack((train_input**2,train_input))\n",
    "test_poly =np.column_stack((test_input**2,test_input))\n",
    "print(train_poly[0:5])\n",
    "print(train_poly.shape,test_poly.shape)"
   ]
  },
  {
   "cell_type": "code",
   "execution_count": 91,
   "id": "823a14b1",
   "metadata": {},
   "outputs": [
    {
     "name": "stdout",
     "output_type": "stream",
     "text": [
      "[-29.01785543 221.01027455] 3.879458668970848\n"
     ]
    }
   ],
   "source": [
    "lr =LinearRegression()\n",
    "lr.fit(train_poly,train_target)\n",
    "\n",
    "print(lr.coef_,lr.intercept_)"
   ]
  },
  {
   "cell_type": "code",
   "execution_count": 92,
   "id": "644febf4",
   "metadata": {},
   "outputs": [
    {
     "name": "stdout",
     "output_type": "stream",
     "text": [
      "0.7715133440659441\n",
      "0.757808935104796\n"
     ]
    }
   ],
   "source": [
    "print(lr.score(train_poly, train_target))\n",
    "print(lr.score(test_poly, test_target))"
   ]
  },
  {
   "cell_type": "code",
   "execution_count": 93,
   "id": "87688222",
   "metadata": {},
   "outputs": [
    {
     "data": {
      "text/plain": [
       "<function matplotlib.pyplot.show(close=None, block=None)>"
      ]
     },
     "execution_count": 93,
     "metadata": {},
     "output_type": "execute_result"
    },
    {
     "data": {
      "image/png": "[encoded data removed]",
      "text/plain": [
       "<Figure size 432x288 with 1 Axes>"
      ]
     },
     "metadata": {
      "needs_background": "light"
     },
     "output_type": "display_data"
    }
   ],
   "source": [
    "point = np.arange(0,0.5,0.1)\n",
    "plt.scatter(train_input, train_target)\n",
    "plt.plot(point, -181.47*point**2 + 238.44*point + 3.82, color='red',linestyle='--')\n",
    "plt.xlabel('distance')\n",
    "plt.ylabel('fare_amount')\n",
    "plt.show"
   ]
  },
  {
   "cell_type": "code",
   "execution_count": 94,
   "id": "365e79ab",
   "metadata": {},
   "outputs": [
    {
     "data": {
      "text/plain": [
       "array([46.92079936])"
      ]
     },
     "execution_count": 94,
     "metadata": {},
     "output_type": "execute_result"
    }
   ],
   "source": [
    "lr.predict([[0.04,0.2]])"
   ]
  },
  {
   "cell_type": "markdown",
   "id": "d8a94109",
   "metadata": {},
   "source": [
    "# RobustScaler 스케일링"
   ]
  },
  {
   "cell_type": "code",
   "execution_count": 95,
   "id": "9d796ae5",
   "metadata": {},
   "outputs": [],
   "source": [
    "from sklearn.preprocessing import RobustScaler"
   ]
  },
  {
   "cell_type": "code",
   "execution_count": 96,
   "id": "1bfda307",
   "metadata": {},
   "outputs": [],
   "source": [
    "rbs = RobustScaler()\n",
    "train_input_scaled = rbs.fit_transform(train_input)\n",
    "test_input_scaled = rbs.fit_transform(test_input)"
   ]
  },
  {
   "cell_type": "code",
   "execution_count": 97,
   "id": "09c7b47f",
   "metadata": {},
   "outputs": [
    {
     "data": {
      "text/plain": [
       "LinearRegression()"
      ]
     },
     "execution_count": 97,
     "metadata": {},
     "output_type": "execute_result"
    }
   ],
   "source": [
    "lr.fit(train_input_scaled,train_target)"
   ]
  },
  {
   "cell_type": "code",
   "execution_count": 98,
   "id": "ae80c712",
   "metadata": {},
   "outputs": [
    {
     "name": "stdout",
     "output_type": "stream",
     "text": [
      "0.7714352963904302\n",
      "0.7577368941246171\n"
     ]
    }
   ],
   "source": [
    "print(lr.score(train_input_scaled, train_target))\n",
    "print(lr.score(test_input_scaled, test_target))"
   ]
  },
  {
   "cell_type": "code",
   "execution_count": 99,
   "id": "d1df4a40",
   "metadata": {},
   "outputs": [
    {
     "data": {
      "text/plain": [
       "<function matplotlib.pyplot.show(close=None, block=None)>"
      ]
     },
     "execution_count": 99,
     "metadata": {},
     "output_type": "execute_result"
    },
    {
     "data": {
      "image/png": "[encoded data removed]",
      "text/plain": [
       "<Figure size 432x288 with 1 Axes>"
      ]
     },
     "metadata": {
      "needs_background": "light"
     },
     "output_type": "display_data"
    }
   ],
   "source": [
    "plt.scatter(train_input_scaled, train_target)\n",
    "plt.plot([0, 14], [0*lr.coef_+lr.intercept_,14*lr.coef_+lr.intercept_],\n",
    "color='red',linestyle='--')\n",
    "plt.xlabel('distance')\n",
    "plt.ylabel('fare_amount')\n",
    "plt.show"
   ]
  },
  {
   "cell_type": "markdown",
   "id": "f7c5ac36",
   "metadata": {},
   "source": [
    "# Normalizer 스케일링"
   ]
  },
  {
   "cell_type": "code",
   "execution_count": 100,
   "id": "f92622f8",
   "metadata": {},
   "outputs": [],
   "source": [
    "from sklearn.preprocessing import Normalizer"
   ]
  },
  {
   "cell_type": "code",
   "execution_count": 101,
   "id": "b3f6d21c",
   "metadata": {},
   "outputs": [],
   "source": [
    "norm = Normalizer()"
   ]
  },
  {
   "cell_type": "code",
   "execution_count": 102,
   "id": "53b71a1f",
   "metadata": {},
   "outputs": [],
   "source": [
    "train_input_scaled = norm.fit_transform(train_input)\n",
    "test_input_scaled = norm.transform(test_input)"
   ]
  },
  {
   "cell_type": "code",
   "execution_count": 68,
   "id": "f04d6a08",
   "metadata": {},
   "outputs": [
    {
     "data": {
      "text/plain": [
       "LinearRegression()"
      ]
     },
     "execution_count": 68,
     "metadata": {},
     "output_type": "execute_result"
    }
   ],
   "source": [
    "lr.fit(train_input_scaled,train_target)"
   ]
  },
  {
   "cell_type": "code",
   "execution_count": 69,
   "id": "a8fed840",
   "metadata": {},
   "outputs": [
    {
     "name": "stdout",
     "output_type": "stream",
     "text": [
      "0.00023122511763529197\n",
      "-0.0004659669689766055\n"
     ]
    }
   ],
   "source": [
    "print(lr.score(train_input_scaled, train_target))\n",
    "print(lr.score(test_input_scaled, test_target))"
   ]
  },
  {
   "cell_type": "code",
   "execution_count": 70,
   "id": "0e43702c",
   "metadata": {},
   "outputs": [
    {
     "data": {
      "text/plain": [
       "array([[1.],\n",
       "       [1.],\n",
       "       [1.],\n",
       "       ...,\n",
       "       [1.],\n",
       "       [1.],\n",
       "       [1.]])"
      ]
     },
     "execution_count": 70,
     "metadata": {},
     "output_type": "execute_result"
    }
   ],
   "source": [
    "train_input_scaled"
   ]
  },
  {
   "cell_type": "code",
   "execution_count": 72,
   "id": "e4691de9",
   "metadata": {},
   "outputs": [
    {
     "data": {
      "text/plain": [
       "<function matplotlib.pyplot.show(close=None, block=None)>"
      ]
     },
     "execution_count": 72,
     "metadata": {},
     "output_type": "execute_result"
    },
    {
     "data": {
      "image/png": "[encoded data removed]",
      "text/plain": [
       "<Figure size 432x288 with 1 Axes>"
      ]
     },
     "metadata": {
      "needs_background": "light"
     },
     "output_type": "display_data"
    }
   ],
   "source": [
    "plt.scatter(train_input_scaled, train_target)\n",
    "plt.plot([0, 1], [0*lr.coef_+lr.intercept_,1*lr.coef_+lr.intercept_],\n",
    "color='red',linestyle='--')\n",
    "plt.xlabel('distance')\n",
    "plt.ylabel('fare_amount')\n",
    "plt.show"
   ]
  },
  {
   "cell_type": "markdown",
   "id": "1202265e",
   "metadata": {},
   "source": [
    "# MinMaxScaler 스케일링"
   ]
  },
  {
   "cell_type": "code",
   "execution_count": 103,
   "id": "f031c9da",
   "metadata": {},
   "outputs": [],
   "source": [
    "from sklearn.preprocessing import MinMaxScaler\n"
   ]
  },
  {
   "cell_type": "code",
   "execution_count": 105,
   "id": "c188073d",
   "metadata": {},
   "outputs": [
    {
     "name": "stdout",
     "output_type": "stream",
     "text": [
      "모델의 정확도 : 0.7714\n",
      "모델의 정확도 : 0.7578\n"
     ]
    }
   ],
   "source": [
    "mms = MinMaxScaler()\n",
    "mms.fit(train_input)\n",
    "train_input_scaled = mms.transform(train_input)\n",
    "test_input_scaled = mms.transform(test_input)\n",
    "lr.fit(train_input_scaled, train_target)\n",
    "print('모델의 정확도 :', round(lr.score(train_input_scaled, train_target), 4))\n",
    "print('모델의 정확도 :', round(lr.score(test_input_scaled, test_target), 4))"
   ]
  },
  {
   "cell_type": "code",
   "execution_count": 106,
   "id": "1df8940a",
   "metadata": {},
   "outputs": [
    {
     "data": {
      "text/plain": [
       "array([86.03250465])"
      ]
     },
     "execution_count": 106,
     "metadata": {},
     "output_type": "execute_result"
    }
   ],
   "source": [
    "lr.coef_"
   ]
  },
  {
   "cell_type": "code",
   "execution_count": 109,
   "id": "ee68c528",
   "metadata": {},
   "outputs": [
    {
     "data": {
      "text/plain": [
       "<function matplotlib.pyplot.show(close=None, block=None)>"
      ]
     },
     "execution_count": 109,
     "metadata": {},
     "output_type": "execute_result"
    },
    {
     "data": {
      "image/png": "[encoded data removed]",
      "text/plain": [
       "<Figure size 432x288 with 1 Axes>"
      ]
     },
     "metadata": {
      "needs_background": "light"
     },
     "output_type": "display_data"
    }
   ],
   "source": [
    "plt.scatter(train_input_scaled, train_target)\n",
    "plt.plot([0, 1], [0*lr.coef_+lr.intercept_,1*lr.coef_+lr.intercept_],\n",
    "color='red',linestyle='--')\n",
    "plt.xlabel('distance')\n",
    "plt.ylabel('fare_amount')\n",
    "plt.show"
   ]
  },
  {
   "cell_type": "code",
   "execution_count": null,
   "id": "c7e37098",
   "metadata": {},
   "outputs": [],
   "source": []
  }
 ],
 "metadata": {
  "kernelspec": {
   "display_name": "Python 3 (ipykernel)",
   "language": "python",
   "name": "python3"
  },
  "language_info": {
   "codemirror_mode": {
    "name": "ipython",
    "version": 3
   },
   "file_extension": ".py",
   "mimetype": "text/x-python",
   "name": "python",
   "nbconvert_exporter": "python",
   "pygments_lexer": "ipython3",
   "version": "3.9.12"
  }
 },
 "nbformat": 4,
 "nbformat_minor": 5
}
