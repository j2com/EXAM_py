{
 "cells": [
  {
   "cell_type": "markdown",
   "id": "4474a900",
   "metadata": {},
   "source": [
    "# 모듈 로딩"
   ]
  },
  {
   "cell_type": "code",
   "execution_count": 43,
   "id": "41bf31d3",
   "metadata": {},
   "outputs": [],
   "source": [
    "import pandas as pd\n",
    "from sklearn.model_selection import train_test_split\n",
    "from sklearn.linear_model import LinearRegression"
   ]
  },
  {
   "cell_type": "markdown",
   "id": "5b3f10be",
   "metadata": {},
   "source": [
    "## [1] 데이터 준비"
   ]
  },
  {
   "cell_type": "code",
   "execution_count": 13,
   "id": "3e83196b",
   "metadata": {},
   "outputs": [],
   "source": [
    "# 시간 : 점수\n",
    "x = [2, 4, 6, 8, 10, 12]\n",
    "y = [40, 50, 60, 70, 80, 90]"
   ]
  },
  {
   "cell_type": "markdown",
   "id": "45d3208b",
   "metadata": {},
   "source": [
    "## [2] 데이터 분포 분석 => EDA => 시각화"
   ]
  },
  {
   "cell_type": "code",
   "execution_count": 15,
   "id": "e42bdab5",
   "metadata": {},
   "outputs": [],
   "source": [
    "import matplotlib.pyplot as plt"
   ]
  },
  {
   "cell_type": "code",
   "execution_count": 16,
   "id": "b0863a87",
   "metadata": {
    "scrolled": true
   },
   "outputs": [
    {
     "data": {
      "image/png": "[encoded data removed]",
      "text/plain": [
       "<Figure size 432x288 with 1 Axes>"
      ]
     },
     "metadata": {
      "needs_background": "light"
     },
     "output_type": "display_data"
    }
   ],
   "source": [
    "plt.scatter(x,y)\n",
    "plt.xlabel('Hour')\n",
    "plt.ylabel('Score')\n",
    "plt.show()"
   ]
  },
  {
   "cell_type": "markdown",
   "id": "7dea3644",
   "metadata": {},
   "source": [
    "    - 시간과 점수는 비례 관계\n",
    "    - 선형의 데이터 분포\n",
    "    - 독립변수 => hour\n",
    "    - 종속변수 => score"
   ]
  },
  {
   "cell_type": "markdown",
   "id": "71376dbf",
   "metadata": {},
   "source": [
    "# 학습에 사용되는 형태로 데이터 변환 (pandas or numpy)"
   ]
  },
  {
   "cell_type": "code",
   "execution_count": 19,
   "id": "aa76bd23",
   "metadata": {
    "scrolled": true
   },
   "outputs": [
    {
     "data": {
      "text/html": [
       "<div>\n",
       "<style scoped>\n",
       "    .dataframe tbody tr th:only-of-type {\n",
       "        vertical-align: middle;\n",
       "    }\n",
       "\n",
       "    .dataframe tbody tr th {\n",
       "        vertical-align: top;\n",
       "    }\n",
       "\n",
       "    .dataframe thead th {\n",
       "        text-align: right;\n",
       "    }\n",
       "</style>\n",
       "<table border=\"1\" class=\"dataframe\">\n",
       "  <thead>\n",
       "    <tr style=\"text-align: right;\">\n",
       "      <th></th>\n",
       "      <th>0</th>\n",
       "      <th>1</th>\n",
       "      <th>2</th>\n",
       "      <th>3</th>\n",
       "      <th>4</th>\n",
       "      <th>5</th>\n",
       "    </tr>\n",
       "  </thead>\n",
       "  <tbody>\n",
       "    <tr>\n",
       "      <th>0</th>\n",
       "      <td>2</td>\n",
       "      <td>4</td>\n",
       "      <td>6</td>\n",
       "      <td>8</td>\n",
       "      <td>10</td>\n",
       "      <td>12</td>\n",
       "    </tr>\n",
       "    <tr>\n",
       "      <th>1</th>\n",
       "      <td>40</td>\n",
       "      <td>50</td>\n",
       "      <td>60</td>\n",
       "      <td>70</td>\n",
       "      <td>80</td>\n",
       "      <td>90</td>\n",
       "    </tr>\n",
       "  </tbody>\n",
       "</table>\n",
       "</div>"
      ],
      "text/plain": [
       "    0   1   2   3   4   5\n",
       "0   2   4   6   8  10  12\n",
       "1  40  50  60  70  80  90"
      ]
     },
     "execution_count": 19,
     "metadata": {},
     "output_type": "execute_result"
    }
   ],
   "source": [
    "df1 = pd.DataFrame([x,y])\n",
    "df1"
   ]
  },
  {
   "cell_type": "code",
   "execution_count": 20,
   "id": "ecdf9bd7",
   "metadata": {},
   "outputs": [],
   "source": [
    "import numpy as np"
   ]
  },
  {
   "cell_type": "code",
   "execution_count": 30,
   "id": "56e07dd7",
   "metadata": {},
   "outputs": [],
   "source": [
    "arrx = np.array(x)\n",
    "arry = np.array(y)"
   ]
  },
  {
   "cell_type": "code",
   "execution_count": 31,
   "id": "286cea91",
   "metadata": {},
   "outputs": [
    {
     "name": "stdout",
     "output_type": "stream",
     "text": [
      "[ 2  4  6  8 10 12]\n"
     ]
    }
   ],
   "source": [
    "print(arrx)"
   ]
  },
  {
   "cell_type": "markdown",
   "id": "ab76032f",
   "metadata": {},
   "source": [
    "# 1차원 -> 2차원"
   ]
  },
  {
   "cell_type": "code",
   "execution_count": 32,
   "id": "d6b450bb",
   "metadata": {
    "scrolled": true
   },
   "outputs": [
    {
     "data": {
      "text/plain": [
       "array([[ 2],\n",
       "       [ 4],\n",
       "       [ 6],\n",
       "       [ 8],\n",
       "       [10],\n",
       "       [12]])"
      ]
     },
     "execution_count": 32,
     "metadata": {},
     "output_type": "execute_result"
    }
   ],
   "source": [
    "arrx = arrx.reshape(-1,1)\n",
    "arrx"
   ]
  },
  {
   "cell_type": "code",
   "execution_count": 33,
   "id": "d88bd5f9",
   "metadata": {},
   "outputs": [
    {
     "data": {
      "text/plain": [
       "array([[40],\n",
       "       [50],\n",
       "       [60],\n",
       "       [70],\n",
       "       [80],\n",
       "       [90]])"
      ]
     },
     "execution_count": 33,
     "metadata": {},
     "output_type": "execute_result"
    }
   ],
   "source": [
    "arry = arry.reshape(-1,1)\n",
    "arry"
   ]
  },
  {
   "cell_type": "markdown",
   "id": "b3738479",
   "metadata": {},
   "source": [
    "## [3] 학습 방법 선택 및 모델 생성"
   ]
  },
  {
   "cell_type": "markdown",
   "id": "3822ab83",
   "metadata": {},
   "source": [
    "    - 시간에 따른 점수 예측\n",
    "    - 데이터 + 라벨 => 지도학습\n",
    "    - 선형 데이터 분포 => 선형 모델 적용"
   ]
  },
  {
   "cell_type": "code",
   "execution_count": 17,
   "id": "2dceb9ef",
   "metadata": {},
   "outputs": [],
   "source": [
    "model = LinearRegression()"
   ]
  },
  {
   "cell_type": "markdown",
   "id": "1acaf75a",
   "metadata": {},
   "source": [
    "# 학습 ==> 트레이닝 데이터 사용"
   ]
  },
  {
   "cell_type": "code",
   "execution_count": 34,
   "id": "846e7a84",
   "metadata": {},
   "outputs": [
    {
     "data": {
      "text/plain": [
       "LinearRegression()"
      ]
     },
     "execution_count": 34,
     "metadata": {},
     "output_type": "execute_result"
    }
   ],
   "source": [
    "# fit메서드 => 2차원 형태 데이터\n",
    "model.fit(arrx, arry) "
   ]
  },
  {
   "cell_type": "markdown",
   "id": "7a60b94e",
   "metadata": {},
   "source": [
    "# 학습후 모델 파라미터 => w 가중치, b 절편"
   ]
  },
  {
   "cell_type": "code",
   "execution_count": 36,
   "id": "0949ee68",
   "metadata": {},
   "outputs": [
    {
     "name": "stdout",
     "output_type": "stream",
     "text": [
      "w: [[5.]] b: [30.]\n"
     ]
    }
   ],
   "source": [
    "print('w:', model.coef_, 'b:', model.intercept_)"
   ]
  },
  {
   "cell_type": "markdown",
   "id": "85ae6b19",
   "metadata": {},
   "source": [
    "## [4] 모델 평가"
   ]
  },
  {
   "cell_type": "markdown",
   "id": "ceef113f",
   "metadata": {},
   "source": [
    "        - 테스트(검증) 데이터로 평가 \n",
    "        - score()\n",
    "            * 분류 : 정답 --- 예측값 => 맞춘 정도\n",
    "                - 정확도(accuracy)\n",
    "            * 회귀 : 정답 --- 예측값 => 차이 오차(Error)\n",
    "                - 손실함수(Loss/Cost Function) : MSE, MAE, RMSE (0 ~ 1 낮을수록 좋음)\n",
    "                - **R2 계수 : 0 ~ 1 높을수록 좋음**"
   ]
  },
  {
   "cell_type": "markdown",
   "id": "254b6372",
   "metadata": {},
   "source": [
    "# 회귀 => 결정계수 R^2 반환"
   ]
  },
  {
   "cell_type": "code",
   "execution_count": 37,
   "id": "ec5131ed",
   "metadata": {},
   "outputs": [
    {
     "data": {
      "text/plain": [
       "1.0"
      ]
     },
     "execution_count": 37,
     "metadata": {},
     "output_type": "execute_result"
    }
   ],
   "source": [
    "model.score(arrx,arry)"
   ]
  },
  {
   "cell_type": "markdown",
   "id": "6a8ba34a",
   "metadata": {},
   "source": [
    "# 오차 확인"
   ]
  },
  {
   "cell_type": "code",
   "execution_count": 38,
   "id": "0ad274f5",
   "metadata": {},
   "outputs": [],
   "source": [
    "from sklearn.metrics import mean_absolute_error, mean_squared_error"
   ]
  },
  {
   "cell_type": "code",
   "execution_count": 39,
   "id": "a7467b9e",
   "metadata": {},
   "outputs": [],
   "source": [
    "# 예측값 추출 (오차 확인을 위해)\n",
    "prey = model.predict(arrx)"
   ]
  },
  {
   "cell_type": "code",
   "execution_count": 40,
   "id": "01912b08",
   "metadata": {},
   "outputs": [],
   "source": [
    "mae = mean_absolute_error(arry, prey)\n",
    "mse = mean_squared_error(arry, prey)"
   ]
  },
  {
   "cell_type": "code",
   "execution_count": 41,
   "id": "a56978a9",
   "metadata": {},
   "outputs": [
    {
     "name": "stdout",
     "output_type": "stream",
     "text": [
      "1.1842378929335002e-15 8.414516322357459e-30\n"
     ]
    }
   ],
   "source": [
    "print(mae, mse)"
   ]
  },
  {
   "cell_type": "markdown",
   "id": "d1430cf7",
   "metadata": {},
   "source": [
    "# 뉴욕시의 Taxi 데이터 활용한 예측 모델\n",
    "\n",
    "    - 데이터셋 : NYC_Taxi\n",
    "    - 조건 : 뉴욕시 내\n",
    "    - 거리에 따른 요금 예측 ==> 회귀\n",
    "        * 조건 : 뉴욕시 내\n",
    "    - 승차에 따른 하차지역 예측 ==> 분류(KNN or 로지스틱)"
   ]
  },
  {
   "cell_type": "code",
   "execution_count": 2,
   "id": "a93c1636",
   "metadata": {},
   "outputs": [],
   "source": [
    "df = pd.read_csv('../../Data/train.csv')"
   ]
  },
  {
   "cell_type": "code",
   "execution_count": 3,
   "id": "656ef4e7",
   "metadata": {},
   "outputs": [
    {
     "data": {
      "text/html": [
       "<div>\n",
       "<style scoped>\n",
       "    .dataframe tbody tr th:only-of-type {\n",
       "        vertical-align: middle;\n",
       "    }\n",
       "\n",
       "    .dataframe tbody tr th {\n",
       "        vertical-align: top;\n",
       "    }\n",
       "\n",
       "    .dataframe thead th {\n",
       "        text-align: right;\n",
       "    }\n",
       "</style>\n",
       "<table border=\"1\" class=\"dataframe\">\n",
       "  <thead>\n",
       "    <tr style=\"text-align: right;\">\n",
       "      <th></th>\n",
       "      <th>key</th>\n",
       "      <th>fare_amount</th>\n",
       "      <th>pickup_datetime</th>\n",
       "      <th>pickup_longitude</th>\n",
       "      <th>pickup_latitude</th>\n",
       "      <th>dropoff_longitude</th>\n",
       "      <th>dropoff_latitude</th>\n",
       "      <th>passenger_count</th>\n",
       "    </tr>\n",
       "  </thead>\n",
       "  <tbody>\n",
       "    <tr>\n",
       "      <th>0</th>\n",
       "      <td>2009-06-15 17:26:21.0000001</td>\n",
       "      <td>4.5</td>\n",
       "      <td>2009-06-15 17:26:21 UTC</td>\n",
       "      <td>-73.844311</td>\n",
       "      <td>40.721319</td>\n",
       "      <td>-73.841610</td>\n",
       "      <td>40.712278</td>\n",
       "      <td>1</td>\n",
       "    </tr>\n",
       "    <tr>\n",
       "      <th>1</th>\n",
       "      <td>2010-01-05 16:52:16.0000002</td>\n",
       "      <td>16.9</td>\n",
       "      <td>2010-01-05 16:52:16 UTC</td>\n",
       "      <td>-74.016048</td>\n",
       "      <td>40.711303</td>\n",
       "      <td>-73.979268</td>\n",
       "      <td>40.782004</td>\n",
       "      <td>1</td>\n",
       "    </tr>\n",
       "    <tr>\n",
       "      <th>2</th>\n",
       "      <td>2011-08-18 00:35:00.00000049</td>\n",
       "      <td>5.7</td>\n",
       "      <td>2011-08-18 00:35:00 UTC</td>\n",
       "      <td>-73.982738</td>\n",
       "      <td>40.761270</td>\n",
       "      <td>-73.991242</td>\n",
       "      <td>40.750562</td>\n",
       "      <td>2</td>\n",
       "    </tr>\n",
       "    <tr>\n",
       "      <th>3</th>\n",
       "      <td>2012-04-21 04:30:42.0000001</td>\n",
       "      <td>7.7</td>\n",
       "      <td>2012-04-21 04:30:42 UTC</td>\n",
       "      <td>-73.987130</td>\n",
       "      <td>40.733143</td>\n",
       "      <td>-73.991567</td>\n",
       "      <td>40.758092</td>\n",
       "      <td>1</td>\n",
       "    </tr>\n",
       "    <tr>\n",
       "      <th>4</th>\n",
       "      <td>2010-03-09 07:51:00.000000135</td>\n",
       "      <td>5.3</td>\n",
       "      <td>2010-03-09 07:51:00 UTC</td>\n",
       "      <td>-73.968095</td>\n",
       "      <td>40.768008</td>\n",
       "      <td>-73.956655</td>\n",
       "      <td>40.783762</td>\n",
       "      <td>1</td>\n",
       "    </tr>\n",
       "  </tbody>\n",
       "</table>\n",
       "</div>"
      ],
      "text/plain": [
       "                             key  fare_amount          pickup_datetime  \\\n",
       "0    2009-06-15 17:26:21.0000001          4.5  2009-06-15 17:26:21 UTC   \n",
       "1    2010-01-05 16:52:16.0000002         16.9  2010-01-05 16:52:16 UTC   \n",
       "2   2011-08-18 00:35:00.00000049          5.7  2011-08-18 00:35:00 UTC   \n",
       "3    2012-04-21 04:30:42.0000001          7.7  2012-04-21 04:30:42 UTC   \n",
       "4  2010-03-09 07:51:00.000000135          5.3  2010-03-09 07:51:00 UTC   \n",
       "\n",
       "   pickup_longitude  pickup_latitude  dropoff_longitude  dropoff_latitude  \\\n",
       "0        -73.844311        40.721319         -73.841610         40.712278   \n",
       "1        -74.016048        40.711303         -73.979268         40.782004   \n",
       "2        -73.982738        40.761270         -73.991242         40.750562   \n",
       "3        -73.987130        40.733143         -73.991567         40.758092   \n",
       "4        -73.968095        40.768008         -73.956655         40.783762   \n",
       "\n",
       "   passenger_count  \n",
       "0                1  \n",
       "1                1  \n",
       "2                2  \n",
       "3                1  \n",
       "4                1  "
      ]
     },
     "execution_count": 3,
     "metadata": {},
     "output_type": "execute_result"
    }
   ],
   "source": [
    "df.head(5)"
   ]
  },
  {
   "cell_type": "code",
   "execution_count": 5,
   "id": "04d651fb",
   "metadata": {},
   "outputs": [
    {
     "data": {
      "text/plain": [
       "(55423856, 8)"
      ]
     },
     "execution_count": 5,
     "metadata": {},
     "output_type": "execute_result"
    }
   ],
   "source": [
    "df.shape"
   ]
  },
  {
   "cell_type": "code",
   "execution_count": 9,
   "id": "57e70448",
   "metadata": {},
   "outputs": [
    {
     "data": {
      "text/plain": [
       "key                    0\n",
       "fare_amount            0\n",
       "pickup_datetime        0\n",
       "pickup_longitude       0\n",
       "pickup_latitude        0\n",
       "dropoff_longitude    376\n",
       "dropoff_latitude     376\n",
       "passenger_count        0\n",
       "dtype: int64"
      ]
     },
     "execution_count": 9,
     "metadata": {},
     "output_type": "execute_result"
    }
   ],
   "source": [
    "df.isnull().sum()"
   ]
  },
  {
   "cell_type": "code",
   "execution_count": 47,
   "id": "7303123b",
   "metadata": {
    "scrolled": true
   },
   "outputs": [
    {
     "data": {
      "text/plain": [
       "key                    0\n",
       "fare_amount            0\n",
       "pickup_datetime        0\n",
       "pickup_longitude       0\n",
       "pickup_latitude        0\n",
       "dropoff_longitude    376\n",
       "dropoff_latitude     376\n",
       "passenger_count        0\n",
       "dtype: int64"
      ]
     },
     "execution_count": 47,
     "metadata": {},
     "output_type": "execute_result"
    }
   ],
   "source": [
    "df.isna().sum()"
   ]
  },
  {
   "cell_type": "code",
   "execution_count": 45,
   "id": "f3ae4e45",
   "metadata": {},
   "outputs": [
    {
     "data": {
      "text/plain": [
       "key                   object\n",
       "fare_amount          float64\n",
       "pickup_datetime       object\n",
       "pickup_longitude     float64\n",
       "pickup_latitude      float64\n",
       "dropoff_longitude    float64\n",
       "dropoff_latitude     float64\n",
       "passenger_count        int64\n",
       "dtype: object"
      ]
     },
     "execution_count": 45,
     "metadata": {},
     "output_type": "execute_result"
    }
   ],
   "source": [
    "df.dtypes"
   ]
  },
  {
   "cell_type": "code",
   "execution_count": 48,
   "id": "17d2d4ee",
   "metadata": {},
   "outputs": [],
   "source": [
    "df2 = df.iloc[:,1:]"
   ]
  },
  {
   "cell_type": "code",
   "execution_count": 51,
   "id": "bc593ffb",
   "metadata": {},
   "outputs": [
    {
     "data": {
      "text/plain": [
       "fare_amount          0\n",
       "pickup_datetime      0\n",
       "pickup_longitude     0\n",
       "pickup_latitude      0\n",
       "dropoff_longitude    0\n",
       "dropoff_latitude     0\n",
       "passenger_count      0\n",
       "dtype: int64"
      ]
     },
     "execution_count": 51,
     "metadata": {},
     "output_type": "execute_result"
    }
   ],
   "source": [
    "df2.isna().sum()"
   ]
  },
  {
   "cell_type": "code",
   "execution_count": 50,
   "id": "f9af625b",
   "metadata": {},
   "outputs": [],
   "source": [
    "df2.dropna(inplace=True)"
   ]
  },
  {
   "cell_type": "code",
   "execution_count": 55,
   "id": "48ed2dbd",
   "metadata": {},
   "outputs": [],
   "source": [
    "df3 = df2.iloc[:5000,:]"
   ]
  },
  {
   "cell_type": "code",
   "execution_count": 60,
   "id": "0ea262dc",
   "metadata": {},
   "outputs": [
    {
     "data": {
      "text/plain": [
       "0      2009-06-15 17:26:21+00:00\n",
       "1      2010-01-05 16:52:16+00:00\n",
       "2      2011-08-18 00:35:00+00:00\n",
       "3      2012-04-21 04:30:42+00:00\n",
       "4      2010-03-09 07:51:00+00:00\n",
       "                  ...           \n",
       "4995   2010-09-04 12:45:32+00:00\n",
       "4996   2011-06-13 10:53:52+00:00\n",
       "4997   2013-12-12 21:26:40+00:00\n",
       "4998   2010-03-08 14:01:00+00:00\n",
       "4999   2011-02-28 18:37:41+00:00\n",
       "Name: pickup_datetime, Length: 5000, dtype: datetime64[ns, UTC]"
      ]
     },
     "execution_count": 60,
     "metadata": {},
     "output_type": "execute_result"
    }
   ],
   "source": [
    "pd.to_datetime(df3['pickup_datetime'])"
   ]
  },
  {
   "cell_type": "code",
   "execution_count": 62,
   "id": "eef4d5dd",
   "metadata": {},
   "outputs": [
    {
     "name": "stdout",
     "output_type": "stream",
     "text": [
      "<class 'pandas.core.frame.DataFrame'>\n",
      "Int64Index: 5000 entries, 0 to 4999\n",
      "Data columns (total 7 columns):\n",
      " #   Column             Non-Null Count  Dtype  \n",
      "---  ------             --------------  -----  \n",
      " 0   fare_amount        5000 non-null   float64\n",
      " 1   pickup_datetime    5000 non-null   object \n",
      " 2   pickup_longitude   5000 non-null   float64\n",
      " 3   pickup_latitude    5000 non-null   float64\n",
      " 4   dropoff_longitude  5000 non-null   float64\n",
      " 5   dropoff_latitude   5000 non-null   float64\n",
      " 6   passenger_count    5000 non-null   int64  \n",
      "dtypes: float64(5), int64(1), object(1)\n",
      "memory usage: 312.5+ KB\n"
     ]
    }
   ],
   "source": [
    "df3.info()"
   ]
  },
  {
   "cell_type": "code",
   "execution_count": 63,
   "id": "1382614e",
   "metadata": {},
   "outputs": [
    {
     "data": {
      "text/html": [
       "<div>\n",
       "<style scoped>\n",
       "    .dataframe tbody tr th:only-of-type {\n",
       "        vertical-align: middle;\n",
       "    }\n",
       "\n",
       "    .dataframe tbody tr th {\n",
       "        vertical-align: top;\n",
       "    }\n",
       "\n",
       "    .dataframe thead th {\n",
       "        text-align: right;\n",
       "    }\n",
       "</style>\n",
       "<table border=\"1\" class=\"dataframe\">\n",
       "  <thead>\n",
       "    <tr style=\"text-align: right;\">\n",
       "      <th></th>\n",
       "      <th>fare_amount</th>\n",
       "      <th>pickup_longitude</th>\n",
       "      <th>pickup_latitude</th>\n",
       "      <th>dropoff_longitude</th>\n",
       "      <th>dropoff_latitude</th>\n",
       "      <th>passenger_count</th>\n",
       "    </tr>\n",
       "  </thead>\n",
       "  <tbody>\n",
       "    <tr>\n",
       "      <th>count</th>\n",
       "      <td>5000.000000</td>\n",
       "      <td>5000.000000</td>\n",
       "      <td>5000.000000</td>\n",
       "      <td>5000.000000</td>\n",
       "      <td>5000.000000</td>\n",
       "      <td>5000.000000</td>\n",
       "    </tr>\n",
       "    <tr>\n",
       "      <th>mean</th>\n",
       "      <td>11.296238</td>\n",
       "      <td>-72.426826</td>\n",
       "      <td>39.867237</td>\n",
       "      <td>-72.426130</td>\n",
       "      <td>39.875767</td>\n",
       "      <td>1.631000</td>\n",
       "    </tr>\n",
       "    <tr>\n",
       "      <th>std</th>\n",
       "      <td>9.710106</td>\n",
       "      <td>10.722381</td>\n",
       "      <td>6.351342</td>\n",
       "      <td>10.722293</td>\n",
       "      <td>6.326084</td>\n",
       "      <td>1.257122</td>\n",
       "    </tr>\n",
       "    <tr>\n",
       "      <th>min</th>\n",
       "      <td>-2.900000</td>\n",
       "      <td>-74.438233</td>\n",
       "      <td>-73.991840</td>\n",
       "      <td>-74.429332</td>\n",
       "      <td>-73.979010</td>\n",
       "      <td>0.000000</td>\n",
       "    </tr>\n",
       "    <tr>\n",
       "      <th>25%</th>\n",
       "      <td>6.000000</td>\n",
       "      <td>-73.992449</td>\n",
       "      <td>40.734045</td>\n",
       "      <td>-73.991349</td>\n",
       "      <td>40.734379</td>\n",
       "      <td>1.000000</td>\n",
       "    </tr>\n",
       "    <tr>\n",
       "      <th>50%</th>\n",
       "      <td>8.500000</td>\n",
       "      <td>-73.982069</td>\n",
       "      <td>40.752128</td>\n",
       "      <td>-73.980196</td>\n",
       "      <td>40.753512</td>\n",
       "      <td>1.000000</td>\n",
       "    </tr>\n",
       "    <tr>\n",
       "      <th>75%</th>\n",
       "      <td>12.500000</td>\n",
       "      <td>-73.967040</td>\n",
       "      <td>40.766890</td>\n",
       "      <td>-73.963589</td>\n",
       "      <td>40.767636</td>\n",
       "      <td>2.000000</td>\n",
       "    </tr>\n",
       "    <tr>\n",
       "      <th>max</th>\n",
       "      <td>180.000000</td>\n",
       "      <td>40.751582</td>\n",
       "      <td>41.366138</td>\n",
       "      <td>40.758867</td>\n",
       "      <td>41.032598</td>\n",
       "      <td>6.000000</td>\n",
       "    </tr>\n",
       "  </tbody>\n",
       "</table>\n",
       "</div>"
      ],
      "text/plain": [
       "       fare_amount  pickup_longitude  pickup_latitude  dropoff_longitude  \\\n",
       "count  5000.000000       5000.000000      5000.000000        5000.000000   \n",
       "mean     11.296238        -72.426826        39.867237         -72.426130   \n",
       "std       9.710106         10.722381         6.351342          10.722293   \n",
       "min      -2.900000        -74.438233       -73.991840         -74.429332   \n",
       "25%       6.000000        -73.992449        40.734045         -73.991349   \n",
       "50%       8.500000        -73.982069        40.752128         -73.980196   \n",
       "75%      12.500000        -73.967040        40.766890         -73.963589   \n",
       "max     180.000000         40.751582        41.366138          40.758867   \n",
       "\n",
       "       dropoff_latitude  passenger_count  \n",
       "count       5000.000000      5000.000000  \n",
       "mean          39.875767         1.631000  \n",
       "std            6.326084         1.257122  \n",
       "min          -73.979010         0.000000  \n",
       "25%           40.734379         1.000000  \n",
       "50%           40.753512         1.000000  \n",
       "75%           40.767636         2.000000  \n",
       "max           41.032598         6.000000  "
      ]
     },
     "execution_count": 63,
     "metadata": {},
     "output_type": "execute_result"
    }
   ],
   "source": [
    "df3.describe()"
   ]
  },
  {
   "cell_type": "markdown",
   "id": "6318c438",
   "metadata": {},
   "source": [
    "### 특성 새롭게 생성 = 거리 Feature\n",
    "    \n",
    "    - 공식 : (x2-x1)^2 + (y2-y1)^2"
   ]
  },
  {
   "cell_type": "code",
   "execution_count": 68,
   "id": "c44d6fb4",
   "metadata": {},
   "outputs": [
    {
     "name": "stderr",
     "output_type": "stream",
     "text": [
      "C:\\Users\\ss\\AppData\\Local\\Temp\\ipykernel_8584\\2015974537.py:1: SettingWithCopyWarning: \n",
      "A value is trying to be set on a copy of a slice from a DataFrame.\n",
      "Try using .loc[row_indexer,col_indexer] = value instead\n",
      "\n",
      "See the caveats in the documentation: https://pandas.pydata.org/pandas-docs/stable/user_guide/indexing.html#returning-a-view-versus-a-copy\n",
      "  df3['distance'] = ((df3['dropoff_longitude'] - df3['pickup_longitude'])**2 + (df3['dropoff_latitude'] - df3['pickup_latitude'])**2)**0.5\n"
     ]
    }
   ],
   "source": [
    "df3['distance'] = ((df3['dropoff_longitude'] - df3['pickup_longitude'])**2 + (df3['dropoff_latitude'] - df3['pickup_latitude'])**2)**0.5"
   ]
  },
  {
   "cell_type": "code",
   "execution_count": 69,
   "id": "c0aeadd4",
   "metadata": {},
   "outputs": [
    {
     "data": {
      "text/plain": [
       "0       0.009436\n",
       "1       0.079696\n",
       "2       0.013674\n",
       "3       0.025340\n",
       "4       0.019470\n",
       "          ...   \n",
       "4995    0.011751\n",
       "4996    0.007354\n",
       "4997    0.012145\n",
       "4998    0.021301\n",
       "4999    0.037937\n",
       "Name: distance, Length: 5000, dtype: float64"
      ]
     },
     "execution_count": 69,
     "metadata": {},
     "output_type": "execute_result"
    }
   ],
   "source": [
    "df3['distance']"
   ]
  },
  {
   "cell_type": "code",
   "execution_count": 70,
   "id": "42a8bde4",
   "metadata": {},
   "outputs": [
    {
     "data": {
      "text/html": [
       "<div>\n",
       "<style scoped>\n",
       "    .dataframe tbody tr th:only-of-type {\n",
       "        vertical-align: middle;\n",
       "    }\n",
       "\n",
       "    .dataframe tbody tr th {\n",
       "        vertical-align: top;\n",
       "    }\n",
       "\n",
       "    .dataframe thead th {\n",
       "        text-align: right;\n",
       "    }\n",
       "</style>\n",
       "<table border=\"1\" class=\"dataframe\">\n",
       "  <thead>\n",
       "    <tr style=\"text-align: right;\">\n",
       "      <th></th>\n",
       "      <th>fare_amount</th>\n",
       "      <th>pickup_datetime</th>\n",
       "      <th>pickup_longitude</th>\n",
       "      <th>pickup_latitude</th>\n",
       "      <th>dropoff_longitude</th>\n",
       "      <th>dropoff_latitude</th>\n",
       "      <th>passenger_count</th>\n",
       "      <th>distance</th>\n",
       "    </tr>\n",
       "  </thead>\n",
       "  <tbody>\n",
       "    <tr>\n",
       "      <th>0</th>\n",
       "      <td>4.5</td>\n",
       "      <td>2009-06-15 17:26:21 UTC</td>\n",
       "      <td>-73.844311</td>\n",
       "      <td>40.721319</td>\n",
       "      <td>-73.841610</td>\n",
       "      <td>40.712278</td>\n",
       "      <td>1</td>\n",
       "      <td>0.009436</td>\n",
       "    </tr>\n",
       "    <tr>\n",
       "      <th>1</th>\n",
       "      <td>16.9</td>\n",
       "      <td>2010-01-05 16:52:16 UTC</td>\n",
       "      <td>-74.016048</td>\n",
       "      <td>40.711303</td>\n",
       "      <td>-73.979268</td>\n",
       "      <td>40.782004</td>\n",
       "      <td>1</td>\n",
       "      <td>0.079696</td>\n",
       "    </tr>\n",
       "    <tr>\n",
       "      <th>2</th>\n",
       "      <td>5.7</td>\n",
       "      <td>2011-08-18 00:35:00 UTC</td>\n",
       "      <td>-73.982738</td>\n",
       "      <td>40.761270</td>\n",
       "      <td>-73.991242</td>\n",
       "      <td>40.750562</td>\n",
       "      <td>2</td>\n",
       "      <td>0.013674</td>\n",
       "    </tr>\n",
       "    <tr>\n",
       "      <th>3</th>\n",
       "      <td>7.7</td>\n",
       "      <td>2012-04-21 04:30:42 UTC</td>\n",
       "      <td>-73.987130</td>\n",
       "      <td>40.733143</td>\n",
       "      <td>-73.991567</td>\n",
       "      <td>40.758092</td>\n",
       "      <td>1</td>\n",
       "      <td>0.025340</td>\n",
       "    </tr>\n",
       "    <tr>\n",
       "      <th>4</th>\n",
       "      <td>5.3</td>\n",
       "      <td>2010-03-09 07:51:00 UTC</td>\n",
       "      <td>-73.968095</td>\n",
       "      <td>40.768008</td>\n",
       "      <td>-73.956655</td>\n",
       "      <td>40.783762</td>\n",
       "      <td>1</td>\n",
       "      <td>0.019470</td>\n",
       "    </tr>\n",
       "  </tbody>\n",
       "</table>\n",
       "</div>"
      ],
      "text/plain": [
       "   fare_amount          pickup_datetime  pickup_longitude  pickup_latitude  \\\n",
       "0          4.5  2009-06-15 17:26:21 UTC        -73.844311        40.721319   \n",
       "1         16.9  2010-01-05 16:52:16 UTC        -74.016048        40.711303   \n",
       "2          5.7  2011-08-18 00:35:00 UTC        -73.982738        40.761270   \n",
       "3          7.7  2012-04-21 04:30:42 UTC        -73.987130        40.733143   \n",
       "4          5.3  2010-03-09 07:51:00 UTC        -73.968095        40.768008   \n",
       "\n",
       "   dropoff_longitude  dropoff_latitude  passenger_count  distance  \n",
       "0         -73.841610         40.712278                1  0.009436  \n",
       "1         -73.979268         40.782004                1  0.079696  \n",
       "2         -73.991242         40.750562                2  0.013674  \n",
       "3         -73.991567         40.758092                1  0.025340  \n",
       "4         -73.956655         40.783762                1  0.019470  "
      ]
     },
     "execution_count": 70,
     "metadata": {},
     "output_type": "execute_result"
    }
   ],
   "source": [
    "df3.head(5)"
   ]
  },
  {
   "cell_type": "code",
   "execution_count": null,
   "id": "347dd555",
   "metadata": {},
   "outputs": [],
   "source": []
  }
 ],
 "metadata": {
  "kernelspec": {
   "display_name": "Python 3 (ipykernel)",
   "language": "python",
   "name": "python3"
  },
  "language_info": {
   "codemirror_mode": {
    "name": "ipython",
    "version": 3
   },
   "file_extension": ".py",
   "mimetype": "text/x-python",
   "name": "python",
   "nbconvert_exporter": "python",
   "pygments_lexer": "ipython3",
   "version": "3.9.12"
  }
 },
 "nbformat": 4,
 "nbformat_minor": 5
}
