{
 "cells": [
  {
   "cell_type": "code",
   "execution_count": 323,
   "id": "12fcf173",
   "metadata": {},
   "outputs": [],
   "source": [
    "import pandas as pd\n",
    "import numpy as np"
   ]
  },
  {
   "cell_type": "markdown",
   "id": "e5219e7c",
   "metadata": {},
   "source": [
    "## 파일 불러오기"
   ]
  },
  {
   "cell_type": "code",
   "execution_count": 324,
   "id": "d180eed6",
   "metadata": {},
   "outputs": [],
   "source": [
    "df = pd.read_csv('C:/Users/ss/Downloads/auto-mpg.data', header=None, sep = '\\s+',names= ['mpg','cylinders','displacement','horsepower','weight','acceleration','model year','origin','car name'])"
   ]
  },
  {
   "cell_type": "code",
   "execution_count": 325,
   "id": "5d02a48b",
   "metadata": {
    "scrolled": true
   },
   "outputs": [
    {
     "data": {
      "text/html": [
       "<div>\n",
       "<style scoped>\n",
       "    .dataframe tbody tr th:only-of-type {\n",
       "        vertical-align: middle;\n",
       "    }\n",
       "\n",
       "    .dataframe tbody tr th {\n",
       "        vertical-align: top;\n",
       "    }\n",
       "\n",
       "    .dataframe thead th {\n",
       "        text-align: right;\n",
       "    }\n",
       "</style>\n",
       "<table border=\"1\" class=\"dataframe\">\n",
       "  <thead>\n",
       "    <tr style=\"text-align: right;\">\n",
       "      <th></th>\n",
       "      <th>mpg</th>\n",
       "      <th>cylinders</th>\n",
       "      <th>displacement</th>\n",
       "      <th>horsepower</th>\n",
       "      <th>weight</th>\n",
       "      <th>acceleration</th>\n",
       "      <th>model year</th>\n",
       "      <th>origin</th>\n",
       "      <th>car name</th>\n",
       "    </tr>\n",
       "  </thead>\n",
       "  <tbody>\n",
       "    <tr>\n",
       "      <th>0</th>\n",
       "      <td>18.0</td>\n",
       "      <td>8</td>\n",
       "      <td>307.0</td>\n",
       "      <td>130.0</td>\n",
       "      <td>3504.0</td>\n",
       "      <td>12.0</td>\n",
       "      <td>70</td>\n",
       "      <td>1</td>\n",
       "      <td>chevrolet chevelle malibu</td>\n",
       "    </tr>\n",
       "    <tr>\n",
       "      <th>1</th>\n",
       "      <td>15.0</td>\n",
       "      <td>8</td>\n",
       "      <td>350.0</td>\n",
       "      <td>165.0</td>\n",
       "      <td>3693.0</td>\n",
       "      <td>11.5</td>\n",
       "      <td>70</td>\n",
       "      <td>1</td>\n",
       "      <td>buick skylark 320</td>\n",
       "    </tr>\n",
       "    <tr>\n",
       "      <th>2</th>\n",
       "      <td>18.0</td>\n",
       "      <td>8</td>\n",
       "      <td>318.0</td>\n",
       "      <td>150.0</td>\n",
       "      <td>3436.0</td>\n",
       "      <td>11.0</td>\n",
       "      <td>70</td>\n",
       "      <td>1</td>\n",
       "      <td>plymouth satellite</td>\n",
       "    </tr>\n",
       "    <tr>\n",
       "      <th>3</th>\n",
       "      <td>16.0</td>\n",
       "      <td>8</td>\n",
       "      <td>304.0</td>\n",
       "      <td>150.0</td>\n",
       "      <td>3433.0</td>\n",
       "      <td>12.0</td>\n",
       "      <td>70</td>\n",
       "      <td>1</td>\n",
       "      <td>amc rebel sst</td>\n",
       "    </tr>\n",
       "    <tr>\n",
       "      <th>4</th>\n",
       "      <td>17.0</td>\n",
       "      <td>8</td>\n",
       "      <td>302.0</td>\n",
       "      <td>140.0</td>\n",
       "      <td>3449.0</td>\n",
       "      <td>10.5</td>\n",
       "      <td>70</td>\n",
       "      <td>1</td>\n",
       "      <td>ford torino</td>\n",
       "    </tr>\n",
       "  </tbody>\n",
       "</table>\n",
       "</div>"
      ],
      "text/plain": [
       "    mpg  cylinders  displacement horsepower  weight  acceleration  model year  \\\n",
       "0  18.0          8         307.0      130.0  3504.0          12.0          70   \n",
       "1  15.0          8         350.0      165.0  3693.0          11.5          70   \n",
       "2  18.0          8         318.0      150.0  3436.0          11.0          70   \n",
       "3  16.0          8         304.0      150.0  3433.0          12.0          70   \n",
       "4  17.0          8         302.0      140.0  3449.0          10.5          70   \n",
       "\n",
       "   origin                   car name  \n",
       "0       1  chevrolet chevelle malibu  \n",
       "1       1          buick skylark 320  \n",
       "2       1         plymouth satellite  \n",
       "3       1              amc rebel sst  \n",
       "4       1                ford torino  "
      ]
     },
     "execution_count": 325,
     "metadata": {},
     "output_type": "execute_result"
    }
   ],
   "source": [
    "df.head()"
   ]
  },
  {
   "cell_type": "markdown",
   "id": "c1688792",
   "metadata": {},
   "source": [
    "## 데이터 전처리"
   ]
  },
  {
   "cell_type": "code",
   "execution_count": 326,
   "id": "402af099",
   "metadata": {},
   "outputs": [],
   "source": [
    "df.mpg = df.mpg*0.425"
   ]
  },
  {
   "cell_type": "code",
   "execution_count": 327,
   "id": "656f0475",
   "metadata": {},
   "outputs": [
    {
     "name": "stdout",
     "output_type": "stream",
     "text": [
      "<class 'pandas.core.frame.DataFrame'>\n",
      "RangeIndex: 398 entries, 0 to 397\n",
      "Data columns (total 9 columns):\n",
      " #   Column        Non-Null Count  Dtype  \n",
      "---  ------        --------------  -----  \n",
      " 0   mpg           398 non-null    float64\n",
      " 1   cylinders     398 non-null    int64  \n",
      " 2   displacement  398 non-null    float64\n",
      " 3   horsepower    398 non-null    object \n",
      " 4   weight        398 non-null    float64\n",
      " 5   acceleration  398 non-null    float64\n",
      " 6   model year    398 non-null    int64  \n",
      " 7   origin        398 non-null    int64  \n",
      " 8   car name      398 non-null    object \n",
      "dtypes: float64(4), int64(3), object(2)\n",
      "memory usage: 28.1+ KB\n"
     ]
    }
   ],
   "source": [
    "df.info()"
   ]
  },
  {
   "cell_type": "code",
   "execution_count": 328,
   "id": "6fcd6162",
   "metadata": {},
   "outputs": [
    {
     "data": {
      "text/plain": [
       "mpg             0\n",
       "cylinders       0\n",
       "displacement    0\n",
       "horsepower      0\n",
       "weight          0\n",
       "acceleration    0\n",
       "model year      0\n",
       "origin          0\n",
       "car name        0\n",
       "dtype: int64"
      ]
     },
     "execution_count": 328,
     "metadata": {},
     "output_type": "execute_result"
    }
   ],
   "source": [
    "df.isna().sum()"
   ]
  },
  {
   "cell_type": "code",
   "execution_count": 329,
   "id": "0b7cb221",
   "metadata": {},
   "outputs": [
    {
     "data": {
      "text/plain": [
       "mpg             0\n",
       "cylinders       0\n",
       "displacement    0\n",
       "horsepower      0\n",
       "weight          0\n",
       "acceleration    0\n",
       "model year      0\n",
       "origin          0\n",
       "car name        0\n",
       "dtype: int64"
      ]
     },
     "execution_count": 329,
     "metadata": {},
     "output_type": "execute_result"
    }
   ],
   "source": [
    "df.isnull().sum()"
   ]
  },
  {
   "cell_type": "code",
   "execution_count": 330,
   "id": "2187c79a",
   "metadata": {},
   "outputs": [
    {
     "data": {
      "text/plain": [
       "array(['130.0', '165.0', '150.0', '140.0', '198.0', '220.0', '215.0',\n",
       "       '225.0', '190.0', '170.0', '160.0', '95.00', '97.00', '85.00',\n",
       "       '88.00', '46.00', '87.00', '90.00', '113.0', '200.0', '210.0',\n",
       "       '193.0', '?', '100.0', '105.0', '175.0', '153.0', '180.0', '110.0',\n",
       "       '72.00', '86.00', '70.00', '76.00', '65.00', '69.00', '60.00',\n",
       "       '80.00', '54.00', '208.0', '155.0', '112.0', '92.00', '145.0',\n",
       "       '137.0', '158.0', '167.0', '94.00', '107.0', '230.0', '49.00',\n",
       "       '75.00', '91.00', '122.0', '67.00', '83.00', '78.00', '52.00',\n",
       "       '61.00', '93.00', '148.0', '129.0', '96.00', '71.00', '98.00',\n",
       "       '115.0', '53.00', '81.00', '79.00', '120.0', '152.0', '102.0',\n",
       "       '108.0', '68.00', '58.00', '149.0', '89.00', '63.00', '48.00',\n",
       "       '66.00', '139.0', '103.0', '125.0', '133.0', '138.0', '135.0',\n",
       "       '142.0', '77.00', '62.00', '132.0', '84.00', '64.00', '74.00',\n",
       "       '116.0', '82.00'], dtype=object)"
      ]
     },
     "execution_count": 330,
     "metadata": {},
     "output_type": "execute_result"
    }
   ],
   "source": [
    "df.horsepower.unique()"
   ]
  },
  {
   "cell_type": "code",
   "execution_count": 331,
   "id": "12f4a0b9",
   "metadata": {},
   "outputs": [
    {
     "data": {
      "text/plain": [
       "count    392.000000\n",
       "mean     104.469388\n",
       "std       38.491160\n",
       "min       46.000000\n",
       "25%       75.000000\n",
       "50%       93.500000\n",
       "75%      126.000000\n",
       "max      230.000000\n",
       "Name: horsepower, dtype: float64"
      ]
     },
     "execution_count": 331,
     "metadata": {},
     "output_type": "execute_result"
    }
   ],
   "source": [
    "df[df['horsepower']!='?'].horsepower.astype('float64').describe()"
   ]
  },
  {
   "cell_type": "code",
   "execution_count": 332,
   "id": "b74eea68",
   "metadata": {},
   "outputs": [],
   "source": [
    "df.horsepower = df.horsepower.replace('?',104.46)"
   ]
  },
  {
   "cell_type": "code",
   "execution_count": 333,
   "id": "9d311b98",
   "metadata": {},
   "outputs": [
    {
     "data": {
      "text/plain": [
       "array(['130.0', '165.0', '150.0', '140.0', '198.0', '220.0', '215.0',\n",
       "       '225.0', '190.0', '170.0', '160.0', '95.00', '97.00', '85.00',\n",
       "       '88.00', '46.00', '87.00', '90.00', '113.0', '200.0', '210.0',\n",
       "       '193.0', 104.46, '100.0', '105.0', '175.0', '153.0', '180.0',\n",
       "       '110.0', '72.00', '86.00', '70.00', '76.00', '65.00', '69.00',\n",
       "       '60.00', '80.00', '54.00', '208.0', '155.0', '112.0', '92.00',\n",
       "       '145.0', '137.0', '158.0', '167.0', '94.00', '107.0', '230.0',\n",
       "       '49.00', '75.00', '91.00', '122.0', '67.00', '83.00', '78.00',\n",
       "       '52.00', '61.00', '93.00', '148.0', '129.0', '96.00', '71.00',\n",
       "       '98.00', '115.0', '53.00', '81.00', '79.00', '120.0', '152.0',\n",
       "       '102.0', '108.0', '68.00', '58.00', '149.0', '89.00', '63.00',\n",
       "       '48.00', '66.00', '139.0', '103.0', '125.0', '133.0', '138.0',\n",
       "       '135.0', '142.0', '77.00', '62.00', '132.0', '84.00', '64.00',\n",
       "       '74.00', '116.0', '82.00'], dtype=object)"
      ]
     },
     "execution_count": 333,
     "metadata": {},
     "output_type": "execute_result"
    }
   ],
   "source": [
    "df.horsepower.unique()"
   ]
  },
  {
   "cell_type": "code",
   "execution_count": 334,
   "id": "129a97f3",
   "metadata": {},
   "outputs": [
    {
     "name": "stdout",
     "output_type": "stream",
     "text": [
      "<class 'pandas.core.frame.DataFrame'>\n",
      "RangeIndex: 398 entries, 0 to 397\n",
      "Data columns (total 9 columns):\n",
      " #   Column        Non-Null Count  Dtype  \n",
      "---  ------        --------------  -----  \n",
      " 0   mpg           398 non-null    float64\n",
      " 1   cylinders     398 non-null    int64  \n",
      " 2   displacement  398 non-null    float64\n",
      " 3   horsepower    398 non-null    object \n",
      " 4   weight        398 non-null    float64\n",
      " 5   acceleration  398 non-null    float64\n",
      " 6   model year    398 non-null    int64  \n",
      " 7   origin        398 non-null    int64  \n",
      " 8   car name      398 non-null    object \n",
      "dtypes: float64(4), int64(3), object(2)\n",
      "memory usage: 28.1+ KB\n"
     ]
    }
   ],
   "source": [
    "df.info()"
   ]
  },
  {
   "cell_type": "code",
   "execution_count": 335,
   "id": "a8ef1ba1",
   "metadata": {},
   "outputs": [
    {
     "data": {
      "text/plain": [
       "0      130.0\n",
       "1      165.0\n",
       "2      150.0\n",
       "3      150.0\n",
       "4      140.0\n",
       "       ...  \n",
       "393     86.0\n",
       "394     52.0\n",
       "395     84.0\n",
       "396     79.0\n",
       "397     82.0\n",
       "Name: horsepower, Length: 398, dtype: float64"
      ]
     },
     "execution_count": 335,
     "metadata": {},
     "output_type": "execute_result"
    }
   ],
   "source": [
    "df.horsepower.astype('float64')"
   ]
  },
  {
   "cell_type": "code",
   "execution_count": 336,
   "id": "c0ec5a14",
   "metadata": {},
   "outputs": [
    {
     "name": "stdout",
     "output_type": "stream",
     "text": [
      "<class 'pandas.core.frame.DataFrame'>\n",
      "RangeIndex: 398 entries, 0 to 397\n",
      "Data columns (total 9 columns):\n",
      " #   Column        Non-Null Count  Dtype  \n",
      "---  ------        --------------  -----  \n",
      " 0   mpg           398 non-null    float64\n",
      " 1   cylinders     398 non-null    int64  \n",
      " 2   displacement  398 non-null    float64\n",
      " 3   horsepower    398 non-null    object \n",
      " 4   weight        398 non-null    float64\n",
      " 5   acceleration  398 non-null    float64\n",
      " 6   model year    398 non-null    int64  \n",
      " 7   origin        398 non-null    int64  \n",
      " 8   car name      398 non-null    object \n",
      "dtypes: float64(4), int64(3), object(2)\n",
      "memory usage: 28.1+ KB\n"
     ]
    }
   ],
   "source": [
    "df.info()"
   ]
  },
  {
   "cell_type": "markdown",
   "id": "b1f1fb54",
   "metadata": {},
   "source": [
    "## LabelEncoder"
   ]
  },
  {
   "cell_type": "code",
   "execution_count": 337,
   "id": "16ccc87e",
   "metadata": {},
   "outputs": [],
   "source": [
    "from sklearn.preprocessing import LabelEncoder, StandardScaler"
   ]
  },
  {
   "cell_type": "code",
   "execution_count": 338,
   "id": "a63e7af4",
   "metadata": {},
   "outputs": [],
   "source": [
    "le = LabelEncoder()\n",
    "df['cylinders'] = le.fit_transform(df['cylinders'])\n",
    "df['model year'] = le.fit_transform(df['model year'])\n",
    "df['origin'] = le.fit_transform(df['origin'])"
   ]
  },
  {
   "cell_type": "code",
   "execution_count": 339,
   "id": "171dd3c9",
   "metadata": {},
   "outputs": [],
   "source": [
    "from sklearn.model_selection import train_test_split"
   ]
  },
  {
   "cell_type": "code",
   "execution_count": 340,
   "id": "1fce6cdd",
   "metadata": {},
   "outputs": [],
   "source": [
    "data = df.iloc[:,1:-1]"
   ]
  },
  {
   "cell_type": "code",
   "execution_count": 341,
   "id": "25202f70",
   "metadata": {},
   "outputs": [],
   "source": [
    "target = df.iloc[:,0]"
   ]
  },
  {
   "cell_type": "code",
   "execution_count": 342,
   "id": "1be07ae7",
   "metadata": {
    "scrolled": false
   },
   "outputs": [
    {
     "data": {
      "text/html": [
       "<div>\n",
       "<style scoped>\n",
       "    .dataframe tbody tr th:only-of-type {\n",
       "        vertical-align: middle;\n",
       "    }\n",
       "\n",
       "    .dataframe tbody tr th {\n",
       "        vertical-align: top;\n",
       "    }\n",
       "\n",
       "    .dataframe thead th {\n",
       "        text-align: right;\n",
       "    }\n",
       "</style>\n",
       "<table border=\"1\" class=\"dataframe\">\n",
       "  <thead>\n",
       "    <tr style=\"text-align: right;\">\n",
       "      <th></th>\n",
       "      <th>cylinders</th>\n",
       "      <th>displacement</th>\n",
       "      <th>horsepower</th>\n",
       "      <th>weight</th>\n",
       "      <th>acceleration</th>\n",
       "      <th>model year</th>\n",
       "      <th>origin</th>\n",
       "    </tr>\n",
       "  </thead>\n",
       "  <tbody>\n",
       "    <tr>\n",
       "      <th>0</th>\n",
       "      <td>4</td>\n",
       "      <td>307.0</td>\n",
       "      <td>130.0</td>\n",
       "      <td>3504.0</td>\n",
       "      <td>12.0</td>\n",
       "      <td>0</td>\n",
       "      <td>0</td>\n",
       "    </tr>\n",
       "    <tr>\n",
       "      <th>1</th>\n",
       "      <td>4</td>\n",
       "      <td>350.0</td>\n",
       "      <td>165.0</td>\n",
       "      <td>3693.0</td>\n",
       "      <td>11.5</td>\n",
       "      <td>0</td>\n",
       "      <td>0</td>\n",
       "    </tr>\n",
       "    <tr>\n",
       "      <th>2</th>\n",
       "      <td>4</td>\n",
       "      <td>318.0</td>\n",
       "      <td>150.0</td>\n",
       "      <td>3436.0</td>\n",
       "      <td>11.0</td>\n",
       "      <td>0</td>\n",
       "      <td>0</td>\n",
       "    </tr>\n",
       "    <tr>\n",
       "      <th>3</th>\n",
       "      <td>4</td>\n",
       "      <td>304.0</td>\n",
       "      <td>150.0</td>\n",
       "      <td>3433.0</td>\n",
       "      <td>12.0</td>\n",
       "      <td>0</td>\n",
       "      <td>0</td>\n",
       "    </tr>\n",
       "    <tr>\n",
       "      <th>4</th>\n",
       "      <td>4</td>\n",
       "      <td>302.0</td>\n",
       "      <td>140.0</td>\n",
       "      <td>3449.0</td>\n",
       "      <td>10.5</td>\n",
       "      <td>0</td>\n",
       "      <td>0</td>\n",
       "    </tr>\n",
       "  </tbody>\n",
       "</table>\n",
       "</div>"
      ],
      "text/plain": [
       "   cylinders  displacement horsepower  weight  acceleration  model year  \\\n",
       "0          4         307.0      130.0  3504.0          12.0           0   \n",
       "1          4         350.0      165.0  3693.0          11.5           0   \n",
       "2          4         318.0      150.0  3436.0          11.0           0   \n",
       "3          4         304.0      150.0  3433.0          12.0           0   \n",
       "4          4         302.0      140.0  3449.0          10.5           0   \n",
       "\n",
       "   origin  \n",
       "0       0  \n",
       "1       0  \n",
       "2       0  \n",
       "3       0  \n",
       "4       0  "
      ]
     },
     "execution_count": 342,
     "metadata": {},
     "output_type": "execute_result"
    }
   ],
   "source": [
    "data.head()"
   ]
  },
  {
   "cell_type": "code",
   "execution_count": 344,
   "id": "ee0a9920",
   "metadata": {},
   "outputs": [
    {
     "data": {
      "text/plain": [
       "array([ 0,  1,  2,  3,  4,  5,  6,  7,  8,  9, 10, 11, 12], dtype=int64)"
      ]
     },
     "execution_count": 344,
     "metadata": {},
     "output_type": "execute_result"
    }
   ],
   "source": [
    "data['model year'].unique()"
   ]
  },
  {
   "cell_type": "markdown",
   "id": "c02ec4ae",
   "metadata": {},
   "source": [
    "## data, target 분리"
   ]
  },
  {
   "cell_type": "code",
   "execution_count": 345,
   "id": "1d10335a",
   "metadata": {},
   "outputs": [],
   "source": [
    "train_input, test_input, train_target, test_target = train_test_split(data, target, test_size=0.2, random_state=42)"
   ]
  },
  {
   "cell_type": "markdown",
   "id": "f72a0927",
   "metadata": {},
   "source": [
    "## 스케일링"
   ]
  },
  {
   "cell_type": "code",
   "execution_count": 346,
   "id": "c3990002",
   "metadata": {},
   "outputs": [],
   "source": [
    "ss = StandardScaler()\n",
    "train_input_scaled = ss.fit_transform(train_input)\n",
    "test_input_scaled = ss.transform(test_input)"
   ]
  },
  {
   "cell_type": "markdown",
   "id": "8e5770e2",
   "metadata": {},
   "source": [
    "## All_estimators"
   ]
  },
  {
   "cell_type": "code",
   "execution_count": 347,
   "id": "1cc7785d",
   "metadata": {},
   "outputs": [],
   "source": [
    "from sklearn.utils import all_estimators"
   ]
  },
  {
   "cell_type": "code",
   "execution_count": 348,
   "id": "448ef760",
   "metadata": {},
   "outputs": [],
   "source": [
    "models = all_estimators(type_filter='regressor')"
   ]
  },
  {
   "cell_type": "code",
   "execution_count": 349,
   "id": "5d0310e3",
   "metadata": {},
   "outputs": [],
   "source": [
    "# 경고무시\n",
    "import warnings\n",
    "warnings.filterwarnings('ignore')\n",
    "\n",
    "scores = []\n",
    "for name, model in models:\n",
    "    \n",
    "        try:\n",
    "        # 모델 객체 생성\n",
    "            md = model()\n",
    "        # 학습\n",
    "            md.fit(train_input_scaled, train_target)\n",
    "        # 평가\n",
    "            scores.append((name,md.score(train_input_scaled, train_target),md.score(test_input_scaled, test_target)))\n",
    "                    \n",
    "        except :\n",
    "            pass"
   ]
  },
  {
   "cell_type": "code",
   "execution_count": 350,
   "id": "1170c2ca",
   "metadata": {},
   "outputs": [
    {
     "data": {
      "text/plain": [
       "[('ARDRegression', 0.8148888934784608, 0.8503904853352313),\n",
       " ('AdaBoostRegressor', 0.8987225051431793, 0.8552240477809586),\n",
       " ('BaggingRegressor', 0.9708957017159118, 0.8783414515861484),\n",
       " ('BayesianRidge', 0.8164689588382045, 0.858320060221681),\n",
       " ('CCA', 0.7985089276808673, 0.8117091610903427),\n",
       " ('DecisionTreeRegressor', 1.0, 0.7895969268006497),\n",
       " ('DummyRegressor', 0.0, -0.004033263418077082),\n",
       " ('ElasticNet', 0.7130576982112806, 0.7891468727501993),\n",
       " ('ElasticNetCV', 0.8165400969078478, 0.8579523025263125),\n",
       " ('ExtraTreeRegressor', 0.9995987440436203, 0.8335950943379996),\n",
       " ('ExtraTreesRegressor', 0.9999997812151897, 0.9005690505613919),\n",
       " ('GammaRegressor', 0.809113971583803, 0.8545370954700533),\n",
       " ('GaussianProcessRegressor', 0.9999999999999993, 0.22886705258296525),\n",
       " ('GradientBoostingRegressor', 0.9721406835479339, 0.9068198465214696),\n",
       " ('HistGradientBoostingRegressor', 0.9632826475407255, 0.9075431123075165),\n",
       " ('HuberRegressor', 0.8099689998256407, 0.8661600593476458),\n",
       " ('KNeighborsRegressor', 0.8968105304704689, 0.8993440030148916),\n",
       " ('KernelRidge', -8.072945465349804, -9.59523266639111),\n",
       " ('Lars', 0.8167716267023879, 0.8594254678934102),\n",
       " ('LarsCV', 0.8085294548216081, 0.8501755116238566),\n",
       " ('Lasso', 0.6689934514940197, 0.7397660321376567),\n",
       " ('LassoCV', 0.8167100590132363, 0.8584792770811565),\n",
       " ('LassoLars', 0.0, -0.004033263418077082),\n",
       " ('LassoLarsCV', 0.8167716267023879, 0.8594254678934102),\n",
       " ('LassoLarsIC', 0.8167716267023879, 0.8594254678934102),\n",
       " ('LinearRegression', 0.8167716267023879, 0.8594254678934102),\n",
       " ('LinearSVR', 0.7990692832098328, 0.8558065432540212),\n",
       " ('MLPRegressor', 0.7613982278507461, 0.7557919264739494),\n",
       " ('NuSVR', 0.875052309868737, 0.8928064829853044),\n",
       " ('OrthogonalMatchingPursuit', 0.6844798112332582, 0.7229710573030748),\n",
       " ('OrthogonalMatchingPursuitCV', 0.8115258053074388, 0.8409091133498285),\n",
       " ('PLSCanonical', -0.8327838974521495, -1.5613466632150006),\n",
       " ('PLSRegression', 0.7934455955339148, 0.8309373709842175),\n",
       " ('PassiveAggressiveRegressor', 0.4258018671928441, 0.4145734440083786),\n",
       " ('PoissonRegressor', 0.8591837449509465, 0.8891405243176373),\n",
       " ('QuantileRegressor', -0.019926746696173447, -0.007907923621216284),\n",
       " ('RANSACRegressor', 0.7973611140643989, 0.8440519505333491),\n",
       " ('RadiusNeighborsRegressor', 0.9083649005600047, 0.9061455623375246),\n",
       " ('RandomForestRegressor', 0.9806059768377524, 0.8954261069665779),\n",
       " ('Ridge', 0.8166806864943932, 0.8588651064273443),\n",
       " ('RidgeCV', 0.8166806864943925, 0.8588651064274186),\n",
       " ('SGDRegressor', 0.8129912823319898, 0.849645272798792),\n",
       " ('SVR', 0.871113548757736, 0.8896062127458233),\n",
       " ('TheilSenRegressor', 0.8030030285945671, 0.841614410502404),\n",
       " ('TransformedTargetRegressor', 0.8167716267023879, 0.8594254678934102),\n",
       " ('TweedieRegressor', 0.7456811555111567, 0.8175876964521861)]"
      ]
     },
     "execution_count": 350,
     "metadata": {},
     "output_type": "execute_result"
    }
   ],
   "source": [
    "scores"
   ]
  },
  {
   "cell_type": "markdown",
   "id": "edaaeca6",
   "metadata": {},
   "source": [
    "## RMSE(All Model)"
   ]
  },
  {
   "cell_type": "code",
   "execution_count": 351,
   "id": "ba130935",
   "metadata": {},
   "outputs": [],
   "source": [
    "from sklearn.metrics import *"
   ]
  },
  {
   "cell_type": "code",
   "execution_count": 352,
   "id": "1a93947c",
   "metadata": {},
   "outputs": [],
   "source": [
    "# 경고무시\n",
    "import warnings\n",
    "warnings.filterwarnings('ignore')\n",
    "\n",
    "RMSE_list = []\n",
    "for name, model in models:\n",
    "    try:\n",
    "        # 모델 객체 생성\n",
    "        md = model()\n",
    "        # 학습\n",
    "        md.fit(train_input_scaled, train_target)\n",
    "        # 평가\n",
    "        RMSE = np.sqrt(mean_squared_error(test_target, md.predict(test_input_scaled)))\n",
    "        RMSE_list.append((name, RMSE))        \n",
    "    except :\n",
    "        pass"
   ]
  },
  {
   "cell_type": "code",
   "execution_count": 353,
   "id": "87a47b52",
   "metadata": {},
   "outputs": [
    {
     "data": {
      "text/plain": [
       "[('ARDRegression', 1.2053805880573714),\n",
       " ('AdaBoostRegressor', 1.133225813817384),\n",
       " ('BaggingRegressor', 1.087613529993536),\n",
       " ('BayesianRidge', 1.1730020412758706),\n",
       " ('CCA', 1.3522568226106495),\n",
       " ('DecisionTreeRegressor', 1.4559196782017199),\n",
       " ('DummyRegressor', 3.122616402596289),\n",
       " ('ElasticNet', 1.4309834448013217),\n",
       " ('ElasticNetCV', 1.1745234315229767),\n",
       " ('ExtraTreeRegressor', 1.8775310000769625),\n",
       " ('ExtraTreesRegressor', 1.0107917877832224),\n",
       " ('GammaRegressor', 1.2494263437111097),\n",
       " ('GaussianProcessRegressor', 2.7365867236474006),\n",
       " ('GradientBoostingRegressor', 0.9625481845250181),\n",
       " ('HistGradientBoostingRegressor', 0.9475763679183716),\n",
       " ('HuberRegressor', 1.1400855828977192),\n",
       " ('KNeighborsRegressor', 0.9886997253337335),\n",
       " ('KernelRidge', 10.143780316028991),\n",
       " ('Lars', 1.1684171137035009),\n",
       " ('LarsCV', 1.2062462820671718),\n",
       " ('Lasso', 1.5897417426914402),\n",
       " ('LassoCV', 1.1723427588091433),\n",
       " ('LassoLars', 3.122616402596289),\n",
       " ('LassoLarsCV', 1.1684171137035009),\n",
       " ('LassoLarsIC', 1.1684171137035009),\n",
       " ('LinearRegression', 1.168417113703501),\n",
       " ('LinearSVR', 1.1859156053714255),\n",
       " ('MLPRegressor', 1.643463442014584),\n",
       " ('NuSVR', 1.020302254435022),\n",
       " ('OrthogonalMatchingPursuit', 1.6402390922667078),\n",
       " ('OrthogonalMatchingPursuitCV', 1.2429888623731375),\n",
       " ('PLSCanonical', 4.987452435449125),\n",
       " ('PLSRegression', 1.2813518350496116),\n",
       " ('PassiveAggressiveRegressor', 1.398827689598605),\n",
       " ('PoissonRegressor', 1.0263990037605262),\n",
       " ('QuantileRegressor', 3.1286358381770873),\n",
       " ('RANSACRegressor', 1.4146445648945534),\n",
       " ('RadiusNeighborsRegressor', 0.954711144209424),\n",
       " ('RandomForestRegressor', 0.915456173232436),\n",
       " ('Ridge', 1.1707435832757445),\n",
       " ('RidgeCV', 1.1707435832754358),\n",
       " ('SGDRegressor', 1.2154248830300798),\n",
       " ('SVR', 1.035420841658443),\n",
       " ('TheilSenRegressor', 1.2392771710110606),\n",
       " ('TransformedTargetRegressor', 1.168417113703501),\n",
       " ('TweedieRegressor', 1.3309803689304813)]"
      ]
     },
     "execution_count": 353,
     "metadata": {},
     "output_type": "execute_result"
    }
   ],
   "source": [
    "RMSE_list"
   ]
  },
  {
   "cell_type": "code",
   "execution_count": 354,
   "id": "40ba292b",
   "metadata": {},
   "outputs": [],
   "source": [
    "from sklearn.ensemble import RandomForestRegressor"
   ]
  },
  {
   "cell_type": "code",
   "execution_count": 355,
   "id": "f0850c8c",
   "metadata": {},
   "outputs": [],
   "source": [
    "rfr = RandomForestRegressor()"
   ]
  },
  {
   "cell_type": "code",
   "execution_count": 356,
   "id": "c7b393e9",
   "metadata": {},
   "outputs": [
    {
     "data": {
      "text/plain": [
       "RandomForestRegressor()"
      ]
     },
     "execution_count": 356,
     "metadata": {},
     "output_type": "execute_result"
    }
   ],
   "source": [
    "rfr.fit(train_input_scaled, train_target)"
   ]
  },
  {
   "cell_type": "code",
   "execution_count": 357,
   "id": "a75ffc97",
   "metadata": {},
   "outputs": [
    {
     "name": "stdout",
     "output_type": "stream",
     "text": [
      "0.9800052841819603\n",
      "0.9104322568293349\n"
     ]
    }
   ],
   "source": [
    "print(rfr.score(train_input_scaled, train_target))\n",
    "print(rfr.score(test_input_scaled, test_target))"
   ]
  },
  {
   "cell_type": "code",
   "execution_count": 358,
   "id": "808b1388",
   "metadata": {},
   "outputs": [],
   "source": [
    "from sklearn.model_selection import GridSearchCV"
   ]
  },
  {
   "cell_type": "code",
   "execution_count": 359,
   "id": "eb8eb6f7",
   "metadata": {},
   "outputs": [],
   "source": [
    "param_grid = {'max_depth' : [5, 10, 15],\n",
    "               'n_estimators' : [100, 300, 500]}\n",
    "              "
   ]
  },
  {
   "cell_type": "code",
   "execution_count": 360,
   "id": "e0873a15",
   "metadata": {},
   "outputs": [],
   "source": [
    "grid_search_rfr = GridSearchCV(rfr, param_grid, cv=5, return_train_score=True)"
   ]
  },
  {
   "cell_type": "code",
   "execution_count": 361,
   "id": "1744bb24",
   "metadata": {},
   "outputs": [
    {
     "data": {
      "text/plain": [
       "GridSearchCV(cv=5, estimator=RandomForestRegressor(),\n",
       "             param_grid={'max_depth': [5, 10, 15],\n",
       "                         'n_estimators': [100, 300, 500]},\n",
       "             return_train_score=True)"
      ]
     },
     "execution_count": 361,
     "metadata": {},
     "output_type": "execute_result"
    }
   ],
   "source": [
    "grid_search_rfr.fit(train_input_scaled, train_target)"
   ]
  },
  {
   "cell_type": "code",
   "execution_count": 362,
   "id": "f029714b",
   "metadata": {},
   "outputs": [
    {
     "data": {
      "text/plain": [
       "0.8508465497704998"
      ]
     },
     "execution_count": 362,
     "metadata": {},
     "output_type": "execute_result"
    }
   ],
   "source": [
    "grid_search_rfr.best_score_"
   ]
  },
  {
   "cell_type": "code",
   "execution_count": 363,
   "id": "de5441ae",
   "metadata": {},
   "outputs": [
    {
     "data": {
      "text/plain": [
       "RandomForestRegressor(max_depth=10)"
      ]
     },
     "execution_count": 363,
     "metadata": {},
     "output_type": "execute_result"
    }
   ],
   "source": [
    "grid_search_rfr.best_estimator_"
   ]
  },
  {
   "cell_type": "code",
   "execution_count": 364,
   "id": "b6cfb964",
   "metadata": {},
   "outputs": [],
   "source": [
    "rfrmodel = grid_search_rfr.best_estimator_"
   ]
  },
  {
   "cell_type": "code",
   "execution_count": 365,
   "id": "4e9a0d94",
   "metadata": {
    "scrolled": true
   },
   "outputs": [
    {
     "name": "stdout",
     "output_type": "stream",
     "text": [
      "0.9796961844511409\n",
      "0.9021640967343268\n"
     ]
    }
   ],
   "source": [
    "print(rfrmodel.score(train_input_scaled,train_target))\n",
    "print(rfrmodel.score(test_input_scaled,test_target))"
   ]
  },
  {
   "cell_type": "code",
   "execution_count": 366,
   "id": "826b9d13",
   "metadata": {},
   "outputs": [],
   "source": [
    "pred=rfrmodel.predict(ss.transform(data))"
   ]
  },
  {
   "cell_type": "code",
   "execution_count": 367,
   "id": "395a4636",
   "metadata": {},
   "outputs": [],
   "source": [
    "pred = pred.reshape(-1,1)"
   ]
  },
  {
   "cell_type": "code",
   "execution_count": 368,
   "id": "45cad06e",
   "metadata": {
    "scrolled": true
   },
   "outputs": [],
   "source": [
    "pred =pd.DataFrame(pred)"
   ]
  },
  {
   "cell_type": "markdown",
   "id": "bab227c3",
   "metadata": {},
   "source": [
    "## 예측값, 실제 데이터 비교"
   ]
  },
  {
   "cell_type": "code",
   "execution_count": 369,
   "id": "e4c02573",
   "metadata": {},
   "outputs": [
    {
     "data": {
      "text/html": [
       "<div>\n",
       "<style scoped>\n",
       "    .dataframe tbody tr th:only-of-type {\n",
       "        vertical-align: middle;\n",
       "    }\n",
       "\n",
       "    .dataframe tbody tr th {\n",
       "        vertical-align: top;\n",
       "    }\n",
       "\n",
       "    .dataframe thead th {\n",
       "        text-align: right;\n",
       "    }\n",
       "</style>\n",
       "<table border=\"1\" class=\"dataframe\">\n",
       "  <thead>\n",
       "    <tr style=\"text-align: right;\">\n",
       "      <th></th>\n",
       "      <th>0</th>\n",
       "      <th>mpg</th>\n",
       "    </tr>\n",
       "  </thead>\n",
       "  <tbody>\n",
       "    <tr>\n",
       "      <th>0</th>\n",
       "      <td>6.971271</td>\n",
       "      <td>7.650</td>\n",
       "    </tr>\n",
       "    <tr>\n",
       "      <th>1</th>\n",
       "      <td>6.370315</td>\n",
       "      <td>6.375</td>\n",
       "    </tr>\n",
       "    <tr>\n",
       "      <th>2</th>\n",
       "      <td>7.275304</td>\n",
       "      <td>7.650</td>\n",
       "    </tr>\n",
       "    <tr>\n",
       "      <th>3</th>\n",
       "      <td>6.889334</td>\n",
       "      <td>6.800</td>\n",
       "    </tr>\n",
       "    <tr>\n",
       "      <th>4</th>\n",
       "      <td>7.226528</td>\n",
       "      <td>7.225</td>\n",
       "    </tr>\n",
       "    <tr>\n",
       "      <th>...</th>\n",
       "      <td>...</td>\n",
       "      <td>...</td>\n",
       "    </tr>\n",
       "    <tr>\n",
       "      <th>393</th>\n",
       "      <td>11.960538</td>\n",
       "      <td>11.475</td>\n",
       "    </tr>\n",
       "    <tr>\n",
       "      <th>394</th>\n",
       "      <td>15.987553</td>\n",
       "      <td>18.700</td>\n",
       "    </tr>\n",
       "    <tr>\n",
       "      <th>395</th>\n",
       "      <td>13.622382</td>\n",
       "      <td>13.600</td>\n",
       "    </tr>\n",
       "    <tr>\n",
       "      <th>396</th>\n",
       "      <td>12.441608</td>\n",
       "      <td>11.900</td>\n",
       "    </tr>\n",
       "    <tr>\n",
       "      <th>397</th>\n",
       "      <td>12.703188</td>\n",
       "      <td>13.175</td>\n",
       "    </tr>\n",
       "  </tbody>\n",
       "</table>\n",
       "<p>398 rows × 2 columns</p>\n",
       "</div>"
      ],
      "text/plain": [
       "             0     mpg\n",
       "0     6.971271   7.650\n",
       "1     6.370315   6.375\n",
       "2     7.275304   7.650\n",
       "3     6.889334   6.800\n",
       "4     7.226528   7.225\n",
       "..         ...     ...\n",
       "393  11.960538  11.475\n",
       "394  15.987553  18.700\n",
       "395  13.622382  13.600\n",
       "396  12.441608  11.900\n",
       "397  12.703188  13.175\n",
       "\n",
       "[398 rows x 2 columns]"
      ]
     },
     "execution_count": 369,
     "metadata": {},
     "output_type": "execute_result"
    }
   ],
   "source": [
    "pd.concat([pred,pd.DataFrame(target)],axis=1)"
   ]
  },
  {
   "cell_type": "markdown",
   "id": "710e0da8",
   "metadata": {},
   "source": [
    "## RMSE"
   ]
  },
  {
   "cell_type": "code",
   "execution_count": 370,
   "id": "95b39fa3",
   "metadata": {
    "scrolled": true
   },
   "outputs": [
    {
     "data": {
      "text/plain": [
       "0.9326536663685113"
      ]
     },
     "execution_count": 370,
     "metadata": {},
     "output_type": "execute_result"
    }
   ],
   "source": [
    "np.sqrt(mean_squared_error(test_target, rfr.predict(test_input_scaled)))"
   ]
  },
  {
   "cell_type": "markdown",
   "id": "04785064",
   "metadata": {},
   "source": [
    "## MAE"
   ]
  },
  {
   "cell_type": "code",
   "execution_count": 371,
   "id": "99a58aea",
   "metadata": {},
   "outputs": [
    {
     "data": {
      "text/plain": [
       "0.6840056249999997"
      ]
     },
     "execution_count": 371,
     "metadata": {},
     "output_type": "execute_result"
    }
   ],
   "source": [
    "mean_absolute_error(test_target, rfr.predict(test_input_scaled))"
   ]
  },
  {
   "cell_type": "markdown",
   "id": "518281a6",
   "metadata": {},
   "source": [
    "## R SQUARED"
   ]
  },
  {
   "cell_type": "code",
   "execution_count": 372,
   "id": "ec8eec23",
   "metadata": {},
   "outputs": [
    {
     "data": {
      "text/plain": [
       "0.9659570854844927"
      ]
     },
     "execution_count": 372,
     "metadata": {},
     "output_type": "execute_result"
    }
   ],
   "source": [
    "rfrmodel.score(ss.transform(data),target)"
   ]
  },
  {
   "cell_type": "code",
   "execution_count": null,
   "id": "8732e1b7",
   "metadata": {},
   "outputs": [],
   "source": []
  }
 ],
 "metadata": {
  "kernelspec": {
   "display_name": "Python 3 (ipykernel)",
   "language": "python",
   "name": "python3"
  },
  "language_info": {
   "codemirror_mode": {
    "name": "ipython",
    "version": 3
   },
   "file_extension": ".py",
   "mimetype": "text/x-python",
   "name": "python",
   "nbconvert_exporter": "python",
   "pygments_lexer": "ipython3",
   "version": "3.9.12"
  }
 },
 "nbformat": 4,
 "nbformat_minor": 5
}
