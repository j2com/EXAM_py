{
 "cells": [
  {
   "cell_type": "markdown",
   "id": "a40553d9",
   "metadata": {},
   "source": [
    "## Pytorch Neurer Network\n",
    "---"
   ]
  },
  {
   "cell_type": "code",
   "execution_count": 18,
   "id": "81c5ae58",
   "metadata": {},
   "outputs": [],
   "source": [
    "import os\n",
    "import torch\n",
    "from torch import nn                          # 신경망 모듈\n",
    "from torch.utils.data import DataLoader       # 데이터 로딩 관련 모듈\n",
    "from torchvision import datasets, transforms  # torch저장소 데이터 셋 모듈\n",
    "from torchvision.transforms import ToTensor\n",
    "import matplotlib.pyplot as plt"
   ]
  },
  {
   "cell_type": "markdown",
   "id": "1a3e9af6",
   "metadata": {},
   "source": [
    "## [1] 데이터 준비\n",
    "---\n"
   ]
  },
  {
   "cell_type": "code",
   "execution_count": 8,
   "id": "d9515501",
   "metadata": {},
   "outputs": [
    {
     "name": "stdout",
     "output_type": "stream",
     "text": [
      "Using cpu device\n"
     ]
    }
   ],
   "source": [
    "# 학습에 사용할 CPU나 GPU 장치를 얻습니다.\n",
    "device = \"cuda\" if torch.cuda.is_available() else \"cpu\"\n",
    "print(f\"Using {device} device\")"
   ]
  },
  {
   "cell_type": "markdown",
   "id": "2ba3c2e6",
   "metadata": {},
   "source": [
    "### NN 모델 생성 \n",
    "---"
   ]
  },
  {
   "cell_type": "code",
   "execution_count": 9,
   "id": "1133508f",
   "metadata": {},
   "outputs": [],
   "source": [
    "# 순차적인 Layer 구성 => Sequential, Layer...\n",
    "class NeuralNetwork(nn.Module):\n",
    "    # 생성자 메서드, NeuralNework() 객체 생성시 실행\n",
    "    def __init__(self):\n",
    "        super(NeuralNetwork, self).__init__()\n",
    "        self.flatten = nn.Flatten()\n",
    "        self.linear_relu_stack = nn.Sequential(\n",
    "            # 입력층(input_dim, output_dim)\n",
    "            nn.Linear(28*28, 512),\n",
    "            nn.ReLU(),\n",
    "            # 은닉층(input_dim, output_dim)\n",
    "            nn.Linear(512, 512),\n",
    "            # 출력층(input_dim, output_dim)\n",
    "            nn.ReLU(),\n",
    "            nn.Linear(512, 10)\n",
    "        )\n",
    "    # NN 모델이 동작을 시작할 때 실행\n",
    "    def forward(self, x):\n",
    "        # 1차원으로 데이터 변환\n",
    "        x = self.flatten(x)\n",
    "        # NN모델에 입력 데이터 전달\n",
    "        logits = self.linear_relu_stack(x)\n",
    "        return logits\n"
   ]
  },
  {
   "cell_type": "code",
   "execution_count": 12,
   "id": "57d910c1",
   "metadata": {},
   "outputs": [],
   "source": [
    "#NN 모델 생성\n",
    "mnistM=NeuralNetwork().to(device)"
   ]
  },
  {
   "cell_type": "code",
   "execution_count": 11,
   "id": "db340441",
   "metadata": {},
   "outputs": [
    {
     "data": {
      "text/plain": [
       "Flatten(start_dim=1, end_dim=-1)"
      ]
     },
     "execution_count": 11,
     "metadata": {},
     "output_type": "execute_result"
    }
   ],
   "source": [
    "mnistM.flatten"
   ]
  },
  {
   "cell_type": "code",
   "execution_count": 13,
   "id": "6bd1dad8",
   "metadata": {},
   "outputs": [
    {
     "name": "stdout",
     "output_type": "stream",
     "text": [
      "tensor([[[0.5344, 0.2237, 0.8968, 0.0086, 0.2726, 0.1418, 0.0749, 0.6630,\n",
      "          0.9124, 0.3643, 0.4567, 0.8498, 0.7650, 0.9463, 0.5059, 0.5949,\n",
      "          0.3006, 0.9885, 0.9507, 0.8955, 0.1612, 0.8779, 0.1481, 0.6118,\n",
      "          0.7150, 0.1849, 0.5540, 0.8803],\n",
      "         [0.8806, 0.1303, 0.7536, 0.3470, 0.9452, 0.8105, 0.5873, 0.5749,\n",
      "          0.4113, 0.8856, 0.6274, 0.8473, 0.4504, 0.9740, 0.8589, 0.8444,\n",
      "          0.5950, 0.6636, 0.3913, 0.6330, 0.0015, 0.8831, 0.2520, 0.4022,\n",
      "          0.8278, 0.2378, 0.5743, 0.9878],\n",
      "         [0.3384, 0.1596, 0.7746, 0.9200, 0.0056, 0.9576, 0.6553, 0.8311,\n",
      "          0.9448, 0.2429, 0.1285, 0.5490, 0.6802, 0.9221, 0.4304, 0.6475,\n",
      "          0.3140, 0.0585, 0.1207, 0.3185, 0.3308, 0.6223, 0.8983, 0.3542,\n",
      "          0.1728, 0.8697, 0.3195, 0.9292],\n",
      "         [0.5320, 0.2545, 0.5961, 0.1236, 0.2363, 0.1631, 0.9661, 0.1656,\n",
      "          0.0968, 0.2855, 0.1560, 0.4524, 0.8542, 0.3710, 0.4084, 0.7746,\n",
      "          0.1610, 0.7833, 0.1322, 0.4916, 0.1140, 0.2250, 0.4907, 0.2697,\n",
      "          0.1630, 0.8282, 0.7130, 0.7980],\n",
      "         [0.5410, 0.8243, 0.6964, 0.1200, 0.7505, 0.4926, 0.2851, 0.9586,\n",
      "          0.3754, 0.9662, 0.3095, 0.6149, 0.9494, 0.0746, 0.5638, 0.0542,\n",
      "          0.3237, 0.1885, 0.0336, 0.1167, 0.2061, 0.8607, 0.7586, 0.6972,\n",
      "          0.1159, 0.2572, 0.5265, 0.2010],\n",
      "         [0.4810, 0.3082, 0.4662, 0.3121, 0.3966, 0.0489, 0.9031, 0.0344,\n",
      "          0.7205, 0.5654, 0.7823, 0.0719, 0.3672, 0.7987, 0.4586, 0.7382,\n",
      "          0.0833, 0.5598, 0.2649, 0.8544, 0.1694, 0.4152, 0.5679, 0.3066,\n",
      "          0.1049, 0.6012, 0.2670, 0.8230],\n",
      "         [0.4490, 0.9611, 0.1058, 0.8428, 0.1686, 0.4498, 0.7567, 0.8843,\n",
      "          0.4559, 0.6497, 0.1652, 0.9177, 0.5617, 0.5370, 0.1341, 0.6891,\n",
      "          0.7256, 0.3782, 0.2848, 0.5633, 0.0343, 0.4870, 0.0459, 0.2875,\n",
      "          0.3545, 0.9459, 0.4669, 0.1085],\n",
      "         [0.8627, 0.9616, 0.1478, 0.9323, 0.8113, 0.1436, 0.7513, 0.7378,\n",
      "          0.8134, 0.5420, 0.1619, 0.2273, 0.6766, 0.0260, 0.7166, 0.3610,\n",
      "          0.6534, 0.2678, 0.6726, 0.2807, 0.8857, 0.5778, 0.6721, 0.4183,\n",
      "          0.0021, 0.4522, 0.6567, 0.2009],\n",
      "         [0.2866, 0.8410, 0.4578, 0.4840, 0.4696, 0.1636, 0.8373, 0.0949,\n",
      "          0.4276, 0.0713, 0.5111, 0.1346, 0.8436, 0.1126, 0.5932, 0.7468,\n",
      "          0.3185, 0.0972, 0.5525, 0.2580, 0.2346, 0.9090, 0.2478, 0.9924,\n",
      "          0.2360, 0.3740, 0.9003, 0.0553],\n",
      "         [0.7427, 0.7880, 0.2151, 0.9935, 0.9702, 0.3039, 0.2286, 0.2523,\n",
      "          0.4096, 0.9015, 0.1064, 0.5023, 0.3818, 0.3984, 0.5002, 0.5476,\n",
      "          0.4894, 0.2310, 0.8131, 0.9190, 0.0880, 0.4066, 0.5590, 0.5571,\n",
      "          0.2909, 0.4741, 0.3441, 0.4184],\n",
      "         [0.5517, 0.0031, 0.2001, 0.1726, 0.9430, 0.2829, 0.8838, 0.3793,\n",
      "          0.8087, 0.8725, 0.6946, 0.2239, 0.3718, 0.3147, 0.8627, 0.7970,\n",
      "          0.0818, 0.9423, 0.7926, 0.5116, 0.0823, 0.6108, 0.2181, 0.1040,\n",
      "          0.9925, 0.6149, 0.5382, 0.6336],\n",
      "         [0.1371, 0.9022, 0.5401, 0.9098, 0.8701, 0.9904, 0.7258, 0.0622,\n",
      "          0.3225, 0.0548, 0.5675, 0.9888, 0.6257, 0.7527, 0.8325, 0.4942,\n",
      "          0.4628, 0.6649, 0.1837, 0.5214, 0.0159, 0.6277, 0.2216, 0.8957,\n",
      "          0.1640, 0.9699, 0.3405, 0.9655],\n",
      "         [0.2043, 0.2945, 0.8752, 0.5347, 0.4447, 0.0848, 0.4635, 0.0757,\n",
      "          0.6193, 0.6455, 0.9483, 0.0040, 0.8571, 0.5231, 0.8182, 0.3070,\n",
      "          0.4647, 0.6173, 0.5662, 0.2812, 0.6530, 0.3144, 0.6631, 0.1561,\n",
      "          0.8464, 0.9465, 0.9929, 0.7224],\n",
      "         [0.0519, 0.7397, 0.4907, 0.2190, 0.3412, 0.3440, 0.3815, 0.6250,\n",
      "          0.2015, 0.4601, 0.7621, 0.8069, 0.1249, 0.7026, 0.8148, 0.7134,\n",
      "          0.9200, 0.6438, 0.8277, 0.5593, 0.3465, 0.6061, 0.0385, 0.4548,\n",
      "          0.7416, 0.8440, 0.0400, 0.4379],\n",
      "         [0.7386, 0.0632, 0.5514, 0.3256, 0.3366, 0.1831, 0.2695, 0.2498,\n",
      "          0.2900, 0.2060, 0.1110, 0.6941, 0.6054, 0.4320, 0.4029, 0.3274,\n",
      "          0.2423, 0.3773, 0.1588, 0.4936, 0.4374, 0.3003, 0.9794, 0.4322,\n",
      "          0.9463, 0.9534, 0.6685, 0.4276],\n",
      "         [0.4489, 0.7287, 0.7499, 0.3576, 0.2106, 0.3249, 0.6561, 0.5099,\n",
      "          0.0737, 0.2748, 0.7659, 0.0034, 0.4281, 0.5280, 0.1500, 0.6787,\n",
      "          0.6075, 0.1222, 0.9870, 0.3280, 0.1648, 0.9404, 0.8783, 0.3315,\n",
      "          0.7185, 0.1398, 0.2815, 0.8567],\n",
      "         [0.4678, 0.0374, 0.7974, 0.4778, 0.6649, 0.6983, 0.1859, 0.8885,\n",
      "          0.8854, 0.0804, 0.2673, 0.2265, 0.6673, 0.6838, 0.7006, 0.4837,\n",
      "          0.7057, 0.0577, 0.7797, 0.0620, 0.4090, 0.9945, 0.0759, 0.5861,\n",
      "          0.2945, 0.5850, 0.4968, 0.8319],\n",
      "         [0.0820, 0.7394, 0.6537, 0.9629, 0.2048, 0.5620, 0.8522, 0.2722,\n",
      "          0.4236, 0.4786, 0.8545, 0.4013, 0.9085, 0.5822, 0.3759, 0.3074,\n",
      "          0.0661, 0.2939, 0.1738, 0.4665, 0.7268, 0.1941, 0.5493, 0.8548,\n",
      "          0.8086, 0.8171, 0.9269, 0.1207],\n",
      "         [0.1980, 0.6602, 0.4699, 0.8051, 0.9847, 0.2363, 0.9650, 0.1097,\n",
      "          0.4618, 0.4091, 0.8971, 0.3898, 0.6126, 0.4893, 0.6020, 0.5084,\n",
      "          0.6665, 0.6065, 0.6389, 0.6973, 0.4494, 0.8721, 0.5856, 0.1022,\n",
      "          0.9457, 0.3145, 0.6966, 0.4336],\n",
      "         [0.8367, 0.6858, 0.4216, 0.8980, 0.6055, 0.0813, 0.0541, 0.5389,\n",
      "          0.2798, 0.8315, 0.5528, 0.6353, 0.6436, 0.9763, 0.9938, 0.6387,\n",
      "          0.0813, 0.0957, 0.6078, 0.7456, 0.9155, 0.6127, 0.9364, 0.1137,\n",
      "          0.6117, 0.6487, 0.8223, 0.8473],\n",
      "         [0.7598, 0.9341, 0.6734, 0.2812, 0.0504, 0.4900, 0.7398, 0.4172,\n",
      "          0.8058, 0.6433, 0.9475, 0.0381, 0.0207, 0.7356, 0.7098, 0.3222,\n",
      "          0.5126, 0.5034, 0.4785, 0.7751, 0.5629, 0.8573, 0.6489, 0.6823,\n",
      "          0.3880, 0.0546, 0.1082, 0.7107],\n",
      "         [0.2391, 0.5921, 0.4203, 0.2333, 0.8147, 0.5845, 0.2352, 0.2009,\n",
      "          0.8554, 0.9935, 0.9891, 0.3504, 0.5485, 0.2807, 0.7331, 0.2749,\n",
      "          0.1983, 0.5149, 0.7155, 0.7576, 0.7403, 0.7719, 0.1771, 0.0482,\n",
      "          0.4766, 0.6880, 0.3555, 0.4130],\n",
      "         [0.3698, 0.1867, 0.2955, 0.7964, 0.7804, 0.7513, 0.2000, 0.9349,\n",
      "          0.3971, 0.6025, 0.9151, 0.6840, 0.1429, 0.6898, 0.4772, 0.2404,\n",
      "          0.9985, 0.1234, 0.9154, 0.5448, 0.7626, 0.3525, 0.0194, 0.1312,\n",
      "          0.1323, 0.1145, 0.8699, 0.3646],\n",
      "         [0.3995, 0.4885, 0.8828, 0.7803, 0.4637, 0.3152, 0.9139, 0.3560,\n",
      "          0.6809, 0.5001, 0.7502, 0.7135, 0.3589, 0.7510, 0.8757, 0.7238,\n",
      "          0.5022, 0.5707, 0.2532, 0.8591, 0.1412, 0.1276, 0.3533, 0.8657,\n",
      "          0.2632, 0.3511, 0.3986, 0.4323],\n",
      "         [0.1303, 0.5988, 0.4366, 0.1568, 0.6897, 0.4702, 0.0646, 0.4182,\n",
      "          0.2896, 0.0879, 0.8946, 0.5057, 0.9454, 0.7276, 0.1203, 0.3201,\n",
      "          0.6476, 0.5720, 0.5165, 0.1912, 0.9535, 0.2715, 0.4505, 0.1503,\n",
      "          0.0832, 0.4966, 0.3219, 0.9480],\n",
      "         [0.7945, 0.5081, 0.9736, 0.4817, 0.4345, 0.7373, 0.2478, 0.3547,\n",
      "          0.0997, 0.8212, 0.6491, 0.5772, 0.0856, 0.6008, 0.0043, 0.1353,\n",
      "          0.0119, 0.9724, 0.5015, 0.8537, 0.9022, 0.1360, 0.2141, 0.3015,\n",
      "          0.0724, 0.2412, 0.1404, 0.8098],\n",
      "         [0.9084, 0.7069, 0.4274, 0.7597, 0.6007, 0.5036, 0.9375, 0.7421,\n",
      "          0.6696, 0.5965, 0.0147, 0.0241, 0.2125, 0.2359, 0.8811, 0.6514,\n",
      "          0.5150, 0.7938, 0.2926, 0.5286, 0.7586, 0.8229, 0.3888, 0.1215,\n",
      "          0.0959, 0.5308, 0.7935, 0.5125],\n",
      "         [0.0728, 0.9532, 0.4140, 0.9607, 0.8435, 0.4055, 0.2954, 0.1341,\n",
      "          0.5289, 0.2672, 0.4586, 0.2468, 0.3384, 0.3743, 0.8994, 0.4033,\n",
      "          0.7996, 0.8411, 0.9891, 0.4106, 0.6081, 0.4748, 0.6519, 0.4120,\n",
      "          0.7169, 0.2889, 0.4506, 0.7943]]])\n"
     ]
    }
   ],
   "source": [
    "# 데이터 준비\n",
    "X = torch.rand(1,28,28, device=device)\n",
    "print(X)"
   ]
  },
  {
   "cell_type": "code",
   "execution_count": 14,
   "id": "deaea957",
   "metadata": {},
   "outputs": [],
   "source": [
    "# 학습\n",
    "logits = mnistM(X)"
   ]
  },
  {
   "cell_type": "code",
   "execution_count": 16,
   "id": "799fe58d",
   "metadata": {},
   "outputs": [
    {
     "name": "stdout",
     "output_type": "stream",
     "text": [
      "학습 결과 : tensor([[ 0.0280,  0.0056,  0.0261,  0.1101, -0.0506,  0.0952,  0.0466,  0.0426,\n",
      "          0.0858,  0.0674]], grad_fn=<AddmmBackward0>),torch.Size([1, 10])\n"
     ]
    }
   ],
   "source": [
    "print(f'학습 결과 : {logits},{logits.shape}')"
   ]
  },
  {
   "cell_type": "code",
   "execution_count": 17,
   "id": "42babf4d",
   "metadata": {},
   "outputs": [
    {
     "name": "stdout",
     "output_type": "stream",
     "text": [
      "tensor([[0.0982, 0.0960, 0.0980, 0.1065, 0.0907, 0.1050, 0.1000, 0.0996, 0.1040,\n",
      "         0.1021]], grad_fn=<SoftmaxBackward0>)\n",
      "tensor([3])\n"
     ]
    }
   ],
   "source": [
    "# 결과 분석\n",
    "pred_probab = nn.Softmax(dim=1)(logits)\n",
    "print(pred_probab)\n",
    "y_pred = pred_probab.argmax(1)\n",
    "print(y_pred)"
   ]
  },
  {
   "cell_type": "code",
   "execution_count": 19,
   "id": "fa02546e",
   "metadata": {},
   "outputs": [
    {
     "name": "stdout",
     "output_type": "stream",
     "text": [
      "Downloading http://fashion-mnist.s3-website.eu-central-1.amazonaws.com/train-images-idx3-ubyte.gz\n",
      "Downloading http://fashion-mnist.s3-website.eu-central-1.amazonaws.com/train-images-idx3-ubyte.gz to data\\FashionMNIST\\raw\\train-images-idx3-ubyte.gz\n"
     ]
    },
    {
     "data": {
      "application/vnd.jupyter.widget-view+json": {
       "model_id": "f72751ca1196437482b0e977c96b26cf",
       "version_major": 2,
       "version_minor": 0
      },
      "text/plain": [
       "  0%|          | 0/26421880 [00:00<?, ?it/s]"
      ]
     },
     "metadata": {},
     "output_type": "display_data"
    },
    {
     "name": "stdout",
     "output_type": "stream",
     "text": [
      "Extracting data\\FashionMNIST\\raw\\train-images-idx3-ubyte.gz to data\\FashionMNIST\\raw\n",
      "\n",
      "Downloading http://fashion-mnist.s3-website.eu-central-1.amazonaws.com/train-labels-idx1-ubyte.gz\n",
      "Downloading http://fashion-mnist.s3-website.eu-central-1.amazonaws.com/train-labels-idx1-ubyte.gz to data\\FashionMNIST\\raw\\train-labels-idx1-ubyte.gz\n"
     ]
    },
    {
     "data": {
      "application/vnd.jupyter.widget-view+json": {
       "model_id": "7adca29e294d407e9104f56b3b6945d2",
       "version_major": 2,
       "version_minor": 0
      },
      "text/plain": [
       "  0%|          | 0/29515 [00:00<?, ?it/s]"
      ]
     },
     "metadata": {},
     "output_type": "display_data"
    },
    {
     "name": "stdout",
     "output_type": "stream",
     "text": [
      "Extracting data\\FashionMNIST\\raw\\train-labels-idx1-ubyte.gz to data\\FashionMNIST\\raw\n",
      "\n",
      "Downloading http://fashion-mnist.s3-website.eu-central-1.amazonaws.com/t10k-images-idx3-ubyte.gz\n",
      "Downloading http://fashion-mnist.s3-website.eu-central-1.amazonaws.com/t10k-images-idx3-ubyte.gz to data\\FashionMNIST\\raw\\t10k-images-idx3-ubyte.gz\n"
     ]
    },
    {
     "data": {
      "application/vnd.jupyter.widget-view+json": {
       "model_id": "2127c2c8b7144ec1b2a9b51d52fd2a03",
       "version_major": 2,
       "version_minor": 0
      },
      "text/plain": [
       "  0%|          | 0/4422102 [00:00<?, ?it/s]"
      ]
     },
     "metadata": {},
     "output_type": "display_data"
    },
    {
     "name": "stdout",
     "output_type": "stream",
     "text": [
      "Extracting data\\FashionMNIST\\raw\\t10k-images-idx3-ubyte.gz to data\\FashionMNIST\\raw\n",
      "\n",
      "Downloading http://fashion-mnist.s3-website.eu-central-1.amazonaws.com/t10k-labels-idx1-ubyte.gz\n",
      "Downloading http://fashion-mnist.s3-website.eu-central-1.amazonaws.com/t10k-labels-idx1-ubyte.gz to data\\FashionMNIST\\raw\\t10k-labels-idx1-ubyte.gz\n"
     ]
    },
    {
     "data": {
      "application/vnd.jupyter.widget-view+json": {
       "model_id": "c62b5081e54c42abb6f94e4364f127ea",
       "version_major": 2,
       "version_minor": 0
      },
      "text/plain": [
       "  0%|          | 0/5148 [00:00<?, ?it/s]"
      ]
     },
     "metadata": {},
     "output_type": "display_data"
    },
    {
     "name": "stdout",
     "output_type": "stream",
     "text": [
      "Extracting data\\FashionMNIST\\raw\\t10k-labels-idx1-ubyte.gz to data\\FashionMNIST\\raw\n",
      "\n"
     ]
    }
   ],
   "source": [
    "training_data = datasets.FashionMNIST(\n",
    "    root=\"data\",\n",
    "    train=True,\n",
    "    download=True,\n",
    "    transform=ToTensor()\n",
    ")\n",
    "\n",
    "test_data = datasets.FashionMNIST(\n",
    "    root=\"data\",\n",
    "    train=False,\n",
    "    download=True,\n",
    "    transform=ToTensor()\n",
    ")"
   ]
  },
  {
   "cell_type": "code",
   "execution_count": 20,
   "id": "f58c8f13",
   "metadata": {},
   "outputs": [
    {
     "data": {
      "image/png": "[encoded data removed]",
      "text/plain": [
       "<Figure size 576x576 with 9 Axes>"
      ]
     },
     "metadata": {
      "needs_background": "light"
     },
     "output_type": "display_data"
    }
   ],
   "source": [
    "labels_map = {\n",
    "    0: \"T-Shirt\",\n",
    "    1: \"Trouser\",\n",
    "    2: \"Pullover\",\n",
    "    3: \"Dress\",\n",
    "    4: \"Coat\",\n",
    "    5: \"Sandal\",\n",
    "    6: \"Shirt\",\n",
    "    7: \"Sneaker\",\n",
    "    8: \"Bag\",\n",
    "    9: \"Ankle Boot\",\n",
    "}\n",
    "figure = plt.figure(figsize=(8, 8))\n",
    "cols, rows = 3, 3\n",
    "for i in range(1, cols * rows + 1):\n",
    "    sample_idx = torch.randint(len(training_data), size=(1,)).item()\n",
    "    img, label = training_data[sample_idx]\n",
    "    figure.add_subplot(rows, cols, i)\n",
    "    plt.title(labels_map[label])\n",
    "    plt.axis(\"off\")\n",
    "    plt.imshow(img.squeeze(), cmap=\"gray\")\n",
    "plt.show()"
   ]
  },
  {
   "cell_type": "code",
   "execution_count": null,
   "id": "53bf3f37",
   "metadata": {},
   "outputs": [],
   "source": []
  }
 ],
 "metadata": {
  "kernelspec": {
   "display_name": "Python 3 (ipykernel)",
   "language": "python",
   "name": "python3"
  },
  "language_info": {
   "codemirror_mode": {
    "name": "ipython",
    "version": 3
   },
   "file_extension": ".py",
   "mimetype": "text/x-python",
   "name": "python",
   "nbconvert_exporter": "python",
   "pygments_lexer": "ipython3",
   "version": "3.9.12"
  }
 },
 "nbformat": 4,
 "nbformat_minor": 5
}
