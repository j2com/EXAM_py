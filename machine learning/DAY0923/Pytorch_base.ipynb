{
 "cells": [
  {
   "cell_type": "markdown",
   "id": "98b33490",
   "metadata": {},
   "source": [
    "# Pytorch\n",
    "---"
   ]
  },
  {
   "cell_type": "markdown",
   "id": "96fde2c7",
   "metadata": {},
   "source": [
    "## [1] Tensor 생성\n",
    "---"
   ]
  },
  {
   "cell_type": "code",
   "execution_count": 1,
   "id": "3699e274",
   "metadata": {},
   "outputs": [],
   "source": [
    "import torch"
   ]
  },
  {
   "cell_type": "code",
   "execution_count": 2,
   "id": "84845ac1",
   "metadata": {},
   "outputs": [
    {
     "data": {
      "text/plain": [
       "'1.12.1'"
      ]
     },
     "execution_count": 2,
     "metadata": {},
     "output_type": "execute_result"
    }
   ],
   "source": [
    "torch.__version__"
   ]
  },
  {
   "cell_type": "code",
   "execution_count": 3,
   "id": "76941cfe",
   "metadata": {},
   "outputs": [],
   "source": [
    "## [기본] tensor(data)\n",
    "t1 = torch.tensor([1,2,3])"
   ]
  },
  {
   "cell_type": "code",
   "execution_count": 4,
   "id": "b4208dbe",
   "metadata": {},
   "outputs": [
    {
     "data": {
      "text/plain": [
       "(torch.Tensor, torch.Size([3]), torch.int64, device(type='cpu'))"
      ]
     },
     "execution_count": 4,
     "metadata": {},
     "output_type": "execute_result"
    }
   ],
   "source": [
    "type(t1), t1.shape, t1.dtype, t1.device"
   ]
  },
  {
   "cell_type": "code",
   "execution_count": 5,
   "id": "cde1afec",
   "metadata": {},
   "outputs": [],
   "source": [
    "t2 = torch.tensor([1.,2,3])"
   ]
  },
  {
   "cell_type": "code",
   "execution_count": 6,
   "id": "491a2f21",
   "metadata": {},
   "outputs": [
    {
     "data": {
      "text/plain": [
       "(torch.Tensor, torch.Size([3]), torch.float32, device(type='cpu'))"
      ]
     },
     "execution_count": 6,
     "metadata": {},
     "output_type": "execute_result"
    }
   ],
   "source": [
    "type(t2), t2.shape, t2.dtype, t2.device"
   ]
  },
  {
   "cell_type": "code",
   "execution_count": 7,
   "id": "a0479e01",
   "metadata": {},
   "outputs": [],
   "source": [
    "t3 = torch.tensor([[1.,2,3],[1,2,2]])"
   ]
  },
  {
   "cell_type": "code",
   "execution_count": 8,
   "id": "46f4764d",
   "metadata": {},
   "outputs": [
    {
     "data": {
      "text/plain": [
       "(torch.Tensor, torch.Size([2, 3]), torch.float32, device(type='cpu'))"
      ]
     },
     "execution_count": 8,
     "metadata": {},
     "output_type": "execute_result"
    }
   ],
   "source": [
    "type(t3), t3.shape, t3.dtype, t3.device"
   ]
  },
  {
   "cell_type": "code",
   "execution_count": 11,
   "id": "3cefd6bc",
   "metadata": {},
   "outputs": [],
   "source": [
    "t4 = torch.ones(size=(10,3)) # 디폴트 : float"
   ]
  },
  {
   "cell_type": "code",
   "execution_count": 14,
   "id": "eba437ce",
   "metadata": {},
   "outputs": [
    {
     "data": {
      "text/plain": [
       "tensor([[1., 1., 1.],\n",
       "        [1., 1., 1.]])"
      ]
     },
     "execution_count": 14,
     "metadata": {},
     "output_type": "execute_result"
    }
   ],
   "source": [
    "t5 = torch.ones_like(t3)\n",
    "t5"
   ]
  },
  {
   "cell_type": "markdown",
   "id": "73a37960",
   "metadata": {},
   "source": [
    "## Indexing & Slicing"
   ]
  },
  {
   "cell_type": "code",
   "execution_count": 15,
   "id": "fcdd7a55",
   "metadata": {},
   "outputs": [
    {
     "data": {
      "text/plain": [
       "tensor([[1., 2., 3.],\n",
       "        [1., 2., 2.]])"
      ]
     },
     "execution_count": 15,
     "metadata": {},
     "output_type": "execute_result"
    }
   ],
   "source": [
    "t3"
   ]
  },
  {
   "cell_type": "code",
   "execution_count": 16,
   "id": "0f9d284e",
   "metadata": {},
   "outputs": [
    {
     "data": {
      "text/plain": [
       "tensor([1., 2., 3.])"
      ]
     },
     "execution_count": 16,
     "metadata": {},
     "output_type": "execute_result"
    }
   ],
   "source": [
    "t3[0]"
   ]
  },
  {
   "cell_type": "code",
   "execution_count": 17,
   "id": "2942e4ca",
   "metadata": {},
   "outputs": [
    {
     "data": {
      "text/plain": [
       "tensor([1., 2., 2.])"
      ]
     },
     "execution_count": 17,
     "metadata": {},
     "output_type": "execute_result"
    }
   ],
   "source": [
    "t3[1]"
   ]
  },
  {
   "cell_type": "code",
   "execution_count": 19,
   "id": "a1b0c492",
   "metadata": {},
   "outputs": [
    {
     "data": {
      "text/plain": [
       "(2, torch.Size([2, 3]))"
      ]
     },
     "execution_count": 19,
     "metadata": {},
     "output_type": "execute_result"
    }
   ],
   "source": [
    "t3.ndim, t3.shape"
   ]
  },
  {
   "cell_type": "code",
   "execution_count": 23,
   "id": "b035446c",
   "metadata": {},
   "outputs": [
    {
     "data": {
      "text/plain": [
       "(tensor([1., 1.]), tensor(1.))"
      ]
     },
     "execution_count": 23,
     "metadata": {},
     "output_type": "execute_result"
    }
   ],
   "source": [
    "# [행, 열]\n",
    "t3[:,0], t3[0,0]"
   ]
  },
  {
   "cell_type": "code",
   "execution_count": 24,
   "id": "71add0d1",
   "metadata": {},
   "outputs": [],
   "source": [
    "tn = t3.numpy()"
   ]
  },
  {
   "cell_type": "code",
   "execution_count": 26,
   "id": "29a8665d",
   "metadata": {},
   "outputs": [],
   "source": [
    "tn[0] = 100"
   ]
  },
  {
   "cell_type": "code",
   "execution_count": 27,
   "id": "6d360c8b",
   "metadata": {},
   "outputs": [
    {
     "data": {
      "text/plain": [
       "array([[100., 100., 100.],\n",
       "       [  1.,   2.,   2.]], dtype=float32)"
      ]
     },
     "execution_count": 27,
     "metadata": {},
     "output_type": "execute_result"
    }
   ],
   "source": [
    "tn"
   ]
  },
  {
   "cell_type": "code",
   "execution_count": 28,
   "id": "a7b96e52",
   "metadata": {},
   "outputs": [
    {
     "data": {
      "text/plain": [
       "tensor([[100., 100., 100.],\n",
       "        [  1.,   2.,   2.]])"
      ]
     },
     "execution_count": 28,
     "metadata": {},
     "output_type": "execute_result"
    }
   ],
   "source": [
    "t3"
   ]
  },
  {
   "cell_type": "code",
   "execution_count": 29,
   "id": "eb2364d9",
   "metadata": {},
   "outputs": [
    {
     "data": {
      "text/plain": [
       "False"
      ]
     },
     "execution_count": 29,
     "metadata": {},
     "output_type": "execute_result"
    }
   ],
   "source": [
    "torch.cuda.is_available()"
   ]
  },
  {
   "cell_type": "code",
   "execution_count": 30,
   "id": "1c83cf77",
   "metadata": {},
   "outputs": [
    {
     "name": "stdout",
     "output_type": "stream",
     "text": [
      "상언쓰 바보\n",
      "상언쓰 바보\n",
      "상언쓰 바보\n",
      "상언쓰 바보\n",
      "상언쓰 바보\n",
      "상언쓰 바보\n",
      "상언쓰 바보\n",
      "상언쓰 바보\n",
      "상언쓰 바보\n",
      "상언쓰 바보\n",
      "상언쓰 바보\n",
      "상언쓰 바보\n",
      "상언쓰 바보\n",
      "상언쓰 바보\n",
      "상언쓰 바보\n",
      "상언쓰 바보\n",
      "상언쓰 바보\n",
      "상언쓰 바보\n",
      "상언쓰 바보\n",
      "상언쓰 바보\n",
      "상언쓰 바보\n",
      "상언쓰 바보\n",
      "상언쓰 바보\n",
      "상언쓰 바보\n",
      "상언쓰 바보\n",
      "상언쓰 바보\n",
      "상언쓰 바보\n",
      "상언쓰 바보\n",
      "상언쓰 바보\n",
      "상언쓰 바보\n",
      "상언쓰 바보\n",
      "상언쓰 바보\n"
     ]
    }
   ],
   "source": [
    "for _ in range(32):\n",
    "    print('상언쓰 바보')"
   ]
  },
  {
   "cell_type": "code",
   "execution_count": null,
   "id": "a848cda9",
   "metadata": {},
   "outputs": [],
   "source": []
  }
 ],
 "metadata": {
  "kernelspec": {
   "display_name": "Python 3 (ipykernel)",
   "language": "python",
   "name": "python3"
  },
  "language_info": {
   "codemirror_mode": {
    "name": "ipython",
    "version": 3
   },
   "file_extension": ".py",
   "mimetype": "text/x-python",
   "name": "python",
   "nbconvert_exporter": "python",
   "pygments_lexer": "ipython3",
   "version": "3.9.12"
  }
 },
 "nbformat": 4,
 "nbformat_minor": 5
}
