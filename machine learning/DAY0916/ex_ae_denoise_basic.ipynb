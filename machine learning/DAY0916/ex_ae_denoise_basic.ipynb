{
 "cells": [
  {
   "cell_type": "markdown",
   "id": "8efaa484",
   "metadata": {},
   "source": [
    "## AutoEncode 노이즈 제거\n",
    "\n",
    "- 데이터에 노이즈 제거 활용\n",
    "- 데이터에서 주요 특징만 추출 압축하기 때문에 노이즈는 "
   ]
  },
  {
   "cell_type": "code",
   "execution_count": 87,
   "id": "dd4cb062",
   "metadata": {},
   "outputs": [],
   "source": [
    "import tensorflow as tf"
   ]
  },
  {
   "cell_type": "code",
   "execution_count": 113,
   "id": "55bd37d8",
   "metadata": {},
   "outputs": [],
   "source": [
    "from tensorflow.keras.datasets.mnist import load_data\n",
    "from tensorflow.keras.utils import set_random_seed, plot_model\n",
    "from tensorflow.keras import Sequential\n",
    "from tensorflow.keras.layers import Dense, Dropout, Conv2D, MaxPool2D, UpSampling2D, Flatten\n",
    "import numpy as np\n",
    "import matplotlib.pyplot as plt"
   ]
  },
  {
   "cell_type": "code",
   "execution_count": 89,
   "id": "2070fc48",
   "metadata": {},
   "outputs": [],
   "source": [
    "(x_train,y_train), (x_test,y_test)=load_data()"
   ]
  },
  {
   "cell_type": "code",
   "execution_count": 90,
   "id": "8a53aac6",
   "metadata": {},
   "outputs": [
    {
     "data": {
      "text/plain": [
       "((60000, 28, 28), (10000, 28, 28))"
      ]
     },
     "execution_count": 90,
     "metadata": {},
     "output_type": "execute_result"
    }
   ],
   "source": [
    "x_train.shape, x_test.shape"
   ]
  },
  {
   "cell_type": "code",
   "execution_count": 91,
   "id": "fcf75195",
   "metadata": {},
   "outputs": [
    {
     "data": {
      "text/plain": [
       "((60000, 784), (10000, 784))"
      ]
     },
     "execution_count": 91,
     "metadata": {},
     "output_type": "execute_result"
    }
   ],
   "source": [
    "x_train = x_train.reshape(-1,28*28)/255.0\n",
    "x_test = x_test.reshape(-1,28*28)/255.0\n",
    "x_train.shape, x_test.shape"
   ]
  },
  {
   "cell_type": "code",
   "execution_count": 92,
   "id": "8b9088cc",
   "metadata": {},
   "outputs": [],
   "source": [
    "# 데이터셋에 노이즈 추가\n",
    "# np.random.normal(평균loc=0.0,표준편차 scale=1.0,출력size=None)\n",
    "x_train_noised = x_train + np.random.normal(0,0.5,size=x_train.shape)\n",
    "x_test_noised = x_test + np.random.normal(0,0.5,size=x_test.shape)\n",
    "\n",
    "x_train_noised = np.clip(x_train_noised,a_min=0,a_max=1)\n",
    "x_test_noised = np.clip(x_test_noised,a_min=0,a_max=1)"
   ]
  },
  {
   "cell_type": "code",
   "execution_count": 93,
   "id": "c0bbeb01",
   "metadata": {},
   "outputs": [],
   "source": [
    "def createAEModel(n_node):\n",
    "    model=Sequential()\n",
    "    #입력\n",
    "    model.add(Dense(units=n_node, activation='relu', input_shape=(784,)))\n",
    "    #출력\n",
    "    model.add(Dense(784,activation='sigmoid'))\n",
    "    model.compile(optimizer='adam',loss='mse')\n",
    "    return model"
   ]
  },
  {
   "cell_type": "code",
   "execution_count": 133,
   "id": "7e0c4bdd",
   "metadata": {},
   "outputs": [],
   "source": [
    "oneModel = createAEModel(1)"
   ]
  },
  {
   "cell_type": "code",
   "execution_count": 134,
   "id": "bf217568",
   "metadata": {},
   "outputs": [
    {
     "data": {
      "text/plain": [
       "<keras.callbacks.History at 0x14b231155e0>"
      ]
     },
     "execution_count": 134,
     "metadata": {},
     "output_type": "execute_result"
    }
   ],
   "source": [
    "oneModel.fit(x_train_noised,x_train,epochs=10,verbose=0)"
   ]
  },
  {
   "cell_type": "code",
   "execution_count": 96,
   "id": "988e2de4",
   "metadata": {},
   "outputs": [
    {
     "name": "stdout",
     "output_type": "stream",
     "text": [
      "313/313 [==============================] - 0s 904us/step - loss: 26.3544\n"
     ]
    },
    {
     "data": {
      "text/plain": [
       "26.35439109802246"
      ]
     },
     "execution_count": 96,
     "metadata": {},
     "output_type": "execute_result"
    }
   ],
   "source": [
    "oneModel.evaluate(x_test,y_test)"
   ]
  },
  {
   "cell_type": "code",
   "execution_count": 97,
   "id": "edf47b6d",
   "metadata": {},
   "outputs": [],
   "source": [
    "hundModel = createAEModel(100)"
   ]
  },
  {
   "cell_type": "code",
   "execution_count": 98,
   "id": "52db3141",
   "metadata": {},
   "outputs": [
    {
     "data": {
      "text/plain": [
       "<keras.callbacks.History at 0x14b0294e7c0>"
      ]
     },
     "execution_count": 98,
     "metadata": {},
     "output_type": "execute_result"
    }
   ],
   "source": [
    "hundModel.fit(x_train_noised,x_train,epochs=10,verbose=0)"
   ]
  },
  {
   "cell_type": "code",
   "execution_count": 108,
   "id": "67bad7be",
   "metadata": {},
   "outputs": [
    {
     "name": "stdout",
     "output_type": "stream",
     "text": [
      "1/1 [==============================] - 0s 14ms/step\n"
     ]
    }
   ],
   "source": [
    "pre_100=hundModel.predict(x_train_noised[4].reshape(-1, 784))"
   ]
  },
  {
   "cell_type": "code",
   "execution_count": 140,
   "id": "4ea713f7",
   "metadata": {},
   "outputs": [
    {
     "data": {
      "text/plain": [
       "(60000, 784)"
      ]
     },
     "execution_count": 140,
     "metadata": {},
     "output_type": "execute_result"
    }
   ],
   "source": [
    "x_train_noised.shape"
   ]
  },
  {
   "cell_type": "code",
   "execution_count": 106,
   "id": "087c2cc4",
   "metadata": {},
   "outputs": [
    {
     "data": {
      "text/plain": [
       "<matplotlib.image.AxesImage at 0x14b00a2d610>"
      ]
     },
     "execution_count": 106,
     "metadata": {},
     "output_type": "execute_result"
    },
    {
     "data": {
      "image/png": "[encoded data removed]",
      "text/plain": [
       "<Figure size 432x288 with 1 Axes>"
      ]
     },
     "metadata": {
      "needs_background": "light"
     },
     "output_type": "display_data"
    }
   ],
   "source": [
    "plt.imshow(x_train_noised[4].reshape(28,28), cmap='gray')"
   ]
  },
  {
   "cell_type": "code",
   "execution_count": 107,
   "id": "25c3cf14",
   "metadata": {},
   "outputs": [
    {
     "data": {
      "text/plain": [
       "<matplotlib.image.AxesImage at 0x14b00a84be0>"
      ]
     },
     "execution_count": 107,
     "metadata": {},
     "output_type": "execute_result"
    },
    {
     "data": {
      "image/png": "[encoded data removed]",
      "text/plain": [
       "<Figure size 432x288 with 1 Axes>"
      ]
     },
     "metadata": {
      "needs_background": "light"
     },
     "output_type": "display_data"
    }
   ],
   "source": [
    "plt.imshow(x_train[4].reshape(28,28), cmap='gray')"
   ]
  },
  {
   "cell_type": "code",
   "execution_count": 109,
   "id": "7c7b9d8e",
   "metadata": {},
   "outputs": [
    {
     "data": {
      "text/plain": [
       "<matplotlib.image.AxesImage at 0x14b00aeb550>"
      ]
     },
     "execution_count": 109,
     "metadata": {},
     "output_type": "execute_result"
    },
    {
     "data": {
      "image/png": "[encoded data removed]",
      "text/plain": [
       "<Figure size 432x288 with 1 Axes>"
      ]
     },
     "metadata": {
      "needs_background": "light"
     },
     "output_type": "display_data"
    }
   ],
   "source": [
    "plt.imshow(pre_100.reshape(28,28), cmap='gray')"
   ]
  },
  {
   "cell_type": "code",
   "execution_count": 111,
   "id": "138af252",
   "metadata": {},
   "outputs": [
    {
     "data": {
      "image/png": "[encoded data removed]",
      "text/plain": [
       "<Figure size 432x288 with 2 Axes>"
      ]
     },
     "metadata": {
      "needs_background": "light"
     },
     "output_type": "display_data"
    }
   ],
   "source": [
    "plt.subplot(1,2,1)\n",
    "plt.imshow(x_train_noised[4].reshape(28,28), cmap='gray')\n",
    "plt.subplot(1,2,2)\n",
    "plt.imshow(pre_100.reshape(28,28), cmap='gray')\n",
    "plt.show()"
   ]
  },
  {
   "cell_type": "code",
   "execution_count": null,
   "id": "661a6554",
   "metadata": {},
   "outputs": [],
   "source": []
  }
 ],
 "metadata": {
  "kernelspec": {
   "display_name": "Python 3 (ipykernel)",
   "language": "python",
   "name": "python3"
  },
  "language_info": {
   "codemirror_mode": {
    "name": "ipython",
    "version": 3
   },
   "file_extension": ".py",
   "mimetype": "text/x-python",
   "name": "python",
   "nbconvert_exporter": "python",
   "pygments_lexer": "ipython3",
   "version": "3.9.12"
  }
 },
 "nbformat": 4,
 "nbformat_minor": 5
}
