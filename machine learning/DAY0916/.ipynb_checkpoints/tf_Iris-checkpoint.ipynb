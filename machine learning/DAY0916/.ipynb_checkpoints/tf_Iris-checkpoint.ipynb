{
 "cells": [
  {
   "cell_type": "markdown",
   "id": "e2d5595e",
   "metadata": {},
   "source": [
    "## 모델 저장과 복원\n",
    "- 방법1) 모델전체 저장(모델 구조 + 가중치 + 변수)\n",
    "    - save_model()\n",
    "    - 복원시 추가 작업 필요없이 모델 파일 로딩해서 사용 가능\n",
    "- 방법2) 가중치만 저장\n",
    "    - save_weights()\n",
    "    - 복원시 모델 구조(Architechture) 생성 후 가중치 적용\n",
    "- 방법3) 모델 전체 또는 가중치 자동 저장\n",
    "    - fit()에서 ModelCheckPoint Event에 대한 callback 등록\n",
    "    - save_best_only = True : 모니터링 기준에 따라서 좋은 성능의 모델만 저장\n",
    "    - save_weight_only = True : 가중치만 저장\n",
    "- 파일 또는 폴더\n",
    "    - 파일 확장자가 없으면 폴더로 저장\n",
    "    - 파일 확장자\n",
    "        - h5/hdf5 : HDF5 포맷으로 모델 또는 가중치 저장\n",
    "        - ckpf : 체크파일형태로 저장"
   ]
  },
  {
   "cell_type": "markdown",
   "id": "1cac7b9a",
   "metadata": {},
   "source": [
    "## [1] 데이터 준비"
   ]
  },
  {
   "cell_type": "code",
   "execution_count": 1,
   "id": "1ec3ca8e",
   "metadata": {},
   "outputs": [],
   "source": [
    "import tensorflow as tf"
   ]
  },
  {
   "cell_type": "code",
   "execution_count": 40,
   "id": "7a364416",
   "metadata": {},
   "outputs": [],
   "source": [
    "from sklearn.datasets import load_iris\n",
    "from tensorflow.keras import Sequential\n",
    "from tensorflow.keras.layers import Dense, Dropout\n",
    "from tensorflow.keras.utils import set_random_seed, plot_model\n",
    "import numpy as np"
   ]
  },
  {
   "cell_type": "code",
   "execution_count": 24,
   "id": "65d272af",
   "metadata": {},
   "outputs": [],
   "source": [
    "iris=load_iris()"
   ]
  },
  {
   "cell_type": "code",
   "execution_count": 25,
   "id": "a8fbdd7e",
   "metadata": {},
   "outputs": [
    {
     "name": "stdout",
     "output_type": "stream",
     "text": [
      "(150, 4), (150,)\n"
     ]
    }
   ],
   "source": [
    "x_train = iris.data\n",
    "y_train = iris.target\n",
    "\n",
    "print(f'{x_train.shape}, {y_train.shape}')"
   ]
  },
  {
   "cell_type": "code",
   "execution_count": 26,
   "id": "2de1c608",
   "metadata": {},
   "outputs": [
    {
     "data": {
      "text/plain": [
       "(array(['setosa', 'versicolor', 'virginica'], dtype='<U10'),\n",
       " ['sepal length (cm)',\n",
       "  'sepal width (cm)',\n",
       "  'petal length (cm)',\n",
       "  'petal width (cm)'])"
      ]
     },
     "execution_count": 26,
     "metadata": {},
     "output_type": "execute_result"
    }
   ],
   "source": [
    "iris.target_names, iris.feature_names"
   ]
  },
  {
   "cell_type": "code",
   "execution_count": 27,
   "id": "c077cc6a",
   "metadata": {},
   "outputs": [
    {
     "data": {
      "text/plain": [
       "(150, 2)"
      ]
     },
     "execution_count": 27,
     "metadata": {},
     "output_type": "execute_result"
    }
   ],
   "source": [
    "# Feature => 꽃잎의 길이, 너비\n",
    "x_train = x_train[:,2:]\n",
    "x_train.shape"
   ]
  },
  {
   "cell_type": "code",
   "execution_count": 28,
   "id": "815f0ed1",
   "metadata": {},
   "outputs": [],
   "source": [
    "# Target => 문자 => 수치화"
   ]
  },
  {
   "cell_type": "code",
   "execution_count": 29,
   "id": "e7136f2e",
   "metadata": {},
   "outputs": [],
   "source": [
    "from sklearn.preprocessing import LabelEncoder, OneHotEncoder"
   ]
  },
  {
   "cell_type": "code",
   "execution_count": 30,
   "id": "93712b83",
   "metadata": {},
   "outputs": [],
   "source": [
    "le = LabelEncoder()\n",
    "y_train = le.fit_transform(y_train)"
   ]
  },
  {
   "cell_type": "code",
   "execution_count": 31,
   "id": "ee62edc7",
   "metadata": {},
   "outputs": [],
   "source": [
    "ohe = OneHotEncoder()\n",
    "y_train = ohe.fit_transform(y_train.reshape(-1,1))"
   ]
  },
  {
   "cell_type": "code",
   "execution_count": 32,
   "id": "0a54fd64",
   "metadata": {},
   "outputs": [],
   "source": [
    "y_train = y_train.toarray()"
   ]
  },
  {
   "cell_type": "code",
   "execution_count": 33,
   "id": "be5346ad",
   "metadata": {},
   "outputs": [
    {
     "data": {
      "text/plain": [
       "((150, 2), (150, 3), array([1., 0., 0.]))"
      ]
     },
     "execution_count": 33,
     "metadata": {},
     "output_type": "execute_result"
    }
   ],
   "source": [
    "x_train.shape, y_train.shape, y_train[0]"
   ]
  },
  {
   "cell_type": "code",
   "execution_count": 34,
   "id": "b5be6ee9",
   "metadata": {},
   "outputs": [],
   "source": [
    "from sklearn.model_selection import train_test_split"
   ]
  },
  {
   "cell_type": "code",
   "execution_count": 35,
   "id": "61dd6ff9",
   "metadata": {},
   "outputs": [],
   "source": [
    "x_train, x_test, y_train, y_test = train_test_split(x_train, y_train, test_size=0.2, random_state=11, stratify=y_train)"
   ]
  },
  {
   "cell_type": "code",
   "execution_count": 36,
   "id": "c4c40e7b",
   "metadata": {},
   "outputs": [],
   "source": [
    "x_train, x_val, y_train, y_val = train_test_split(x_train, y_train, test_size=0.2, random_state=11, stratify=y_train)"
   ]
  },
  {
   "cell_type": "code",
   "execution_count": 21,
   "id": "4d51104d",
   "metadata": {},
   "outputs": [],
   "source": [
    "from sklearn.preprocessing import StandardScaler"
   ]
  },
  {
   "cell_type": "code",
   "execution_count": 22,
   "id": "c6de24af",
   "metadata": {},
   "outputs": [],
   "source": [
    "ss = StandardScaler()"
   ]
  },
  {
   "cell_type": "code",
   "execution_count": 38,
   "id": "c27c8a04",
   "metadata": {},
   "outputs": [
    {
     "data": {
      "text/plain": [
       "((96, 2), (30, 2), (24, 2))"
      ]
     },
     "execution_count": 38,
     "metadata": {},
     "output_type": "execute_result"
    }
   ],
   "source": [
    "x_train_scaled = ss.fit_transform(x_train)\n",
    "x_test_scaled = ss.transform(x_test)\n",
    "x_val_scaled = ss.transform(x_val)\n",
    "x_train_scaled.shape, x_test_scaled.shape, x_val_scaled.shape"
   ]
  },
  {
   "cell_type": "code",
   "execution_count": 70,
   "id": "9d61f178",
   "metadata": {},
   "outputs": [],
   "source": [
    "model = Sequential()"
   ]
  },
  {
   "cell_type": "code",
   "execution_count": 71,
   "id": "5edb6def",
   "metadata": {},
   "outputs": [],
   "source": [
    "model.add(Dense(30, activation='relu', input_shape=(2,)))\n",
    "model.add(Dense(50, activation='relu'))\n",
    "model.add(Dense(70, activation='relu'))\n",
    "model.add(Dense(1000, activation='relu'))\n",
    "model.add(Dropout(0.25))\n",
    "model.add(Dense(3, activation='softmax'))"
   ]
  },
  {
   "cell_type": "code",
   "execution_count": 72,
   "id": "9b91b5ff",
   "metadata": {},
   "outputs": [
    {
     "data": {
      "image/png": "[encoded data removed]",
      "text/plain": [
       "<IPython.core.display.Image object>"
      ]
     },
     "execution_count": 72,
     "metadata": {},
     "output_type": "execute_result"
    }
   ],
   "source": [
    "plot_model(model)"
   ]
  },
  {
   "cell_type": "code",
   "execution_count": 73,
   "id": "0ff1b679",
   "metadata": {},
   "outputs": [
    {
     "name": "stdout",
     "output_type": "stream",
     "text": [
      "Model: \"sequential_2\"\n",
      "_________________________________________________________________\n",
      " Layer (type)                Output Shape              Param #   \n",
      "=================================================================\n",
      " dense_9 (Dense)             (None, 30)                90        \n",
      "                                                                 \n",
      " dense_10 (Dense)            (None, 50)                1550      \n",
      "                                                                 \n",
      " dense_11 (Dense)            (None, 70)                3570      \n",
      "                                                                 \n",
      " dense_12 (Dense)            (None, 1000)              71000     \n",
      "                                                                 \n",
      " dropout_2 (Dropout)         (None, 1000)              0         \n",
      "                                                                 \n",
      " dense_13 (Dense)            (None, 3)                 3003      \n",
      "                                                                 \n",
      "=================================================================\n",
      "Total params: 79,213\n",
      "Trainable params: 79,213\n",
      "Non-trainable params: 0\n",
      "_________________________________________________________________\n"
     ]
    }
   ],
   "source": [
    "model.summary()"
   ]
  },
  {
   "cell_type": "code",
   "execution_count": 74,
   "id": "636230c2",
   "metadata": {},
   "outputs": [],
   "source": [
    "model.compile(optimizer='adam',loss='categorical_crossentropy',metrics=['accuracy'])"
   ]
  },
  {
   "cell_type": "code",
   "execution_count": 109,
   "id": "3eabba3a",
   "metadata": {},
   "outputs": [
    {
     "name": "stdout",
     "output_type": "stream",
     "text": [
      "Epoch 1/30\n",
      "3/3 [==============================] - 0s 26ms/step - loss: 0.0293 - accuracy: 0.9896 - val_loss: 0.3159 - val_accuracy: 0.9167\n",
      "Epoch 2/30\n",
      "3/3 [==============================] - 0s 15ms/step - loss: 0.0304 - accuracy: 0.9896 - val_loss: 0.3386 - val_accuracy: 0.9167\n",
      "Epoch 3/30\n",
      "3/3 [==============================] - 0s 11ms/step - loss: 0.0290 - accuracy: 0.9896 - val_loss: 0.3996 - val_accuracy: 0.9167\n",
      "Epoch 4/30\n",
      "3/3 [==============================] - 0s 11ms/step - loss: 0.0302 - accuracy: 0.9896 - val_loss: 0.3523 - val_accuracy: 0.9167\n",
      "Epoch 5/30\n",
      "3/3 [==============================] - 0s 11ms/step - loss: 0.0305 - accuracy: 0.9896 - val_loss: 0.3206 - val_accuracy: 0.9167\n",
      "Epoch 6/30\n",
      "3/3 [==============================] - 0s 12ms/step - loss: 0.0303 - accuracy: 0.9896 - val_loss: 0.3551 - val_accuracy: 0.9167\n",
      "Epoch 7/30\n",
      "3/3 [==============================] - 0s 17ms/step - loss: 0.0310 - accuracy: 0.9896 - val_loss: 0.3351 - val_accuracy: 0.9167\n",
      "Epoch 8/30\n",
      "3/3 [==============================] - 0s 12ms/step - loss: 0.0321 - accuracy: 0.9896 - val_loss: 0.3815 - val_accuracy: 0.9167\n",
      "Epoch 9/30\n",
      "3/3 [==============================] - 0s 12ms/step - loss: 0.0257 - accuracy: 0.9896 - val_loss: 0.3539 - val_accuracy: 0.9167\n",
      "Epoch 10/30\n",
      "3/3 [==============================] - 0s 11ms/step - loss: 0.0283 - accuracy: 0.9896 - val_loss: 0.3471 - val_accuracy: 0.9167\n",
      "Epoch 11/30\n",
      "3/3 [==============================] - 0s 16ms/step - loss: 0.0263 - accuracy: 0.9896 - val_loss: 0.3521 - val_accuracy: 0.9167\n",
      "Epoch 12/30\n",
      "3/3 [==============================] - 0s 11ms/step - loss: 0.0284 - accuracy: 0.9896 - val_loss: 0.3772 - val_accuracy: 0.9167\n",
      "Epoch 13/30\n",
      "3/3 [==============================] - 0s 12ms/step - loss: 0.0275 - accuracy: 0.9896 - val_loss: 0.3676 - val_accuracy: 0.9167\n",
      "Epoch 14/30\n",
      "3/3 [==============================] - 0s 11ms/step - loss: 0.0264 - accuracy: 0.9896 - val_loss: 0.3977 - val_accuracy: 0.9167\n",
      "Epoch 15/30\n",
      "3/3 [==============================] - 0s 12ms/step - loss: 0.0343 - accuracy: 0.9792 - val_loss: 0.4073 - val_accuracy: 0.9167\n",
      "Epoch 16/30\n",
      "3/3 [==============================] - 0s 12ms/step - loss: 0.0384 - accuracy: 0.9896 - val_loss: 0.2859 - val_accuracy: 0.9167\n",
      "Epoch 17/30\n",
      "3/3 [==============================] - 0s 11ms/step - loss: 0.0330 - accuracy: 0.9896 - val_loss: 0.3031 - val_accuracy: 0.9167\n",
      "Epoch 18/30\n",
      "3/3 [==============================] - 0s 12ms/step - loss: 0.0292 - accuracy: 0.9896 - val_loss: 0.3762 - val_accuracy: 0.9167\n",
      "Epoch 19/30\n",
      "3/3 [==============================] - 0s 12ms/step - loss: 0.0339 - accuracy: 0.9896 - val_loss: 0.4280 - val_accuracy: 0.9167\n",
      "Epoch 20/30\n",
      "3/3 [==============================] - 0s 12ms/step - loss: 0.0282 - accuracy: 0.9896 - val_loss: 0.3864 - val_accuracy: 0.9167\n",
      "Epoch 21/30\n",
      "3/3 [==============================] - 0s 12ms/step - loss: 0.0339 - accuracy: 0.9896 - val_loss: 0.3103 - val_accuracy: 0.9167\n",
      "Epoch 22/30\n",
      "3/3 [==============================] - 0s 12ms/step - loss: 0.0285 - accuracy: 0.9896 - val_loss: 0.3275 - val_accuracy: 0.9167\n",
      "Epoch 23/30\n",
      "3/3 [==============================] - 0s 13ms/step - loss: 0.0291 - accuracy: 0.9896 - val_loss: 0.3857 - val_accuracy: 0.9167\n",
      "Epoch 24/30\n",
      "3/3 [==============================] - 0s 12ms/step - loss: 0.0276 - accuracy: 0.9896 - val_loss: 0.4121 - val_accuracy: 0.9167\n",
      "Epoch 25/30\n",
      "3/3 [==============================] - 0s 12ms/step - loss: 0.0284 - accuracy: 0.9896 - val_loss: 0.3879 - val_accuracy: 0.9167\n",
      "Epoch 26/30\n",
      "3/3 [==============================] - 0s 11ms/step - loss: 0.0269 - accuracy: 0.9896 - val_loss: 0.3492 - val_accuracy: 0.9167\n",
      "Epoch 27/30\n",
      "3/3 [==============================] - 0s 11ms/step - loss: 0.0269 - accuracy: 0.9896 - val_loss: 0.3340 - val_accuracy: 0.9167\n",
      "Epoch 28/30\n",
      "3/3 [==============================] - 0s 11ms/step - loss: 0.0357 - accuracy: 0.9896 - val_loss: 0.3421 - val_accuracy: 0.9167\n",
      "Epoch 29/30\n",
      "3/3 [==============================] - 0s 12ms/step - loss: 0.0258 - accuracy: 0.9896 - val_loss: 0.3768 - val_accuracy: 0.9167\n",
      "Epoch 30/30\n",
      "3/3 [==============================] - 0s 11ms/step - loss: 0.0239 - accuracy: 0.9896 - val_loss: 0.4013 - val_accuracy: 0.9167\n"
     ]
    },
    {
     "data": {
      "text/plain": [
       "<keras.callbacks.History at 0x21488668b20>"
      ]
     },
     "execution_count": 109,
     "metadata": {},
     "output_type": "execute_result"
    }
   ],
   "source": [
    "model.fit(x_train_scaled,y_train,validation_data=(x_val_scaled,y_val),epochs=30)"
   ]
  },
  {
   "cell_type": "code",
   "execution_count": 112,
   "id": "7bec0adf",
   "metadata": {},
   "outputs": [
    {
     "name": "stdout",
     "output_type": "stream",
     "text": [
      "1/1 [==============================] - 0s 14ms/step - loss: 0.4013 - accuracy: 0.9167\n"
     ]
    }
   ],
   "source": [
    "loss, accv = model.evaluate(x_val_scaled,y_val)"
   ]
  },
  {
   "cell_type": "code",
   "execution_count": 113,
   "id": "218b8139",
   "metadata": {},
   "outputs": [
    {
     "name": "stdout",
     "output_type": "stream",
     "text": [
      "1/1 [==============================] - 0s 13ms/step\n"
     ]
    },
    {
     "data": {
      "text/plain": [
       "array([[0.  , 1.  , 0.  ],\n",
       "       [0.  , 0.24, 0.76],\n",
       "       [0.  , 1.  , 0.  ],\n",
       "       [1.  , 0.  , 0.  ],\n",
       "       [1.  , 0.  , 0.  ],\n",
       "       [0.  , 1.  , 0.  ],\n",
       "       [1.  , 0.  , 0.  ],\n",
       "       [0.  , 0.  , 1.  ],\n",
       "       [1.  , 0.  , 0.  ],\n",
       "       [0.  , 0.  , 1.  ],\n",
       "       [0.  , 1.  , 0.  ],\n",
       "       [1.  , 0.  , 0.  ],\n",
       "       [0.  , 1.  , 0.  ],\n",
       "       [0.  , 0.  , 1.  ],\n",
       "       [1.  , 0.  , 0.  ],\n",
       "       [0.  , 1.  , 0.  ],\n",
       "       [1.  , 0.  , 0.  ],\n",
       "       [0.  , 0.98, 0.02],\n",
       "       [0.  , 0.  , 1.  ],\n",
       "       [1.  , 0.  , 0.  ],\n",
       "       [0.  , 0.  , 1.  ],\n",
       "       [0.  , 1.  , 0.  ],\n",
       "       [1.  , 0.  , 0.  ],\n",
       "       [0.  , 0.  , 1.  ],\n",
       "       [0.02, 0.98, 0.  ],\n",
       "       [1.  , 0.  , 0.  ],\n",
       "       [0.  , 1.  , 0.  ],\n",
       "       [0.  , 0.  , 1.  ],\n",
       "       [0.  , 0.01, 0.99],\n",
       "       [0.  , 1.  , 0.  ]], dtype=float32)"
      ]
     },
     "execution_count": 113,
     "metadata": {},
     "output_type": "execute_result"
    }
   ],
   "source": [
    "np.round(model.predict(x_test_scaled),2)"
   ]
  },
  {
   "cell_type": "code",
   "execution_count": 114,
   "id": "4e14952e",
   "metadata": {},
   "outputs": [
    {
     "data": {
      "text/plain": [
       "array([[0., 1., 0.],\n",
       "       [0., 0., 1.],\n",
       "       [0., 1., 0.],\n",
       "       [1., 0., 0.],\n",
       "       [1., 0., 0.],\n",
       "       [0., 1., 0.],\n",
       "       [1., 0., 0.],\n",
       "       [0., 0., 1.],\n",
       "       [1., 0., 0.],\n",
       "       [0., 0., 1.],\n",
       "       [0., 1., 0.],\n",
       "       [1., 0., 0.],\n",
       "       [0., 1., 0.],\n",
       "       [0., 0., 1.],\n",
       "       [1., 0., 0.],\n",
       "       [0., 1., 0.],\n",
       "       [1., 0., 0.],\n",
       "       [0., 0., 1.],\n",
       "       [0., 0., 1.],\n",
       "       [1., 0., 0.],\n",
       "       [0., 0., 1.],\n",
       "       [0., 1., 0.],\n",
       "       [1., 0., 0.],\n",
       "       [0., 0., 1.],\n",
       "       [0., 1., 0.],\n",
       "       [1., 0., 0.],\n",
       "       [0., 1., 0.],\n",
       "       [0., 0., 1.],\n",
       "       [0., 0., 1.],\n",
       "       [0., 1., 0.]])"
      ]
     },
     "execution_count": 114,
     "metadata": {},
     "output_type": "execute_result"
    }
   ],
   "source": [
    "y_test"
   ]
  },
  {
   "cell_type": "code",
   "execution_count": 115,
   "id": "7b78f4fa",
   "metadata": {},
   "outputs": [],
   "source": [
    "from tensorflow.keras.models import save_model"
   ]
  },
  {
   "cell_type": "code",
   "execution_count": 116,
   "id": "291756e7",
   "metadata": {},
   "outputs": [],
   "source": [
    "M_FILE = 'irisModel.h5'"
   ]
  },
  {
   "cell_type": "code",
   "execution_count": 120,
   "id": "ca34c77f",
   "metadata": {},
   "outputs": [],
   "source": [
    "if accv>0.98:\n",
    "    save_model(model, M_FILE)\n",
    "    model.save_weights(M_FILE)"
   ]
  },
  {
   "cell_type": "markdown",
   "id": "2b70d09d",
   "metadata": {},
   "source": [
    "### [6-1] 모델 복원"
   ]
  },
  {
   "cell_type": "code",
   "execution_count": 121,
   "id": "98287ffc",
   "metadata": {},
   "outputs": [],
   "source": [
    "from tensorflow.keras.models import load_model"
   ]
  },
  {
   "cell_type": "code",
   "execution_count": 122,
   "id": "b713629b",
   "metadata": {},
   "outputs": [
    {
     "ename": "ValueError",
     "evalue": "No model config found in the file at <tensorflow.python.platform.gfile.GFile object at 0x000002148894DA00>.",
     "output_type": "error",
     "traceback": [
      "\u001b[1;31m---------------------------------------------------------------------------\u001b[0m",
      "\u001b[1;31mValueError\u001b[0m                                Traceback (most recent call last)",
      "Input \u001b[1;32mIn [122]\u001b[0m, in \u001b[0;36m<cell line: 1>\u001b[1;34m()\u001b[0m\n\u001b[1;32m----> 1\u001b[0m reModel \u001b[38;5;241m=\u001b[39m \u001b[43mload_model\u001b[49m\u001b[43m(\u001b[49m\u001b[43mM_FILE\u001b[49m\u001b[43m)\u001b[49m\n",
      "File \u001b[1;32m~\\AppData\\Roaming\\Python\\Python39\\site-packages\\keras\\utils\\traceback_utils.py:67\u001b[0m, in \u001b[0;36mfilter_traceback.<locals>.error_handler\u001b[1;34m(*args, **kwargs)\u001b[0m\n\u001b[0;32m     65\u001b[0m \u001b[38;5;28;01mexcept\u001b[39;00m \u001b[38;5;167;01mException\u001b[39;00m \u001b[38;5;28;01mas\u001b[39;00m e:  \u001b[38;5;66;03m# pylint: disable=broad-except\u001b[39;00m\n\u001b[0;32m     66\u001b[0m   filtered_tb \u001b[38;5;241m=\u001b[39m _process_traceback_frames(e\u001b[38;5;241m.\u001b[39m__traceback__)\n\u001b[1;32m---> 67\u001b[0m   \u001b[38;5;28;01mraise\u001b[39;00m e\u001b[38;5;241m.\u001b[39mwith_traceback(filtered_tb) \u001b[38;5;28;01mfrom\u001b[39;00m \u001b[38;5;28mNone\u001b[39m\n\u001b[0;32m     68\u001b[0m \u001b[38;5;28;01mfinally\u001b[39;00m:\n\u001b[0;32m     69\u001b[0m   \u001b[38;5;28;01mdel\u001b[39;00m filtered_tb\n",
      "File \u001b[1;32m~\\AppData\\Roaming\\Python\\Python39\\site-packages\\keras\\saving\\hdf5_format.py:182\u001b[0m, in \u001b[0;36mload_model_from_hdf5\u001b[1;34m(filepath, custom_objects, compile)\u001b[0m\n\u001b[0;32m    180\u001b[0m model_config \u001b[38;5;241m=\u001b[39m f\u001b[38;5;241m.\u001b[39mattrs\u001b[38;5;241m.\u001b[39mget(\u001b[38;5;124m'\u001b[39m\u001b[38;5;124mmodel_config\u001b[39m\u001b[38;5;124m'\u001b[39m)\n\u001b[0;32m    181\u001b[0m \u001b[38;5;28;01mif\u001b[39;00m model_config \u001b[38;5;129;01mis\u001b[39;00m \u001b[38;5;28;01mNone\u001b[39;00m:\n\u001b[1;32m--> 182\u001b[0m   \u001b[38;5;28;01mraise\u001b[39;00m \u001b[38;5;167;01mValueError\u001b[39;00m(\u001b[38;5;124mf\u001b[39m\u001b[38;5;124m'\u001b[39m\u001b[38;5;124mNo model config found in the file at \u001b[39m\u001b[38;5;132;01m{\u001b[39;00mfilepath\u001b[38;5;132;01m}\u001b[39;00m\u001b[38;5;124m.\u001b[39m\u001b[38;5;124m'\u001b[39m)\n\u001b[0;32m    183\u001b[0m \u001b[38;5;28;01mif\u001b[39;00m \u001b[38;5;28mhasattr\u001b[39m(model_config, \u001b[38;5;124m'\u001b[39m\u001b[38;5;124mdecode\u001b[39m\u001b[38;5;124m'\u001b[39m):\n\u001b[0;32m    184\u001b[0m   model_config \u001b[38;5;241m=\u001b[39m model_config\u001b[38;5;241m.\u001b[39mdecode(\u001b[38;5;124m'\u001b[39m\u001b[38;5;124mutf-8\u001b[39m\u001b[38;5;124m'\u001b[39m)\n",
      "\u001b[1;31mValueError\u001b[0m: No model config found in the file at <tensorflow.python.platform.gfile.GFile object at 0x000002148894DA00>."
     ]
    }
   ],
   "source": [
    "reModel = load_model(M_FILE)"
   ]
  },
  {
   "cell_type": "code",
   "execution_count": null,
   "id": "e948da60",
   "metadata": {},
   "outputs": [],
   "source": []
  }
 ],
 "metadata": {
  "kernelspec": {
   "display_name": "Python 3 (ipykernel)",
   "language": "python",
   "name": "python3"
  },
  "language_info": {
   "codemirror_mode": {
    "name": "ipython",
    "version": 3
   },
   "file_extension": ".py",
   "mimetype": "text/x-python",
   "name": "python",
   "nbconvert_exporter": "python",
   "pygments_lexer": "ipython3",
   "version": "3.9.12"
  }
 },
 "nbformat": 4,
 "nbformat_minor": 5
}
