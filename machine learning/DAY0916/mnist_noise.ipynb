{
 "cells": [
  {
   "cell_type": "code",
   "execution_count": 175,
   "id": "5855f7f3",
   "metadata": {},
   "outputs": [],
   "source": [
    "import tensorflow as tf"
   ]
  },
  {
   "cell_type": "code",
   "execution_count": 176,
   "id": "fdd7bd90",
   "metadata": {},
   "outputs": [],
   "source": [
    "from tensorflow.keras.datasets.mnist import load_data\n",
    "from tensorflow.keras.utils import set_random_seed, plot_model\n",
    "from tensorflow.keras import Sequential\n",
    "from tensorflow.keras.layers import Dense, Dropout, Conv2D, MaxPooling2D, UpSampling2D, Flatten\n",
    "import numpy as np\n",
    "import matplotlib.pyplot as plt"
   ]
  },
  {
   "cell_type": "code",
   "execution_count": 177,
   "id": "4eb4d277",
   "metadata": {},
   "outputs": [],
   "source": [
    "(x_train,y_train), (x_test,y_test)=load_data()"
   ]
  },
  {
   "cell_type": "code",
   "execution_count": 178,
   "id": "071c441b",
   "metadata": {},
   "outputs": [
    {
     "data": {
      "text/plain": [
       "((60000, 28, 28, 1), (10000, 28, 28, 1))"
      ]
     },
     "execution_count": 178,
     "metadata": {},
     "output_type": "execute_result"
    }
   ],
   "source": [
    "x_train = x_train.reshape(-1,28,28,1)/255.0\n",
    "x_test = x_test.reshape(-1,28,28,1)/255.0\n",
    "x_train.shape, x_test.shape"
   ]
  },
  {
   "cell_type": "code",
   "execution_count": 179,
   "id": "bbc57c57",
   "metadata": {},
   "outputs": [],
   "source": [
    "# 데이터셋에 노이즈 추가\n",
    "# np.random.normal(평균loc=0.0,표준편차 scale=1.0,출력size=None)\n",
    "x_train_noised = x_train + np.random.normal(0,0.5,size=x_train.shape)\n",
    "x_test_noised = x_test + np.random.normal(0,0.5,size=x_test.shape)\n",
    "\n",
    "x_train_noised = np.clip(x_train_noised,a_min=0,a_max=1)\n",
    "x_test_noised = np.clip(x_test_noised,a_min=0,a_max=1)"
   ]
  },
  {
   "cell_type": "code",
   "execution_count": 196,
   "id": "406c6e55",
   "metadata": {},
   "outputs": [],
   "source": [
    "def createCV(n_node):\n",
    "    modelcv=Sequential()\n",
    "    modelcv.add(Conv2D(n_node, kernel_size=3, padding='same', activation='relu', input_shape=(28,28,1)))\n",
    "    modelcv.add(MaxPooling2D())\n",
    "    modelcv.add(Conv2D(n_node, kernel_size=3, activation='relu', padding='same'))\n",
    "    modelcv.add(UpSampling2D())\n",
    "    modelcv.add(Conv2D(1, kernel_size=3, padding='same', activation='sigmoid'))    \n",
    "    modelcv.compile(optimizer='adam',loss='binary_crossentropy',metrics=['accuracy'])\n",
    "    return modelcv"
   ]
  },
  {
   "cell_type": "code",
   "execution_count": 207,
   "id": "73700491",
   "metadata": {},
   "outputs": [],
   "source": [
    "cvmodel = createCV(100)"
   ]
  },
  {
   "cell_type": "code",
   "execution_count": 208,
   "id": "745d1170",
   "metadata": {},
   "outputs": [
    {
     "name": "stdout",
     "output_type": "stream",
     "text": [
      "Epoch 1/10\n",
      "1875/1875 [==============================] - 157s 84ms/step - loss: 0.1154 - accuracy: 0.8115\n",
      "Epoch 2/10\n",
      "1875/1875 [==============================] - 164s 88ms/step - loss: 0.1018 - accuracy: 0.8129\n",
      "Epoch 3/10\n",
      "1875/1875 [==============================] - 168s 90ms/step - loss: 0.0993 - accuracy: 0.8131\n",
      "Epoch 4/10\n",
      "1875/1875 [==============================] - 174s 93ms/step - loss: 0.0982 - accuracy: 0.8132\n",
      "Epoch 5/10\n",
      "1875/1875 [==============================] - 179s 96ms/step - loss: 0.0976 - accuracy: 0.8133\n",
      "Epoch 6/10\n",
      "1875/1875 [==============================] - 177s 94ms/step - loss: 0.0971 - accuracy: 0.8134\n",
      "Epoch 7/10\n",
      "1875/1875 [==============================] - 177s 94ms/step - loss: 0.0969 - accuracy: 0.8134\n",
      "Epoch 8/10\n",
      "1875/1875 [==============================] - 172s 92ms/step - loss: 0.0966 - accuracy: 0.8134\n",
      "Epoch 9/10\n",
      "1875/1875 [==============================] - 173s 93ms/step - loss: 0.0965 - accuracy: 0.8134\n",
      "Epoch 10/10\n",
      "1875/1875 [==============================] - 173s 92ms/step - loss: 0.0963 - accuracy: 0.8134\n"
     ]
    },
    {
     "data": {
      "text/plain": [
       "<keras.callbacks.History at 0x26a23aeb1f0>"
      ]
     },
     "execution_count": 208,
     "metadata": {},
     "output_type": "execute_result"
    }
   ],
   "source": [
    "cvmodel.fit(x_train_noised,x_train,epochs=10)"
   ]
  },
  {
   "cell_type": "code",
   "execution_count": 213,
   "id": "ee8ad4e7",
   "metadata": {},
   "outputs": [
    {
     "name": "stdout",
     "output_type": "stream",
     "text": [
      "Model: \"sequential_20\"\n",
      "_________________________________________________________________\n",
      " Layer (type)                Output Shape              Param #   \n",
      "=================================================================\n",
      " conv2d_58 (Conv2D)          (None, 28, 28, 100)       1000      \n",
      "                                                                 \n",
      " max_pooling2d_16 (MaxPoolin  (None, 14, 14, 100)      0         \n",
      " g2D)                                                            \n",
      "                                                                 \n",
      " conv2d_59 (Conv2D)          (None, 14, 14, 100)       90100     \n",
      "                                                                 \n",
      " up_sampling2d_16 (UpSamplin  (None, 28, 28, 100)      0         \n",
      " g2D)                                                            \n",
      "                                                                 \n",
      " conv2d_60 (Conv2D)          (None, 28, 28, 1)         901       \n",
      "                                                                 \n",
      "=================================================================\n",
      "Total params: 92,001\n",
      "Trainable params: 92,001\n",
      "Non-trainable params: 0\n",
      "_________________________________________________________________\n"
     ]
    }
   ],
   "source": [
    "cvmodel.summary()"
   ]
  },
  {
   "cell_type": "code",
   "execution_count": 214,
   "id": "04159933",
   "metadata": {},
   "outputs": [
    {
     "name": "stdout",
     "output_type": "stream",
     "text": [
      "1/1 [==============================] - 0s 104ms/step\n",
      "1/1 [==============================] - 0s 67ms/step\n"
     ]
    }
   ],
   "source": [
    "pre = cvmodel.predict(x_train_noised[4].reshape(-1,28,28,1))\n",
    "pre_test = cvmodel.predict(x_test_noised[4].reshape(-1,28,28,1))"
   ]
  },
  {
   "cell_type": "code",
   "execution_count": 215,
   "id": "ceda8003",
   "metadata": {},
   "outputs": [
    {
     "data": {
      "image/png": "[encoded data removed]",
      "text/plain": [
       "<Figure size 432x288 with 2 Axes>"
      ]
     },
     "metadata": {
      "needs_background": "light"
     },
     "output_type": "display_data"
    }
   ],
   "source": [
    "plt.subplot(1,2,1)\n",
    "plt.imshow(x_train_noised[4].reshape(28,28), cmap='gray')\n",
    "plt.subplot(1,2,2)\n",
    "plt.imshow(pre.reshape(28,28), cmap='gray')\n",
    "plt.show()"
   ]
  },
  {
   "cell_type": "code",
   "execution_count": 216,
   "id": "756070bf",
   "metadata": {},
   "outputs": [
    {
     "data": {
      "image/png": "[encoded data removed]",
      "text/plain": [
       "<Figure size 432x288 with 2 Axes>"
      ]
     },
     "metadata": {
      "needs_background": "light"
     },
     "output_type": "display_data"
    }
   ],
   "source": [
    "plt.subplot(1,2,1)\n",
    "plt.imshow(x_test_noised[4].reshape(28,28), cmap='gray')\n",
    "plt.subplot(1,2,2)\n",
    "plt.imshow(pre_test.reshape(28,28), cmap='gray')\n",
    "plt.show()"
   ]
  },
  {
   "cell_type": "code",
   "execution_count": null,
   "id": "3dd241d2",
   "metadata": {},
   "outputs": [],
   "source": []
  }
 ],
 "metadata": {
  "kernelspec": {
   "display_name": "Python 3 (ipykernel)",
   "language": "python",
   "name": "python3"
  },
  "language_info": {
   "codemirror_mode": {
    "name": "ipython",
    "version": 3
   },
   "file_extension": ".py",
   "mimetype": "text/x-python",
   "name": "python",
   "nbconvert_exporter": "python",
   "pygments_lexer": "ipython3",
   "version": "3.9.12"
  }
 },
 "nbformat": 4,
 "nbformat_minor": 5
}
