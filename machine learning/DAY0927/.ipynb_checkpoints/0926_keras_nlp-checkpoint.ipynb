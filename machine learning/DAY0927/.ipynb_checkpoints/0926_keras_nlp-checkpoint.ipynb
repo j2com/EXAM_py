{
 "cells": [
  {
   "cell_type": "markdown",
   "id": "0e8a2cb6-dac2-498a-885e-ea44f488dde7",
   "metadata": {},
   "source": [
    "## 영화 리뷰분석\n",
    "- IMDB 데이터 활용"
   ]
  },
  {
   "cell_type": "code",
   "execution_count": 4,
   "id": "b624396a-4c05-4541-9dd5-f1a1791fd2ab",
   "metadata": {},
   "outputs": [],
   "source": [
    "from tensorflow.keras.preprocessing.sequence import pad_sequences\n",
    "from tensorflow.keras.utils import to_categorical, plot_model\n",
    "from tensorflow.keras.datasets.imdb import load_data\n",
    "\n",
    "from tensorflow.keras.models import Sequential\n",
    "from tensorflow.keras.layers import SimpleRNN, Dense\n",
    "\n",
    "\n",
    "from sklearn.model_selection import train_test_split\n",
    "import numpy as np\n",
    "import matplotlib.pyplot as plt"
   ]
  },
  {
   "cell_type": "markdown",
   "id": "75bb461a-45d4-4869-92fd-d4b2a45d6d0c",
   "metadata": {},
   "source": [
    "## [1] 데이터 준비"
   ]
  },
  {
   "cell_type": "code",
   "execution_count": 91,
   "id": "4b2eade9-d8c1-4d09-9cb5-d35eda87567e",
   "metadata": {},
   "outputs": [],
   "source": [
    "(X_train, y_train), (X_test, y_test) = load_data(num_words=500)"
   ]
  },
  {
   "cell_type": "code",
   "execution_count": 92,
   "id": "381451a5-39de-4106-bf61-a5c476398ce5",
   "metadata": {
    "tags": []
   },
   "outputs": [
    {
     "data": {
      "text/plain": [
       "((25000,), (25000,), (25000,), (25000,))"
      ]
     },
     "execution_count": 92,
     "metadata": {},
     "output_type": "execute_result"
    }
   ],
   "source": [
    "X_train.shape, y_train.shape, X_test.shape, y_test.shape"
   ]
  },
  {
   "cell_type": "code",
   "execution_count": 93,
   "id": "23f8f454-82bb-4b4b-90e2-558a2c528f67",
   "metadata": {},
   "outputs": [
    {
     "name": "stdout",
     "output_type": "stream",
     "text": [
      "[0] - 1]\n",
      "[1, 14, 22, 16, 43, 2, 2, 2, 2, 65, 458, 2, 66, 2, 4, 173, 36, 256, 5, 25, 100, 43, 2, 112, 50, 2, 2, 9, 35, 480, 284, 5, 150, 4, 172, 112, 167, 2, 336, 385, 39, 4, 172, 2, 2, 17, 2, 38, 13, 447, 4, 192, 50, 16, 6, 147, 2, 19, 14, 22, 4, 2, 2, 469, 4, 22, 71, 87, 12, 16, 43, 2, 38, 76, 15, 13, 2, 4, 22, 17, 2, 17, 12, 16, 2, 18, 2, 5, 62, 386, 12, 8, 316, 8, 106, 5, 4, 2, 2, 16, 480, 66, 2, 33, 4, 130, 12, 16, 38, 2, 5, 25, 124, 51, 36, 135, 48, 25, 2, 33, 6, 22, 12, 215, 28, 77, 52, 5, 14, 407, 16, 82, 2, 8, 4, 107, 117, 2, 15, 256, 4, 2, 7, 2, 5, 2, 36, 71, 43, 2, 476, 26, 400, 317, 46, 7, 4, 2, 2, 13, 104, 88, 4, 381, 15, 297, 98, 32, 2, 56, 26, 141, 6, 194, 2, 18, 4, 226, 22, 21, 134, 476, 26, 480, 5, 144, 30, 2, 18, 51, 36, 28, 224, 92, 25, 104, 4, 226, 65, 16, 38, 2, 88, 12, 16, 283, 5, 16, 2, 113, 103, 32, 15, 16, 2, 19, 178, 32]\n",
      "------------------------------------------------------------\n",
      "[1] - 0]\n",
      "[1, 194, 2, 194, 2, 78, 228, 5, 6, 2, 2, 2, 134, 26, 4, 2, 8, 118, 2, 14, 394, 20, 13, 119, 2, 189, 102, 5, 207, 110, 2, 21, 14, 69, 188, 8, 30, 23, 7, 4, 249, 126, 93, 4, 114, 9, 2, 2, 5, 2, 4, 116, 9, 35, 2, 4, 229, 9, 340, 2, 4, 118, 9, 4, 130, 2, 19, 4, 2, 5, 89, 29, 2, 46, 37, 4, 455, 9, 45, 43, 38, 2, 2, 398, 4, 2, 26, 2, 5, 163, 11, 2, 2, 4, 2, 9, 194, 2, 7, 2, 2, 349, 2, 148, 2, 2, 2, 15, 123, 125, 68, 2, 2, 15, 349, 165, 2, 98, 5, 4, 228, 9, 43, 2, 2, 15, 299, 120, 5, 120, 174, 11, 220, 175, 136, 50, 9, 2, 228, 2, 5, 2, 2, 245, 2, 5, 4, 2, 131, 152, 491, 18, 2, 32, 2, 2, 14, 9, 6, 371, 78, 22, 2, 64, 2, 9, 8, 168, 145, 23, 4, 2, 15, 16, 4, 2, 5, 28, 6, 52, 154, 462, 33, 89, 78, 285, 16, 145, 95]\n",
      "------------------------------------------------------------\n"
     ]
    }
   ],
   "source": [
    "# print(X_train[n]) for문\n",
    "# for idx in range(len(X_train)):\n",
    "for idx in range(2): # 2개만\n",
    "    print(f'[{idx}] - {y_train[idx]}]\\n{X_train[idx]}')\n",
    "    print('--'*30)"
   ]
  },
  {
   "cell_type": "markdown",
   "id": "e4149372-780a-4bca-ae37-a6ad73f243a2",
   "metadata": {},
   "source": [
    "---\n",
    "## [2] 학습용 데아터 변환\n",
    "- keras에서 이미 대부분의 전처리가 끝난 데이터\n",
    "- 길이 조정이 필요 => 패딩(Padding)"
   ]
  },
  {
   "cell_type": "markdown",
   "id": "11212f72-bcf0-4b64-a23c-552300427e09",
   "metadata": {},
   "source": [
    "#### [2-1] 데이터별 길이 결정"
   ]
  },
  {
   "cell_type": "code",
   "execution_count": 95,
   "id": "7a2a70ad-7119-47d3-b55f-fbeda9553905",
   "metadata": {},
   "outputs": [
    {
     "data": {
      "text/plain": [
       "(11, 2494, 238.71364)"
      ]
     },
     "execution_count": 95,
     "metadata": {},
     "output_type": "execute_result"
    }
   ],
   "source": [
    "len_idx=[]\n",
    "for idx in X_train:\n",
    "    len_idx.append(len(idx))\n",
    "\n",
    "min(len_idx), max(len_idx), sum(len_idx)/25000"
   ]
  },
  {
   "cell_type": "code",
   "execution_count": 96,
   "id": "cacc501c-91e1-491f-a6dd-b71e782ce2f5",
   "metadata": {},
   "outputs": [
    {
     "data": {
      "text/plain": [
       "{'whiskers': [<matplotlib.lines.Line2D at 0x22610033ac0>,\n",
       "  <matplotlib.lines.Line2D at 0x22610033d30>],\n",
       " 'caps': [<matplotlib.lines.Line2D at 0x226100683a0>,\n",
       "  <matplotlib.lines.Line2D at 0x22610068670>],\n",
       " 'boxes': [<matplotlib.lines.Line2D at 0x226100338b0>],\n",
       " 'medians': [<matplotlib.lines.Line2D at 0x22610068940>],\n",
       " 'fliers': [<matplotlib.lines.Line2D at 0x22610068c10>],\n",
       " 'means': []}"
      ]
     },
     "execution_count": 96,
     "metadata": {},
     "output_type": "execute_result"
    },
    {
     "data": {
      "image/png": "[encoded data removed]",
      "text/plain": [
       "<Figure size 432x288 with 1 Axes>"
      ]
     },
     "metadata": {
      "needs_background": "light"
     },
     "output_type": "display_data"
    }
   ],
   "source": [
    "plt.boxplot(len_idx)"
   ]
  },
  {
   "cell_type": "code",
   "execution_count": 97,
   "id": "3fde7ea5-87ae-4ce3-a612-e9a281f4a337",
   "metadata": {},
   "outputs": [
    {
     "data": {
      "text/plain": [
       "(238.71364, 176.49367364852034, 11, 2494)"
      ]
     },
     "execution_count": 97,
     "metadata": {},
     "output_type": "execute_result"
    }
   ],
   "source": [
    "all_length=np.array([ len(x) for x in X_train])\n",
    "all_length.mean(), all_length.std(), all_length.min(), all_length.max()"
   ]
  },
  {
   "cell_type": "code",
   "execution_count": 98,
   "id": "464b3494-0a99-4863-b76c-fdb0707d27eb",
   "metadata": {},
   "outputs": [
    {
     "data": {
      "text/plain": [
       "(array([1.7598e+04, 5.3690e+03, 1.4070e+03, 5.1700e+02, 9.4000e+01,\n",
       "        7.0000e+00, 5.0000e+00, 2.0000e+00, 0.0000e+00, 1.0000e+00]),\n",
       " array([  11. ,  259.3,  507.6,  755.9, 1004.2, 1252.5, 1500.8, 1749.1,\n",
       "        1997.4, 2245.7, 2494. ]),\n",
       " <BarContainer object of 10 artists>)"
      ]
     },
     "execution_count": 98,
     "metadata": {},
     "output_type": "execute_result"
    },
    {
     "data": {
      "image/png": "[encoded data removed]",
      "text/plain": [
       "<Figure size 432x288 with 1 Axes>"
      ]
     },
     "metadata": {
      "needs_background": "light"
     },
     "output_type": "display_data"
    }
   ],
   "source": [
    "plt.hist(all_length)"
   ]
  },
  {
   "cell_type": "markdown",
   "id": "5dc9ebec-9276-4533-b311-c422ebe27b9b",
   "metadata": {},
   "source": [
    "#### [2-2] 데이터별 길이 변경"
   ]
  },
  {
   "cell_type": "code",
   "execution_count": 105,
   "id": "ad476060-75b5-455a-963d-57dcb80c3a55",
   "metadata": {},
   "outputs": [
    {
     "data": {
      "text/plain": [
       "((25000, 100),\n",
       " array([[  1,  14,  22, ...,   2,   2,  16],\n",
       "        [  1, 194,   2, ...,   2,   7,   2],\n",
       "        [  1,  14,  47, ..., 326,  23,   2],\n",
       "        ...,\n",
       "        [  1,  11,   6, ...,   2,  11,   4],\n",
       "        [  1,   2,   2, ...,   4,   2,   2],\n",
       "        [  1,  17,   6, ...,   5,   2, 272]]))"
      ]
     },
     "execution_count": 105,
     "metadata": {},
     "output_type": "execute_result"
    }
   ],
   "source": [
    "train_seq = pad_sequences(X_train, padding='pre',\n",
    "                       maxlen=100, truncating='post')\n",
    "\n",
    "test_seq = pad_sequences(X_test, padding='pre',\n",
    "                       maxlen=100, truncating='post')\n",
    "train_seq.shape, train_seq"
   ]
  },
  {
   "cell_type": "code",
   "execution_count": 106,
   "id": "f77f8185-3a33-44ac-a7f5-0753f7db192d",
   "metadata": {},
   "outputs": [],
   "source": [
    "train_ca=to_categorical(train_seq)\n",
    "test_Ca=to_categorical(test_seq)"
   ]
  },
  {
   "cell_type": "markdown",
   "id": "58832726-9d35-40e7-a02b-15f09a154e44",
   "metadata": {},
   "source": [
    "#### [2=3] 훈련/테스트 데이터 준비"
   ]
  },
  {
   "cell_type": "code",
   "execution_count": 107,
   "id": "bd3b5684-7ffc-401e-bd11-9eacccb95743",
   "metadata": {},
   "outputs": [],
   "source": [
    "X_train, X_val, y_Train, y_val=train_test_split(train_ca,\n",
    "                               y_train, test_size=0.2,\n",
    "                               random_state=42)"
   ]
  },
  {
   "cell_type": "code",
   "execution_count": 109,
   "id": "feb686a0-048d-4c2f-951a-81da822b413e",
   "metadata": {},
   "outputs": [
    {
     "data": {
      "text/plain": [
       "((20000, 100, 500), (5000, 100, 500), (25000,), (5000,))"
      ]
     },
     "execution_count": 109,
     "metadata": {},
     "output_type": "execute_result"
    }
   ],
   "source": [
    "X_train.shape, X_val.shape, y_train.shape, y_val.shape"
   ]
  },
  {
   "cell_type": "markdown",
   "id": "48445648-92d1-408f-8c4b-a6f525ebd430",
   "metadata": {},
   "source": [
    "---\n",
    "## [3] 모델 생성\n",
    "- 목표 : 영화리뷰 데이터 학습 후 사용자가 입력하는 리뷰가 긍정/부정 분류\n",
    "- 학습모델 : RNN 순환신경망\n",
    "- 입력 : 500\n",
    "- 출력 : 1 => 분류 => 2진분류\n",
    "https://keras.io/api/layers/recurrent_layers/simple_rnn/\n",
    "https://keras.io/api/layers/recurrent_layers/"
   ]
  },
  {
   "cell_type": "markdown",
   "id": "b30d3689-559c-41c2-b947-cf637c52824a",
   "metadata": {},
   "source": [
    "#### [3-1] 모델 구성\n",
    "- 입력층 : n개 - 타임스템프 수, \n",
    "- 출력층 : 노드 1개 - sigmoid => Dense"
   ]
  },
  {
   "cell_type": "code",
   "execution_count": 5,
   "id": "2b26a332-53fc-4aba-bca5-a5ff7f965e4a",
   "metadata": {},
   "outputs": [
    {
     "name": "stdout",
     "output_type": "stream",
     "text": [
      "Model: \"sequential_1\"\n",
      "_________________________________________________________________\n",
      " Layer (type)                Output Shape              Param #   \n",
      "=================================================================\n",
      " simple_rnn (SimpleRNN)      (None, 10)                5110      \n",
      "                                                                 \n",
      " dense_2 (Dense)             (None, 1)                 11        \n",
      "                                                                 \n",
      "=================================================================\n",
      "Total params: 5,121\n",
      "Trainable params: 5,121\n",
      "Non-trainable params: 0\n",
      "_________________________________________________________________\n"
     ]
    }
   ],
   "source": [
    "model=Sequential()\n",
    "\n",
    "# 1개 노드 = w500 + b + w9 * 9 =\n",
    "model.add(SimpleRNN(10, input_shape=(100, 500)))\n",
    "model.add(Dense(1, activation='sigmoid'))\n",
    "\n",
    "model.summary()"
   ]
  },
  {
   "cell_type": "code",
   "execution_count": 7,
   "id": "10a5d4ad-6f66-4b6a-8f7d-5ec34e16e211",
   "metadata": {},
   "outputs": [
    {
     "data": {
      "image/png": "[encoded data removed]",
      "text/plain": [
       "<IPython.core.display.Image object>"
      ]
     },
     "execution_count": 7,
     "metadata": {},
     "output_type": "execute_result"
    }
   ],
   "source": [
    "plot_model(model)"
   ]
  },
  {
   "cell_type": "markdown",
   "id": "1f29ca51-61e6-47ba-8179-9cba0a19931b",
   "metadata": {},
   "source": [
    "#### [3-2] 모델 생성\n",
    "- 손실함수, 최적화방법, 평가항목 => compile()"
   ]
  },
  {
   "cell_type": "code",
   "execution_count": 8,
   "id": "fd79feca-6620-4bbb-b7a9-41c2a63eff3b",
   "metadata": {},
   "outputs": [],
   "source": [
    "model.compile(loss='binary_crossentropy',\n",
    "             optimizer='adam',\n",
    "             metrics='accuracy')"
   ]
  },
  {
   "cell_type": "code",
   "execution_count": null,
   "id": "20fd9a3c-fac1-4974-b5b8-58a05feae0e1",
   "metadata": {},
   "outputs": [],
   "source": []
  },
  {
   "cell_type": "markdown",
   "id": "601a2c88-9c66-4de1-952c-1cb952c94ce3",
   "metadata": {},
   "source": [
    "#### [3-3] 모델학습"
   ]
  },
  {
   "cell_type": "code",
   "execution_count": null,
   "id": "4a21c64b-0d66-436f-8398-984e13a1c6ee",
   "metadata": {},
   "outputs": [],
   "source": []
  },
  {
   "cell_type": "code",
   "execution_count": null,
   "id": "34e5c8e1-79ca-4f97-9829-b486f2bc6dbb",
   "metadata": {},
   "outputs": [],
   "source": []
  },
  {
   "cell_type": "markdown",
   "id": "8c6a17b4-8d2f-46d5-8666-27475757c7af",
   "metadata": {},
   "source": [
    "## [4] 학습\n",
    "- train 데이터와 타겟으로 학습 진행\n",
    "- epoch마다 검증 진행 -> validation_data, validation_split\n",
    "- 학습 중 이벤트 처리 -> callbacks"
   ]
  },
  {
   "cell_type": "code",
   "execution_count": null,
   "id": "cc0a5838-a9ad-4cf8-b0b0-5ec8d2d2e924",
   "metadata": {},
   "outputs": [],
   "source": []
  },
  {
   "cell_type": "code",
   "execution_count": null,
   "id": "3198589f-e0e4-44db-8df8-b6876b4e9dde",
   "metadata": {},
   "outputs": [],
   "source": []
  },
  {
   "cell_type": "markdown",
   "id": "d1567c99-ee6e-471f-befb-b661a3a7e8db",
   "metadata": {},
   "source": [
    "## [5] 평가"
   ]
  },
  {
   "cell_type": "code",
   "execution_count": null,
   "id": "0c0ec39f-68cb-48f2-961c-7a8a8484fab5",
   "metadata": {},
   "outputs": [],
   "source": []
  },
  {
   "cell_type": "code",
   "execution_count": null,
   "id": "0df24d7b-ea94-4e93-803a-ff0969d96079",
   "metadata": {},
   "outputs": [],
   "source": []
  }
 ],
 "metadata": {
  "kernelspec": {
   "display_name": "Python 3 (ipykernel)",
   "language": "python",
   "name": "python3"
  },
  "language_info": {
   "codemirror_mode": {
    "name": "ipython",
    "version": 3
   },
   "file_extension": ".py",
   "mimetype": "text/x-python",
   "name": "python",
   "nbconvert_exporter": "python",
   "pygments_lexer": "ipython3",
   "version": "3.9.12"
  }
 },
 "nbformat": 4,
 "nbformat_minor": 5
}
