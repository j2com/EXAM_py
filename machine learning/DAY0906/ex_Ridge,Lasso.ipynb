{
 "cells": [
  {
   "cell_type": "code",
   "execution_count": 3,
   "id": "84b16252",
   "metadata": {},
   "outputs": [],
   "source": [
    "# 모듈 로딩 \n",
    "import pandas as pd\n",
    "import numpy as np"
   ]
  },
  {
   "cell_type": "markdown",
   "id": "b4628351",
   "metadata": {},
   "source": [
    "# 데이터 로딩"
   ]
  },
  {
   "cell_type": "code",
   "execution_count": 108,
   "id": "9a2001f6",
   "metadata": {},
   "outputs": [],
   "source": [
    "data_url = \"http://lib.stat.cmu.edu/datasets/boston\"\n",
    "bostonDF = pd.read_csv(data_url, sep=\"\\s+\", skiprows=22, header=None)\n",
    "data = np.hstack([bostonDF.values[::2, :], bostonDF.values[1::2, :2]])\n",
    "target = bostonDF.values[1::2, 2]"
   ]
  },
  {
   "cell_type": "markdown",
   "id": "ab185f50",
   "metadata": {},
   "source": [
    "# DATA, TARGET 나누기"
   ]
  },
  {
   "cell_type": "code",
   "execution_count": 109,
   "id": "afb5e0da",
   "metadata": {},
   "outputs": [],
   "source": [
    "data = pd.DataFrame(np.hstack([raw_df.values[::2, :], raw_df.values[1::2, :2]]))\n",
    "data.columns=['CRIM','ZN','INDUS','CHAS','NOX','RM','AGE','DIS','RAD','TAX','PTRATIO','B','LSTAT']\n",
    "target = pd.DataFrame(raw_df.values[1::2, 2])\n",
    "target.columns=['MEDV']"
   ]
  },
  {
   "cell_type": "code",
   "execution_count": 115,
   "id": "e153e0f0",
   "metadata": {},
   "outputs": [],
   "source": [
    "from sklearn.linear_model import LinearRegression\n",
    "from sklearn.model_selection import train_test_split\n",
    "from sklearn.linear_model import Ridge\n",
    "from sklearn.linear_model import Lasso\n",
    "from sklearn.preprocessing import PolynomialFeatures\n",
    "from sklearn.preprocessing import StandardScaler"
   ]
  },
  {
   "cell_type": "markdown",
   "id": "b1f90f24",
   "metadata": {},
   "source": [
    "# train, test 데이터 나누기"
   ]
  },
  {
   "cell_type": "code",
   "execution_count": 111,
   "id": "f59a5c69",
   "metadata": {},
   "outputs": [],
   "source": [
    "train_input, test_input, train_target, test_target = train_test_split(data, target, random_state=42)"
   ]
  },
  {
   "cell_type": "markdown",
   "id": "26b30d56",
   "metadata": {},
   "source": [
    "# LinearRegression"
   ]
  },
  {
   "cell_type": "code",
   "execution_count": 112,
   "id": "6c3535e9",
   "metadata": {},
   "outputs": [],
   "source": [
    "lr = LinearRegression()"
   ]
  },
  {
   "cell_type": "code",
   "execution_count": 113,
   "id": "fe737e8c",
   "metadata": {},
   "outputs": [
    {
     "data": {
      "text/plain": [
       "LinearRegression()"
      ]
     },
     "execution_count": 113,
     "metadata": {},
     "output_type": "execute_result"
    }
   ],
   "source": [
    "lr.fit(train_input,train_target)"
   ]
  },
  {
   "cell_type": "code",
   "execution_count": 114,
   "id": "ecc236ab",
   "metadata": {
    "scrolled": true
   },
   "outputs": [
    {
     "name": "stdout",
     "output_type": "stream",
     "text": [
      "0.7480872598623441\n",
      "0.6844267283527129\n"
     ]
    }
   ],
   "source": [
    "print(lr.score(train_input,train_target))\n",
    "print(lr.score(test_input,test_target))"
   ]
  },
  {
   "cell_type": "markdown",
   "id": "57ae3b45",
   "metadata": {},
   "source": [
    "# PolynomialFeatures(다항 회귀)"
   ]
  },
  {
   "cell_type": "code",
   "execution_count": 163,
   "id": "5adc5dcf",
   "metadata": {},
   "outputs": [],
   "source": [
    "poly_features = PolynomialFeatures(degree=2, include_bias=True)\n",
    "poly_train_input = poly_features.fit_transform(train_input)\n",
    "poly_test_input = poly_features.fit_transform(test_input)"
   ]
  },
  {
   "cell_type": "markdown",
   "id": "0d9943c9",
   "metadata": {},
   "source": [
    "# Standard Scaler (스케일링)"
   ]
  },
  {
   "cell_type": "code",
   "execution_count": 156,
   "id": "6db4c76d",
   "metadata": {},
   "outputs": [],
   "source": [
    "ss = StandardScaler()"
   ]
  },
  {
   "cell_type": "code",
   "execution_count": 164,
   "id": "818e6e58",
   "metadata": {
    "scrolled": true
   },
   "outputs": [],
   "source": [
    "train_input_scaled = ss.fit_transform(poly_train_input)\n",
    "test_input_scaled = ss.fit_transform(poly_test_input)"
   ]
  },
  {
   "cell_type": "markdown",
   "id": "20847ddd",
   "metadata": {},
   "source": [
    "# Ridge (L2) "
   ]
  },
  {
   "cell_type": "code",
   "execution_count": 193,
   "id": "e99ddece",
   "metadata": {},
   "outputs": [],
   "source": [
    "RidgeModel = Ridge(alpha=3.0)"
   ]
  },
  {
   "cell_type": "code",
   "execution_count": 194,
   "id": "572f4c9c",
   "metadata": {},
   "outputs": [
    {
     "data": {
      "text/plain": [
       "Ridge(alpha=3.0)"
      ]
     },
     "execution_count": 194,
     "metadata": {},
     "output_type": "execute_result"
    }
   ],
   "source": [
    "RidgeModel.fit(train_input_scaled,train_target)"
   ]
  },
  {
   "cell_type": "code",
   "execution_count": 195,
   "id": "ee4a1178",
   "metadata": {},
   "outputs": [
    {
     "name": "stdout",
     "output_type": "stream",
     "text": [
      "0.9104618038512231\n",
      "0.7864212127677377\n"
     ]
    }
   ],
   "source": [
    "print(RidgeModel.score(train_input_scaled,train_target))\n",
    "print(RidgeModel.score(test_input_scaled,test_target))"
   ]
  },
  {
   "cell_type": "code",
   "execution_count": 196,
   "id": "71ab477e",
   "metadata": {},
   "outputs": [
    {
     "data": {
      "text/plain": [
       "array([[ 0.00000000e+00,  1.79668826e-01, -1.34027036e+00,\n",
       "         1.03415353e+00,  1.48433865e+00,  1.21554885e+00,\n",
       "         2.90828285e+00,  1.47624173e+00, -2.38888772e+00,\n",
       "         2.77416700e+00,  1.42518955e+00,  3.56933766e-01,\n",
       "         8.00804843e-01,  4.75990071e-02,  8.87163326e-01,\n",
       "         2.07487463e-01,  3.46296586e-01,  2.79549922e+00,\n",
       "        -8.07720181e-01, -7.72761821e-01, -5.87378635e-01,\n",
       "        -3.63421393e-01, -3.81522149e-01, -5.37099783e-02,\n",
       "         3.69756193e-02, -2.53767138e-01,  4.71287388e-01,\n",
       "         3.75858271e-01, -2.33999740e-01,  5.87237065e-03,\n",
       "        -1.51155829e-01,  3.04766187e-01,  1.73108588e-01,\n",
       "        -4.73576106e-01, -6.83929992e-01,  1.73168846e+00,\n",
       "         1.74763872e+00, -8.32686458e-01, -1.02361530e+00,\n",
       "         1.40604451e+00, -1.90981134e-01,  3.07088358e-01,\n",
       "        -1.68349748e+00,  9.88244942e-01, -5.82470300e-01,\n",
       "         8.54934814e-01,  1.40217169e+00, -8.45735042e-01,\n",
       "         7.69668105e-01, -2.74824933e+00,  1.48433865e+00,\n",
       "        -2.39406768e+00, -2.84649042e+00,  6.95589999e-01,\n",
       "         1.76174007e-01, -1.51438776e+00, -6.79195983e-01,\n",
       "         8.30627637e-01,  1.80723770e+00, -8.82833280e-01,\n",
       "        -4.41172732e-01, -9.59302866e-01, -6.34018764e-01,\n",
       "        -8.53152093e-01,  2.87882592e-01, -1.28502739e-01,\n",
       "        -8.07169734e-01, -5.01894043e-01,  5.23799147e-01,\n",
       "         6.03657419e+00, -1.53454697e+00,  6.42548706e-01,\n",
       "        -3.39879212e+00, -4.34385233e+00, -3.38110851e+00,\n",
       "         1.80880423e+00, -2.89587508e+00,  2.88346208e-01,\n",
       "         1.39118188e-02,  1.82312796e+00,  5.43211142e-01,\n",
       "        -2.49764440e-01, -1.00786564e+00, -2.03220971e+00,\n",
       "         1.88049795e+00,  1.04207512e+00, -1.23636281e+00,\n",
       "         3.71696116e-01, -1.55885795e+00,  1.16961368e+00,\n",
       "        -1.02489748e+00,  4.18354556e-01,  2.25483878e+00,\n",
       "         2.02201176e-01, -3.07999201e+00,  2.97675401e-01,\n",
       "         1.96814794e+00, -6.32751024e-02, -2.33129813e+00,\n",
       "         9.29467486e-01,  1.69642532e-01,  3.36309735e-01,\n",
       "        -2.03742122e-01, -1.05263176e+00,  4.93294400e+00]])"
      ]
     },
     "execution_count": 196,
     "metadata": {},
     "output_type": "execute_result"
    }
   ],
   "source": [
    "RidgeModel.coef_"
   ]
  },
  {
   "cell_type": "markdown",
   "id": "becb67aa",
   "metadata": {},
   "source": [
    "# Lasso (L1)"
   ]
  },
  {
   "cell_type": "code",
   "execution_count": 197,
   "id": "0b83bd69",
   "metadata": {},
   "outputs": [],
   "source": [
    "LassoModel = Lasso(alpha=1.0)"
   ]
  },
  {
   "cell_type": "code",
   "execution_count": 198,
   "id": "f5ad9926",
   "metadata": {},
   "outputs": [
    {
     "data": {
      "text/plain": [
       "Lasso()"
      ]
     },
     "execution_count": 198,
     "metadata": {},
     "output_type": "execute_result"
    }
   ],
   "source": [
    "LassoModel.fit(train_input_scaled,train_target)"
   ]
  },
  {
   "cell_type": "code",
   "execution_count": 199,
   "id": "4fb13242",
   "metadata": {},
   "outputs": [
    {
     "name": "stdout",
     "output_type": "stream",
     "text": [
      "0.7358087152701375\n",
      "0.6635543295913682\n"
     ]
    }
   ],
   "source": [
    "print(LassoModel.score(train_input_scaled,train_target))\n",
    "print(LassoModel.score(test_input_scaled,test_target))"
   ]
  },
  {
   "cell_type": "code",
   "execution_count": 200,
   "id": "0b426260",
   "metadata": {},
   "outputs": [
    {
     "data": {
      "text/plain": [
       "array([ 0.        , -0.        ,  0.        , -0.        ,  0.        ,\n",
       "       -0.        ,  0.        , -0.        , -0.        , -0.        ,\n",
       "       -0.        , -0.92071502,  0.        , -0.        , -0.        ,\n",
       "        0.        , -0.        ,  0.21832742, -0.        , -0.        ,\n",
       "       -0.        , -0.1307385 , -0.        , -0.        , -0.        ,\n",
       "       -0.        , -0.        ,  0.        ,  0.        ,  0.        ,\n",
       "        0.        ,  0.        ,  0.        , -0.        ,  0.        ,\n",
       "        0.        ,  0.        ,  0.        , -0.        , -0.        ,\n",
       "        0.        , -0.        , -0.        , -0.        , -0.        ,\n",
       "       -0.        , -0.        , -0.        , -0.        , -0.        ,\n",
       "        0.        ,  0.        ,  0.        ,  0.        ,  0.        ,\n",
       "        0.        ,  0.        ,  0.        ,  0.        ,  0.        ,\n",
       "       -0.        , -0.        , -0.        , -0.        , -0.        ,\n",
       "       -0.        , -0.        ,  0.        , -0.        ,  3.45909948,\n",
       "       -0.        , -0.        , -0.        , -0.        , -0.        ,\n",
       "        0.60340121, -3.4912791 , -0.        , -0.        , -0.        ,\n",
       "       -0.        , -0.        ,  0.        , -0.        , -0.        ,\n",
       "       -0.        , -0.10533553, -0.        , -0.        , -0.        ,\n",
       "       -0.        , -0.        , -0.        , -0.        , -0.        ,\n",
       "       -0.        , -0.        , -0.        , -0.        , -0.        ,\n",
       "        0.        , -0.        ,  0.        , -0.        , -0.        ])"
      ]
     },
     "execution_count": 200,
     "metadata": {},
     "output_type": "execute_result"
    }
   ],
   "source": [
    "LassoModel.coef_"
   ]
  },
  {
   "cell_type": "code",
   "execution_count": null,
   "id": "19fe16aa",
   "metadata": {},
   "outputs": [],
   "source": []
  }
 ],
 "metadata": {
  "kernelspec": {
   "display_name": "Python 3 (ipykernel)",
   "language": "python",
   "name": "python3"
  },
  "language_info": {
   "codemirror_mode": {
    "name": "ipython",
    "version": 3
   },
   "file_extension": ".py",
   "mimetype": "text/x-python",
   "name": "python",
   "nbconvert_exporter": "python",
   "pygments_lexer": "ipython3",
   "version": "3.9.12"
  }
 },
 "nbformat": 4,
 "nbformat_minor": 5
}
