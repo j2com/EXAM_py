{
 "cells": [
  {
   "cell_type": "markdown",
   "id": "6f2ffb7f",
   "metadata": {},
   "source": [
    "# 1. 사전처리 + 분석\n",
    "# 2. all-estimators\n",
    "# 3. 교차검증 - K,St / LOOCV / \n",
    "    - 모델검증\n",
    "    - 시간\n",
    "# 4. 튜닝(Hyper - Parameter)\n",
    "    - 가중치(모델 파라미터 w) 제어 위해 >> Ridge, Lasso\n",
    "    - KNN - K"
   ]
  },
  {
   "cell_type": "markdown",
   "id": "bb64419c",
   "metadata": {},
   "source": [
    "## 다양한 교차검증\n",
    "\n",
    "- model_selection 모듈\n",
    "    * cross_val_score()\n",
    "    * cross_val_validate()\n",
    "    * cross_val_predict()"
   ]
  },
  {
   "cell_type": "code",
   "execution_count": 12,
   "id": "b0dd69df",
   "metadata": {},
   "outputs": [],
   "source": [
    "from sklearn.model_selection import cross_validate\n",
    "from sklearn.model_selection import cross_val_score\n",
    "from sklearn.datasets import load_iris\n",
    "from sklearn.linear_model import LogisticRegression\n",
    "import numpy as np\n",
    "import pandas as pd"
   ]
  },
  {
   "cell_type": "markdown",
   "id": "c0531477",
   "metadata": {},
   "source": [
    "### [1] 데이터 로딩"
   ]
  },
  {
   "cell_type": "code",
   "execution_count": 2,
   "id": "d32d9630",
   "metadata": {},
   "outputs": [],
   "source": [
    "iris = load_iris()"
   ]
  },
  {
   "cell_type": "code",
   "execution_count": 3,
   "id": "4857d861",
   "metadata": {},
   "outputs": [],
   "source": [
    "# Bunch 타입 => dict\n",
    "data = iris['data']\n",
    "target = iris['target']\n",
    "featureName = iris['feature_names'] # 컬럼명\n",
    "className = iris['target_names']"
   ]
  },
  {
   "cell_type": "markdown",
   "id": "b456bc9b",
   "metadata": {},
   "source": [
    "### [2] 모델 생성"
   ]
  },
  {
   "cell_type": "code",
   "execution_count": 11,
   "id": "8ba7cc06",
   "metadata": {},
   "outputs": [],
   "source": [
    "lrModel = LogisticRegression(max_iter=500)"
   ]
  },
  {
   "cell_type": "code",
   "execution_count": 17,
   "id": "f52414a9",
   "metadata": {},
   "outputs": [],
   "source": [
    "# 교차 검증으로 모델 학습 진행\n",
    "# => 학습 데이터 기반 5개 Fold로 학습 & 검증 진행\n",
    "result = cross_val_score(lrModel, data, target, cv=10)"
   ]
  },
  {
   "cell_type": "code",
   "execution_count": 19,
   "id": "3baa8060",
   "metadata": {},
   "outputs": [
    {
     "data": {
      "text/plain": [
       "array([1.        , 0.93333333, 1.        , 1.        , 0.93333333,\n",
       "       0.93333333, 0.93333333, 1.        , 1.        , 1.        ])"
      ]
     },
     "execution_count": 19,
     "metadata": {},
     "output_type": "execute_result"
    }
   ],
   "source": [
    "# cv = n 개 모델에 대한 정확도(accuracy)\n",
    "result "
   ]
  },
  {
   "cell_type": "code",
   "execution_count": 28,
   "id": "ef3303b2",
   "metadata": {},
   "outputs": [],
   "source": [
    "allResult = cross_validate(lrModel, data, target, return_train_score= True, cv=10)"
   ]
  },
  {
   "cell_type": "code",
   "execution_count": 29,
   "id": "d860fa4e",
   "metadata": {},
   "outputs": [
    {
     "data": {
      "text/plain": [
       "{'fit_time': array([0.02997494, 0.02156115, 0.02126765, 0.01991439, 0.02004528,\n",
       "        0.02197862, 0.02049041, 0.01596832, 0.01995611, 0.1585114 ]),\n",
       " 'score_time': array([0.        , 0.        , 0.        , 0.00079918, 0.        ,\n",
       "        0.        , 0.00100374, 0.        , 0.        , 0.        ]),\n",
       " 'test_score': array([1.        , 0.93333333, 1.        , 1.        , 0.93333333,\n",
       "        0.93333333, 0.93333333, 1.        , 1.        , 1.        ]),\n",
       " 'train_score': array([0.97037037, 0.97777778, 0.97037037, 0.97037037, 0.97777778,\n",
       "        0.97777778, 0.98518519, 0.97037037, 0.97037037, 0.97777778])}"
      ]
     },
     "execution_count": 29,
     "metadata": {},
     "output_type": "execute_result"
    }
   ],
   "source": [
    "allResult"
   ]
  },
  {
   "cell_type": "code",
   "execution_count": 30,
   "id": "977fec2b",
   "metadata": {},
   "outputs": [],
   "source": [
    "resultDF = pd.DataFrame(allResult)"
   ]
  },
  {
   "cell_type": "code",
   "execution_count": 31,
   "id": "806745f6",
   "metadata": {
    "scrolled": true
   },
   "outputs": [
    {
     "data": {
      "text/html": [
       "<div>\n",
       "<style scoped>\n",
       "    .dataframe tbody tr th:only-of-type {\n",
       "        vertical-align: middle;\n",
       "    }\n",
       "\n",
       "    .dataframe tbody tr th {\n",
       "        vertical-align: top;\n",
       "    }\n",
       "\n",
       "    .dataframe thead th {\n",
       "        text-align: right;\n",
       "    }\n",
       "</style>\n",
       "<table border=\"1\" class=\"dataframe\">\n",
       "  <thead>\n",
       "    <tr style=\"text-align: right;\">\n",
       "      <th></th>\n",
       "      <th>fit_time</th>\n",
       "      <th>score_time</th>\n",
       "      <th>test_score</th>\n",
       "      <th>train_score</th>\n",
       "    </tr>\n",
       "  </thead>\n",
       "  <tbody>\n",
       "    <tr>\n",
       "      <th>0</th>\n",
       "      <td>0.029975</td>\n",
       "      <td>0.000000</td>\n",
       "      <td>1.000000</td>\n",
       "      <td>0.970370</td>\n",
       "    </tr>\n",
       "    <tr>\n",
       "      <th>1</th>\n",
       "      <td>0.021561</td>\n",
       "      <td>0.000000</td>\n",
       "      <td>0.933333</td>\n",
       "      <td>0.977778</td>\n",
       "    </tr>\n",
       "    <tr>\n",
       "      <th>2</th>\n",
       "      <td>0.021268</td>\n",
       "      <td>0.000000</td>\n",
       "      <td>1.000000</td>\n",
       "      <td>0.970370</td>\n",
       "    </tr>\n",
       "    <tr>\n",
       "      <th>3</th>\n",
       "      <td>0.019914</td>\n",
       "      <td>0.000799</td>\n",
       "      <td>1.000000</td>\n",
       "      <td>0.970370</td>\n",
       "    </tr>\n",
       "    <tr>\n",
       "      <th>4</th>\n",
       "      <td>0.020045</td>\n",
       "      <td>0.000000</td>\n",
       "      <td>0.933333</td>\n",
       "      <td>0.977778</td>\n",
       "    </tr>\n",
       "    <tr>\n",
       "      <th>5</th>\n",
       "      <td>0.021979</td>\n",
       "      <td>0.000000</td>\n",
       "      <td>0.933333</td>\n",
       "      <td>0.977778</td>\n",
       "    </tr>\n",
       "    <tr>\n",
       "      <th>6</th>\n",
       "      <td>0.020490</td>\n",
       "      <td>0.001004</td>\n",
       "      <td>0.933333</td>\n",
       "      <td>0.985185</td>\n",
       "    </tr>\n",
       "    <tr>\n",
       "      <th>7</th>\n",
       "      <td>0.015968</td>\n",
       "      <td>0.000000</td>\n",
       "      <td>1.000000</td>\n",
       "      <td>0.970370</td>\n",
       "    </tr>\n",
       "    <tr>\n",
       "      <th>8</th>\n",
       "      <td>0.019956</td>\n",
       "      <td>0.000000</td>\n",
       "      <td>1.000000</td>\n",
       "      <td>0.970370</td>\n",
       "    </tr>\n",
       "    <tr>\n",
       "      <th>9</th>\n",
       "      <td>0.158511</td>\n",
       "      <td>0.000000</td>\n",
       "      <td>1.000000</td>\n",
       "      <td>0.977778</td>\n",
       "    </tr>\n",
       "  </tbody>\n",
       "</table>\n",
       "</div>"
      ],
      "text/plain": [
       "   fit_time  score_time  test_score  train_score\n",
       "0  0.029975    0.000000    1.000000     0.970370\n",
       "1  0.021561    0.000000    0.933333     0.977778\n",
       "2  0.021268    0.000000    1.000000     0.970370\n",
       "3  0.019914    0.000799    1.000000     0.970370\n",
       "4  0.020045    0.000000    0.933333     0.977778\n",
       "5  0.021979    0.000000    0.933333     0.977778\n",
       "6  0.020490    0.001004    0.933333     0.985185\n",
       "7  0.015968    0.000000    1.000000     0.970370\n",
       "8  0.019956    0.000000    1.000000     0.970370\n",
       "9  0.158511    0.000000    1.000000     0.977778"
      ]
     },
     "execution_count": 31,
     "metadata": {},
     "output_type": "execute_result"
    }
   ],
   "source": [
    "resultDF"
   ]
  },
  {
   "cell_type": "code",
   "execution_count": 32,
   "id": "2b3b349e",
   "metadata": {},
   "outputs": [],
   "source": [
    "from sklearn.model_selection import KFold, StratifiedKFold"
   ]
  },
  {
   "cell_type": "code",
   "execution_count": 36,
   "id": "ec870491",
   "metadata": {},
   "outputs": [],
   "source": [
    "## Splitter 객체 생성 - KFold()\n",
    "kSplitter = KFold(n_splits=7, shuffle=True)\n",
    "sSplitter = StratifiedKFold(n_splits=7, shuffle=True)\n",
    "\n",
    "# parameter\n",
    "# return_train_score  : 학습 데이터 평가 결과\n",
    "# return_estimator\n",
    "allResult = cross_validate(lrModel, data, target, return_train_score= True,\n",
    "                           return_estimator=True,\n",
    "                           cv = kSplitter)"
   ]
  },
  {
   "cell_type": "code",
   "execution_count": 38,
   "id": "2d7b62dc",
   "metadata": {},
   "outputs": [],
   "source": [
    "allResultDF = pd.DataFrame(allResult)"
   ]
  },
  {
   "cell_type": "code",
   "execution_count": 39,
   "id": "995aeeb0",
   "metadata": {},
   "outputs": [
    {
     "data": {
      "text/html": [
       "<div>\n",
       "<style scoped>\n",
       "    .dataframe tbody tr th:only-of-type {\n",
       "        vertical-align: middle;\n",
       "    }\n",
       "\n",
       "    .dataframe tbody tr th {\n",
       "        vertical-align: top;\n",
       "    }\n",
       "\n",
       "    .dataframe thead th {\n",
       "        text-align: right;\n",
       "    }\n",
       "</style>\n",
       "<table border=\"1\" class=\"dataframe\">\n",
       "  <thead>\n",
       "    <tr style=\"text-align: right;\">\n",
       "      <th></th>\n",
       "      <th>fit_time</th>\n",
       "      <th>score_time</th>\n",
       "      <th>estimator</th>\n",
       "      <th>test_score</th>\n",
       "      <th>train_score</th>\n",
       "    </tr>\n",
       "  </thead>\n",
       "  <tbody>\n",
       "    <tr>\n",
       "      <th>0</th>\n",
       "      <td>0.024570</td>\n",
       "      <td>0.000000</td>\n",
       "      <td>LogisticRegression(max_iter=500)</td>\n",
       "      <td>1.000000</td>\n",
       "      <td>0.976562</td>\n",
       "    </tr>\n",
       "    <tr>\n",
       "      <th>1</th>\n",
       "      <td>0.024303</td>\n",
       "      <td>0.000000</td>\n",
       "      <td>LogisticRegression(max_iter=500)</td>\n",
       "      <td>1.000000</td>\n",
       "      <td>0.968750</td>\n",
       "    </tr>\n",
       "    <tr>\n",
       "      <th>2</th>\n",
       "      <td>0.018987</td>\n",
       "      <td>0.000000</td>\n",
       "      <td>LogisticRegression(max_iter=500)</td>\n",
       "      <td>1.000000</td>\n",
       "      <td>0.968750</td>\n",
       "    </tr>\n",
       "    <tr>\n",
       "      <th>3</th>\n",
       "      <td>0.017876</td>\n",
       "      <td>0.000936</td>\n",
       "      <td>LogisticRegression(max_iter=500)</td>\n",
       "      <td>1.000000</td>\n",
       "      <td>0.968992</td>\n",
       "    </tr>\n",
       "    <tr>\n",
       "      <th>4</th>\n",
       "      <td>0.016974</td>\n",
       "      <td>0.000000</td>\n",
       "      <td>LogisticRegression(max_iter=500)</td>\n",
       "      <td>0.952381</td>\n",
       "      <td>0.976744</td>\n",
       "    </tr>\n",
       "    <tr>\n",
       "      <th>5</th>\n",
       "      <td>0.017954</td>\n",
       "      <td>0.001000</td>\n",
       "      <td>LogisticRegression(max_iter=500)</td>\n",
       "      <td>0.857143</td>\n",
       "      <td>0.984496</td>\n",
       "    </tr>\n",
       "    <tr>\n",
       "      <th>6</th>\n",
       "      <td>0.017911</td>\n",
       "      <td>0.000325</td>\n",
       "      <td>LogisticRegression(max_iter=500)</td>\n",
       "      <td>0.952381</td>\n",
       "      <td>0.984496</td>\n",
       "    </tr>\n",
       "  </tbody>\n",
       "</table>\n",
       "</div>"
      ],
      "text/plain": [
       "   fit_time  score_time                         estimator  test_score  \\\n",
       "0  0.024570    0.000000  LogisticRegression(max_iter=500)    1.000000   \n",
       "1  0.024303    0.000000  LogisticRegression(max_iter=500)    1.000000   \n",
       "2  0.018987    0.000000  LogisticRegression(max_iter=500)    1.000000   \n",
       "3  0.017876    0.000936  LogisticRegression(max_iter=500)    1.000000   \n",
       "4  0.016974    0.000000  LogisticRegression(max_iter=500)    0.952381   \n",
       "5  0.017954    0.001000  LogisticRegression(max_iter=500)    0.857143   \n",
       "6  0.017911    0.000325  LogisticRegression(max_iter=500)    0.952381   \n",
       "\n",
       "   train_score  \n",
       "0     0.976562  \n",
       "1     0.968750  \n",
       "2     0.968750  \n",
       "3     0.968992  \n",
       "4     0.976744  \n",
       "5     0.984496  \n",
       "6     0.984496  "
      ]
     },
     "execution_count": 39,
     "metadata": {},
     "output_type": "execute_result"
    }
   ],
   "source": [
    "allResultDF"
   ]
  },
  {
   "cell_type": "code",
   "execution_count": null,
   "id": "3fd4ab59",
   "metadata": {},
   "outputs": [],
   "source": []
  }
 ],
 "metadata": {
  "kernelspec": {
   "display_name": "Python 3 (ipykernel)",
   "language": "python",
   "name": "python3"
  },
  "language_info": {
   "codemirror_mode": {
    "name": "ipython",
    "version": 3
   },
   "file_extension": ".py",
   "mimetype": "text/x-python",
   "name": "python",
   "nbconvert_exporter": "python",
   "pygments_lexer": "ipython3",
   "version": "3.9.12"
  }
 },
 "nbformat": 4,
 "nbformat_minor": 5
}
