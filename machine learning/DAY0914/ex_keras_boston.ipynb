{
 "cells": [
  {
   "cell_type": "code",
   "execution_count": 1,
   "id": "bd002c1d",
   "metadata": {},
   "outputs": [],
   "source": [
    "import tensorflow as ft"
   ]
  },
  {
   "cell_type": "code",
   "execution_count": 114,
   "id": "4f529f85",
   "metadata": {},
   "outputs": [],
   "source": [
    "from tensorflow.keras import Sequential\n",
    "from tensorflow.keras.layers import Dense\n",
    "from tensorflow.keras.datasets.boston_housing import load_data \n",
    "import numpy as np\n",
    "from tensorflow.keras.layers import Dropout"
   ]
  },
  {
   "cell_type": "markdown",
   "id": "3bd8bb58",
   "metadata": {},
   "source": [
    "### [1] 데이터 로딩"
   ]
  },
  {
   "cell_type": "code",
   "execution_count": 14,
   "id": "b6a5c50a",
   "metadata": {},
   "outputs": [],
   "source": [
    "(train_input, train_target), (test_input, test_target) = load_data()"
   ]
  },
  {
   "cell_type": "code",
   "execution_count": 17,
   "id": "2a4856aa",
   "metadata": {},
   "outputs": [
    {
     "data": {
      "text/plain": [
       "array([[  1.23247,   0.     ,   8.14   ,   0.     ,   0.538  ,   6.142  ,\n",
       "         91.7    ,   3.9769 ,   4.     , 307.     ,  21.     , 396.9    ,\n",
       "         18.72   ]])"
      ]
     },
     "execution_count": 17,
     "metadata": {},
     "output_type": "execute_result"
    }
   ],
   "source": [
    "train_input[:1]"
   ]
  },
  {
   "cell_type": "code",
   "execution_count": 18,
   "id": "15a3032f",
   "metadata": {},
   "outputs": [
    {
     "data": {
      "text/plain": [
       "array([ 18.0846,   0.    ,  18.1   ,   0.    ,   0.679 ,   6.434 ,\n",
       "       100.    ,   1.8347,  24.    , 666.    ,  20.2   ,  27.25  ,\n",
       "        29.05  ])"
      ]
     },
     "execution_count": 18,
     "metadata": {},
     "output_type": "execute_result"
    }
   ],
   "source": [
    "test_input[0]"
   ]
  },
  {
   "cell_type": "markdown",
   "id": "7317dad3",
   "metadata": {},
   "source": [
    "#### [1-1] 데이터 전처리\n",
    "- 수치 데이터 : 값의 범위\n",
    "- 문자 데이터 : 수치화"
   ]
  },
  {
   "cell_type": "code",
   "execution_count": 110,
   "id": "d744686b",
   "metadata": {},
   "outputs": [],
   "source": [
    "from sklearn.preprocessing import StandardScaler, MinMaxScaler, RobustScaler"
   ]
  },
  {
   "cell_type": "code",
   "execution_count": 111,
   "id": "5071e09f",
   "metadata": {},
   "outputs": [],
   "source": [
    "ss = StandardScaler()"
   ]
  },
  {
   "cell_type": "code",
   "execution_count": 112,
   "id": "a192e633",
   "metadata": {},
   "outputs": [
    {
     "data": {
      "text/plain": [
       "StandardScaler()"
      ]
     },
     "execution_count": 112,
     "metadata": {},
     "output_type": "execute_result"
    }
   ],
   "source": [
    "ss.fit(train_input)"
   ]
  },
  {
   "cell_type": "code",
   "execution_count": 113,
   "id": "530cf42d",
   "metadata": {},
   "outputs": [],
   "source": [
    "train_input_scaled = ss.transform(train_input)\n",
    "test_input_scaled = ss.transform(test_input)"
   ]
  },
  {
   "cell_type": "markdown",
   "id": "ca274390",
   "metadata": {},
   "source": [
    "### [2] NN Model 실습\n",
    "\n",
    "- (1) 모델 구상\n",
    "- (2) 모델 생성\n",
    "- (3) 학습\n",
    "- (4) 평가\n",
    "- (5) 테스트"
   ]
  },
  {
   "cell_type": "markdown",
   "id": "418b28f5",
   "metadata": {},
   "source": [
    "#### [2-1] 모델 구상\n",
    "- 입력 데이터 => 13개 Features\n",
    "- 출력 데이터 => 1개 집값"
   ]
  },
  {
   "cell_type": "code",
   "execution_count": 19,
   "id": "449bd945",
   "metadata": {},
   "outputs": [],
   "source": [
    "# NN Model의 Layer을 층층이 담아서 관리하는 객체\n",
    "model = Sequential(name='Boston')"
   ]
  },
  {
   "cell_type": "code",
   "execution_count": 20,
   "id": "33dd7d0f",
   "metadata": {},
   "outputs": [],
   "source": [
    "# layer 추가하기\n",
    "model.add(Dense(1, activation='linear', input_shape=(13,)))"
   ]
  },
  {
   "cell_type": "code",
   "execution_count": 47,
   "id": "1cdfda36",
   "metadata": {},
   "outputs": [
    {
     "name": "stdout",
     "output_type": "stream",
     "text": [
      "Model: \"Boston\"\n",
      "_________________________________________________________________\n",
      " Layer (type)                Output Shape              Param #   \n",
      "=================================================================\n",
      " dense (Dense)               (None, 1)                 14        \n",
      "                                                                 \n",
      "=================================================================\n",
      "Total params: 14\n",
      "Trainable params: 14\n",
      "Non-trainable params: 0\n",
      "_________________________________________________________________\n"
     ]
    }
   ],
   "source": [
    "# 모델 구성 확인 => summary()\n",
    "model.summary()"
   ]
  },
  {
   "cell_type": "markdown",
   "id": "42b226f7",
   "metadata": {},
   "source": [
    "#### [2-2] 모델 생성\n",
    "\n",
    "- Sequential 클래스의 compile 메서드\n",
    "- 모델이 도작하기 위해서 필요한 설정\n",
    "    - 오차 계산 함수 설정 => loss\n",
    "    - w, B 최적화 방식 설정 => optimizer\n",
    "    - 모델의 성능 측정 항목 설정 => metrics\n",
    "- 파라미터 값들\n",
    "    - str 타입으로 입력 가능\n",
    "    - 객체 타입으로 입력 가능"
   ]
  },
  {
   "cell_type": "code",
   "execution_count": 70,
   "id": "79e671c2",
   "metadata": {},
   "outputs": [],
   "source": [
    "model.compile(loss='mse', optimizer='adam', metrics=['mae'])"
   ]
  },
  {
   "cell_type": "markdown",
   "id": "645b2ae9",
   "metadata": {},
   "source": [
    "#### [2-3] 학습\n",
    "\n",
    "- fit() 메서드\n",
    "    - 파라미터\n",
    "    - 반환값 => History 객체"
   ]
  },
  {
   "cell_type": "code",
   "execution_count": 99,
   "id": "bc01e099",
   "metadata": {},
   "outputs": [],
   "source": [
    "from tensorflow.keras.callbacks import EarlyStopping"
   ]
  },
  {
   "cell_type": "code",
   "execution_count": 100,
   "id": "2dd5c4af",
   "metadata": {},
   "outputs": [],
   "source": [
    "# 검증 데이터에 대한 loss값 3번 연속 개선되지 않으면 학습 중지\n",
    "stopCB=EarlyStopping(monitor='val_loss', patience=3)"
   ]
  },
  {
   "cell_type": "code",
   "execution_count": 101,
   "id": "6fe2a0dc",
   "metadata": {},
   "outputs": [
    {
     "name": "stdout",
     "output_type": "stream",
     "text": [
      "Epoch 1/200\n",
      "41/41 [==============================] - 0s 2ms/step - loss: 34.3608 - mae: 4.3385 - val_loss: 36.1181 - val_mae: 4.2913\n",
      "Epoch 2/200\n",
      "41/41 [==============================] - 0s 1ms/step - loss: 34.1096 - mae: 4.4146 - val_loss: 38.2257 - val_mae: 4.3595\n",
      "Epoch 3/200\n",
      "41/41 [==============================] - 0s 1ms/step - loss: 34.9354 - mae: 4.3944 - val_loss: 39.6423 - val_mae: 4.4432\n",
      "Epoch 4/200\n",
      "41/41 [==============================] - 0s 1ms/step - loss: 35.9255 - mae: 4.4636 - val_loss: 36.2197 - val_mae: 4.2925\n"
     ]
    }
   ],
   "source": [
    "# validation_split 학습데이터 일부를 검증용으로 분리 0.0~1.0\n",
    "# validation_data=(test_input, test_target) : 테스트 데이터, 테스트 타겟\n",
    "# 학습시 발생하는 이벤트 처리 함수 등록\n",
    "# dropout => 0~1.0 (비율)만큼 비활성화 => 과적합 해결하기 위해\n",
    "result = model.fit(train_input, train_target, epochs=200, batch_size=10, validation_data=(test_input, test_target),\n",
    "                  callbacks=[stopCB])"
   ]
  },
  {
   "cell_type": "code",
   "execution_count": null,
   "id": "9993b7bb",
   "metadata": {},
   "outputs": [],
   "source": [
    "#학습 후 학습 결과 체크 = History 객체 \n",
    "type(result), result.history"
   ]
  },
  {
   "cell_type": "code",
   "execution_count": 103,
   "id": "36b9d202",
   "metadata": {},
   "outputs": [
    {
     "data": {
      "text/plain": [
       "{'verbose': 1, 'epochs': 200, 'steps': 41}"
      ]
     },
     "execution_count": 103,
     "metadata": {},
     "output_type": "execute_result"
    }
   ],
   "source": [
    "result.params"
   ]
  },
  {
   "cell_type": "code",
   "execution_count": 104,
   "id": "ba0e2cc8",
   "metadata": {},
   "outputs": [
    {
     "data": {
      "text/plain": [
       "dict_keys(['loss', 'mae', 'val_loss', 'val_mae'])"
      ]
     },
     "execution_count": 104,
     "metadata": {},
     "output_type": "execute_result"
    }
   ],
   "source": [
    "result.history.keys()"
   ]
  },
  {
   "cell_type": "code",
   "execution_count": 105,
   "id": "93ce67d7",
   "metadata": {},
   "outputs": [
    {
     "data": {
      "text/plain": [
       "[34.360782623291016, 34.10960006713867, 34.93540573120117, 35.925498962402344]"
      ]
     },
     "execution_count": 105,
     "metadata": {},
     "output_type": "execute_result"
    }
   ],
   "source": [
    "result.history['loss']"
   ]
  },
  {
   "cell_type": "code",
   "execution_count": 106,
   "id": "08b9ef4a",
   "metadata": {},
   "outputs": [],
   "source": [
    "import matplotlib.pyplot as plt"
   ]
  },
  {
   "cell_type": "code",
   "execution_count": 107,
   "id": "97af6418",
   "metadata": {},
   "outputs": [
    {
     "data": {
      "image/png": "[encoded data removed]",
      "text/plain": [
       "<Figure size 432x288 with 1 Axes>"
      ]
     },
     "metadata": {
      "needs_background": "light"
     },
     "output_type": "display_data"
    }
   ],
   "source": [
    "# 시각화\n",
    "plt.plot(result.epoch,result.history['loss'], label='loss')\n",
    "plt.plot(result.epoch,result.history['val_loss'], label='val_loss')\n",
    "plt.legend()\n",
    "plt.show()"
   ]
  },
  {
   "cell_type": "markdown",
   "id": "26072e6c",
   "metadata": {},
   "source": [
    "#### [2-4] 평가\n",
    "\n",
    "- evaluate() 메서드\n",
    "    - 파라미터 : test_data, test_target \n",
    "    - 반환값 : loss, compile()의 metrics에서 설정한 항목값"
   ]
  },
  {
   "cell_type": "code",
   "execution_count": 108,
   "id": "073658da",
   "metadata": {},
   "outputs": [
    {
     "name": "stdout",
     "output_type": "stream",
     "text": [
      "4/4 [==============================] - 0s 1ms/step - loss: 36.2197 - mae: 4.2925\n"
     ]
    }
   ],
   "source": [
    "eRet=model.evaluate(test_input, test_target)"
   ]
  },
  {
   "cell_type": "code",
   "execution_count": 109,
   "id": "03abe741",
   "metadata": {},
   "outputs": [
    {
     "data": {
      "text/plain": [
       "[36.219722747802734, 4.29249382019043]"
      ]
     },
     "execution_count": 109,
     "metadata": {},
     "output_type": "execute_result"
    }
   ],
   "source": [
    "eRet"
   ]
  },
  {
   "cell_type": "markdown",
   "id": "b67dfcae",
   "metadata": {},
   "source": [
    "#### [2-5] 예측\n",
    "\n",
    "- predict"
   ]
  },
  {
   "cell_type": "code",
   "execution_count": null,
   "id": "34593444",
   "metadata": {},
   "outputs": [],
   "source": []
  }
 ],
 "metadata": {
  "kernelspec": {
   "display_name": "Python 3 (ipykernel)",
   "language": "python",
   "name": "python3"
  },
  "language_info": {
   "codemirror_mode": {
    "name": "ipython",
    "version": 3
   },
   "file_extension": ".py",
   "mimetype": "text/x-python",
   "name": "python",
   "nbconvert_exporter": "python",
   "pygments_lexer": "ipython3",
   "version": "3.9.12"
  }
 },
 "nbformat": 4,
 "nbformat_minor": 5
}
