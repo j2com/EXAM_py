{
 "cells": [
  {
   "cell_type": "markdown",
   "id": "f01d6fd9",
   "metadata": {},
   "source": [
    "## 손글씨 숫자 식별 모델\n",
    "- 데 이 터 : MNIST \n",
    "- 학습모델 : 신경망 모델\n",
    "- 동작 : 0~9 사이 숫자 판별"
   ]
  },
  {
   "cell_type": "code",
   "execution_count": 1,
   "id": "bdd436e0",
   "metadata": {},
   "outputs": [],
   "source": [
    "import tensorflow as ft"
   ]
  },
  {
   "cell_type": "code",
   "execution_count": 2,
   "id": "d6be0f83",
   "metadata": {},
   "outputs": [],
   "source": [
    "from tensorflow.keras.datasets.mnist import load_data\n",
    "from tensorflow.keras import Sequential\n",
    "from tensorflow.keras.layers import Dense\n",
    "from sklearn.model_selection import train_test_split\n",
    "import numpy as np"
   ]
  },
  {
   "cell_type": "markdown",
   "id": "12e86ccb",
   "metadata": {},
   "source": [
    "### [1] 데이터 로딩 및 준비"
   ]
  },
  {
   "cell_type": "code",
   "execution_count": 3,
   "id": "e534d8ba",
   "metadata": {},
   "outputs": [],
   "source": [
    "(train_input, train_target), (test_input, test_target) = load_data()"
   ]
  },
  {
   "cell_type": "code",
   "execution_count": 4,
   "id": "9ab13c4f",
   "metadata": {
    "scrolled": true
   },
   "outputs": [
    {
     "name": "stdout",
     "output_type": "stream",
     "text": [
      "(60000, 28, 28) (10000, 28, 28)\n"
     ]
    }
   ],
   "source": [
    "print(train_input.shape, test_input.shape)"
   ]
  },
  {
   "cell_type": "code",
   "execution_count": 5,
   "id": "68e6cc9a",
   "metadata": {},
   "outputs": [
    {
     "data": {
      "text/plain": [
       "(60000,)"
      ]
     },
     "execution_count": 5,
     "metadata": {},
     "output_type": "execute_result"
    }
   ],
   "source": [
    "train_target.shape"
   ]
  },
  {
   "cell_type": "code",
   "execution_count": 6,
   "id": "ab81b9d8",
   "metadata": {},
   "outputs": [],
   "source": [
    "# 검증용 데이터 셋 준비"
   ]
  },
  {
   "cell_type": "code",
   "execution_count": 7,
   "id": "c37477bb",
   "metadata": {},
   "outputs": [],
   "source": [
    "train_input, val_input, train_target, val_target = train_test_split(train_input, train_target, stratify=train_target)"
   ]
  },
  {
   "cell_type": "markdown",
   "id": "968ee39c",
   "metadata": {},
   "source": [
    "### [2] 데이터 전처리\n",
    "- 수치 데이터 => 스케일링\n",
    "- 범주형 데이터 => 원핫 인코딩"
   ]
  },
  {
   "cell_type": "code",
   "execution_count": 8,
   "id": "d83b29c6",
   "metadata": {},
   "outputs": [
    {
     "data": {
      "text/plain": [
       "array([[  0,   0,   0,   0,   0,   0,   0,   0,   0,   0,   0,   0,   0,\n",
       "          0,   0,   0,   0,   0,   0,   0,   0,   0,   0,   0,   0,   0,\n",
       "          0,   0],\n",
       "       [  0,   0,   0,   0,   0,   0,   0,   0,   0,   0,   0,   0,   0,\n",
       "          0,   0,   0,   0,   0,   0,   0,   0,   0,   0,   0,   0,   0,\n",
       "          0,   0],\n",
       "       [  0,   0,   0,   0,   0,   0,   0,   0,   0,   0,   0,   0,   0,\n",
       "          0,   0,   0,   0,   0,   0,   0,   0,   0,   0,   0,   0,   0,\n",
       "          0,   0],\n",
       "       [  0,   0,   0,   0,   0,   0,   0,   0,   0,   0,   0,   0,   0,\n",
       "          0,   0,   0,   0,   0,   0,   0,   0,   0,   0,   0,   0,   0,\n",
       "          0,   0],\n",
       "       [  0,   0,   0,   0,   0,   0,   0,   0,   0,   0,   0,   0,   0,\n",
       "          0,   0,   0,   0,   0,   0,   0,   0,   0,   0,   0,   0,   0,\n",
       "          0,   0],\n",
       "       [  0,   0,   0,   0,   0,   0,   0,   0,   0,   0,   0,   0,   0,\n",
       "          0,   0,   0,   0,   0,   0,   0,   0,   0,   0,   0,   0,   0,\n",
       "          0,   0],\n",
       "       [  0,   0,   0,   0,   0,   0,   0,  52,  67,  67,  67,  67,  67,\n",
       "        228, 254, 255, 226, 143, 254, 219,  67,  67,   2,   0,   0,   0,\n",
       "          0,   0],\n",
       "       [  0,   0,   0,   0,   0,   0,  70, 226, 253, 253, 253, 253, 253,\n",
       "        253, 253, 253, 253, 253, 253, 253, 253, 253,   8,   0,   0,   0,\n",
       "          0,   0],\n",
       "       [  0,   0,   0,   0,   0,   3, 136, 253, 253, 253, 253, 253, 253,\n",
       "        253, 253, 253, 253, 253, 253, 253, 253, 253,   8,   0,   0,   0,\n",
       "          0,   0],\n",
       "       [  0,   0,   0,   0,   0,  67, 253, 253, 253, 253, 253, 253, 253,\n",
       "        253, 253, 253, 253, 253, 253, 253, 253, 253,   8,   0,   0,   0,\n",
       "          0,   0],\n",
       "       [  0,   0,   0,   0,   0,  30, 185, 253, 253, 253, 253, 253, 253,\n",
       "        131, 112, 112, 112, 112, 112, 137, 253, 152,   4,   0,   0,   0,\n",
       "          0,   0],\n",
       "       [  0,   0,   0,   0,   0,   0, 132, 253, 253, 253,  83,  46,  46,\n",
       "          7,   0,   0,   0,   0,   0,   9,  46,  14,   0,   0,   0,   0,\n",
       "          0,   0],\n",
       "       [  0,   0,   0,   0,   0,   0, 132, 253, 253, 253, 109,   0,   0,\n",
       "          0,   0,   0,   0,   0,   0,   0,   0,   0,   0,   0,   0,   0,\n",
       "          0,   0],\n",
       "       [  0,   0,   0,   0,   0,   0, 132, 253, 253, 253, 234,   0,   0,\n",
       "          0,   0,   0,   0,   0,   0,   0,   0,   0,   0,   0,   0,   0,\n",
       "          0,   0],\n",
       "       [  0,   0,   0,   0,   0,   0, 132, 253, 253, 253, 250, 217, 217,\n",
       "        217, 217, 217, 217, 139,  29,  29,  29,   9,   0,   0,   0,   0,\n",
       "          0,   0],\n",
       "       [  0,   0,   0,   0,   0,   0,  83, 232, 253, 253, 253, 253, 253,\n",
       "        253, 253, 253, 253, 253, 253, 253, 253, 140,   3,   0,   0,   0,\n",
       "          0,   0],\n",
       "       [  0,   0,   0,   0,   0,   0,   0,  73, 140, 253, 253, 253, 253,\n",
       "        253, 253, 253, 253, 253, 253, 253, 253, 253,   8,   0,   0,   0,\n",
       "          0,   0],\n",
       "       [  0,   0,   0,   0,   0,   0,   0,   0,   8, 132, 215, 215, 215,\n",
       "        215, 215, 215, 215, 230, 253, 253, 253, 253, 176,   0,   0,   0,\n",
       "          0,   0],\n",
       "       [  0,   0,   0,   0,   0,   0,   0,   0,   0,   0,   0,   0,   0,\n",
       "          0,   0,   0,   0,  62, 149, 246, 253, 253, 219,  54,   0,   0,\n",
       "          0,   0],\n",
       "       [  0,   0,   0,   0,   0,   0,   0,   0,   0,   0,   0,   0,   0,\n",
       "          0,   0,   0,   0,   0,   0, 236, 253, 253, 253, 130,   0,   0,\n",
       "          0,   0],\n",
       "       [  0,   0,   0,   0,   0,   0,   0,   0,   0,   0,   0,   0,   0,\n",
       "          0,   0,  30,  48, 125, 236, 251, 253, 253, 165,   9,   0,   0,\n",
       "          0,   0],\n",
       "       [  0,   0,   0,   0,   0,   0,   0,   0,   0,   0,   0,   0,  68,\n",
       "        114, 114, 201, 253, 253, 253, 253, 253, 253,   8,   0,   0,   0,\n",
       "          0,   0],\n",
       "       [  0,   0,   0,   0,   0,   0,   0,   0,   0,   0,   0,  61, 223,\n",
       "        253, 253, 253, 253, 253, 253, 253, 253, 253,   8,   0,   0,   0,\n",
       "          0,   0],\n",
       "       [  0,   0,   0,   0,   0,   0,   0,   0,   0,   0,   0,  85, 253,\n",
       "        253, 253, 253, 253, 253, 253, 242, 112,   8,   1,   0,   0,   0,\n",
       "          0,   0],\n",
       "       [  0,   0,   0,   0,   0,   0,   0,   0,   0,   0,   0,  85, 253,\n",
       "        253, 253, 253, 253, 253, 170, 107,   0,   0,   0,   0,   0,   0,\n",
       "          0,   0],\n",
       "       [  0,   0,   0,   0,   0,   0,   0,   0,   0,   0,   0,  22, 176,\n",
       "        253, 253, 253, 224,  65,  22,   0,   0,   0,   0,   0,   0,   0,\n",
       "          0,   0],\n",
       "       [  0,   0,   0,   0,   0,   0,   0,   0,   0,   0,   0,   0,   0,\n",
       "          0,   0,   0,   0,   0,   0,   0,   0,   0,   0,   0,   0,   0,\n",
       "          0,   0],\n",
       "       [  0,   0,   0,   0,   0,   0,   0,   0,   0,   0,   0,   0,   0,\n",
       "          0,   0,   0,   0,   0,   0,   0,   0,   0,   0,   0,   0,   0,\n",
       "          0,   0]], dtype=uint8)"
      ]
     },
     "execution_count": 8,
     "metadata": {},
     "output_type": "execute_result"
    }
   ],
   "source": [
    "train_input[0]"
   ]
  },
  {
   "cell_type": "code",
   "execution_count": 9,
   "id": "3ec3f59a",
   "metadata": {},
   "outputs": [],
   "source": [
    "# 이미지 데이터의 픽셀값 즉 특성(Feature) 0.0~1.0으로 스케일링\n",
    "train_input = train_input/255.0 # numpy 브로드캐스팅\n",
    "val_input = val_input/255.0\n",
    "test_input = test_input/255.0"
   ]
  },
  {
   "cell_type": "code",
   "execution_count": 10,
   "id": "661bf1d7",
   "metadata": {},
   "outputs": [],
   "source": [
    "# 타겟 라벨 => OHE변환\n",
    "from sklearn.preprocessing import OneHotEncoder"
   ]
  },
  {
   "cell_type": "code",
   "execution_count": 11,
   "id": "14238828",
   "metadata": {},
   "outputs": [],
   "source": [
    "encoder = OneHotEncoder()"
   ]
  },
  {
   "cell_type": "code",
   "execution_count": 12,
   "id": "33451378",
   "metadata": {},
   "outputs": [],
   "source": [
    "encoder.fit(train_target.reshape(-1,1))\n",
    "train_target=encoder.transform(train_target.reshape(-1,1))"
   ]
  },
  {
   "cell_type": "code",
   "execution_count": 13,
   "id": "98f1b242",
   "metadata": {},
   "outputs": [],
   "source": [
    "test_target=encoder.transform(test_target.reshape(-1,1))\n",
    "val_target=encoder.transform(val_target.reshape(-1,1))"
   ]
  },
  {
   "cell_type": "code",
   "execution_count": 14,
   "id": "4777a8e8",
   "metadata": {},
   "outputs": [],
   "source": [
    "train_target = train_target.toarray()"
   ]
  },
  {
   "cell_type": "code",
   "execution_count": 15,
   "id": "31715a79",
   "metadata": {},
   "outputs": [],
   "source": [
    "test_target = test_target.toarray()\n",
    "val_target = val_target.toarray()"
   ]
  },
  {
   "cell_type": "code",
   "execution_count": 16,
   "id": "a3b8263b",
   "metadata": {},
   "outputs": [
    {
     "data": {
      "text/plain": [
       "array([0., 0., 0., 0., 0., 1., 0., 0., 0., 0.])"
      ]
     },
     "execution_count": 16,
     "metadata": {},
     "output_type": "execute_result"
    }
   ],
   "source": [
    "train_target[0]"
   ]
  },
  {
   "cell_type": "code",
   "execution_count": 17,
   "id": "019db16b",
   "metadata": {},
   "outputs": [
    {
     "data": {
      "text/plain": [
       "array([0., 0., 0., 0., 0., 0., 0., 1., 0., 0.])"
      ]
     },
     "execution_count": 17,
     "metadata": {},
     "output_type": "execute_result"
    }
   ],
   "source": [
    "test_target[0]"
   ]
  },
  {
   "cell_type": "code",
   "execution_count": 18,
   "id": "8077d41b",
   "metadata": {},
   "outputs": [
    {
     "data": {
      "text/plain": [
       "array([0., 0., 0., 0., 1., 0., 0., 0., 0., 0.])"
      ]
     },
     "execution_count": 18,
     "metadata": {},
     "output_type": "execute_result"
    }
   ],
   "source": [
    "val_target[0]"
   ]
  },
  {
   "cell_type": "markdown",
   "id": "28dc20f7",
   "metadata": {},
   "source": [
    "### [3] 모델 생성\n",
    "- (1) 모델 구성\n",
    "- (2) 모델 생성"
   ]
  },
  {
   "cell_type": "markdown",
   "id": "8beb8796",
   "metadata": {},
   "source": [
    "#### [3-1] 모델 구성\n",
    "- 입력 데이터 : 784 => 28 * 28 dense layer >> 1차원으로 밖에 받지 못함\n",
    "- 출력 데이터 : 10  => 0 ~ 9 숫자 라벨\n",
    "- 학습 방  법 : 분류 = 다중분류"
   ]
  },
  {
   "cell_type": "code",
   "execution_count": 19,
   "id": "49ecfc32",
   "metadata": {},
   "outputs": [],
   "source": [
    "from tensorflow.keras.layers import Dropout"
   ]
  },
  {
   "cell_type": "code",
   "execution_count": 20,
   "id": "af79253a",
   "metadata": {},
   "outputs": [],
   "source": [
    "model = Sequential(name='MNIST')"
   ]
  },
  {
   "cell_type": "code",
   "execution_count": 21,
   "id": "d7d7925e",
   "metadata": {},
   "outputs": [],
   "source": [
    "# Layer 생성 => Node(퍼셉트론, 뉴런) 갯수, 활성화 함수, [옵션] input_shape=\n",
    "model.add(Dense(100, activation='relu', input_shape=(28*28,)))\n",
    "model.add(Dropout(0.5))\n",
    "model.add(Dense(100, activation='relu'))\n",
    "model.add(Dense(10, activation='softmax'))"
   ]
  },
  {
   "cell_type": "code",
   "execution_count": 22,
   "id": "b51e5ce5",
   "metadata": {},
   "outputs": [
    {
     "name": "stdout",
     "output_type": "stream",
     "text": [
      "Model: \"MNIST\"\n",
      "_________________________________________________________________\n",
      " Layer (type)                Output Shape              Param #   \n",
      "=================================================================\n",
      " dense (Dense)               (None, 100)               78500     \n",
      "                                                                 \n",
      " dropout (Dropout)           (None, 100)               0         \n",
      "                                                                 \n",
      " dense_1 (Dense)             (None, 100)               10100     \n",
      "                                                                 \n",
      " dense_2 (Dense)             (None, 10)                1010      \n",
      "                                                                 \n",
      "=================================================================\n",
      "Total params: 89,610\n",
      "Trainable params: 89,610\n",
      "Non-trainable params: 0\n",
      "_________________________________________________________________\n"
     ]
    }
   ],
   "source": [
    "model.summary()"
   ]
  },
  {
   "cell_type": "markdown",
   "id": "e19893e5",
   "metadata": {},
   "source": [
    "#### [3-2] 모델 생성\n",
    "\n",
    "- loss\n",
    "    - 이진분류 : binary_crossentropy\n",
    "    - 다중분류 : parse_categorical_crossentropy, categorical_crossentropy\n",
    "- optimizer 기법 => 'rmsprop'\n",
    "- matrics 평가항목 => 'loss'"
   ]
  },
  {
   "cell_type": "code",
   "execution_count": 23,
   "id": "68c5261b",
   "metadata": {},
   "outputs": [],
   "source": [
    "model.compile(optimizer='adam', loss='categorical_crossentropy', metrics=['accuracy'])"
   ]
  },
  {
   "cell_type": "markdown",
   "id": "1af8ed64",
   "metadata": {},
   "source": [
    "### [4] 학습"
   ]
  },
  {
   "cell_type": "code",
   "execution_count": 24,
   "id": "6cee805f",
   "metadata": {},
   "outputs": [],
   "source": [
    "from tensorflow.keras.callbacks import EarlyStopping, ModelCheckpoint"
   ]
  },
  {
   "cell_type": "code",
   "execution_count": 25,
   "id": "033172a2",
   "metadata": {},
   "outputs": [],
   "source": [
    "stopCB=EarlyStopping(monitor='val_loss', patience=2)"
   ]
  },
  {
   "cell_type": "code",
   "execution_count": 26,
   "id": "9632c222",
   "metadata": {},
   "outputs": [],
   "source": [
    "MODEL_PATH='model.{epoch:02d}-{val_loss:.2f}.h5'\n",
    "modelCB=ModelCheckpoint(filepath=MODEL_PATH, save_best_only=True)"
   ]
  },
  {
   "cell_type": "code",
   "execution_count": 27,
   "id": "a6b9be4e",
   "metadata": {},
   "outputs": [],
   "source": [
    "train_input = train_input.reshape(-1,28*28)"
   ]
  },
  {
   "cell_type": "code",
   "execution_count": 28,
   "id": "c733f45d",
   "metadata": {},
   "outputs": [],
   "source": [
    "val_input = val_input.reshape(-1,28*28)"
   ]
  },
  {
   "cell_type": "code",
   "execution_count": 29,
   "id": "8c8dd584",
   "metadata": {},
   "outputs": [
    {
     "data": {
      "text/plain": [
       "(15000, 784)"
      ]
     },
     "execution_count": 29,
     "metadata": {},
     "output_type": "execute_result"
    }
   ],
   "source": [
    "val_input.shape"
   ]
  },
  {
   "cell_type": "code",
   "execution_count": 30,
   "id": "02e2a023",
   "metadata": {},
   "outputs": [
    {
     "data": {
      "text/plain": [
       "(15000, 10)"
      ]
     },
     "execution_count": 30,
     "metadata": {},
     "output_type": "execute_result"
    }
   ],
   "source": [
    "val_target.shape"
   ]
  },
  {
   "cell_type": "code",
   "execution_count": 31,
   "id": "18f6de35",
   "metadata": {
    "scrolled": false
   },
   "outputs": [
    {
     "name": "stdout",
     "output_type": "stream",
     "text": [
      "Epoch 1/10\n",
      "1407/1407 [==============================] - 3s 2ms/step - loss: 0.4566 - accuracy: 0.8605 - val_loss: 0.1970 - val_accuracy: 0.9402\n",
      "Epoch 2/10\n",
      "1407/1407 [==============================] - 2s 2ms/step - loss: 0.2695 - accuracy: 0.9176 - val_loss: 0.1556 - val_accuracy: 0.9529\n",
      "Epoch 3/10\n",
      "1407/1407 [==============================] - 2s 2ms/step - loss: 0.2293 - accuracy: 0.9286 - val_loss: 0.1270 - val_accuracy: 0.9627\n",
      "Epoch 4/10\n",
      "1407/1407 [==============================] - 2s 2ms/step - loss: 0.2051 - accuracy: 0.9362 - val_loss: 0.1214 - val_accuracy: 0.9627\n",
      "Epoch 5/10\n",
      "1407/1407 [==============================] - 2s 2ms/step - loss: 0.1889 - accuracy: 0.9422 - val_loss: 0.1127 - val_accuracy: 0.9665\n",
      "Epoch 6/10\n",
      "1407/1407 [==============================] - 2s 2ms/step - loss: 0.1788 - accuracy: 0.9438 - val_loss: 0.1105 - val_accuracy: 0.9666\n",
      "Epoch 7/10\n",
      "1407/1407 [==============================] - 2s 2ms/step - loss: 0.1670 - accuracy: 0.9474 - val_loss: 0.1068 - val_accuracy: 0.9672\n",
      "Epoch 8/10\n",
      "1407/1407 [==============================] - 2s 2ms/step - loss: 0.1634 - accuracy: 0.9480 - val_loss: 0.1024 - val_accuracy: 0.9692\n",
      "Epoch 9/10\n",
      "1407/1407 [==============================] - 2s 2ms/step - loss: 0.1562 - accuracy: 0.9503 - val_loss: 0.1015 - val_accuracy: 0.9699\n",
      "Epoch 10/10\n",
      "1407/1407 [==============================] - 2s 2ms/step - loss: 0.1456 - accuracy: 0.9536 - val_loss: 0.1000 - val_accuracy: 0.9725\n"
     ]
    }
   ],
   "source": [
    "his = model.fit(train_input, train_target, epochs=10, validation_data=(val_input,val_target), callbacks=[stopCB,modelCB])"
   ]
  },
  {
   "cell_type": "code",
   "execution_count": 32,
   "id": "05565864",
   "metadata": {},
   "outputs": [],
   "source": [
    "import matplotlib.pyplot as plt"
   ]
  },
  {
   "cell_type": "code",
   "execution_count": 33,
   "id": "5fb5a2ab",
   "metadata": {},
   "outputs": [
    {
     "data": {
      "image/png": "[encoded data removed]",
      "text/plain": [
       "<Figure size 432x288 with 1 Axes>"
      ]
     },
     "metadata": {
      "needs_background": "light"
     },
     "output_type": "display_data"
    }
   ],
   "source": [
    "plt.plot(his.epoch, his.history['accuracy'], label = 'accuracy')\n",
    "plt.plot(his.epoch, his.history['val_accuracy'], label = 'val_accuracy')\n",
    "plt.legend()\n",
    "plt.show()"
   ]
  },
  {
   "cell_type": "code",
   "execution_count": 34,
   "id": "74950b17",
   "metadata": {},
   "outputs": [
    {
     "data": {
      "image/png": "[encoded data removed]",
      "text/plain": [
       "<Figure size 432x288 with 1 Axes>"
      ]
     },
     "metadata": {
      "needs_background": "light"
     },
     "output_type": "display_data"
    }
   ],
   "source": [
    "plt.plot(his.epoch, his.history['loss'], label = 'loss')\n",
    "plt.plot(his.epoch, his.history['val_loss'], label = 'val_loss')\n",
    "plt.legend()\n",
    "plt.show()"
   ]
  },
  {
   "cell_type": "markdown",
   "id": "8af6933e",
   "metadata": {},
   "source": [
    "### [5] 평가\n",
    "- evaluate() 메서드\n",
    "    - test data, target\n",
    "    - 반환값 : loss, metrics에서 지정한 성능평가 항목\n",
    "- test 데이터는 마지막에"
   ]
  },
  {
   "cell_type": "code",
   "execution_count": 35,
   "id": "6ca64494",
   "metadata": {},
   "outputs": [
    {
     "name": "stdout",
     "output_type": "stream",
     "text": [
      "313/313 [==============================] - 0s 791us/step - loss: 0.0959 - accuracy: 0.9726\n"
     ]
    }
   ],
   "source": [
    "test_result = model.evaluate(test_input.reshape(-1,28*28), test_target)"
   ]
  },
  {
   "cell_type": "markdown",
   "id": "6b762934",
   "metadata": {},
   "source": [
    "### [6] 테스트/예측"
   ]
  },
  {
   "cell_type": "code",
   "execution_count": 36,
   "id": "9bb57ef4",
   "metadata": {},
   "outputs": [
    {
     "name": "stdout",
     "output_type": "stream",
     "text": [
      "1/1 [==============================] - 0s 69ms/step\n"
     ]
    }
   ],
   "source": [
    "pre_label=model.predict(test_input[0].reshape(-1,28*28))"
   ]
  },
  {
   "cell_type": "code",
   "execution_count": 37,
   "id": "39a75b3b",
   "metadata": {},
   "outputs": [
    {
     "data": {
      "text/plain": [
       "array([[0., 0., 0., 0., 0., 0., 0., 1., 0., 0.]], dtype=float32)"
      ]
     },
     "execution_count": 37,
     "metadata": {},
     "output_type": "execute_result"
    }
   ],
   "source": [
    "np.round(pre_label,2)"
   ]
  },
  {
   "cell_type": "code",
   "execution_count": 38,
   "id": "d3e132b8",
   "metadata": {},
   "outputs": [
    {
     "data": {
      "text/plain": [
       "array([0., 0., 0., 0., 0., 0., 0., 1., 0., 0.])"
      ]
     },
     "execution_count": 38,
     "metadata": {},
     "output_type": "execute_result"
    }
   ],
   "source": [
    "test_target[0]"
   ]
  },
  {
   "cell_type": "code",
   "execution_count": 39,
   "id": "0d4e2062",
   "metadata": {},
   "outputs": [],
   "source": [
    "from tensorflow.keras.utils import plot_model"
   ]
  },
  {
   "cell_type": "code",
   "execution_count": 40,
   "id": "42cddad0",
   "metadata": {},
   "outputs": [
    {
     "data": {
      "image/png": "[encoded data removed]",
      "text/plain": [
       "<IPython.core.display.Image object>"
      ]
     },
     "execution_count": 40,
     "metadata": {},
     "output_type": "execute_result"
    }
   ],
   "source": [
    "plot_model(model)"
   ]
  },
  {
   "cell_type": "code",
   "execution_count": null,
   "id": "53478bf3",
   "metadata": {},
   "outputs": [],
   "source": []
  }
 ],
 "metadata": {
  "kernelspec": {
   "display_name": "Python 3 (ipykernel)",
   "language": "python",
   "name": "python3"
  },
  "language_info": {
   "codemirror_mode": {
    "name": "ipython",
    "version": 3
   },
   "file_extension": ".py",
   "mimetype": "text/x-python",
   "name": "python",
   "nbconvert_exporter": "python",
   "pygments_lexer": "ipython3",
   "version": "3.9.12"
  }
 },
 "nbformat": 4,
 "nbformat_minor": 5
}
